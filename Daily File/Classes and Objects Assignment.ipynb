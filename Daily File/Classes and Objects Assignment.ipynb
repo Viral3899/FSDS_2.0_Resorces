{
 "cells": [
  {
   "cell_type": "code",
   "execution_count": 14,
   "id": "f55c9c29-aa9c-4653-b252-ec2febd7a9c0",
   "metadata": {},
   "outputs": [],
   "source": [
    "class Emp():\n",
    "    pass"
   ]
  },
  {
   "cell_type": "code",
   "execution_count": 15,
   "id": "3d3293a6-0bdf-447f-9c12-bb157ae86633",
   "metadata": {},
   "outputs": [],
   "source": [
    "e=Emp()"
   ]
  },
  {
   "cell_type": "code",
   "execution_count": 16,
   "id": "0a7ba5f3-88fc-4b3f-8a13-cae9e0866e0e",
   "metadata": {},
   "outputs": [
    {
     "name": "stdout",
     "output_type": "stream",
     "text": [
      "<class '__main__.Emp'>\n"
     ]
    }
   ],
   "source": [
    "print(type(e))"
   ]
  },
  {
   "cell_type": "code",
   "execution_count": 17,
   "id": "2c73af65-d9cc-4989-8c24-bb970377780d",
   "metadata": {},
   "outputs": [],
   "source": [
    "class Robot:\n",
    "    \n",
    "    def introduce_self(self):\n",
    "        print(f'My Name is {self.name}')\n",
    "        "
   ]
  },
  {
   "cell_type": "code",
   "execution_count": 18,
   "id": "40b716b8-cbdd-4a22-aa4e-0d00a574371c",
   "metadata": {},
   "outputs": [],
   "source": [
    "r1=Robot()"
   ]
  },
  {
   "cell_type": "code",
   "execution_count": 19,
   "id": "98587849-5fe8-4c2c-8434-616977e7c45b",
   "metadata": {},
   "outputs": [],
   "source": [
    "r1.name='abc'"
   ]
  },
  {
   "cell_type": "code",
   "execution_count": 20,
   "id": "1a90ef98-d95a-46d4-a00a-8fef5641f384",
   "metadata": {},
   "outputs": [
    {
     "name": "stdout",
     "output_type": "stream",
     "text": [
      "My Name is abc\n"
     ]
    }
   ],
   "source": [
    "r1.introduce_self()"
   ]
  },
  {
   "cell_type": "code",
   "execution_count": 21,
   "id": "f1288ed1-14df-4ad1-b72c-0d799e187127",
   "metadata": {},
   "outputs": [],
   "source": [
    "r2=Robot()"
   ]
  },
  {
   "cell_type": "code",
   "execution_count": 22,
   "id": "f4625a16-18dd-47c8-bbb1-bcc1c49e50f1",
   "metadata": {},
   "outputs": [],
   "source": [
    "r2.name='Robot 2'"
   ]
  },
  {
   "cell_type": "code",
   "execution_count": 23,
   "id": "d316925e-2978-4f97-96f4-2c5c007b15dd",
   "metadata": {},
   "outputs": [
    {
     "name": "stdout",
     "output_type": "stream",
     "text": [
      "My Name is Robot 2\n"
     ]
    }
   ],
   "source": [
    "r2.introduce_self()"
   ]
  },
  {
   "cell_type": "code",
   "execution_count": null,
   "id": "a3662e06-d83a-41cb-b79a-63561daa33e1",
   "metadata": {},
   "outputs": [],
   "source": []
  },
  {
   "cell_type": "code",
   "execution_count": 24,
   "id": "16f65d40-718d-4a36-aae8-f7adada6adef",
   "metadata": {},
   "outputs": [],
   "source": [
    "class robo:\n",
    "    def introduce_self(self):\n",
    "        print(f\"My Name is {self.name}\")"
   ]
  },
  {
   "cell_type": "code",
   "execution_count": 25,
   "id": "cd27bfb4-23ed-4217-a9d9-d9b2ba05a2e0",
   "metadata": {},
   "outputs": [],
   "source": [
    "rb=robo()\n",
    "rb.name='xyz'"
   ]
  },
  {
   "cell_type": "code",
   "execution_count": 26,
   "id": "f320ee6d-dd9a-45a5-a66a-b1bb60933d8f",
   "metadata": {},
   "outputs": [
    {
     "name": "stdout",
     "output_type": "stream",
     "text": [
      "My Name is xyz\n"
     ]
    }
   ],
   "source": [
    "rb.introduce_self()"
   ]
  },
  {
   "cell_type": "code",
   "execution_count": 27,
   "id": "4578b459-9af8-4e25-ace1-aa9f6fde29f3",
   "metadata": {},
   "outputs": [],
   "source": [
    "class robo:\n",
    "    \n",
    "    def __init__(self,name,category,work):\n",
    "        self.name=name\n",
    "        self.category=category\n",
    "        self.work=work\n",
    "    \n",
    "    def introduce_self(self):\n",
    "        print(f\"My Name is {self.name}\")\n",
    "        print(f\"My category is {self.category}\")\n",
    "        print(f\"My work is {self.work}\")"
   ]
  },
  {
   "cell_type": "code",
   "execution_count": 28,
   "id": "bd68fee3-2bff-417b-8c00-62b2932bac36",
   "metadata": {},
   "outputs": [],
   "source": [
    "rb2=robo('fb','analysze comment','automatic comment')"
   ]
  },
  {
   "cell_type": "code",
   "execution_count": 29,
   "id": "dd9f2f0b-12e8-4c67-a852-01f66f1d8be1",
   "metadata": {},
   "outputs": [
    {
     "name": "stdout",
     "output_type": "stream",
     "text": [
      "My Name is fb\n",
      "My category is analysze comment\n",
      "My work is automatic comment\n"
     ]
    }
   ],
   "source": [
    "rb2.introduce_self()"
   ]
  },
  {
   "cell_type": "code",
   "execution_count": null,
   "id": "1f8df391-8351-4dfb-b4f5-5bbe9261f860",
   "metadata": {},
   "outputs": [],
   "source": []
  },
  {
   "cell_type": "code",
   "execution_count": 30,
   "id": "d40ebbf1-2441-41b9-bfdc-34400d147e8e",
   "metadata": {},
   "outputs": [],
   "source": [
    "class Person:\n",
    "    \n",
    "    def __init__(self,name,age,gender,profession):\n",
    "        self.name=name\n",
    "        self.age=age\n",
    "        self.gender=gender\n",
    "        self.profession=profession\n",
    "        \n",
    "    def show_details(self):\n",
    "        print(f\"\"\"- Name of the Person is {self.name}\n",
    "        - Age of the Person is {self.age}\n",
    "        - Gender  of the Person is {self.gender}\n",
    "        - Profession of the Person is {self.profession}\"\"\")\n",
    "    \n",
    "    def professional_details(self):\n",
    "        print(f\"{self.name} is Work as {self.profession}\")\n",
    "     "
   ]
  },
  {
   "cell_type": "code",
   "execution_count": 31,
   "id": "3cbaf878-1eb4-49d3-b003-b0965f0c5bba",
   "metadata": {},
   "outputs": [],
   "source": [
    "p1=Person('Viral',23,'Male','Bi Trainee')\n"
   ]
  },
  {
   "cell_type": "code",
   "execution_count": 32,
   "id": "c5042402-bcd0-499e-9dfd-cadc326db869",
   "metadata": {},
   "outputs": [
    {
     "data": {
      "text/plain": [
       "23"
      ]
     },
     "execution_count": 32,
     "metadata": {},
     "output_type": "execute_result"
    }
   ],
   "source": [
    "p1.age"
   ]
  },
  {
   "cell_type": "code",
   "execution_count": 33,
   "id": "45cfe052-e3e7-41f3-9f43-3710b2128049",
   "metadata": {},
   "outputs": [
    {
     "data": {
      "text/plain": [
       "'Bi Trainee'"
      ]
     },
     "execution_count": 33,
     "metadata": {},
     "output_type": "execute_result"
    }
   ],
   "source": [
    "p1.profession"
   ]
  },
  {
   "cell_type": "code",
   "execution_count": 34,
   "id": "7a111be7-edd6-4ea1-bd52-575f3d4629ef",
   "metadata": {},
   "outputs": [
    {
     "name": "stdout",
     "output_type": "stream",
     "text": [
      "Viral is Work as Bi Trainee\n"
     ]
    }
   ],
   "source": [
    "p1.professional_details()"
   ]
  },
  {
   "cell_type": "code",
   "execution_count": 43,
   "id": "c02e79ed-9701-40b9-b440-05e2c373901a",
   "metadata": {},
   "outputs": [],
   "source": [
    "from math import pi as p\n",
    "class circle:\n",
    "    \n",
    "    def __init__(self,radius):\n",
    "        self.radius=radius\n",
    "        \n",
    "    def area(self):\n",
    "        a=(p)*((self.radius)**2)\n",
    "        print(f'Area of Circle is {a}')\n",
    "    def circumference(self):\n",
    "        c=2*p*(self.radius)\n",
    "        print(f'Circumference of Circle is {c}')\n"
   ]
  },
  {
   "cell_type": "code",
   "execution_count": 44,
   "id": "321ebe99-5dbe-44d7-9f6d-1ccd0f4a6f5c",
   "metadata": {},
   "outputs": [],
   "source": [
    "c1=circle(20)"
   ]
  },
  {
   "cell_type": "code",
   "execution_count": 45,
   "id": "cdcf105a-7ad9-4c00-82cc-2a782d19031e",
   "metadata": {},
   "outputs": [
    {
     "name": "stdout",
     "output_type": "stream",
     "text": [
      "Area of Circle is 1256.6370614359173\n"
     ]
    }
   ],
   "source": [
    "c1.area()"
   ]
  },
  {
   "cell_type": "code",
   "execution_count": 46,
   "id": "b50a6e3d-563a-4459-b215-d64b531a0b00",
   "metadata": {},
   "outputs": [
    {
     "name": "stdout",
     "output_type": "stream",
     "text": [
      "Circumference of Circle is 125.66370614359172\n"
     ]
    }
   ],
   "source": [
    "c1.circumference()"
   ]
  },
  {
   "cell_type": "raw",
   "id": "19bdb807-0bf6-4622-b1e8-93314dae5d36",
   "metadata": {},
   "source": [
    "1. Write a class called BankAccount that has the following:\n",
    "        • A field called name that stores the name of the account holder.\n",
    "        • A field called amount that stores the amount of money in the account.\n",
    "        • A field called interest_rate that stores the account’s interest rate (as a percentage).\n",
    "        • A constructor that just sets the values of the three fields above.\n",
    "        • A method called apply_interest() that takes no arguments and applies the interest to the\n",
    "        account. It should just modify the amount field and not return anything. For instance, if the\n",
    "        account has $1000 in it and the interest rate is 3%, then the amount variable should be changed\n",
    "        to $1030 ($1000 + 3% interest).\n",
    "        Then test the class, by creating a new BankAccount object for a user named Juan De Hattatime who\n",
    "        has $1000 at 3% interest. Then do the following:\n",
    "        • Use the apply_interest() method to apply the interest to the account.\n",
    "        • Print out how much money is now in the account after applying the interest.\n",
    "        • Change the account’s interest rate to 2%.\n",
    "        • Use the apply_interest() method to apply the interest to the account again.\n",
    "        • Print out how much money is now in the account after applying the interest again.\n",
    "        "
   ]
  },
  {
   "cell_type": "code",
   "execution_count": 50,
   "id": "e2e48dc5-925e-4d66-a1a0-4cacd60b6cff",
   "metadata": {},
   "outputs": [],
   "source": [
    "class BankAccount:\n",
    "    \n",
    "    def __init__(self,name,balance):\n",
    "        self.name=name\n",
    "        self.balance=balance\n",
    "        self.interest=6.5\n",
    "        \n",
    "    def FD_calculator(self,year):\n",
    "        print(f'Your Current Bank Balance is {self.balance}')\n",
    "        i=(self.balance)*(self.interest)*year/100\n",
    "        self.balance=i+self.balance\n",
    "        print(f'After Completing {year} years at rate of {self.interest}%, your bank balance will be {self.balance}')\n",
    "        \n",
    "        \n",
    "    \n",
    "        "
   ]
  },
  {
   "cell_type": "code",
   "execution_count": 51,
   "id": "9a24de22-b5c6-459b-bb8f-619455bfeee2",
   "metadata": {},
   "outputs": [],
   "source": [
    "b=BankAccount('viral',5000)"
   ]
  },
  {
   "cell_type": "code",
   "execution_count": 52,
   "id": "1f4a6bef-e698-4b93-af93-2453045b57d8",
   "metadata": {},
   "outputs": [
    {
     "name": "stdout",
     "output_type": "stream",
     "text": [
      "Your Current Bank Balance is 5000\n",
      "After Completing 4 years at rate of 6.5%, your bank balance will be 6300.0\n"
     ]
    }
   ],
   "source": [
    "b.FD_calculator(4)"
   ]
  },
  {
   "cell_type": "raw",
   "id": "2500573f-4310-44e7-bd5f-85ad6d675acd",
   "metadata": {},
   "source": [
    " 2. Write a class called Item that represents an item for sale. It should have the following:\n",
    "      • Fields representing the name and price of the item\n",
    "      • A constructor that sets those fields,\n",
    "      • A __str__() method that returns a string containing the item name and price, with the price\n",
    "      formatted to exactly 2 decimal places\n",
    "      Test the class by creating a new item object and printing it out"
   ]
  },
  {
   "cell_type": "code",
   "execution_count": 1,
   "id": "7eeabda2-aa30-4ddb-a9f5-2fb3470a4c58",
   "metadata": {},
   "outputs": [],
   "source": [
    "class item:\n",
    "      \n",
    "    def __init__(self,name,price):\n",
    "        self.name=name\n",
    "        self.price=price\n",
    "        \n",
    "        \n",
    "    def __str__(self):\n",
    "        print(f'Price of {self.name} is {round(self.price,2)}')\n",
    "        \n",
    "i=item('banana',10.765)"
   ]
  },
  {
   "cell_type": "code",
   "execution_count": 3,
   "id": "62827d22-dfe7-4f7e-bf60-d2621170afa2",
   "metadata": {},
   "outputs": [
    {
     "name": "stdout",
     "output_type": "stream",
     "text": [
      "Price of banana is 10.77\n"
     ]
    }
   ],
   "source": [
    "i.__str__()"
   ]
  },
  {
   "cell_type": "raw",
   "id": "9b028cb1-7eb3-43bb-958c-3a370b07b8fb",
   "metadata": {},
   "source": [
    "3. Write a class called ShoppingCart that might be used in an online store. It should have the following:\n",
    "      • A list of Item objects that represents the items in the shopping cart\n",
    "      • A constructor that creates an empty list of items (the constructor should take no arguments except self)\n",
    "      • A method called add() that takes a name and a price and adds an Item object with that name\n",
    "      and price to the shopping cart\n",
    "      • A method called total() that takes no arguments and returns the total cost of the items in the\n",
    "      cart\n",
    "      34\n",
    "      • A method called remove_items() that takes an item name (a string) and removes any Item\n",
    "      objects with that name from the shopping cart. It shouldn’t return anything.\n",
    "      • A __str__() method that returns a string containing info on all the items in the shopping cart\n",
    "      Then test out the shopping cart as follows: (1) create a shopping cart; (2) add several items to it; (3)\n",
    "      print the cart’s total cost (using the total() method); (4) remove one of the items types; (5) print out\n",
    "      the cart"
   ]
  },
  {
   "cell_type": "code",
   "execution_count": 16,
   "id": "7d03e9a1-df38-466f-b745-b3c20013b4fa",
   "metadata": {},
   "outputs": [],
   "source": [
    "class ShoopingCart:\n",
    "    \n",
    "    def __init__(self):\n",
    "        self.items={}\n",
    "        \n",
    "        \n",
    "    def add(self):\n",
    "        ProductName=input('Enter the Name of The Product : ')\n",
    "        ProductPrice=float(input('Enter the Price of The Product : '))\n",
    "        self.items[ProductName]=ProductPrice\n",
    "        print('Items after adding in cart is: ', self.items)\n",
    "        \n",
    "        \n",
    "        \n",
    "        \n",
    "    def remove_item(self,item):\n",
    "        del self.items[item]\n",
    "        print('Remaining Item in Cart is : ', self.items)\n",
    "        \n",
    "        \n",
    "    def total(self):\n",
    "        total=0\n",
    "        for i in self.items.values():\n",
    "            total=total+i\n",
    "        \n",
    "        print(f'Total Cart Value is {total}')\n",
    "        \n",
    "cart1=ShoopingCart()\n",
    "        \n",
    "        "
   ]
  },
  {
   "cell_type": "code",
   "execution_count": 19,
   "id": "4d4f6f5a-837e-42cb-82b7-006aa7e2630e",
   "metadata": {},
   "outputs": [
    {
     "name": "stdin",
     "output_type": "stream",
     "text": [
      "Enter the Name of The Product :  orange\n",
      "Enter the Price of The Product :  60\n"
     ]
    },
    {
     "name": "stdout",
     "output_type": "stream",
     "text": [
      "Items after adding in cart is:  {'banana': 15.0, 'mango': 45.0, 'orange': 60.0}\n"
     ]
    }
   ],
   "source": [
    "cart1.add()"
   ]
  },
  {
   "cell_type": "code",
   "execution_count": 15,
   "id": "3d27a9fb-3211-4e6c-99a1-1c523c476c0c",
   "metadata": {},
   "outputs": [
    {
     "name": "stdout",
     "output_type": "stream",
     "text": [
      "Remaining Item in Cart is :  {'mango': 12.0, 'orange': 40.0}\n"
     ]
    }
   ],
   "source": [
    "cart1.remove_item('banana')"
   ]
  },
  {
   "cell_type": "code",
   "execution_count": 20,
   "id": "ff6dc1ed-10dd-40c8-adf0-f783892b99ef",
   "metadata": {},
   "outputs": [
    {
     "name": "stdout",
     "output_type": "stream",
     "text": [
      "Total Cart Value is 120.0\n"
     ]
    }
   ],
   "source": [
    "cart1.total()"
   ]
  },
  {
   "cell_type": "code",
   "execution_count": null,
   "id": "f7b8291d-6782-41f1-98af-338e61dd6f71",
   "metadata": {},
   "outputs": [],
   "source": []
  },
  {
   "cell_type": "code",
   "execution_count": 3,
   "id": "a89b2d20-b7fe-435b-a769-fc4b2c6377b3",
   "metadata": {},
   "outputs": [],
   "source": [
    "class RestaurantCheck:\n",
    "    '''\n",
    "    Please Enter Check Number ,Sales Tax in Percentage you bill without tax, Table Number, Server Name in Sequence While Calling Class\n",
    "    '''\n",
    "    def __init__(self,check_number,sales_tax_percent,subtotal,table_number,server_name):\n",
    "        \n",
    "        self.server_name=server_name\n",
    "        self.table_number=table_number\n",
    "        self.subtotal=subtotal\n",
    "        self.sales_tax_percent=sales_tax_percent\n",
    "        self.check_number=check_number\n",
    "    \n",
    "    \n",
    "    def calculate_total(self):\n",
    "        total=self.subtotal*(1+((self.sales_tax_percent)/100))\n",
    "        self.total=total\n",
    "        \n",
    "        print(f'Your Total Bill with Text is : {total}')\n",
    "        return self.total\n",
    "        \n",
    "    def print_check(self):\n",
    "        # total=calculate_total()\n",
    "        with open(f'check{self.check_number}.txt','w') as f:\n",
    "            f.writelines(f'''\n",
    "            Check Number: {self.check_number}\n",
    "            Sales tax: {self.sales_tax_percent}%\n",
    "            Subtotal: ${self.subtotal}\n",
    "            Total: ${self.subtotal*(1+((self.sales_tax_percent)/100))}\n",
    "            Table Number: {self.table_number}\n",
    "            Server: {self.server_name}''')\n",
    "            \n",
    "            \n",
    "r=RestaurantCheck(1423,12,560,20,'Viral Sherathiya')\n",
    "            \n",
    "        \n",
    "        \n",
    "        "
   ]
  },
  {
   "cell_type": "code",
   "execution_count": 4,
   "id": "0b53a1bf-d663-40cf-87ef-a6e7d5717212",
   "metadata": {},
   "outputs": [],
   "source": [
    "r.print_check()"
   ]
  },
  {
   "cell_type": "code",
   "execution_count": 5,
   "id": "b85942e4-f298-4179-9e42-9bf5023bade2",
   "metadata": {},
   "outputs": [
    {
     "name": "stdout",
     "output_type": "stream",
     "text": [
      "Your Total Bill with Text is : 627.2\n"
     ]
    },
    {
     "data": {
      "text/plain": [
       "627.2"
      ]
     },
     "execution_count": 5,
     "metadata": {},
     "output_type": "execute_result"
    }
   ],
   "source": [
    "r.calculate_total()"
   ]
  },
  {
   "cell_type": "code",
   "execution_count": null,
   "id": "92b55978-2cff-414d-93c3-ca69d23419ae",
   "metadata": {},
   "outputs": [],
   "source": []
  },
  {
   "cell_type": "code",
   "execution_count": 5,
   "id": "70142983-aa7e-4201-ab4b-3a8d529f534a",
   "metadata": {},
   "outputs": [],
   "source": [
    "from datetime import datetime\n",
    "\n",
    "class Ticket:\n",
    "    '''\n",
    "    Please Enter the Time in 24 hr Formate like 18:30 & cost of Your Ticket\n",
    "    '''\n",
    "    \n",
    "    def __init__(self,cost,time):\n",
    "        \n",
    "        self.time=time\n",
    "        self.cost=cost\n",
    "        \n",
    "        \n",
    "    def __str__(self):\n",
    "        print(f'''Here is the Info of Ticket :\\nStart-Time of Journey --> {self.time}\\nCost of You Ticket --> {self.cost}''')\n",
    "    \n",
    "    \n",
    "    \n",
    "    def is_evening(self):\n",
    "        time = datetime.strptime(self.time, \"%H:%M\")\n",
    "        return time.hour >= 18\n",
    "    \n",
    "    \n",
    "    def bulk_discount(self,number):\n",
    "        '''\n",
    "        Enter the Number of Ticket You want to Purchase.\n",
    "        '''\n",
    "        discount=0\n",
    "        if number>=5 and number<10:\n",
    "            discount=10\n",
    "        elif number>=10:\n",
    "            discount=20\n",
    "        \n",
    "        print(f'Dicount apply :{discount}% and Discounted Price of Tickets : {number*self.cost-((number*self.cost)*(discount/100))}')\n",
    "        return discount\n",
    "        \n",
    "        \n",
    "        \n",
    "        \n",
    "    \n",
    "    \n",
    "t=Ticket(500,'17:30')"
   ]
  },
  {
   "cell_type": "code",
   "execution_count": 6,
   "id": "bc24c118-9ea9-4eea-b8dd-183d856749fd",
   "metadata": {},
   "outputs": [
    {
     "name": "stdout",
     "output_type": "stream",
     "text": [
      "Here is the Info of Ticket :\n",
      "Start-Time of Journey --> 17:30\n",
      "Cost of You Ticket --> 500\n"
     ]
    }
   ],
   "source": [
    "t.__str__()"
   ]
  },
  {
   "cell_type": "code",
   "execution_count": 7,
   "id": "e5263c5f-861a-49ed-919f-e4351b5ec6f8",
   "metadata": {},
   "outputs": [
    {
     "data": {
      "text/plain": [
       "False"
      ]
     },
     "execution_count": 7,
     "metadata": {},
     "output_type": "execute_result"
    }
   ],
   "source": [
    "t.is_evening()"
   ]
  },
  {
   "cell_type": "code",
   "execution_count": 8,
   "id": "160eb912-b2ba-496b-bc3c-099c3f313836",
   "metadata": {},
   "outputs": [
    {
     "name": "stdout",
     "output_type": "stream",
     "text": [
      "Dicount apply :10% and Discounted Price of Tickets : 2700.0\n"
     ]
    },
    {
     "data": {
      "text/plain": [
       "10"
      ]
     },
     "execution_count": 8,
     "metadata": {},
     "output_type": "execute_result"
    }
   ],
   "source": [
    "t.bulk_discount(number=6)"
   ]
  }
 ],
 "metadata": {
  "kernelspec": {
   "display_name": "Python 3 (ipykernel)",
   "language": "python",
   "name": "python3"
  },
  "language_info": {
   "codemirror_mode": {
    "name": "ipython",
    "version": 3
   },
   "file_extension": ".py",
   "mimetype": "text/x-python",
   "name": "python",
   "nbconvert_exporter": "python",
   "pygments_lexer": "ipython3",
   "version": "3.10.6"
  }
 },
 "nbformat": 4,
 "nbformat_minor": 5
}
