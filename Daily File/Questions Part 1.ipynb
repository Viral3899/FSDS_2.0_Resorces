{
 "cells": [
  {
   "cell_type": "raw",
   "id": "60b6f0c4-87d7-464a-a919-fafe79fbb6eb",
   "metadata": {},
   "source": [
    "1. Print the first 5 positive integers in ascending order with one number \n",
    "in each line"
   ]
  },
  {
   "cell_type": "code",
   "execution_count": 63,
   "id": "7931f9ce-af45-4b3c-ba6d-8695d2ea4025",
   "metadata": {},
   "outputs": [
    {
     "name": "stdout",
     "output_type": "stream",
     "text": [
      "1\n",
      "2\n",
      "3\n",
      "4\n",
      "5\n"
     ]
    }
   ],
   "source": [
    "for i in range(1,6):\n",
    "    print(i)"
   ]
  },
  {
   "cell_type": "raw",
   "id": "a723c70f-2393-4dcc-b34c-2e045588207b",
   "metadata": {},
   "source": [
    "2. Print the following pattern\n",
    "*\n",
    "**\n",
    "***\n",
    "****\n",
    "*****\n",
    "There are no spaces between consecutive stars. There are no spaces \n",
    "at the end of each line."
   ]
  },
  {
   "cell_type": "code",
   "execution_count": 64,
   "id": "d1211719-456f-40c4-aa52-db967326e431",
   "metadata": {},
   "outputs": [
    {
     "name": "stdout",
     "output_type": "stream",
     "text": [
      "*\n",
      "**\n",
      "***\n",
      "****\n",
      "*****\n"
     ]
    }
   ],
   "source": [
    "for i in range(1,6):\n",
    "    print(\"*\"*i)"
   ]
  },
  {
   "cell_type": "code",
   "execution_count": 65,
   "id": "a3e3336e-9254-4e16-b149-2f7b45989d90",
   "metadata": {},
   "outputs": [
    {
     "name": "stdout",
     "output_type": "stream",
     "text": [
      "*  \n",
      "* *  \n",
      "* * *  \n",
      "* * * *  \n",
      "* * * * *  \n"
     ]
    }
   ],
   "source": [
    "for i in range(1,6):\n",
    "    for j in range(i):\n",
    "        print(\"*\",end=' ')\n",
    "    print(' ')"
   ]
  },
  {
   "cell_type": "raw",
   "id": "d9263791-a394-44ee-8ba9-4fb01759b6ac",
   "metadata": {},
   "source": [
    "3. Accept an integer as input and print its square as output."
   ]
  },
  {
   "cell_type": "code",
   "execution_count": 67,
   "id": "03ec9cc7-cb3f-4411-8fbe-4d2f7e5ece29",
   "metadata": {},
   "outputs": [
    {
     "name": "stdin",
     "output_type": "stream",
     "text": [
      "Enter Any Number :  5\n"
     ]
    },
    {
     "name": "stdout",
     "output_type": "stream",
     "text": [
      "Square of Entered Number is 25\n"
     ]
    }
   ],
   "source": [
    "num=int(input(\"Enter Any Number : \"))\n",
    "\n",
    "print(f'Square of Entered Number is {num**2}')"
   ]
  },
  {
   "cell_type": "raw",
   "id": "49ca4411-ab36-4e57-8d62-3628156bc49b",
   "metadata": {},
   "source": [
    "4.Accept two integers as input and print their sum as output."
   ]
  },
  {
   "cell_type": "code",
   "execution_count": 68,
   "id": "80502d67-4364-406b-89b1-a07e3bc68ce2",
   "metadata": {},
   "outputs": [
    {
     "name": "stdin",
     "output_type": "stream",
     "text": [
      "Enter Number a :  2\n",
      "Enter Number b :  4\n"
     ]
    },
    {
     "data": {
      "text/plain": [
       "'Sum of Two Numbers is 6'"
      ]
     },
     "execution_count": 68,
     "metadata": {},
     "output_type": "execute_result"
    }
   ],
   "source": [
    "def summation():\n",
    "    a=int(input(\"Enter Number a : \"))\n",
    "    b=int(input(\"Enter Number b : \"))\n",
    "    return f\"Sum of Two Numbers is {a + b}\"\n",
    "summation()"
   ]
  },
  {
   "cell_type": "raw",
   "id": "f303afc2-f3af-4d9d-a4d8-7c2da8f24e3c",
   "metadata": {},
   "source": [
    "5. Accept two words as input and print the two words after adding a \n",
    "space between them"
   ]
  },
  {
   "cell_type": "code",
   "execution_count": 5,
   "id": "3d5cdcfd-3158-4ca5-a710-e2f9627f1aff",
   "metadata": {},
   "outputs": [
    {
     "name": "stdin",
     "output_type": "stream",
     "text": [
      "Enter word a :  adsvxc\n",
      "Enter word b :  dsvcx\n"
     ]
    },
    {
     "data": {
      "text/plain": [
       "'after adding Spacebetween teo word is adsvxc dsvcx'"
      ]
     },
     "execution_count": 5,
     "metadata": {},
     "output_type": "execute_result"
    }
   ],
   "source": [
    "def words():\n",
    "    a=(input(\"Enter word a : \"))\n",
    "    b=(input(\"Enter word b : \"))\n",
    "    return f\"after adding Spacebetween teo word is {a + ' '+ b}\"\n",
    "words()"
   ]
  },
  {
   "cell_type": "raw",
   "id": "1fdd53ab-a380-4caa-bdec-2876024a044d",
   "metadata": {},
   "source": [
    "6. Accept the registration number of a vehicle as input and print its \n",
    "state-code as output."
   ]
  },
  {
   "cell_type": "code",
   "execution_count": 14,
   "id": "0b6a4ecc-daca-432e-a987-ed2d8e4bd90d",
   "metadata": {},
   "outputs": [
    {
     "name": "stdin",
     "output_type": "stream",
     "text": [
      "Enter Vehical Reg Num :  gj03kn1576\n"
     ]
    },
    {
     "name": "stdout",
     "output_type": "stream",
     "text": [
      "State Code of Your Vehical Reg Number is ----->> gj\n"
     ]
    }
   ],
   "source": [
    "def state_code():\n",
    "    Vehical_num=input(\"Enter Vehical Reg Num : \")\n",
    "    if Vehical_num[0:2].isalpha()==True and Vehical_num[2:4].isnumeric()==True and Vehical_num[4:6].isalpha()==True and Vehical_num[6:].isnumeric()==True:\n",
    "        print(f\"State Code of Your Vehical Reg Number is ----->> {Vehical_num[0:2]}\")\n",
    "    else:\n",
    "        print(\"Enter Valid Formate of Vehical NUmber\")\n",
    "\n",
    "state_code()"
   ]
  },
  {
   "cell_type": "raw",
   "id": "e476d0d4-2d90-4764-b4ce-91d6d67729c2",
   "metadata": {},
   "source": [
    "7.Accept a five-digit number as input and print the sum of its digits as \n",
    "output."
   ]
  },
  {
   "cell_type": "code",
   "execution_count": 16,
   "id": "9d60b980-8989-422b-904c-88bbc20ebb88",
   "metadata": {},
   "outputs": [
    {
     "name": "stdin",
     "output_type": "stream",
     "text": [
      "Enter Number a of Five Digit:  56234\n"
     ]
    },
    {
     "name": "stdout",
     "output_type": "stream",
     "text": [
      "Sum of All Digits is --> 20\n"
     ]
    }
   ],
   "source": [
    "def sum_five_digit():\n",
    "    num=(input(\"Enter Number a of Five Digit: \"))\n",
    "    sum_num=0\n",
    "    if len(num)==5:\n",
    "        for i in num:\n",
    "            sum_num=sum_num+int(i)\n",
    "        print(f\"Sum of All Digits is --> {sum_num}\")\n",
    "    else:\n",
    "        print(\"Enter Valid Number\")\n",
    "sum_five_digit()"
   ]
  },
  {
   "cell_type": "raw",
   "id": "47ef2a83-4d51-4340-8770-9490474f43a9",
   "metadata": {},
   "source": [
    "8.Accept five words as input and print the sentence formed by these \n",
    "words after adding a space between consecutive words and a full stop \n",
    "at the end."
   ]
  },
  {
   "cell_type": "code",
   "execution_count": 1,
   "id": "04984f8d-455d-4694-ac5d-2fd39c801ea7",
   "metadata": {},
   "outputs": [
    {
     "name": "stdin",
     "output_type": "stream",
     "text": [
      "Enter a  First Word :  gfd\n",
      "Enter a  Second Word :  dsfg\n",
      "Enter a  Third Word :  erg\n",
      "Enter a  Fourth Word :  wersgf\n",
      "Enter a  Fifth Word :  esrgfd\n"
     ]
    },
    {
     "data": {
      "text/plain": [
       "'gfd dsfg erg wersgf esrgfd.'"
      ]
     },
     "execution_count": 1,
     "metadata": {},
     "output_type": "execute_result"
    }
   ],
   "source": [
    "a1=input(\"Enter a  First Word : \")\n",
    "a2=input(\"Enter a  Second Word : \")\n",
    "a3=input(\"Enter a  Third Word : \")\n",
    "a4=input(\"Enter a  Fourth Word : \")\n",
    "a5=input(\"Enter a  Fifth Word : \")\n",
    "space=' '\n",
    "Full_stop='.'\n",
    "sen=a1+space+a2+space+a3+space+a4+space+a5+Full_stop\n",
    "sen"
   ]
  },
  {
   "cell_type": "raw",
   "id": "7b0fb9d7-98dc-4ab9-9548-c12f49f787a0",
   "metadata": {},
   "source": [
    "9.Accept the date in DD-MM-YYYY format as input and print the \n",
    "year as output."
   ]
  },
  {
   "cell_type": "code",
   "execution_count": 2,
   "id": "b7c500f5-6276-49b6-88d2-53e1935f9b7a",
   "metadata": {},
   "outputs": [
    {
     "name": "stdin",
     "output_type": "stream",
     "text": [
      "Enter Date in Foramte of DD-MM-YYYY :  03-05-2022\n"
     ]
    },
    {
     "data": {
      "text/plain": [
       "'2022'"
      ]
     },
     "execution_count": 2,
     "metadata": {},
     "output_type": "execute_result"
    }
   ],
   "source": [
    "Date=input(\"Enter Date in Foramte of DD-MM-YYYY : \")\n",
    "Date[-4:]"
   ]
  },
  {
   "cell_type": "raw",
   "id": "521abc20-5c4a-4fda-a3d7-45c626ad4d1c",
   "metadata": {},
   "source": [
    "10.Accept a sequence of five single digit numbers separated by commas \n",
    "as input. Print the product of all five numbers."
   ]
  },
  {
   "cell_type": "code",
   "execution_count": 3,
   "id": "39aa2787-fa21-4be2-9fbd-ee8d1d409ab1",
   "metadata": {},
   "outputs": [
    {
     "name": "stdin",
     "output_type": "stream",
     "text": [
      "Enter 5 Digits Comma(,) seperated :  5,9,3,4,7\n"
     ]
    },
    {
     "name": "stdout",
     "output_type": "stream",
     "text": [
      "Product of Enterd Number is --> 3780\n"
     ]
    }
   ],
   "source": [
    "a,b,c,d,e=(input(\"Enter 5 Digits Comma(,) seperated : \").split(','))\n",
    "\n",
    "product=int(a)*int(b)*int(c)*int(d)*int(e)\n",
    "print(f\"Product of Enterd Number is --> {product}\")"
   ]
  },
  {
   "cell_type": "raw",
   "id": "482e853e-2564-4eaf-a46b-0f31d3369f58",
   "metadata": {},
   "source": [
    "11. Accept two positive integers x and y as input. Print the number of \n",
    "digits in xy"
   ]
  },
  {
   "cell_type": "code",
   "execution_count": 6,
   "id": "df5eac14-46a5-4bf8-97bb-738e9e8f8f0e",
   "metadata": {},
   "outputs": [
    {
     "name": "stdin",
     "output_type": "stream",
     "text": [
      "Enter the Nuber x :  6446\n",
      "Enter the Nuber y :  5464\n"
     ]
    },
    {
     "name": "stdout",
     "output_type": "stream",
     "text": [
      "Number of Digits in x is 4\n",
      "Number of Digits in y is 4\n",
      "Number of Digits in xy is 8\n"
     ]
    }
   ],
   "source": [
    "x=int(input('Enter the Nuber x : '))\n",
    "y=int(input('Enter the Nuber y : '))\n",
    "\n",
    "print(f\"Number of Digits in x is {len(str(x))}\")\n",
    "print(f\"Number of Digits in y is {len(str(y))}\")\n",
    "\n",
    "print(f\"Number of Digits in xy is {len(str(x*y))}\")"
   ]
  },
  {
   "cell_type": "raw",
   "id": "af890b67-6c1f-412c-bbbe-8fc1358e0a91",
   "metadata": {},
   "source": [
    "12. Accept a string as input. If the input string is of odd length, then \n",
    "continue with it. If the input string is of even length, make the \n",
    "string of odd length as below:\n",
    "• If the last character is a period (.), then remove it \n",
    "• If the last character is not a period, then add a period (.) to the \n",
    "end of the string\n",
    "Call this string of odd length word. Select a substring made up of \n",
    "three consecutive characters from word such that there are an \n",
    "equal number of characters to the left and right of this substring. \n",
    "Print this substring as output. You can assume that all input \n",
    "strings will be in lower case and will have a length of at least four"
   ]
  },
  {
   "cell_type": "code",
   "execution_count": 30,
   "id": "d128ce92-8f02-4103-aeb7-33ec0abef241",
   "metadata": {},
   "outputs": [
    {
     "name": "stdin",
     "output_type": "stream",
     "text": [
      "Enter a string :  Viral Sherathiya\n"
     ]
    },
    {
     "data": {
      "text/plain": [
       "'her'"
      ]
     },
     "execution_count": 30,
     "metadata": {},
     "output_type": "execute_result"
    }
   ],
   "source": [
    "sen=input(\"Enter a string : \")\n",
    "\n",
    "\n",
    "if len(sen)%2==0:\n",
    "    if sen[-1]==\".\":\n",
    "        new_sen=sen[:-1]\n",
    "    elif sen[-1]!=\".\":\n",
    "        new_sen=sen+\".\"\n",
    "else:\n",
    "    new_sen=sen\n",
    "\n",
    "new_len_middle = round(len(new_sen)/2)\n",
    "new_sen[new_len_middle-1:new_len_middle+2]"
   ]
  },
  {
   "cell_type": "raw",
   "id": "7188ddf7-aeae-43c7-add9-8a31e08a2bc9",
   "metadata": {},
   "source": [
    "13. Accept three positive integers as input and check if they form the \n",
    "sides of a right triangle. Print YES if they form one, and NO is they do \n",
    "not. The input will have three lines, with one integer on each line. \n",
    "The output should be a single line containing one of these two \n",
    "strings: YES or NO."
   ]
  },
  {
   "cell_type": "code",
   "execution_count": 34,
   "id": "ead93ae9-d3a5-43b3-b5e0-f2dc608e6832",
   "metadata": {},
   "outputs": [
    {
     "name": "stdin",
     "output_type": "stream",
     "text": [
      "Enter First Line length :  3\n",
      "Enter Second Line length :  4\n",
      "Enter Third Line length :  5\n"
     ]
    },
    {
     "name": "stdout",
     "output_type": "stream",
     "text": [
      "'Yes' This is Right angle Triangle\n"
     ]
    }
   ],
   "source": [
    "a=int(input('Enter First Line length : '))\n",
    "b=int(input('Enter Second Line length : '))\n",
    "c=int(input('Enter Third Line length : '))\n",
    "\n",
    "if ((a**2+b**2==c**2)==True) or ((a**2+c**2==b**2)==True) or ((c**2+b**2==a**2)==True): \n",
    "    print(\"'Yes' This is Right angle Triangle\")\n",
    "else:\n",
    "    print(\"'No' This is not Right angle Triangle\")\n",
    "    "
   ]
  },
  {
   "cell_type": "raw",
   "id": "5e16b40c-a122-4dbc-a681-bca1fe32a1dc",
   "metadata": {},
   "source": [
    "14. EvenOdd is a tech startup. Each employee at the startup is given an employee id which is a unique \n",
    "positive integer. On one warm Sunday evening, five employees of the company come together for a \n",
    "meeting and sit at a circular table:\n",
    "The employees follow a strange convention. They will continue the meeting only if the following \n",
    "condition is satisfied.\n",
    "The sum of the employee-ids of every pair of adjacent employees at the table must be an even \n",
    "number.\n",
    "They are so lazy that they won’t move around to satisfy the above condition, If the current seating \n",
    "plan doesn’t satisfy the condition, the meeting will be cancelled. You are given the employee-id of all \n",
    "five employees. Your task is to decide if the meeting happened or not.\n",
    "The input will be five lined, each containing an integer. The ith line will have the employee-id of Ei. \n",
    "The output will be a single line containing one of these two strings: YES or NO"
   ]
  },
  {
   "cell_type": "code",
   "execution_count": 72,
   "id": "8d51b278-6f4e-4d72-8291-01f836410206",
   "metadata": {},
   "outputs": [
    {
     "name": "stdin",
     "output_type": "stream",
     "text": [
      " 1\n",
      " 3\n",
      " 4\n",
      " 6\n",
      " 8\n"
     ]
    },
    {
     "name": "stdout",
     "output_type": "stream",
     "text": [
      "NO\n"
     ]
    }
   ],
   "source": [
    "a = int(input())\n",
    "b = int(input())\n",
    "c = int(input())\n",
    "d = int(input())\n",
    "e = int(input())\n",
    "\n",
    "if (a + b) % 2 != 0:\n",
    "    print('NO')\n",
    "elif (b + c) % 2 != 0:\n",
    "    print('NO')\n",
    "elif (c + d) % 2 != 0:\n",
    "    print('NO')\n",
    "elif (d + e) % 2 != 0:\n",
    "    print('NO')\n",
    "elif (e + a) % 2 != 0:\n",
    "    print('NO')\n",
    "else:\n",
    "    print('YES')"
   ]
  },
  {
   "cell_type": "raw",
   "id": "1d651eb9-add5-4f2b-9a92-57303f327be3",
   "metadata": {},
   "source": [
    "15. Accept a string as input and print the vowels present in the string in \n",
    "alphabetical order. If the string doesn’t contain any vowels, then \n",
    "print the string none as output. Each vowel that appears in the input \n",
    "string – irrespective of its case should appear just once in lower case \n",
    "in the output"
   ]
  },
  {
   "cell_type": "code",
   "execution_count": 73,
   "id": "8faac293-43de-40b4-95a6-b9ed89367845",
   "metadata": {},
   "outputs": [
    {
     "name": "stdin",
     "output_type": "stream",
     "text": [
      "Enter String or Word :  Viral sherathiya\n"
     ]
    },
    {
     "name": "stdout",
     "output_type": "stream",
     "text": [
      "aei\n"
     ]
    }
   ],
   "source": [
    "sen=input(\"Enter String or Word : \")\n",
    "\n",
    "vowels=\"\"\n",
    "\n",
    "if \"a\" in sen.lower():\n",
    "    vowels+=\"a\"\n",
    "if \"e\" in sen.lower():\n",
    "    vowels+=\"e\"\n",
    "if \"i\" in sen.lower():\n",
    "    vowels+=\"i\"\n",
    "if \"o\" in sen.lower():\n",
    "    vowels+=\"o\"\n",
    "if \"u\" in sen.lower():\n",
    "    vowels+=\"u\"\n",
    "\n",
    "if vowels==\"\":\n",
    "    print(\"None\")\n",
    "else:\n",
    "    print(vowels)"
   ]
  },
  {
   "cell_type": "raw",
   "id": "f7e76b4b-b3f7-4766-a82b-5e63a879b380",
   "metadata": {},
   "source": [
    "16.You are given the date of birth of two persons, not necessarily from \n",
    "the same family. Your task is to find the younger of the two. If both \n",
    "of them share the same date of birth, then the younger of the two is \n",
    "assumed to be that person whose name comes first in alphabetical \n",
    "order.\n",
    "The input will have four lines. The first two lines correspond to the \n",
    "first person, while the last two lines correspond to the second \n",
    "person. For each person, the first line corresponds to the name and \n",
    "the second line corresponds to the date of birth in “DD-MM-YYYY” \n",
    "format. Your output should be the name of the younger of the two."
   ]
  },
  {
   "cell_type": "code",
   "execution_count": 6,
   "id": "6952cf72-7fed-4057-8740-c8c7420999e3",
   "metadata": {},
   "outputs": [
    {
     "name": "stdin",
     "output_type": "stream",
     "text": [
      "Enter First Person's Name :  Bhoomi\n",
      "Enter First Person's Birth Date in formate DD-MM-YYYY :  24-08-1996\n",
      "Enter Second Person's Name :  Ashish\n",
      "Enter Second Person's Birth Date in formate DD-MM-YYYY :  24-08-1996\n"
     ]
    },
    {
     "name": "stdout",
     "output_type": "stream",
     "text": [
      "Ashish is Younger Than Bhoomi\n"
     ]
    }
   ],
   "source": [
    "from datetime import datetime\n",
    "Name1=input(\"Enter First Person's Name : \")\n",
    "Date1=input(\"Enter First Person's Birth Date in formate DD-MM-YYYY : \")\n",
    "Name2=input(\"Enter Second Person's Name : \")\n",
    "Date2=input(\"Enter Second Person's Birth Date in formate DD-MM-YYYY : \")\n",
    "\n",
    "Date1=datetime.strptime(Date1,'%d-%m-%Y')\n",
    "Date2=datetime.strptime(Date2,'%d-%m-%Y')\n",
    "\n",
    "if Date1>Date2 :\n",
    "    print(f'{Name1} is Younger Than {Name2}')\n",
    "elif Date1==Date2:\n",
    "    if Name1>Name2:\n",
    "        print(f'{Name2} is Younger Than {Name1}')\n",
    "    else:\n",
    "        print(f'{Name1} is Younger Than {Name2}')\n",
    "else:\n",
    "    print(f'{Name2} is Younger Than {Name1}')\n"
   ]
  },
  {
   "cell_type": "raw",
   "id": "6ee8f8bd-15aa-40d8-9cef-2f7e22f6cf5d",
   "metadata": {},
   "source": [
    "17.Accept a string as input. Your task is to determine if the input string is a valid password or not. For a \n",
    "string to be a valid password, it must satisfy all the conditions given below:\n",
    "(1) It should have at least 8 and at most 32 characters\n",
    "(2) It should start with an uppercase or lowercase letter\n",
    "(3) It should not have any of these characters: / \\ = ' \"\n",
    "(4) It should not have spaces\n",
    "It could have any character that is not mentioned in the list of characters to be avoided (points 3 and \n",
    "4). Output True if the string forms a valid password and False otherwise"
   ]
  },
  {
   "cell_type": "code",
   "execution_count": 11,
   "id": "dec08851-349d-4d68-b17a-58a8f3e650c4",
   "metadata": {},
   "outputs": [
    {
     "name": "stdin",
     "output_type": "stream",
     "text": [
      "Enter A Password to Validate :  Viral@123\n"
     ]
    },
    {
     "name": "stdout",
     "output_type": "stream",
     "text": [
      "True\n"
     ]
    }
   ],
   "source": [
    "def pass_validator():\n",
    "    password=input(\"Enter A Password to Validate : \")               \n",
    "    if (password[0].isalpha()==True) and (8<=len(password)<=32) and (' ' not in password) and ('/' not in password) and ('\\\\'not in password) and ('=' not in password) and (\"\\'\" not in password) and ('\\\"'not in password):\n",
    "        print('True')\n",
    "    else:\n",
    "        print('False')\n",
    "pass_validator()"
   ]
  },
  {
   "cell_type": "raw",
   "id": "a4d2f09c-6787-477e-8ed5-4ed4257469cb",
   "metadata": {},
   "source": [
    "18. Accept a positive integer n as input and print the first n positive \n",
    "integers, one number on each line."
   ]
  },
  {
   "cell_type": "code",
   "execution_count": 12,
   "id": "3abbfcd7-a1f2-4cd4-bc4d-967ae60fe621",
   "metadata": {},
   "outputs": [
    {
     "name": "stdin",
     "output_type": "stream",
     "text": [
      " 20\n"
     ]
    },
    {
     "name": "stdout",
     "output_type": "stream",
     "text": [
      "1\n",
      "2\n",
      "3\n",
      "4\n",
      "5\n",
      "6\n",
      "7\n",
      "8\n",
      "9\n",
      "10\n",
      "11\n",
      "12\n",
      "13\n",
      "14\n",
      "15\n",
      "16\n",
      "17\n",
      "18\n",
      "19\n",
      "20\n"
     ]
    }
   ],
   "source": [
    "n = int(input())\n",
    "for i in range(1,n+1):\n",
    "     print(i)"
   ]
  },
  {
   "cell_type": "raw",
   "id": "0527265b-0110-476d-8bf6-6a724749197e",
   "metadata": {},
   "source": [
    "19.Accept a positive integer n as input, where n is greater than 1. \n",
    "Print PRIME ifnis a prime number and NOTPRIME otherwise."
   ]
  },
  {
   "cell_type": "code",
   "execution_count": null,
   "id": "23ec9199-e3ad-4e2b-9a77-391aeede8726",
   "metadata": {},
   "outputs": [],
   "source": [
    "num = int(input(\"Enter a number: \"))\n",
    "\n",
    "if num > 1:\n",
    "    for i in range(2,num):\n",
    "        if (num % i) == 0:\n",
    "            print(num,\"is not a prime number\")\n",
    "            break\n",
    "    else:\n",
    "        print(num,\"is a prime number\")\n",
    "       \n",
    "    \n",
    "else:\n",
    "    print(num,\"is not a prime number\")"
   ]
  },
  {
   "cell_type": "raw",
   "id": "8d8297d3-a658-4afd-9b7f-b2ee198faa52",
   "metadata": {},
   "source": [
    "20. Accept two strings as input and form a new string by removing all \n",
    "characters from the second string which are present in the first string. \n",
    "Print this new string as output. You can assume that all input strings \n",
    "will be in lower case."
   ]
  },
  {
   "cell_type": "code",
   "execution_count": 18,
   "id": "2aaf7a05-425f-45cc-b1a0-f48fc4df1f38",
   "metadata": {},
   "outputs": [
    {
     "name": "stdin",
     "output_type": "stream",
     "text": [
      "Enter First String :  viral\n",
      "Enter Second String :  nilesh\n"
     ]
    },
    {
     "data": {
      "text/plain": [
       "'nesh'"
      ]
     },
     "execution_count": 18,
     "metadata": {},
     "output_type": "execute_result"
    }
   ],
   "source": [
    "str1=input('Enter First String : ').lower()\n",
    "str2=input('Enter Second String : ').lower()\n",
    "\n",
    "\n",
    "for i in str1:\n",
    "    if i in str2:\n",
    "        str2=str2.replace(i,'')\n",
    "str2"
   ]
  },
  {
   "cell_type": "raw",
   "id": "9d4ca698-02c3-415a-8b99-7b59c5702d8d",
   "metadata": {},
   "source": [
    "21.Accept a phone number as input. A valid phone number should satisfy \n",
    "the following constraints.\n",
    "(1) The number should start with one of these digits: 6, 7, 8, 9\n",
    "(2) The number should be exactly 10 digits long.\n",
    "(3) No digit should appear more than 7 times in the number.\n",
    "(4) No digit should appear more than 5 times in a row in the \n",
    "number.\n",
    "If the fourth condition is not very clear, then consider this example: \n",
    "the number 9888888765 is invalid because the digit 8 appears more \n",
    "than 5 times in a row. Print the string valid if the phone number is \n",
    "valid. If not, print the string invalid."
   ]
  },
  {
   "cell_type": "code",
   "execution_count": 39,
   "id": "d1e0ded5-fd61-4512-af49-70a350fc5e32",
   "metadata": {},
   "outputs": [
    {
     "name": "stdin",
     "output_type": "stream",
     "text": [
      "Enter 10 digit Phone Number :  8140408415\n"
     ]
    },
    {
     "name": "stdout",
     "output_type": "stream",
     "text": [
      "Numbre is Valid\n"
     ]
    }
   ],
   "source": [
    "def phone_no_verify():\n",
    "    number=input('Enter 10 digit Phone Number : ')\n",
    "    a=True\n",
    "    if number.isdigit(): \n",
    "        if len(number)==10:\n",
    "            if number[0] in ('6','7','8','9'):\n",
    "                for i in range(10):\n",
    "                    if number.count(number[i])<8:\n",
    "                        if number[i]*6 not in number:\n",
    "                            a=True\n",
    "                        else:\n",
    "                            a=False\n",
    "                            print('Enter Number Which is Not Repeating Charecter in Row for 6 times')\n",
    "                            break\n",
    "                else:\n",
    "                    a=False\n",
    "                    print('Enter Number that not Repeating Character less than 8')\n",
    "            else:\n",
    "                a=False\n",
    "                print('Enter Number Starts with 6,7,8,9')\n",
    "        else:\n",
    "            a=False\n",
    "            print('Enter only 10 digits Number')\n",
    "    else:\n",
    "        a=False\n",
    "        print('Enter All digits')\n",
    "   \n",
    "    if a:\n",
    "        print('Numbre is Valid')\n",
    "    else:\n",
    "        print('Try Again')\n",
    "phone_no_verify()"
   ]
  },
  {
   "cell_type": "raw",
   "id": "781b0869-d8b7-4f2f-b4cd-16d0e128fd0f",
   "metadata": {},
   "source": [
    "22. In the first line of input, accept a sequence of space-separated words. In the second line of \n",
    "input, accept a single word. If this word is not present in the sequence, print NO. If this word \n",
    "is present in the sequence, then print YES and in the next line of the output, print the number \n",
    "of times the word appears in the sequence."
   ]
  },
  {
   "cell_type": "code",
   "execution_count": 40,
   "id": "f385af62-0e60-4691-bbb7-59962118d7e9",
   "metadata": {},
   "outputs": [
    {
     "name": "stdin",
     "output_type": "stream",
     "text": [
      "Enter the String Containing Word :  Virsl is Vetey Good Guy He  is VEry Smart\n",
      "Enter The Word :  is\n"
     ]
    },
    {
     "name": "stdout",
     "output_type": "stream",
     "text": [
      "word --is-- present 2 times in sentance\n"
     ]
    }
   ],
   "source": [
    "sen=input('Enter the String Containing Word : ')\n",
    "word=input('Enter The Word : ')\n",
    "\n",
    "if word in sen:\n",
    "    count=sen.count(word)\n",
    "    print(f\"word --{word}-- present {count} times in sentance\")\n",
    "else:\n",
    "    print(f\"word --{word}-- not present in sentance\")"
   ]
  },
  {
   "cell_type": "raw",
   "id": "ea752210-2e2a-428b-937c-31251daf7ba8",
   "metadata": {},
   "source": [
    "23. Write a function named factorial that accepts an integer n as argument. It should return \n",
    "the factorial of n if n is a positive integer. It should return -1 if n is a negative integer, and it \n",
    "should return 1 if n is zero."
   ]
  },
  {
   "cell_type": "code",
   "execution_count": 42,
   "id": "8a6a747a-3225-40a7-aa94-2da861e157e1",
   "metadata": {},
   "outputs": [
    {
     "data": {
      "text/plain": [
       "120"
      ]
     },
     "execution_count": 42,
     "metadata": {},
     "output_type": "execute_result"
    }
   ],
   "source": [
    "def factorial(n):\n",
    "    if n<0:\n",
    "        return -1\n",
    "    elif n==0:\n",
    "        return 1\n",
    "    else:\n",
    "        f=1\n",
    "        for i in range(1,n+1):\n",
    "            f*=i\n",
    "        return f\n",
    "factorial(5)"
   ]
  },
  {
   "cell_type": "raw",
   "id": "c757a0b6-8450-47af-9b1f-f6ce69ebc775",
   "metadata": {},
   "source": [
    "24. \n",
    "The range of a list of numbers is the difference between the maximum and minimum values in the list\n",
    "Write a function named get_range that accepts a non-empty list of real numbers as argument. It \n",
    "should return the range of the list.\n",
    "(1) Avoid using built-in function such as max and min.\n",
    "(2) You do not have to accept input from the user or print output to the console. You just have to write \n",
    "the function definition."
   ]
  },
  {
   "cell_type": "code",
   "execution_count": 49,
   "id": "1f7007fa-9637-446e-b1fd-0891913455f6",
   "metadata": {},
   "outputs": [
    {
     "name": "stdout",
     "output_type": "stream",
     "text": [
      "Maximum Number : 63\n",
      "Minimum Number : 1\n"
     ]
    },
    {
     "data": {
      "text/plain": [
       "62"
      ]
     },
     "execution_count": 49,
     "metadata": {},
     "output_type": "execute_result"
    }
   ],
   "source": [
    "def range_finder(List):\n",
    "    \n",
    "    def max_finder(List):\n",
    "        maximum=List[0]\n",
    "        for i in List:\n",
    "            if i > maximum:\n",
    "                maximum=i\n",
    "        return maximum\n",
    "    \n",
    "    def min_finder(List):\n",
    "        minimum=List[0]\n",
    "        for i in List:\n",
    "            if i < minimum:\n",
    "                minimum=i\n",
    "        return minimum\n",
    "    \n",
    "    maxium_num=max_finder(List)\n",
    "    print(f\"Maximum Number : {maxium_num}\")\n",
    "    minumum_num=min_finder(List)\n",
    "    print(f\"Minimum Number : {minumum_num}\")\n",
    "    \n",
    "    range_of_list=maxium_num-minumum_num\n",
    "    return range_of_list\n",
    "\n",
    "range_finder([1,2,6,7,63,6,8])"
   ]
  },
  {
   "cell_type": "raw",
   "id": "8f3ba3db-9ed9-4c14-ac23-41f3225ad874",
   "metadata": {},
   "source": [
    "25. Write a function named read_file that accepts a text file named filename as argument. Within \n",
    "the function, read the file and print each line of the file on a separate line in the console. You shouldn't \n",
    "print any extra characters at the end of a line. There shouldn't be an empty line between any two \n",
    "consecutive lines.\n",
    "(1) filename is a string variable that holds the name of the file. For example, in the first test case, it \n",
    "is filename = 'public_1.txt'.\n",
    "(2) You do not have to accept input from the console. You have to write the function definition and \n",
    "print the contents of the file within the function"
   ]
  },
  {
   "cell_type": "code",
   "execution_count": 50,
   "id": "253b7368-09db-40f3-a560-4525dc629ad0",
   "metadata": {},
   "outputs": [],
   "source": [
    "def read_file(filename):\n",
    "    f = open(filename, 'r')\n",
    "    for line in f:\n",
    "        print(line.strip())\n",
    "    f.close()"
   ]
  },
  {
   "cell_type": "code",
   "execution_count": 51,
   "id": "18b14ed5-8a90-4822-8d22-dae4f45dd5e1",
   "metadata": {},
   "outputs": [
    {
     "name": "stdout",
     "output_type": "stream",
     "text": [
      "I am Viral Sherathiya.\n",
      "I work As Tableau Developer in Online PSB Loans.\n",
      "I Like Data Science.\n"
     ]
    }
   ],
   "source": [
    "read_file('New_file.txt')"
   ]
  },
  {
   "cell_type": "raw",
   "id": "b2d94805-f65b-47c2-9d18-2a8bdbe5c2dc",
   "metadata": {},
   "source": [
    "26. A simple algorithm has to be designed to find out whether a student \n",
    "belongs to the Data Science branch or not. The input will be a \n",
    "student's roll number, which is of the form BR18B0000. \n",
    "Here, BR represents the branch code, 18 represents the year of \n",
    "joining, B represents the education level and 0000 represents the \n",
    "specific identification given to the student of that batch. The branch \n",
    "code for Data Science is DS. Print True if the student belongs to \n",
    "Data Science branch and False otherwise."
   ]
  },
  {
   "cell_type": "code",
   "execution_count": 55,
   "id": "9e1c3164-3c5e-4a37-aacb-bb25adf46ac7",
   "metadata": {},
   "outputs": [
    {
     "name": "stdin",
     "output_type": "stream",
     "text": [
      "Enter the Roll Number in for mate of XX00X0000 :  dv18v3695\n"
     ]
    },
    {
     "name": "stdout",
     "output_type": "stream",
     "text": [
      "Enterd Roll number is invalid or not from Data Science Branch\n"
     ]
    }
   ],
   "source": [
    "def find_DS():\n",
    "    roll=input('Enter the Roll Number in for mate of XX00X0000 : ').lower()\n",
    "    if roll[0:2].isalpha() and roll[2:4].isdigit() and roll[4].isalpha() and roll[5:-1].isdigit() and roll[0:2]=='ds':\n",
    "        print('Enterd Roll number is from Data Science Branch')\n",
    "    else:\n",
    "        print('Enterd Roll number is invalid or not from Data Science Branch')\n",
    "find_DS()"
   ]
  },
  {
   "cell_type": "raw",
   "id": "52e69e6b-ab1d-411c-8750-7a2de08bc8dd",
   "metadata": {},
   "source": [
    "27.The police are trying to track a criminal based on the evidence \n",
    "available at a crime site. Their main clue is a vehicle's damaged \n",
    "number plate. Only the string TN07 is visible. The format of the \n",
    "registration number is AA00AA00, where the first two letters are \n",
    "alphabets, next two are numbers, next two are again alphabets \n",
    "followed by two numbers at the end. A number plate is picked from a \n",
    "database of registration numbers and is given to you as input. Your \n",
    "task is to determine if this could belong to the criminal or not. \n",
    "Print True if the number plate \n",
    "contains TN07 and False otherwise."
   ]
  },
  {
   "cell_type": "code",
   "execution_count": 60,
   "id": "5a2e15f8-fe44-4f66-84ab-179cdbbb1e36",
   "metadata": {},
   "outputs": [
    {
     "name": "stdin",
     "output_type": "stream",
     "text": [
      "Enter the Reg_number gb05nj05\n"
     ]
    },
    {
     "name": "stdout",
     "output_type": "stream",
     "text": [
      "It is not Criminal's Number Plate\n"
     ]
    }
   ],
   "source": [
    "reg_num=input(\"Enter the Reg_number\").lower()\n",
    "if (reg_num[0:4]=='tn07') or (reg_num[4:8]=='tn07'):\n",
    "    print('It is Possiblity this Number Plate is of Criminal\\'s Vehical')\n",
    "else:\n",
    "    print('It is not Criminal\\'s Number Plate')\n"
   ]
  },
  {
   "cell_type": "raw",
   "id": "11b4a079-30a1-480d-a759-2b54ab29f90f",
   "metadata": {},
   "source": [
    "28. You are given a string and two non-negative integers as input. The \n",
    "two integers specify the start and end indices of a substring in the \n",
    "given string. Create a new string by replicating the substring a \n",
    "minimum number of times so that the resulting string is longer than \n",
    "the input string. The input parameters are the string, start index of \n",
    "the substring and the end index of substring (endpoints inclusive) \n",
    "each on a different line."
   ]
  },
  {
   "cell_type": "code",
   "execution_count": 63,
   "id": "bed3e133-564e-4a1c-9eda-9bace4f3144f",
   "metadata": {},
   "outputs": [
    {
     "name": "stdin",
     "output_type": "stream",
     "text": [
      "Enter The String :  sherargigl jdbkfgbk\n",
      "Enter the Number of First Index :  5\n",
      "Enter the Number of Last Index :  9\n"
     ]
    },
    {
     "name": "stdout",
     "output_type": "stream",
     "text": [
      "new Created Substring is rgiglrgiglrgiglrgigl\n"
     ]
    }
   ],
   "source": [
    "string=input('Enter The String : ')\n",
    "first_index=int(input('Enter the Number of First Index : '))\n",
    "Last_index=int(input('Enter the Number of Last Index : '))\n",
    "\n",
    "\n",
    "if Last_index<len(string):\n",
    "    temp_substring=string[first_index:Last_index+1]\n",
    "    substring=\"\"\n",
    "    num=len(string)\n",
    "    while num>len(substring):\n",
    "        substring+=temp_substring\n",
    "    print(f'new Created Substring is {substring}')\n",
    "else:\n",
    "    print('Enter Vsalid Number')"
   ]
  },
  {
   "cell_type": "raw",
   "id": "2c2d9d8e-e84a-4ca1-8791-8033b8e650a0",
   "metadata": {},
   "source": [
    "29. A class teacher has decided to split her entire class into four groups, namely Sapphire, Peridot, Ruby, \n",
    "and Emerald for sports competitions. For dividing the students into these four groups, she has \n",
    "followed the pattern given below:\n",
    "Sapphire - 1, 5, 9, 13, 17, 21, ...\n",
    "Peridot - 2, 6, 10, 14, 18, 22, ...\n",
    "Ruby - 3, 7, 11, 15, 19, 23, ...\n",
    "Emerald - 4, 8, 12, 16, 20, 24, ...\n",
    "All the students are represented by their roll numbers. Based on the above pattern, given the roll \n",
    "number as input, print the group the student belongs to. Note that the roll number can be any \n",
    "positive integer and not necessarily less than 25."
   ]
  },
  {
   "cell_type": "code",
   "execution_count": 64,
   "id": "6d3a1cd2-bc8c-4735-a649-fb98d9192fc9",
   "metadata": {},
   "outputs": [
    {
     "name": "stdin",
     "output_type": "stream",
     "text": [
      " 6\n"
     ]
    },
    {
     "name": "stdout",
     "output_type": "stream",
     "text": [
      "Peridot\n"
     ]
    }
   ],
   "source": [
    "n=int(input())\n",
    "for i in range(1,n+1,4):\n",
    "    if n==i:\n",
    "        print('Sapphire')\n",
    "for j in range(2,n+1,4):\n",
    "    if n==j:\n",
    "        print('Peridot')\n",
    "for k in range(3,n+1,4):\n",
    "    if n==k:\n",
    "        print('Ruby')\n",
    "for l in range(4,n+1,4):\n",
    "    if n==l:\n",
    "        print('Emerald')\n"
   ]
  },
  {
   "cell_type": "raw",
   "id": "7e18467c-5ccb-4820-bc5f-c4adc9babe2c",
   "metadata": {},
   "source": [
    "30. A data science company wants to hire data scientists from abc college. \n",
    "The company follows a certain criteria for selection: for a student to \n",
    "be selected, the number of backlogs should be at most 5 and the \n",
    "CGPA (Cumulative Grade Point Average) should be greater than 6. If \n",
    "the student does not fit the above criteria, then the student is not \n",
    "offered the job. If the student is selected, then the salary offered is \n",
    "equal to 5 times his/her CGPA (in lakhs).\n",
    "Accept the number of backlogs (integer) and the CGPA (float) of the \n",
    "student as input. Your task is to determine if the student is selected or \n",
    "not. If the student is selected, then print the package. If not, then \n",
    "print the string Not Selected."
   ]
  },
  {
   "cell_type": "code",
   "execution_count": 66,
   "id": "b3ffa9d1-3c7f-4dbd-aa48-0921bb85154c",
   "metadata": {},
   "outputs": [
    {
     "name": "stdin",
     "output_type": "stream",
     "text": [
      "Enter Number of Backlogs in Your Study :  2\n",
      "Enter obtaied CGPA in Your Study :  7.7\n"
     ]
    },
    {
     "name": "stdout",
     "output_type": "stream",
     "text": [
      "you are Eligible for the job and You will get Packege of 38 lakhs\n"
     ]
    }
   ],
   "source": [
    "backlog_num=int(input('Enter Number of Backlogs in Your Study : '))\n",
    "CGPA=float(input('Enter obtaied CGPA in Your Study : '))\n",
    "\n",
    "if backlog_num>5 and CGPA<6:\n",
    "    print('You are not Eligible for This Job')\n",
    "else:\n",
    "    print(f'you are Eligible for the job and You will get Packege of {round(CGPA * 5)} lakhs')"
   ]
  },
  {
   "cell_type": "raw",
   "id": "15b2b2b3-e511-4184-af23-c42d9ee021b8",
   "metadata": {},
   "source": [
    "31. Accept a string as input and print PALINDROME if it is a \n",
    "palindrome, and NOT PALINDROME otherwise"
   ]
  },
  {
   "cell_type": "code",
   "execution_count": 69,
   "id": "853ebeb7-8d0e-4472-9891-73d90cb85608",
   "metadata": {},
   "outputs": [
    {
     "name": "stdin",
     "output_type": "stream",
     "text": [
      "Enter A string to Check :  Viral\n"
     ]
    },
    {
     "name": "stdout",
     "output_type": "stream",
     "text": [
      "string is not Palindrome\n"
     ]
    }
   ],
   "source": [
    "string=input('Enter A string to Check : ')\n",
    "if string==string[::-1]:\n",
    "    print('string is Palindrome')\n",
    "else:\n",
    "    print('string is not Palindrome')"
   ]
  },
  {
   "cell_type": "raw",
   "id": "92cfcd2b-ae26-4009-85b4-15e7996421ac",
   "metadata": {},
   "source": [
    "32. In a portal login website, you are asked to write a function get_password_strength to decide \n",
    "the strength of a password. The strength is decided based on the total score of the password, Use \n",
    "following conditions:\n",
    "1) If password has length greater than 7 then score increases by one point.\n",
    "2) If password has at least one upper case and one lower case alphabets score increases by one point.\n",
    "3) If password has at least one number and no consecutive numbers like 12 or 234 then score \n",
    "increases by one point.\n",
    "4) If password has at least one special character (any character other than numbers and alphabets) then \n",
    "score increases by one point.\n",
    "5) If password contains username, then it is invalid password.\n",
    "If the password has score of four points, three points, two points, or one point then print Very \n",
    "Strong, Strong, Moderate, or Weak respectively. If the password is invalid, then \n",
    "print PASSWORD SHOULD NOT CONTAIN USERNAME and If the score is zero, then print Use a \n",
    "different password.The arguments to the function are username and password which are \n",
    "already defined"
   ]
  },
  {
   "cell_type": "code",
   "execution_count": 55,
   "id": "f70200a2-8030-4327-9f10-72f25dde8a24",
   "metadata": {},
   "outputs": [
    {
     "name": "stdout",
     "output_type": "stream",
     "text": [
      "Very Strong\n"
     ]
    }
   ],
   "source": [
    "import string\n",
    "def get_password_strength(username,password):\n",
    "    c=0\n",
    "    lower_in=False\n",
    "    upper_in=False\n",
    "    symbol_in=False\n",
    "    number_in=False\n",
    "    nc_in=True\n",
    "    if username.lower() in password.lower():\n",
    "        print('Your Password is Invalid it contains Username')\n",
    "    else:\n",
    "        for i in range(len(password)):\n",
    "            if password[i] in string.ascii_lowercase:\n",
    "                lower_in=True\n",
    "        for i in range(len(password)):\n",
    "            if password[i] in string.ascii_uppercase:\n",
    "                upper_in=True\n",
    "        for i in range(len(password)):\n",
    "            if password[i]in string.punctuation:\n",
    "                symbol_in=True \n",
    "        for i in range(len(password)):\n",
    "            if password[i] in string.digits:\n",
    "                number_in=True\n",
    "        for i in range(len(password)):\n",
    "            if i!=(len(password)-1):\n",
    "                if password[i] not in string.digits:\n",
    "                    continue\n",
    "                if string.digits[((string.digits.index(password[i]))+1)]==password[i+1]:\n",
    "                    nc_in=False\n",
    "                    \n",
    "                    \n",
    "        if len(password)>7:\n",
    "            c+=1\n",
    "        if lower_in==True and upper_in==True:\n",
    "            c+=1\n",
    "        if symbol_in==True:\n",
    "            c+=1\n",
    "        if number_in==True and nc_in==True:\n",
    "            c+=1\n",
    "\n",
    "        \n",
    "        \n",
    "       \n",
    "    if c==4:\n",
    "        print('Very Strong')\n",
    "        return\n",
    "    if c==3:\n",
    "        print('Strong')\n",
    "        return\n",
    "    if c==2:\n",
    "        print('Moderate')\n",
    "        return\n",
    "    if c==1:\n",
    "        print('Weak')\n",
    "        return\n",
    "    if c==0:\n",
    "        print('Use a different password')\n",
    "        return\n",
    "    \n",
    "    \n",
    "    \n",
    "get_password_strength('viral','Vral#580')"
   ]
  },
  {
   "cell_type": "code",
   "execution_count": null,
   "id": "de425871-d673-45b3-965a-d7c3b6b684b4",
   "metadata": {},
   "outputs": [],
   "source": []
  },
  {
   "cell_type": "raw",
   "id": "67644faf-c8dc-439d-9c26-54b16751b2e0",
   "metadata": {},
   "source": [
    "33.decorator that logs the date and time"
   ]
  },
  {
   "cell_type": "code",
   "execution_count": 22,
   "id": "4b0e6406-addd-48b3-9cc7-5648fa80a73d",
   "metadata": {},
   "outputs": [
    {
     "name": "stdout",
     "output_type": "stream",
     "text": [
      "Function : backup run at 09-12-2022 04:45:13\n",
      "--------------------------------------------------\n",
      "Daily Backup Done\n"
     ]
    }
   ],
   "source": [
    "import datetime\n",
    "from datetime import datetime\n",
    "def log_date_time(func):\n",
    "    def date_time():\n",
    "        print(f'Function : {func.__name__} run at {datetime.today().strftime(\"%d-%m-%Y %H:%M:%S\")}')\n",
    "        print('-'*50)\n",
    "        func()\n",
    "    return date_time\n",
    "\n",
    "\n",
    "@log_date_time\n",
    "def backup():\n",
    "    print('Daily Backup Done')\n",
    "\n",
    "    \n",
    "    \n",
    "    \n",
    "backup()"
   ]
  },
  {
   "cell_type": "raw",
   "id": "93474414-e8ba-439d-9f7d-0f3f4eb648b9",
   "metadata": {},
   "source": [
    "34.Program to Get Data Items From a List Appearing Odd Number of Times"
   ]
  },
  {
   "cell_type": "code",
   "execution_count": 41,
   "id": "953b6e38-f84b-4768-bf63-970c23973471",
   "metadata": {},
   "outputs": [
    {
     "name": "stdout",
     "output_type": "stream",
     "text": [
      "{5: 3, 8: 3, 6: 3, 7: 1}\n",
      "{1: 4, 2: 2, 3: 2, 4: 2}\n"
     ]
    }
   ],
   "source": [
    "l=[1,2,3,1,2,5,1,4,8,5,8,6,8,3,5,4,6,6,1,7]\n",
    "d={}\n",
    "d2={}\n",
    "for i in l:\n",
    "    if l.count(i) % 2 !=0:\n",
    "        d[i]=l.count(i)\n",
    "    else:\n",
    "        d2[i]=l.count(i)\n",
    "print(d)\n",
    "print(d2)"
   ]
  },
  {
   "cell_type": "raw",
   "id": "70caf71f-6a2d-42a5-bb41-a83e99f3b0cb",
   "metadata": {},
   "source": [
    "35.What are decorators in Python?"
   ]
  },
  {
   "cell_type": "raw",
   "id": "00d3f3e6-8d1a-459c-8f05-fec2d7a72f0b",
   "metadata": {},
   "source": [
    "36. remove items from a list while iterating but without creating a different copy of a list.\n",
    "Remove numbers greater than 50\n",
    "number_list = [10, 20, 30, 40, 50, 60, 70, 80, 90, 100]\n",
    "Expected Output: [10, 20, 30, 40, 50]"
   ]
  },
  {
   "cell_type": "code",
   "execution_count": 46,
   "id": "7dfd2cec-9397-442e-99cb-ed64a4e15a66",
   "metadata": {},
   "outputs": [
    {
     "data": {
      "text/plain": [
       "[10, 20, 30, 40, 50]"
      ]
     },
     "execution_count": 46,
     "metadata": {},
     "output_type": "execute_result"
    }
   ],
   "source": [
    "number_list = [10, 20, 30, 40, 50, 60, 70, 80, 90, 100]\n",
    "\n",
    "# for i in range(len(number_list)):\n",
    "#     if number_list[i]>50:\n",
    "#         number_list.remove(number_list[i])\n",
    "# print(number_list)\n",
    "\n",
    "\n",
    "\n",
    "number_list=[x for x in number_list if x<=50]\n",
    "number_list"
   ]
  },
  {
   "cell_type": "raw",
   "id": "6a034cd6-9a75-4912-8286-2396360ffa28",
   "metadata": {},
   "source": [
    "37.  Display all duplicate items from a list\n",
    "sample_list = [10, 20, 60, 30, 20, 40, 30, 60, 70, 80]\n",
    "Expected Output: [20, 60, 30]"
   ]
  },
  {
   "cell_type": "code",
   "execution_count": 48,
   "id": "3f8a6373-2101-48aa-b1ee-b4cf34e6902e",
   "metadata": {},
   "outputs": [
    {
     "data": {
      "text/plain": [
       "[20, 60, 30]"
      ]
     },
     "execution_count": 48,
     "metadata": {},
     "output_type": "execute_result"
    }
   ],
   "source": [
    "sample_list = [10, 20, 60, 30, 20, 40, 30, 60, 70, 80]\n",
    "l=[]\n",
    "for i in sample_list:\n",
    "    if sample_list.count(i) >1:\n",
    "        l.append(i)\n",
    "list(set(l))"
   ]
  },
  {
   "cell_type": "raw",
   "id": "03607aeb-291c-41e0-bb35-101d53d1f25f",
   "metadata": {},
   "source": [
    "38. Create an outer function that will accept two strings, x and y. (x= 'Emma' and y = 'Kelly'.\n",
    "Create an inner function inside an outer function that will concatenate x and y.\n",
    "At last, an outer function will join the word 'developer' to it."
   ]
  },
  {
   "cell_type": "code",
   "execution_count": 61,
   "id": "504f9bdb-32a7-4a29-abdc-fbabd2fd572b",
   "metadata": {},
   "outputs": [
    {
     "data": {
      "text/plain": [
       "'EmmaKellydeveloper'"
      ]
     },
     "execution_count": 61,
     "metadata": {},
     "output_type": "execute_result"
    }
   ],
   "source": [
    "def outer(x:str='Emma',y:str='Kelly'):\n",
    "        def inner():\n",
    "            concated=x+y\n",
    "            return concated\n",
    "        \n",
    "        added=inner() +'developer'\n",
    "        return added\n",
    "\n",
    "outer()"
   ]
  },
  {
   "cell_type": "raw",
   "id": "c3238d35-61fa-4d2a-8e92-c393399b1b5b",
   "metadata": {},
   "source": [
    "39. Modify the element of a nested list inside the following list\n",
    "Change the element 35 to 3500\n",
    "list1 = [5, [10, 15, [20, 25, [30, 35], 40], 45], 50]"
   ]
  },
  {
   "cell_type": "code",
   "execution_count": 17,
   "id": "1ade9681-5fc5-4e27-8728-a27ed934152b",
   "metadata": {},
   "outputs": [
    {
     "name": "stdout",
     "output_type": "stream",
     "text": [
      "[5, [10, 15, [20, 25, [30, 35], 40], 45], 50]\n"
     ]
    },
    {
     "data": {
      "text/plain": [
       "[5, [10, 15, [20, 25, [30, 3500], 40], 45], 50]"
      ]
     },
     "execution_count": 17,
     "metadata": {},
     "output_type": "execute_result"
    }
   ],
   "source": [
    "list1 = [5, [10, 15, [20, 25, [30, 35], 40], 45], 50]\n",
    "print(list1)\n",
    "list1[1][2][2][1]=3500\n",
    "list1"
   ]
  },
  {
   "cell_type": "raw",
   "id": "0106b7da-e95f-46ba-873a-e641d7199be7",
   "metadata": {},
   "source": [
    "40.  Access the nested key increment from the following dictionary\n",
    "Access 12\n",
    "emp_dict = {\n",
    "    \"company\": {\n",
    "        \"employee\": {\n",
    "            \"name\": \"Jess\",\n",
    "            \"payable\": {\n",
    "                \"salary\": 9000,\n",
    "                \"increment\": 12\n",
    "            }\n",
    "        }\n",
    "    }\n",
    "}"
   ]
  },
  {
   "cell_type": "code",
   "execution_count": 10,
   "id": "14a023ed-5189-4fcf-aebf-7cca92f9f109",
   "metadata": {},
   "outputs": [
    {
     "data": {
      "text/plain": [
       "12"
      ]
     },
     "execution_count": 10,
     "metadata": {},
     "output_type": "execute_result"
    }
   ],
   "source": [
    "emp_dict = {\n",
    "    \"company\": {\n",
    "        \"employee\": {\n",
    "            \"name\": \"Jess\",\n",
    "            \"payable\": {\n",
    "                \"salary\": 9000,\n",
    "                \"increment\": 12\n",
    "            }\n",
    "        }\n",
    "    }\n",
    "}\n",
    "emp_dict['company']['employee']['payable']['increment']"
   ]
  },
  {
   "cell_type": "raw",
   "id": "a36e12a4-baf9-4c0b-90e6-c16fd60b02ba",
   "metadata": {},
   "source": [
    "41. Print the sum of the current number and the previous number\n",
    "Write a program to iterate the first 10 numbers and in each iteration, print the sum of the current and previous number.\n",
    "Printing current and previous number sum in a range(10)\n",
    "Current Number 0 Previous Number  0  Sum:  0\n",
    "Current Number 1 Previous Number  0  Sum:  1\n",
    "Current Number 2 Previous Number  1  Sum:  3\n",
    "Current Number 3 Previous Number  2  Sum:  5\n",
    "Current Number 4 Previous Number  3  Sum:  7\n",
    "Current Number 5 Previous Number  4  Sum:  9\n",
    "Current Number 6 Previous Number  5  Sum:  11\n",
    "Current Number 7 Previous Number  6  Sum:  13\n",
    "Current Number 8 Previous Number  7  Sum:  15\n",
    "Current Number 9 Previous Number  8  Sum:  17"
   ]
  },
  {
   "cell_type": "code",
   "execution_count": 64,
   "id": "b1c3e6ec-4df2-48bb-97f2-b279a10ea7d0",
   "metadata": {},
   "outputs": [
    {
     "name": "stdout",
     "output_type": "stream",
     "text": [
      "Current Number 0 Previous Number  0  Sum: 0 \n",
      "Current Number 1 Previous Number  0  Sum: 1 \n",
      "Current Number 2 Previous Number  1  Sum: 3 \n",
      "Current Number 3 Previous Number  2  Sum: 5 \n",
      "Current Number 4 Previous Number  3  Sum: 7 \n",
      "Current Number 5 Previous Number  4  Sum: 9 \n",
      "Current Number 6 Previous Number  5  Sum: 11 \n",
      "Current Number 7 Previous Number  6  Sum: 13 \n",
      "Current Number 8 Previous Number  7  Sum: 15 \n",
      "Current Number 9 Previous Number  8  Sum: 17 \n",
      "Current Number 10 Previous Number  9  Sum: 19 \n"
     ]
    }
   ],
   "source": [
    "for i in range (11):\n",
    "    current_num=i\n",
    "    previous_num=i-1\n",
    "    \n",
    "    \n",
    "    if current_num==0:\n",
    "        previous_num=0\n",
    "        sum_num=current_num+previous_num\n",
    "        print(f'Current Number {current_num} Previous Number  {previous_num}  Sum: {sum_num} ')\n",
    "    else:\n",
    "        sum_num=current_num+previous_num\n",
    "        print(f'Current Number {current_num} Previous Number  {previous_num}  Sum: {sum_num} ')"
   ]
  },
  {
   "cell_type": "raw",
   "id": "04f5ef21-9056-4a31-bc4d-b5641a6bc80d",
   "metadata": {},
   "source": [
    "42. Print characters from a string that are present at an even index number\n",
    "Write a program to accept a string from the user and display characters that are present at an even index number.\n",
    "\n",
    "For example, str = \"ineuron\" so you should display ‘i’, ‘e’, ‘r’, ‘n’."
   ]
  },
  {
   "cell_type": "code",
   "execution_count": 8,
   "id": "f173f79e-06b5-4500-81b6-b6bb79c1fe27",
   "metadata": {},
   "outputs": [
    {
     "name": "stdout",
     "output_type": "stream",
     "text": [
      "i e r "
     ]
    }
   ],
   "source": [
    "string = \"ineuron\"\n",
    "\n",
    "for i in range (len(string)):\n",
    "    \n",
    "    if string.index(string[i]) % 2 ==0:\n",
    "        \n",
    "        print(string[i],end=\" \")\n",
    "        \n",
    "    \n",
    "string = \"ineuron\"\n",
    "\n",
    "for i in range (len(string)):\n",
    "    \n",
    "    if i%2==0:\n",
    "    \n",
    "        print(string[i],end=\" \")\n",
    "        \n",
    "    "
   ]
  },
  {
   "cell_type": "raw",
   "id": "19f5f95f-8e4e-48c8-8639-247f8f058efa",
   "metadata": {},
   "source": [
    "43. Print multiplication table form 1 to 10\n",
    "1  2 3 4 5 6 7 8 9 10 \t\t\n",
    "2  4 6 8 10 12 14 16 18 20 \t\t\n",
    "3  6 9 12 15 18 21 24 27 30 \t\t\n",
    "4  8 12 16 20 24 28 32 36 40 \t\t\n",
    "5  10 15 20 25 30 35 40 45 50 \t\t\n",
    "6  12 18 24 30 36 42 48 54 60 \t\t\n",
    "7  14 21 28 35 42 49 56 63 70 \t\t\n",
    "8  16 24 32 40 48 56 64 72 80 \t\t\n",
    "9  18 27 36 45 54 63 72 81 90 \t\t\n",
    "10 20 30 40 50 60 70 80 90 100 "
   ]
  },
  {
   "cell_type": "code",
   "execution_count": 82,
   "id": "b04eb4a6-4a2b-479f-8cb1-4f7b727b8b29",
   "metadata": {},
   "outputs": [
    {
     "name": "stdout",
     "output_type": "stream",
     "text": [
      "1 2 3 4 5 6 7 8 9 10 \n",
      "2 4 6 8 10 12 14 16 18 20 \n",
      "3 6 9 12 15 18 21 24 27 30 \n",
      "4 8 12 16 20 24 28 32 36 40 \n",
      "5 10 15 20 25 30 35 40 45 50 \n",
      "6 12 18 24 30 36 42 48 54 60 \n",
      "7 14 21 28 35 42 49 56 63 70 \n",
      "8 16 24 32 40 48 56 64 72 80 \n",
      "9 18 27 36 45 54 63 72 81 90 \n",
      "10 20 30 40 50 60 70 80 90 100 \n"
     ]
    }
   ],
   "source": [
    "for i in range(1,11):\n",
    "    j=1\n",
    "    while j <11:\n",
    "        print(i*j,end=\" \")\n",
    "        j+=1\n",
    "    print('')\n",
    "   "
   ]
  },
  {
   "cell_type": "raw",
   "id": "07f9b814-fc05-4a97-8a50-b762ab2522e6",
   "metadata": {},
   "source": [
    "44. Remove duplicates from a list and create a tuple and find the minimum and maximum number\n",
    "sample_list = [87, 45, 41, 65, 94, 41, 99, 94]\n",
    "Expected Outcome:\n",
    "unique items [87, 45, 41, 65, 99]\n",
    "tuple (87, 45, 41, 65, 99)\n",
    "min: 41\n",
    "max: 99"
   ]
  },
  {
   "cell_type": "code",
   "execution_count": 2,
   "id": "61b3c9e8-b3c6-4292-a085-329a10b8e379",
   "metadata": {},
   "outputs": [
    {
     "name": "stdout",
     "output_type": "stream",
     "text": [
      "unique list -- > [65, 99, 41, 45, 87, 94]\n",
      "Tuple from list -- > (65, 99, 41, 45, 87, 94)\n",
      "min list -- > 41\n",
      "min list -- > 99\n"
     ]
    }
   ],
   "source": [
    "sample_list = [87, 45, 41, 65, 94, 41, 99, 94]\n",
    "unique_list=[*set(sample_list)]\n",
    "print(f'unique list -- > {unique_list}')\n",
    "\n",
    "tuple_from_list=tuple(unique_list)\n",
    "print(f'Tuple from list -- > {tuple_from_list}')\n",
    "print(f'min list -- > {min(tuple_from_list)}')\n",
    "\n",
    "print(f'min list -- > {max(tuple_from_list)}')\n"
   ]
  },
  {
   "cell_type": "raw",
   "id": "f4d4b1a2-7c19-43c4-922c-837b6c40f5fb",
   "metadata": {},
   "source": [
    "45. Write a Python program to create a lambda function that adds 15 to a given number passed in as an argument,\n",
    "also create a lambda function that multiplies argument x with argument y and print the result."
   ]
  },
  {
   "cell_type": "code",
   "execution_count": 3,
   "id": "d4b40d09-b7dc-4608-b114-72dbfd17d81c",
   "metadata": {},
   "outputs": [
    {
     "data": {
      "text/plain": [
       "20"
      ]
     },
     "execution_count": 3,
     "metadata": {},
     "output_type": "execute_result"
    }
   ],
   "source": [
    "add_15=lambda x : x+15\n",
    "add_15(5)"
   ]
  },
  {
   "cell_type": "code",
   "execution_count": 4,
   "id": "c8665583-3746-4186-9d6d-33d2f6a9720f",
   "metadata": {},
   "outputs": [
    {
     "data": {
      "text/plain": [
       "30"
      ]
     },
     "execution_count": 4,
     "metadata": {},
     "output_type": "execute_result"
    }
   ],
   "source": [
    "x_mul_y=lambda x,y :x*y\n",
    "x_mul_y(5,6)"
   ]
  },
  {
   "cell_type": "raw",
   "id": "58df2f9a-6310-4e59-a5fe-6658ff7898e1",
   "metadata": {},
   "source": [
    "46. Write a Python program to sort a list of tuples using Lambda."
   ]
  },
  {
   "cell_type": "code",
   "execution_count": 10,
   "id": "ae5e776c-44db-4ebb-997a-ce80a8e0b82c",
   "metadata": {},
   "outputs": [
    {
     "data": {
      "text/plain": [
       "[(8, 'Gujarati'), (6, 'Hindi'), (3, 'English'), (1, 'Maths')]"
      ]
     },
     "execution_count": 10,
     "metadata": {},
     "output_type": "execute_result"
    }
   ],
   "source": [
    "sortlst=lambda x:sorted(x ,reverse=True)\n",
    "\n",
    "l=[(3,'English'),(8,'Gujarati'),(1,'Maths'),(6,'Hindi')]\n",
    "sortlst(l)"
   ]
  },
  {
   "cell_type": "code",
   "execution_count": 6,
   "id": "85e3e1a5-1e5e-42ce-930e-340ca9741816",
   "metadata": {},
   "outputs": [
    {
     "data": {
      "text/plain": [
       "[(1, 'Maths'), (3, 'English'), (6, 'Hindi'), (8, 'Gujarati')]"
      ]
     },
     "execution_count": 6,
     "metadata": {},
     "output_type": "execute_result"
    }
   ],
   "source": [
    "l=[(3,'English'),(8,'Gujarati'),(1,'Maths'),(6,'Hindi')]\n",
    "l.sort(key=lambda z:z[0])\n",
    "l"
   ]
  },
  {
   "cell_type": "raw",
   "id": "745bbb70-f71c-4042-a99a-f42bccef267e",
   "metadata": {},
   "source": [
    "47. Write a Python program to extract year, month, date and time using Lambda."
   ]
  },
  {
   "cell_type": "code",
   "execution_count": 24,
   "id": "477f1e0f-9d59-4693-9cd2-cbd9a1b618d7",
   "metadata": {},
   "outputs": [
    {
     "name": "stdout",
     "output_type": "stream",
     "text": [
      "2022 12 9 10:57:50.985170\n"
     ]
    }
   ],
   "source": [
    "import datetime\n",
    "\n",
    "now=datetime.datetime.now()\n",
    "year=lambda now : now.year\n",
    "month=lambda now : now.month\n",
    "day=lambda now : now.day\n",
    "time=lambda x : now.time()\n",
    "print(year(now),month(now),day(now),time(now))"
   ]
  },
  {
   "cell_type": "raw",
   "id": "afcf0f97-d39b-4554-a14f-411096bd515e",
   "metadata": {},
   "source": [
    "48. Write a Python program to count the even, odd numbers in a given array of integers using Lambda."
   ]
  },
  {
   "cell_type": "code",
   "execution_count": 26,
   "id": "82bc9839-aa44-4c05-a124-48ae3ed154cc",
   "metadata": {},
   "outputs": [
    {
     "name": "stdout",
     "output_type": "stream",
     "text": [
      "[0, 1, 2, 3, 4, 5, 6, 7, 8, 9, 10, 11, 12, 13, 14, 15, 16, 17, 18, 19, 20, 21, 22, 23, 24, 25, 26, 27, 28, 29]\n",
      "total odd number 15\n",
      "total even number 15\n"
     ]
    }
   ],
   "source": [
    "l=[x for x in range(30)]\n",
    "print(l)\n",
    "\n",
    "odd=len(list(filter(lambda x: x%2!=0,l)))\n",
    "even=len(list(filter(lambda x: x%2==0,l)))\n",
    "print(f'total odd number {odd}')\n",
    "print(f'total even number {even}')"
   ]
  },
  {
   "cell_type": "raw",
   "id": "dbd65ee9-2f83-4286-a7b3-52f398ab8527",
   "metadata": {},
   "source": [
    "49. Write a Python program to convert all the characters in uppercase and lowercase and eliminate duplicate letters from a given sequence.\n",
    "Use map() function."
   ]
  },
  {
   "cell_type": "code",
   "execution_count": 40,
   "id": "7559f53e-3202-45ab-87a3-85404bbf421e",
   "metadata": {},
   "outputs": [
    {
     "data": {
      "text/plain": [
       "'naman'"
      ]
     },
     "execution_count": 40,
     "metadata": {},
     "output_type": "execute_result"
    }
   ],
   "source": [
    "from collections import OrderedDict\n",
    "def change_case_lower(string):\n",
    "    return string.lower()\n",
    "    \n",
    "def change_case_upper(string):\n",
    "    return string.upper()\n",
    "\n",
    "\n",
    "def duplicate_remove(string):\n",
    "    d = OrderedDict()\n",
    "    for c in string:\n",
    "        if c not in d:\n",
    "            d[c] = 0\n",
    "        d[c] += 1\n",
    "\n",
    "    return ''.join(d.keys())\n",
    "\n",
    "\n",
    "string='Viral Sherathiya'\n",
    "\n",
    "upper=\"\".join(list(map(change_case_upper,string)))\n",
    "lower=\"\".join(list(map(change_case_lower,string)))\n",
    "duplicate_removed=duplicate_remove(string)\n",
    "print(upper,lower,duplicate_removed)"
   ]
  },
  {
   "cell_type": "raw",
   "id": "78c63beb-b43b-48ad-bb20-31f403af2f10",
   "metadata": {},
   "source": [
    "50.  Write a Python program to square the elements of a list using map() function."
   ]
  },
  {
   "cell_type": "code",
   "execution_count": 29,
   "id": "bd54c898-2096-4da0-ab4e-3cff40f65b89",
   "metadata": {},
   "outputs": [
    {
     "data": {
      "text/plain": [
       "[0, 1, 4, 9, 16, 25]"
      ]
     },
     "execution_count": 29,
     "metadata": {},
     "output_type": "execute_result"
    }
   ],
   "source": [
    "def square(x):\n",
    "    return x**2\n",
    "    \n",
    "l=[x for x in range(6)]\n",
    "\n",
    "sqauredlist=list(map(square,l))\n",
    "sqauredlist"
   ]
  },
  {
   "cell_type": "code",
   "execution_count": null,
   "id": "65bfab55-7fbe-4a5c-a4fc-4ed13dce6eb3",
   "metadata": {},
   "outputs": [],
   "source": []
  }
 ],
 "metadata": {
  "kernelspec": {
   "display_name": "Python 3 (ipykernel)",
   "language": "python",
   "name": "python3"
  },
  "language_info": {
   "codemirror_mode": {
    "name": "ipython",
    "version": 3
   },
   "file_extension": ".py",
   "mimetype": "text/x-python",
   "name": "python",
   "nbconvert_exporter": "python",
   "pygments_lexer": "ipython3",
   "version": "3.10.6"
  }
 },
 "nbformat": 4,
 "nbformat_minor": 5
}
