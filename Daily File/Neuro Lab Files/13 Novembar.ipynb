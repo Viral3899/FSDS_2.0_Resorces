{
 "cells": [
  {
   "cell_type": "code",
   "execution_count": 31,
   "id": "f3717276-a7a3-48f7-9213-9e5c811c1605",
   "metadata": {},
   "outputs": [],
   "source": [
    "def test(func):\n",
    "    def test2():\n",
    "        print(\"I am Inside test2\")\n",
    "        func()\n",
    "        print(func())\n",
    "        print('Function Executed')\n",
    "        return func()\n",
    "    return test2"
   ]
  },
  {
   "cell_type": "code",
   "execution_count": 32,
   "id": "f963c57d-40ce-4acb-a92a-0fa2ab1eee9e",
   "metadata": {},
   "outputs": [],
   "source": [
    "def test3():\n",
    "    return 5+6"
   ]
  },
  {
   "cell_type": "code",
   "execution_count": 33,
   "id": "f4dfcc34-4acb-494b-a84f-a37ab7e1a45c",
   "metadata": {},
   "outputs": [
    {
     "data": {
      "text/plain": [
       "<function __main__.test.<locals>.test2()>"
      ]
     },
     "execution_count": 33,
     "metadata": {},
     "output_type": "execute_result"
    }
   ],
   "source": [
    "test(test3())"
   ]
  },
  {
   "cell_type": "code",
   "execution_count": 34,
   "id": "342029c0-3517-4f09-90be-7e4705c2bfaa",
   "metadata": {},
   "outputs": [],
   "source": [
    "@test\n",
    "def test3():\n",
    "    return 5+6"
   ]
  },
  {
   "cell_type": "code",
   "execution_count": 37,
   "id": "5fe736f7-c00f-4389-a4ab-b562473cd5f1",
   "metadata": {},
   "outputs": [
    {
     "name": "stdout",
     "output_type": "stream",
     "text": [
      "I am Inside test2\n",
      "11\n",
      "Function Executed\n"
     ]
    }
   ],
   "source": [
    "a=test3()+25"
   ]
  },
  {
   "cell_type": "code",
   "execution_count": 38,
   "id": "db5b01db-c48e-4e92-a6ce-a4306a9084a7",
   "metadata": {},
   "outputs": [
    {
     "name": "stdout",
     "output_type": "stream",
     "text": [
      "36\n"
     ]
    }
   ],
   "source": [
    "print(a)"
   ]
  },
  {
   "cell_type": "code",
   "execution_count": 47,
   "id": "c2ed387c-77ca-4464-be07-f242381cca70",
   "metadata": {},
   "outputs": [],
   "source": [
    "def test(func):\n",
    "    def test2(*args):\n",
    "        print(\"I am Inside test2\")\n",
    "        func(*args)\n",
    "        print(func(*args))\n",
    "        print('Function Executed')\n",
    "        return func(*args)\n",
    "    return test2"
   ]
  },
  {
   "cell_type": "code",
   "execution_count": 48,
   "id": "aee54864-4821-485a-814d-81dd19af50e9",
   "metadata": {},
   "outputs": [],
   "source": [
    "@test\n",
    "\n",
    "def test3(a,b):\n",
    "    return a+b"
   ]
  },
  {
   "cell_type": "code",
   "execution_count": 49,
   "id": "b3d42aff-9c03-4fad-a859-8d4be60aa420",
   "metadata": {},
   "outputs": [
    {
     "name": "stdout",
     "output_type": "stream",
     "text": [
      "I am Inside test2\n",
      "11\n",
      "Function Executed\n"
     ]
    },
    {
     "data": {
      "text/plain": [
       "11"
      ]
     },
     "execution_count": 52,
     "metadata": {},
     "output_type": "execute_result"
    }
   ],
   "source": [
    "test3(5,6)"
   ]
  },
  {
   "cell_type": "code",
   "execution_count": 54,
   "id": "d37c0514-25eb-42aa-b314-862280dcf052",
   "metadata": {},
   "outputs": [],
   "source": [
    "def test(func):\n",
    "    def test2(*args,**kwargs):\n",
    "        print(\"I am Inside test2\")\n",
    "        func(*args,**kwargs)\n",
    "        print(func(*args,**kwargs))\n",
    "        print('Function Executed')\n",
    "        return func(*args,**kwargs)\n",
    "    return test2"
   ]
  },
  {
   "cell_type": "code",
   "execution_count": 55,
   "id": "843b8340-67dc-4554-9d3a-3b1afd37a164",
   "metadata": {},
   "outputs": [],
   "source": [
    "@test\n",
    "\n",
    "def test3(**kwargs):\n",
    "    return kwargs"
   ]
  },
  {
   "cell_type": "code",
   "execution_count": 56,
   "id": "e78962bb-6c8b-4ae3-af16-f268f823f383",
   "metadata": {},
   "outputs": [
    {
     "name": "stdout",
     "output_type": "stream",
     "text": [
      "I am Inside test2\n",
      "{'a': 5, 'b': 6}\n",
      "Function Executed\n"
     ]
    },
    {
     "data": {
      "text/plain": [
       "{'a': 5, 'b': 6}"
      ]
     },
     "execution_count": 56,
     "metadata": {},
     "output_type": "execute_result"
    }
   ],
   "source": [
    "test3(a=5,b=6)"
   ]
  },
  {
   "cell_type": "code",
   "execution_count": 64,
   "id": "3f0a5be8-e327-4d64-a2c5-a6ef0145ddef",
   "metadata": {},
   "outputs": [],
   "source": [
    "#lambda\n",
    "def summmation(a,b):\n",
    "    return a+b"
   ]
  },
  {
   "cell_type": "code",
   "execution_count": 65,
   "id": "2ed2b38a-695d-46f7-8b0a-1f6e569237c0",
   "metadata": {},
   "outputs": [
    {
     "data": {
      "text/plain": [
       "<function __main__.summmation(a, b)>"
      ]
     },
     "execution_count": 65,
     "metadata": {},
     "output_type": "execute_result"
    }
   ],
   "source": [
    "summmation"
   ]
  },
  {
   "cell_type": "code",
   "execution_count": 66,
   "id": "43ca4cef-79e2-4626-b32f-555cb1f3f202",
   "metadata": {},
   "outputs": [
    {
     "data": {
      "text/plain": [
       "<function __main__.<lambda>(a, b)>"
      ]
     },
     "execution_count": 66,
     "metadata": {},
     "output_type": "execute_result"
    }
   ],
   "source": [
    "lambda a,b : a+b"
   ]
  },
  {
   "cell_type": "code",
   "execution_count": 67,
   "id": "8e5ca083-4667-48c6-9fd0-ee1b6576bc03",
   "metadata": {},
   "outputs": [],
   "source": [
    "addition=lambda a,b : a+b"
   ]
  },
  {
   "cell_type": "code",
   "execution_count": 68,
   "id": "10176a46-a20e-4ff1-9b31-1c99a4df127d",
   "metadata": {},
   "outputs": [
    {
     "data": {
      "text/plain": [
       "22"
      ]
     },
     "execution_count": 68,
     "metadata": {},
     "output_type": "execute_result"
    }
   ],
   "source": [
    "summmation(10,12)"
   ]
  },
  {
   "cell_type": "code",
   "execution_count": 69,
   "id": "abaaa519-ebb1-4c12-9b14-e7e697fcff2a",
   "metadata": {},
   "outputs": [
    {
     "data": {
      "text/plain": [
       "22"
      ]
     },
     "execution_count": 69,
     "metadata": {},
     "output_type": "execute_result"
    }
   ],
   "source": [
    "addition(10,12)"
   ]
  },
  {
   "cell_type": "code",
   "execution_count": 70,
   "id": "25621ee0-8a3d-44ed-b6cc-25eeec4aa3d0",
   "metadata": {},
   "outputs": [
    {
     "name": "stdout",
     "output_type": "stream",
     "text": [
      "[11, 12, 13, 14, 15, 16]\n"
     ]
    }
   ],
   "source": [
    "# map\n",
    "\n",
    "l=[1,2,3,4,5,6]\n",
    "\n",
    "# add 100 in every Element of List\n",
    "l10=[]\n",
    "for i in l:\n",
    "    l10.append(i+10)\n",
    "print(l10)"
   ]
  },
  {
   "cell_type": "code",
   "execution_count": 71,
   "id": "5ee7d033-8239-47a0-a241-6888951bd93b",
   "metadata": {},
   "outputs": [],
   "source": [
    "def add10(a):\n",
    "    return a + 10"
   ]
  },
  {
   "cell_type": "code",
   "execution_count": 73,
   "id": "580789fb-b891-4978-8c3c-40106078fe79",
   "metadata": {},
   "outputs": [],
   "source": [
    "added=map(add10,l)"
   ]
  },
  {
   "cell_type": "code",
   "execution_count": 74,
   "id": "76577ca2-f8c5-4b05-8b7e-9d73313f7952",
   "metadata": {},
   "outputs": [
    {
     "data": {
      "text/plain": [
       "[11, 12, 13, 14, 15, 16]"
      ]
     },
     "execution_count": 74,
     "metadata": {},
     "output_type": "execute_result"
    }
   ],
   "source": [
    "list(added)"
   ]
  },
  {
   "cell_type": "code",
   "execution_count": 79,
   "id": "7018c539-09fb-4024-a106-aace2623015b",
   "metadata": {},
   "outputs": [
    {
     "data": {
      "text/plain": [
       "[2, 4, 6, 8, 0]"
      ]
     },
     "execution_count": 79,
     "metadata": {},
     "output_type": "execute_result"
    }
   ],
   "source": [
    "l=[1,2,3,4,5,6,7,8,9,0]\n",
    "[a for a in l if a%2==0]"
   ]
  },
  {
   "cell_type": "code",
   "execution_count": 80,
   "id": "b1b6ccef-92a9-4733-8aa2-6588c3e210a2",
   "metadata": {},
   "outputs": [
    {
     "data": {
      "text/plain": [
       "[2, 4, 6, 8, 0]"
      ]
     },
     "execution_count": 80,
     "metadata": {},
     "output_type": "execute_result"
    }
   ],
   "source": [
    "l=[1,2,3,4,5,6,7,8,9,0]\n",
    "\n",
    "def even(a):\n",
    "    l1=[]\n",
    "    if type(a)==list:\n",
    "        for i in a:\n",
    "            if i%2==0:\n",
    "                l1.append(i)\n",
    "    return l1\n",
    "\n",
    "even(l)"
   ]
  },
  {
   "cell_type": "code",
   "execution_count": 77,
   "id": "63b4c636-3d69-41de-89f1-66964ead34b6",
   "metadata": {},
   "outputs": [
    {
     "data": {
      "text/plain": [
       "[None, 2, None, 4, None, 6, None, 8, None, 0]"
      ]
     },
     "execution_count": 77,
     "metadata": {},
     "output_type": "execute_result"
    }
   ],
   "source": [
    "l=[1,2,3,4,5,6,7,8,9,0]\n",
    "a=lambda a: a if a%2 ==0 else None\n",
    "list(map(a,l))"
   ]
  },
  {
   "cell_type": "code",
   "execution_count": 78,
   "id": "648bec97-deb5-4a73-ae11-100dcf65ec48",
   "metadata": {},
   "outputs": [
    {
     "data": {
      "text/plain": [
       "[2, 4, 6, 8]"
      ]
     },
     "execution_count": 78,
     "metadata": {},
     "output_type": "execute_result"
    }
   ],
   "source": [
    "l=[1,2,3,4,5,6,7,8,9,0]\n",
    "a=lambda a: a if a%2 ==0 else None\n",
    "list(filter(a,l))"
   ]
  },
  {
   "cell_type": "code",
   "execution_count": 81,
   "id": "fda9c47d-2f1c-4ac9-95a3-c5d11c0c9f8f",
   "metadata": {},
   "outputs": [],
   "source": [
    "from functools import reduce"
   ]
  },
  {
   "cell_type": "code",
   "execution_count": 82,
   "id": "e4f7353e-d8bb-4af9-aad2-ec0efefbd406",
   "metadata": {},
   "outputs": [
    {
     "data": {
      "text/plain": [
       "362880"
      ]
     },
     "execution_count": 82,
     "metadata": {},
     "output_type": "execute_result"
    }
   ],
   "source": [
    "l=[1,2,3,4,5,6,7,8,9]\n",
    "reduce(lambda a,b :a*b,l)"
   ]
  },
  {
   "cell_type": "code",
   "execution_count": 83,
   "id": "8181b0a9-1401-4aa5-b735-52e7b5657c98",
   "metadata": {},
   "outputs": [
    {
     "ename": "TypeError",
     "evalue": "<lambda>() missing 1 required positional argument: 'c'",
     "output_type": "error",
     "traceback": [
      "\u001b[0;31m---------------------------------------------------------------------------\u001b[0m",
      "\u001b[0;31mTypeError\u001b[0m                                 Traceback (most recent call last)",
      "Cell \u001b[0;32mIn [83], line 2\u001b[0m\n\u001b[1;32m      1\u001b[0m l\u001b[38;5;241m=\u001b[39m[\u001b[38;5;241m1\u001b[39m,\u001b[38;5;241m2\u001b[39m,\u001b[38;5;241m3\u001b[39m,\u001b[38;5;241m4\u001b[39m,\u001b[38;5;241m5\u001b[39m,\u001b[38;5;241m6\u001b[39m,\u001b[38;5;241m7\u001b[39m,\u001b[38;5;241m8\u001b[39m,\u001b[38;5;241m9\u001b[39m]\n\u001b[0;32m----> 2\u001b[0m \u001b[43mreduce\u001b[49m\u001b[43m(\u001b[49m\u001b[38;5;28;43;01mlambda\u001b[39;49;00m\u001b[43m \u001b[49m\u001b[43ma\u001b[49m\u001b[43m,\u001b[49m\u001b[43mb\u001b[49m\u001b[43m,\u001b[49m\u001b[43mc\u001b[49m\u001b[43m \u001b[49m\u001b[43m:\u001b[49m\u001b[43ma\u001b[49m\u001b[38;5;241;43m*\u001b[39;49m\u001b[43mb\u001b[49m\u001b[38;5;241;43m*\u001b[39;49m\u001b[43mc\u001b[49m\u001b[43m,\u001b[49m\u001b[43ml\u001b[49m\u001b[43m)\u001b[49m\n",
      "\u001b[0;31mTypeError\u001b[0m: <lambda>() missing 1 required positional argument: 'c'"
     ]
    }
   ],
   "source": [
    "l=[1,2,3,4,5,6,7,8,9]\n",
    "reduce(lambda a,b,c :a*b*c,l)"
   ]
  },
  {
   "cell_type": "code",
   "execution_count": 84,
   "id": "dfa9b2dc-ff31-4872-be7b-ac9ce3c5f322",
   "metadata": {},
   "outputs": [
    {
     "data": {
      "text/plain": [
       "1"
      ]
     },
     "execution_count": 84,
     "metadata": {},
     "output_type": "execute_result"
    }
   ],
   "source": [
    "l=[1]\n",
    "reduce(lambda a,b :a*b,l)"
   ]
  },
  {
   "cell_type": "code",
   "execution_count": null,
   "id": "57215166-b3e5-4e24-b5d8-74b0bbebe463",
   "metadata": {},
   "outputs": [],
   "source": []
  }
 ],
 "metadata": {
  "kernelspec": {
   "display_name": "Python 3 (ipykernel)",
   "language": "python",
   "name": "python3"
  },
  "language_info": {
   "codemirror_mode": {
    "name": "ipython",
    "version": 3
   },
   "file_extension": ".py",
   "mimetype": "text/x-python",
   "name": "python",
   "nbconvert_exporter": "python",
   "pygments_lexer": "ipython3",
   "version": "3.10.6"
  }
 },
 "nbformat": 4,
 "nbformat_minor": 5
}
