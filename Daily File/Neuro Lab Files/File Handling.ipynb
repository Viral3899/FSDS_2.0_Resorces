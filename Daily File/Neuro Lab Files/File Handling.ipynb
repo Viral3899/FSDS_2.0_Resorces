{
 "cells": [
  {
   "cell_type": "code",
   "execution_count": 31,
   "id": "9a912716-ebe5-4c4b-9502-7902fdc0d91e",
   "metadata": {},
   "outputs": [],
   "source": [
    "f=open('Ageing.txt')"
   ]
  },
  {
   "cell_type": "code",
   "execution_count": 28,
   "id": "6fbb45c2-420e-4d35-b881-1d1b78ca03ae",
   "metadata": {},
   "outputs": [
    {
     "data": {
      "text/plain": [
       "_io.TextIOWrapper"
      ]
     },
     "execution_count": 28,
     "metadata": {},
     "output_type": "execute_result"
    }
   ],
   "source": [
    "type(f)"
   ]
  },
  {
   "cell_type": "code",
   "execution_count": 29,
   "id": "2d611138-2e5e-47cb-936b-7364021fecf1",
   "metadata": {},
   "outputs": [
    {
     "data": {
      "text/plain": [
       "'Ageing select Inp/off - appli================================\\n-----------------------------------------------------------------------\\n\\nCASE [Ageing Inp/off]\\nWHEN 1 THEN [Total inprinciple Ageing (application)]\\nWHEN 2 THEN [Total offline ageing (application)]\\nWHEN 3 THEN ([Total inprinciple Ageing (application)] \\n+ [Total offline ageing (application)])\\nEND\\n****************************\\n\\nTotal inprinciple Ageing (application)=============\\n-------------------------------------------------------------------------\\nZN([Ageing inprinciple pending(application) (copy)] )\\n+ ZN([Ageing rejection (application) (copy)])\\n + ZN([Ageing Inprinciple (Application) (copy)])\\n\\n\\nTotal offline ageing (application)=========================\\n-------------------------------------------------------------------------------\\nZN([Ageing rejection offline(application)]) \\n+ ZN([Ageing offline pending (application) ]) \\n+ ZN([Ageing offline sanction pending (application)])\\n\\n\\n\\n\\n\\n\\n\\n\\nAgeing inprinciple pending(application) (copy)================\\n--------------------------------------------------------------------------------\\nIF [inprinciple <= end_date (copy)] = [TRUE] AND [proposal_status]=2\\n AND [Inprinciple Tag] = [TRUE]\\nTHEN\\n[application_id]\\nEND\\n\\nAgeing rejection (application) (copy)================\\n------------------------------------------------------------------------\\nIF [inprinciple <= end_date (copy)] = [TRUE] AND \\n [Pending cut off rej date >= end_date  (copy)] = TRUE \\nAND [is_active] = [TRUE] AND [Inprinciple Tag] = [TRUE] AND   \\n[proposal_status] = 4 \\nTHEN [application_id] END\\n\\n\\nAgeing Inprinciple (Application) (copy)=================\\n-------------------------------------------------------------------------\\nIF [inprinciple <= end_date (copy)] = TRUE AND  \\n[Pending cut off date >= end_date (copy)]  AND [is_active] = TRUE AND\\n [Inprinciple Tag] = TRUE\\n AND \\n[proposal_status] in (5,11,13) = TRUE\\n\\nTHEN [application_id] END\\n\\n\\n\\n\\n\\n\\n\\nAgeing rejection offline(application)==================\\n------------------------------------------------------------------------\\nIF [Pending cut off date reject offline >= end_date ] = [TRUE] AND\\n [reject offline <= end_date]= TRUE and [stage_id] = 4  AND status = 6 \\nAND ISNULL([org_id]) = [FALSE]  AND [offline_status] in (4,23)\\nTHEN [application_id] END\\n\\n\\nAgeing offline pending (application)========================\\n--------------------------------------------------------------------------\\nIF [offline <= end_date ] = [TRUE] AND [stage_id]= 4 AND   [status]=6    \\nAND \\nISNULL([org_id]) = [FALSE] and [offline_status] = 1\\nTHEN\\n[application_id]\\nEND\\n\\n\\nAgeing offline sanction pending (application)=========================\\n---------------------------------------------------------------------------\\nIF [Pending cut off date offline sanctioned  >= end_date  ] = [TRUE] and\\n[offline <= end_date ]  = TRUE and [stage_id] = 4 AND [status] = 6 AND  \\nISNULL([org_id]) = [FALSE] AND  [offline_status] IN (5,11,17)\\nTHEN\\n[application_id]\\nEND\\n\\n\\n\\n\\n\\n\\n'"
      ]
     },
     "execution_count": 29,
     "metadata": {},
     "output_type": "execute_result"
    }
   ],
   "source": [
    "f.read()"
   ]
  },
  {
   "cell_type": "code",
   "execution_count": 33,
   "id": "95b98e31-b023-413f-944b-13d4d822015a",
   "metadata": {},
   "outputs": [
    {
     "data": {
      "text/plain": [
       "['-----------------------------------------------------------------------\\n',\n",
       " '\\n',\n",
       " 'CASE [Ageing Inp/off]\\n',\n",
       " 'WHEN 1 THEN [Total inprinciple Ageing (application)]\\n',\n",
       " 'WHEN 2 THEN [Total offline ageing (application)]\\n',\n",
       " 'WHEN 3 THEN ([Total inprinciple Ageing (application)] \\n',\n",
       " '+ [Total offline ageing (application)])\\n',\n",
       " 'END\\n',\n",
       " '****************************\\n',\n",
       " '\\n',\n",
       " 'Total inprinciple Ageing (application)=============\\n',\n",
       " '-------------------------------------------------------------------------\\n',\n",
       " 'ZN([Ageing inprinciple pending(application) (copy)] )\\n',\n",
       " '+ ZN([Ageing rejection (application) (copy)])\\n',\n",
       " ' + ZN([Ageing Inprinciple (Application) (copy)])\\n',\n",
       " '\\n',\n",
       " '\\n',\n",
       " 'Total offline ageing (application)=========================\\n',\n",
       " '-------------------------------------------------------------------------------\\n',\n",
       " 'ZN([Ageing rejection offline(application)]) \\n',\n",
       " '+ ZN([Ageing offline pending (application) ]) \\n',\n",
       " '+ ZN([Ageing offline sanction pending (application)])\\n',\n",
       " '\\n',\n",
       " '\\n',\n",
       " '\\n',\n",
       " '\\n',\n",
       " '\\n',\n",
       " '\\n',\n",
       " '\\n',\n",
       " '\\n',\n",
       " 'Ageing inprinciple pending(application) (copy)================\\n',\n",
       " '--------------------------------------------------------------------------------\\n',\n",
       " 'IF [inprinciple <= end_date (copy)] = [TRUE] AND [proposal_status]=2\\n',\n",
       " ' AND [Inprinciple Tag] = [TRUE]\\n',\n",
       " 'THEN\\n',\n",
       " '[application_id]\\n',\n",
       " 'END\\n',\n",
       " '\\n',\n",
       " 'Ageing rejection (application) (copy)================\\n',\n",
       " '------------------------------------------------------------------------\\n',\n",
       " 'IF [inprinciple <= end_date (copy)] = [TRUE] AND \\n',\n",
       " ' [Pending cut off rej date >= end_date  (copy)] = TRUE \\n',\n",
       " 'AND [is_active] = [TRUE] AND [Inprinciple Tag] = [TRUE] AND   \\n',\n",
       " '[proposal_status] = 4 \\n',\n",
       " 'THEN [application_id] END\\n',\n",
       " '\\n',\n",
       " '\\n',\n",
       " 'Ageing Inprinciple (Application) (copy)=================\\n',\n",
       " '-------------------------------------------------------------------------\\n',\n",
       " 'IF [inprinciple <= end_date (copy)] = TRUE AND  \\n',\n",
       " '[Pending cut off date >= end_date (copy)]  AND [is_active] = TRUE AND\\n',\n",
       " ' [Inprinciple Tag] = TRUE\\n',\n",
       " ' AND \\n',\n",
       " '[proposal_status] in (5,11,13) = TRUE\\n',\n",
       " '\\n',\n",
       " 'THEN [application_id] END\\n',\n",
       " '\\n',\n",
       " '\\n',\n",
       " '\\n',\n",
       " '\\n',\n",
       " '\\n',\n",
       " '\\n',\n",
       " '\\n',\n",
       " 'Ageing rejection offline(application)==================\\n',\n",
       " '------------------------------------------------------------------------\\n',\n",
       " 'IF [Pending cut off date reject offline >= end_date ] = [TRUE] AND\\n',\n",
       " ' [reject offline <= end_date]= TRUE and [stage_id] = 4  AND status = 6 \\n',\n",
       " 'AND ISNULL([org_id]) = [FALSE]  AND [offline_status] in (4,23)\\n',\n",
       " 'THEN [application_id] END\\n',\n",
       " '\\n',\n",
       " '\\n',\n",
       " 'Ageing offline pending (application)========================\\n',\n",
       " '--------------------------------------------------------------------------\\n',\n",
       " 'IF [offline <= end_date ] = [TRUE] AND [stage_id]= 4 AND   [status]=6    \\n',\n",
       " 'AND \\n',\n",
       " 'ISNULL([org_id]) = [FALSE] and [offline_status] = 1\\n',\n",
       " 'THEN\\n',\n",
       " '[application_id]\\n',\n",
       " 'END\\n',\n",
       " '\\n',\n",
       " '\\n',\n",
       " 'Ageing offline sanction pending (application)=========================\\n',\n",
       " '---------------------------------------------------------------------------\\n',\n",
       " 'IF [Pending cut off date offline sanctioned  >= end_date  ] = [TRUE] and\\n',\n",
       " '[offline <= end_date ]  = TRUE and [stage_id] = 4 AND [status] = 6 AND  \\n',\n",
       " 'ISNULL([org_id]) = [FALSE] AND  [offline_status] IN (5,11,17)\\n',\n",
       " 'THEN\\n',\n",
       " '[application_id]\\n',\n",
       " 'END\\n',\n",
       " '\\n',\n",
       " '\\n',\n",
       " '\\n',\n",
       " '\\n',\n",
       " '\\n',\n",
       " '\\n']"
      ]
     },
     "execution_count": 33,
     "metadata": {},
     "output_type": "execute_result"
    }
   ],
   "source": [
    "f.readlines()"
   ]
  },
  {
   "cell_type": "code",
   "execution_count": 34,
   "id": "e4e825bc-fb7e-4755-8ff7-dfa958356c54",
   "metadata": {},
   "outputs": [],
   "source": [
    "try:\n",
    "    f=open('Bugs In Data.txt','r')\n",
    "finally:\n",
    "    f.close()"
   ]
  },
  {
   "cell_type": "code",
   "execution_count": 35,
   "id": "aff538b8-4efd-411d-9b76-d4fb6eb256f5",
   "metadata": {},
   "outputs": [],
   "source": [
    "with open('Assignment_4.docx','r') as f:\n",
    "    pass"
   ]
  },
  {
   "cell_type": "code",
   "execution_count": 36,
   "id": "3dd7a9f4-eaea-4573-af27-3070edc92ce0",
   "metadata": {},
   "outputs": [],
   "source": [
    "f=open('test.txt','w')\n",
    "f.write('This is Added By Write Method')\n",
    "f.close()"
   ]
  },
  {
   "cell_type": "code",
   "execution_count": 47,
   "id": "7bceebea-43c5-4abd-91bc-872980f03f70",
   "metadata": {},
   "outputs": [
    {
     "name": "stdin",
     "output_type": "stream",
     "text": [
      "Enter The First Number :  5\n",
      "Enter The Second Number :  g\n"
     ]
    },
    {
     "name": "stdout",
     "output_type": "stream",
     "text": [
      "This is Under First Except\n",
      "Error Occured Please Solve The (\"invalid literal for int() with base 10: 'g'\",) error\n",
      "error Records Been Saved\n"
     ]
    }
   ],
   "source": [
    "import datetime\n",
    "from datetime import datetime,date\n",
    "try:\n",
    "    a=int(input('Enter The First Number : '))\n",
    "    b=int(input('Enter The Second Number : '))\n",
    "    c=a/b\n",
    "except Exception as e:\n",
    "    print(f'This is Under First Except')\n",
    "    print(f'Error Occured Please Solve The {e.args} error')\n",
    "    try:\n",
    "        with open('Error_code_file.docx','a') as f:\n",
    "            f.write(f'\\n{e.args} Note Down following Erorr at time, {datetime.now()}')\n",
    "            print('error Records Been Saved')\n",
    "    except:\n",
    "        with open('Error_code_file.docx','w') as f:\n",
    "            f.write(f'\\n{e.args} Note Down following Erorr at time, {datetime.now()}')\n",
    "            print('error Records Been Saved')"
   ]
  },
  {
   "cell_type": "code",
   "execution_count": null,
   "id": "c1b4131c-3143-41a9-bd9f-fc2715efb9c9",
   "metadata": {},
   "outputs": [],
   "source": [
    "try:\n",
    "    a=int(input(\"enter the first number\"))\n",
    "    b=int(input(\"enter the second number\"))\n",
    "    c=a/b\n",
    "except ArithmeticError as e:\n",
    "    print(\"there is some isseu with my code\", e)\n",
    "    f=open(\"error5.txt\",'w')\n",
    "    f.write(f\"Your Code Having error of {e}\")\n",
    "    #f.write(str(e))\n",
    "    #f.close()\n",
    "    \n",
    "    f.seek(0)    \n",
    "    print(f.read())\n",
    "    f.close()\n",
    "else:\n",
    "    print(\"this will excecute once try is suceess\")\n",
    "    try:\n",
    "        f= open(\"test3.txt\",'w')\n",
    "        f.write('This is Added in Try Block of Else')\n",
    "        f.close()\n",
    "    except:\n",
    "        print(\"this is and isse with try block\")\n",
    "        \n",
    "    "
   ]
  },
  {
   "cell_type": "code",
   "execution_count": null,
   "id": "773676cc-05f9-43f7-8de5-7d89bb965941",
   "metadata": {},
   "outputs": [],
   "source": []
  }
 ],
 "metadata": {
  "kernelspec": {
   "display_name": "Python 3 (ipykernel)",
   "language": "python",
   "name": "python3"
  },
  "language_info": {
   "codemirror_mode": {
    "name": "ipython",
    "version": 3
   },
   "file_extension": ".py",
   "mimetype": "text/x-python",
   "name": "python",
   "nbconvert_exporter": "python",
   "pygments_lexer": "ipython3",
   "version": "3.10.6"
  }
 },
 "nbformat": 4,
 "nbformat_minor": 5
}
