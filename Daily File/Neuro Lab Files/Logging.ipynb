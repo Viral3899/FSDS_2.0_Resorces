{
 "cells": [
  {
   "cell_type": "code",
   "execution_count": 1,
   "id": "e0b45756-00d6-44dc-9e26-90639182b27e",
   "metadata": {},
   "outputs": [
    {
     "name": "stdout",
     "output_type": "stream",
     "text": [
      "70\n",
      "30\n",
      "1000\n",
      "2.5\n"
     ]
    }
   ],
   "source": [
    "def addition(x,y):\n",
    "    return x+y\n",
    "\n",
    "def substract(x,y):\n",
    "    return x-y\n",
    "\n",
    "def multiply(x,y):\n",
    "    return x*y\n",
    "\n",
    "def divide(x,y):\n",
    "    return x/y\n",
    "\n",
    "n1=50\n",
    "n2=20\n",
    "\n",
    "res_add=addition(n1,n2)\n",
    "print(res_add)\n",
    "res_sub=substract(n1,n2)\n",
    "print(res_sub)\n",
    "res_mul=multiply(n1,n2)\n",
    "print(res_mul)\n",
    "res_div=divide(n1,n2)\n",
    "print(res_div)"
   ]
  },
  {
   "cell_type": "code",
   "execution_count": 2,
   "id": "6fb4e60b-95b6-4efe-a271-7bae9fbdff18",
   "metadata": {},
   "outputs": [],
   "source": [
    "import logging\n",
    "\n",
    "def addition(x,y):\n",
    "    return x+y\n",
    "\n",
    "def substract(x,y):\n",
    "    return x-y\n",
    "\n",
    "def multiply(x,y):\n",
    "    return x*y\n",
    "\n",
    "def divide(x,y):\n",
    "    return x/y\n",
    "\n",
    "n1=50\n",
    "n2=20\n",
    "\n",
    "res_add=addition(n1,n2)\n",
    "logging.debug(res_add)\n",
    "res_sub=substract(n1,n2)\n",
    "logging.debug(res_sub)\n",
    "res_mul=multiply(n1,n2)\n",
    "logging.debug(res_mul)\n",
    "res_div=divide(n1,n2)\n",
    "logging.debug(res_div)"
   ]
  },
  {
   "cell_type": "code",
   "execution_count": 7,
   "id": "871209bb-7157-4172-95c2-89a3f25f1c6d",
   "metadata": {},
   "outputs": [],
   "source": [
    "def namecheck():\n",
    "    name=input('Enter The Name : ')\n",
    "    if len(name)<2:\n",
    "        print('Enter The Name having 2 or More character')\n",
    "        return 'Invalid Name'\n",
    "    elif name.isspace():\n",
    "        print('you Entered Only Space')\n",
    "        return 'Invalid Name'\n",
    "    elif name.isalpha():\n",
    "        print('Your Name is having Alphabets')\n",
    "        return 'Valid Name'\n",
    "    elif name.replace(' ','').isalpha():\n",
    "        print('Your Name is having Alphabets & Space')\n",
    "        return 'Valid Name'\n",
    "    else:\n",
    "        print('Failed to Check all condition')\n",
    "        return 'Try Again You name is Invalid'"
   ]
  },
  {
   "cell_type": "code",
   "execution_count": 8,
   "id": "5f89b873-d6f0-4c82-b22d-125973f0d412",
   "metadata": {},
   "outputs": [
    {
     "name": "stdin",
     "output_type": "stream",
     "text": [
      "Enter The Name :  v l s\n"
     ]
    },
    {
     "name": "stdout",
     "output_type": "stream",
     "text": [
      "Your Name is having Alphabets & Space\n"
     ]
    },
    {
     "data": {
      "text/plain": [
       "'Valid Name'"
      ]
     },
     "execution_count": 8,
     "metadata": {},
     "output_type": "execute_result"
    }
   ],
   "source": [
    "namecheck()"
   ]
  },
  {
   "cell_type": "code",
   "execution_count": 13,
   "id": "5eb7ec6e-55fb-4f95-8799-5776f78a9f38",
   "metadata": {},
   "outputs": [],
   "source": [
    "import logging\n",
    "\n",
    "logging.basicConfig(filename='new.txt',level=logging.DEBUG)\n",
    "    \n",
    "\n",
    "def namecheck():\n",
    "    name=input('Enter The Name : ')\n",
    "    if len(name)<2:\n",
    "        logging.debug('Enter The Name having 2 or More character')\n",
    "        return 'Invalid Name'\n",
    "    elif name.isspace():\n",
    "        logging.debug('you Entered Only Space')\n",
    "        return 'Invalid Name'\n",
    "    elif name.isalpha():\n",
    "        logging.debug('Your Name is having Alphabets')\n",
    "        return 'Valid Name'\n",
    "    elif name.replace(' ','').isalpha():\n",
    "        logging.debug('Your Name is having Alphabets & Space')\n",
    "        return 'Valid Name'\n",
    "    else:\n",
    "        logging.debug('Failed to Check all condition')\n",
    "        return 'Try Again You name is Invalid'"
   ]
  },
  {
   "cell_type": "code",
   "execution_count": 14,
   "id": "ea24e872-b2b6-4536-8cff-b471d9870018",
   "metadata": {},
   "outputs": [
    {
     "name": "stdin",
     "output_type": "stream",
     "text": [
      "Enter The Name :  jgvhsod ogbvsfdo\n"
     ]
    },
    {
     "data": {
      "text/plain": [
       "'Valid Name'"
      ]
     },
     "execution_count": 14,
     "metadata": {},
     "output_type": "execute_result"
    }
   ],
   "source": [
    "\n",
    "namecheck()"
   ]
  },
  {
   "cell_type": "code",
   "execution_count": null,
   "id": "eb669a80-0bd2-4707-b55f-db6a10b49036",
   "metadata": {},
   "outputs": [],
   "source": []
  }
 ],
 "metadata": {
  "kernelspec": {
   "display_name": "Python 3 (ipykernel)",
   "language": "python",
   "name": "python3"
  },
  "language_info": {
   "codemirror_mode": {
    "name": "ipython",
    "version": 3
   },
   "file_extension": ".py",
   "mimetype": "text/x-python",
   "name": "python",
   "nbconvert_exporter": "python",
   "pygments_lexer": "ipython3",
   "version": "3.10.6"
  }
 },
 "nbformat": 4,
 "nbformat_minor": 5
}
