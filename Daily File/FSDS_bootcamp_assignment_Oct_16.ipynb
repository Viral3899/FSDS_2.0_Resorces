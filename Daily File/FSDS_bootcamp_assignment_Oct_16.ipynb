{
 "cells": [
  {
   "cell_type": "markdown",
   "id": "228d5820",
   "metadata": {},
   "source": [
    "## Assignment\n",
    "\n",
    "1. On amazon website we have the following available items - \n",
    "\n",
    "```python\n",
    "amazon_website = [(\"watch\", 5000), (\"phone\", 10000), (\"laptop\", 50000), (\"shirt\", 1000)]\n",
    "```\n",
    "Take the user input N no. of times and find out the total cost to be paid?\n",
    "\n",
    "OR\n",
    "\n",
    "You can ask the user quntity or the count of item?\n",
    "\n",
    "if the item is not present in the amazon website then print that item as out of stock and do add it total\n",
    "\n",
    "\n",
    "HINT: while, for loop.. indexing"
   ]
  },
  {
   "cell_type": "code",
   "execution_count": 1,
   "id": "0df4a736",
   "metadata": {},
   "outputs": [
    {
     "name": "stdout",
     "output_type": "stream",
     "text": [
      "Enter The Item Name : you want to buy watch\n",
      "Enter The Quantity You qwant to buy : 6\n",
      "Total Cost: 30000\n"
     ]
    }
   ],
   "source": [
    "amazon_website = [(\"watch\", 5000), (\"phone\", 10000), (\"laptop\", 50000), (\"shirt\", 1000)]\n",
    "\n",
    "item_name=input(\"Enter The Item Name : you want to buy \")\n",
    "n=int(input(\"Enter The Quantity You qwant to buy : \"))\n",
    "\n",
    "total=0\n",
    "if item_name.lower() not in (amazon_website[0][0],amazon_website[1][0],amazon_website[2][0],amazon_website[3][0]):\n",
    "    print(\"Item is not Avilable\")\n",
    "else:\n",
    "    for i in range(1,n+1):\n",
    "        if item_name==amazon_website[0][0]:\n",
    "            total=total+amazon_website[0][1]\n",
    "            \n",
    "        elif item_name==amazon_website[1][0]:\n",
    "            total=total+amazon_website[1][1]\n",
    "            \n",
    "        elif item_name==amazon_website[2][0]:\n",
    "            total=total+amazon_website[2][1]\n",
    "                                       \n",
    "        elif item_name==amazon_website[3][0]:\n",
    "            total=total+amazon_website[3][1]\n",
    "   \n",
    "        \n",
    "print(f\"Total Cost: {total}\")"
   ]
  },
  {
   "cell_type": "code",
   "execution_count": null,
   "id": "03c3b889",
   "metadata": {},
   "outputs": [],
   "source": []
  }
 ],
 "metadata": {
  "kernelspec": {
   "display_name": "Python 3 (ipykernel)",
   "language": "python",
   "name": "python3"
  },
  "language_info": {
   "codemirror_mode": {
    "name": "ipython",
    "version": 3
   },
   "file_extension": ".py",
   "mimetype": "text/x-python",
   "name": "python",
   "nbconvert_exporter": "python",
   "pygments_lexer": "ipython3",
   "version": "3.9.12"
  }
 },
 "nbformat": 4,
 "nbformat_minor": 5
}
