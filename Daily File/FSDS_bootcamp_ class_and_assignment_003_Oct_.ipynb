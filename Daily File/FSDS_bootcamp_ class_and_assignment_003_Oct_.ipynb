{
 "cells": [
  {
   "cell_type": "code",
   "execution_count": 1,
   "id": "2a79b3cf-82ad-4d9d-8c4c-d465388adce4",
   "metadata": {},
   "outputs": [
    {
     "ename": "SyntaxError",
     "evalue": "incomplete input (3361118500.py, line 3)",
     "output_type": "error",
     "traceback": [
      "\u001b[0;36m  Cell \u001b[0;32mIn [1], line 3\u001b[0;36m\u001b[0m\n\u001b[0;31m    \u001b[0m\n\u001b[0m    ^\u001b[0m\n\u001b[0;31mSyntaxError\u001b[0m\u001b[0;31m:\u001b[0m incomplete input\n"
     ]
    }
   ],
   "source": [
    "def test():\n",
    "    \n",
    "    "
   ]
  },
  {
   "cell_type": "code",
   "execution_count": 2,
   "id": "0d232626-fdc8-4900-9e53-1667690d3755",
   "metadata": {},
   "outputs": [],
   "source": [
    "def test1():\n",
    "    pass"
   ]
  },
  {
   "cell_type": "code",
   "execution_count": 3,
   "id": "f80c29fb-69df-4539-a310-21d97b92e120",
   "metadata": {},
   "outputs": [],
   "source": [
    "def test2():\n",
    "    print(\"Hello First Function\")"
   ]
  },
  {
   "cell_type": "code",
   "execution_count": 4,
   "id": "bc36293d-4b43-43a0-8b10-b47a85413348",
   "metadata": {},
   "outputs": [
    {
     "name": "stdout",
     "output_type": "stream",
     "text": [
      "Hello First Function\n"
     ]
    }
   ],
   "source": [
    "test2()"
   ]
  },
  {
   "cell_type": "code",
   "execution_count": 5,
   "id": "a3387106-7882-4f17-bb22-2b83cc0570b1",
   "metadata": {},
   "outputs": [
    {
     "name": "stdout",
     "output_type": "stream",
     "text": [
      "Hello First Function\n"
     ]
    }
   ],
   "source": [
    "a=test2()"
   ]
  },
  {
   "cell_type": "code",
   "execution_count": 6,
   "id": "83a96e2e-9f6e-4ca7-9ffe-84409c40204b",
   "metadata": {},
   "outputs": [
    {
     "name": "stdout",
     "output_type": "stream",
     "text": [
      "None\n"
     ]
    }
   ],
   "source": [
    "print(a)"
   ]
  },
  {
   "cell_type": "code",
   "execution_count": 7,
   "id": "20739431-a137-4438-943e-030e663c92bb",
   "metadata": {},
   "outputs": [],
   "source": [
    "def test3():\n",
    "    return \"Hello second Function\""
   ]
  },
  {
   "cell_type": "code",
   "execution_count": 8,
   "id": "f0a78af5-c7a4-4ff5-af49-389785d97184",
   "metadata": {},
   "outputs": [],
   "source": [
    "b=test3()"
   ]
  },
  {
   "cell_type": "code",
   "execution_count": 9,
   "id": "91dee7a5-e802-4e83-b388-745a41afa440",
   "metadata": {},
   "outputs": [
    {
     "name": "stdout",
     "output_type": "stream",
     "text": [
      "Hello second Function\n"
     ]
    }
   ],
   "source": [
    "print(b)"
   ]
  },
  {
   "cell_type": "code",
   "execution_count": 10,
   "id": "8638b0de-94c7-4533-97a9-2ed4555b6039",
   "metadata": {},
   "outputs": [
    {
     "name": "stdout",
     "output_type": "stream",
     "text": [
      "45\n"
     ]
    }
   ],
   "source": [
    "l=[1,2,3,4,5,6,7,8,9]\n",
    "\n",
    "a=0\n",
    "for i in l:\n",
    "    a=i+a\n",
    "print(a)"
   ]
  },
  {
   "cell_type": "code",
   "execution_count": 11,
   "id": "a8d46cf8-626e-477c-921a-a3a35e26cc29",
   "metadata": {},
   "outputs": [],
   "source": [
    "def testsum():\n",
    "    l=[1,2,3,4,5,6,7,8,9]\n",
    "\n",
    "    a=0\n",
    "    for i in l:\n",
    "        a=i+a\n",
    "    return(a)"
   ]
  },
  {
   "cell_type": "code",
   "execution_count": 12,
   "id": "7894c365-f43e-46e6-a515-c2b00f138dd0",
   "metadata": {},
   "outputs": [
    {
     "data": {
      "text/plain": [
       "45"
      ]
     },
     "execution_count": 12,
     "metadata": {},
     "output_type": "execute_result"
    }
   ],
   "source": [
    "sumdef=testsum()\n",
    "sumdef"
   ]
  },
  {
   "cell_type": "code",
   "execution_count": 13,
   "id": "f1cabce0-59a3-4fc6-a805-fdff98c6498a",
   "metadata": {},
   "outputs": [],
   "source": [
    "def testsum2():\n",
    "    l=[1,2,3,4,5,6,7,8,9,\"viral\"]\n",
    "\n",
    "    a=0\n",
    "    for i in l:\n",
    "        if type(i)==int:       #------------->>>>>type checking\n",
    "            a=i+a\n",
    "    return(a)"
   ]
  },
  {
   "cell_type": "code",
   "execution_count": 14,
   "id": "4bac2511-d27a-48a3-bfb6-1b1e39d94949",
   "metadata": {},
   "outputs": [
    {
     "data": {
      "text/plain": [
       "45"
      ]
     },
     "execution_count": 14,
     "metadata": {},
     "output_type": "execute_result"
    }
   ],
   "source": [
    "sumdef2=testsum2()\n",
    "sumdef2"
   ]
  },
  {
   "cell_type": "code",
   "execution_count": 15,
   "id": "e59943d8-e200-422d-88d1-4c461b0d5eef",
   "metadata": {},
   "outputs": [],
   "source": [
    "l1=[3,4,5,6,4,10,7,8,9,\"viral\",2.6]"
   ]
  },
  {
   "cell_type": "code",
   "execution_count": 16,
   "id": "9b234da8-43b9-4e9f-90ab-1e1f078c62b7",
   "metadata": {},
   "outputs": [],
   "source": [
    "def testsum3(l):\n",
    "    a=0\n",
    "    for i in l:\n",
    "        if type(i)in (int,float):       #------------->>>>>type checking\n",
    "            a=i+a\n",
    "    return(a)\n"
   ]
  },
  {
   "cell_type": "code",
   "execution_count": 17,
   "id": "50faab22-3417-4702-a9ed-61f1eb2be2bf",
   "metadata": {},
   "outputs": [
    {
     "data": {
      "text/plain": [
       "58.6"
      ]
     },
     "execution_count": 17,
     "metadata": {},
     "output_type": "execute_result"
    }
   ],
   "source": [
    "testsum3(l1)"
   ]
  },
  {
   "cell_type": "code",
   "execution_count": null,
   "id": "fb2e507f-4fd0-422d-af87-58b60b45a3a3",
   "metadata": {},
   "outputs": [],
   "source": []
  },
  {
   "cell_type": "code",
   "execution_count": 18,
   "id": "5c500650-e5b2-4024-8731-466b59a35db9",
   "metadata": {},
   "outputs": [],
   "source": [
    "def addition(a,b):\n",
    "    '''\n",
    "    Make addtion of Two Numbers\n",
    "    '''\n",
    "    return a+b"
   ]
  },
  {
   "cell_type": "code",
   "execution_count": 19,
   "id": "5625e941-df68-41c4-b1a3-c54e12ed3bd4",
   "metadata": {},
   "outputs": [
    {
     "data": {
      "text/plain": [
       "11"
      ]
     },
     "execution_count": 19,
     "metadata": {},
     "output_type": "execute_result"
    }
   ],
   "source": [
    "addition(5,6)"
   ]
  },
  {
   "cell_type": "markdown",
   "id": "01a0f299-c0cf-47c3-a122-1b923100a324",
   "metadata": {},
   "source": [
    "<center><h2>Q & A</h2></center>"
   ]
  },
  {
   "cell_type": "code",
   "execution_count": 20,
   "id": "0b059730-20f2-4171-881b-7239a56a924c",
   "metadata": {},
   "outputs": [],
   "source": [
    "# 1. write a function which will try to find out len of a string without using an inbuilt len function \n",
    "def length(string):\n",
    "    length=0\n",
    "    for i in string:\n",
    "        length=length + 1\n",
    "    return length"
   ]
  },
  {
   "cell_type": "code",
   "execution_count": 21,
   "id": "dd03b18e-302c-4729-9ff5-a2961ba76550",
   "metadata": {},
   "outputs": [
    {
     "data": {
      "text/plain": [
       "5"
      ]
     },
     "execution_count": 21,
     "metadata": {},
     "output_type": "execute_result"
    }
   ],
   "source": [
    "length(\"viral\")"
   ]
  },
  {
   "cell_type": "code",
   "execution_count": 22,
   "id": "9e619dd2-54bd-4024-b149-f8ce829c3975",
   "metadata": {},
   "outputs": [],
   "source": [
    "#2. write a function which  will be able to print an index of list element without using an index function\n",
    "\n",
    "def index_viewer(l):\n",
    "    index=0\n",
    "    for i in l:\n",
    "        print(f\"index of---> {i} is --> {index}\")\n",
    "        index=index+1"
   ]
  },
  {
   "cell_type": "code",
   "execution_count": 23,
   "id": "26be7bf6-9d30-4d96-bf48-2c7996caae7d",
   "metadata": {},
   "outputs": [
    {
     "name": "stdout",
     "output_type": "stream",
     "text": [
      "index of---> 1 is --> 0\n",
      "index of---> full is --> 1\n",
      "index of---> 6 is --> 2\n",
      "index of---> view is --> 3\n"
     ]
    }
   ],
   "source": [
    "index_viewer([1,'full',6,'view'])"
   ]
  },
  {
   "cell_type": "code",
   "execution_count": 24,
   "id": "28408b80-d3ae-4f9e-8d1d-505e77492cb0",
   "metadata": {},
   "outputs": [],
   "source": [
    "# 3. write a function which will be able to print an ip address of your system\n",
    "import socket\n",
    "def get_ipadress():\n",
    "    nameofhost = socket.gethostname()\n",
    "    IP= socket.gethostbyname(nameofhost)\n",
    "\n",
    "    print(f\"Your Computer Name is:----> {nameofhost}\")\n",
    "    print(f\"Your Current IP Address is: ------> {IP}\")"
   ]
  },
  {
   "cell_type": "code",
   "execution_count": 25,
   "id": "c7e7817c-0f72-4bf6-985c-3809880247bf",
   "metadata": {},
   "outputs": [
    {
     "name": "stdout",
     "output_type": "stream",
     "text": [
      "Your Computer Name is:----> 0a6084b4277a\n",
      "Your Current IP Address is: ------> 172.18.0.13\n"
     ]
    }
   ],
   "source": [
    "get_ipadress()"
   ]
  },
  {
   "cell_type": "code",
   "execution_count": 26,
   "id": "95e9e9dd-5199-4639-a4a1-d77733c1fe38",
   "metadata": {},
   "outputs": [],
   "source": [
    "# 4. write a function which will shutdown your system\n",
    "# it Only works in Local Environment\n",
    "import os\n",
    "\n",
    "def shut_down():\n",
    "    print(\"\"\"\n",
    "             enter your choice shutdown-->1\n",
    "             enter your choice Restart -->2\n",
    "             enter your choice Logout  -->3\"\"\")\n",
    "    num=int(input('Enter your Choice : '))\n",
    "    \n",
    "    if num==1:\n",
    "        return os.system(\"shutdown /s /t 1\")\n",
    "    elif num==2:\n",
    "        return os.system(\"shutdown /r /t 1\")\n",
    "    elif num==3:\n",
    "        return os.system(\"shutdown -l\")\n",
    "    else:\n",
    "        return \"You didnt Enter from Choice\""
   ]
  },
  {
   "cell_type": "code",
   "execution_count": 28,
   "id": "554a7bf8-cdd6-48a3-91ef-8b582e7a2031",
   "metadata": {},
   "outputs": [
    {
     "name": "stdout",
     "output_type": "stream",
     "text": [
      "\n",
      "             enter your choice shutdown-->1\n",
      "             enter your choice Restart -->2\n",
      "             enter your choice Logout  -->3\n"
     ]
    },
    {
     "name": "stdin",
     "output_type": "stream",
     "text": [
      "Enter your Choice :  1\n"
     ]
    },
    {
     "name": "stderr",
     "output_type": "stream",
     "text": [
      "sh: 1: shutdown: not found\n"
     ]
    },
    {
     "data": {
      "text/plain": [
       "32512"
      ]
     },
     "execution_count": 28,
     "metadata": {},
     "output_type": "execute_result"
    }
   ],
   "source": [
    "shut_down()"
   ]
  },
  {
   "cell_type": "code",
   "execution_count": 29,
   "id": "d02e393f-47af-4571-af21-12a334740c1a",
   "metadata": {},
   "outputs": [
    {
     "name": "stdout",
     "output_type": "stream",
     "text": [
      "459.19999999999993\n"
     ]
    }
   ],
   "source": [
    "# 5. write a function which will take input as a list with any kind of numeric value and give an out as a multiplication of \n",
    "#  all the numeric data\n",
    "l = [3.5, 6.56, 4,5,\"sudh\" , \"ineuron\" , 'fsda bootcamp 2.0']\n",
    "# def mul_of_list(ls):\n",
    "mul=1\n",
    "for i in l:\n",
    "    if type(i) != (str):\n",
    "        mul=mul*i\n",
    "print(mul)"
   ]
  },
  {
   "cell_type": "code",
   "execution_count": 12,
   "id": "e417c0ba-3ea3-42a1-9b3f-65f14debd3c5",
   "metadata": {},
   "outputs": [],
   "source": [
    "# 7. write a function which will be able to send a mail to anyone \n",
    "import smtplib,ssl\n",
    "def send_Mail():\n",
    "    mail_group=input(\"enter your mail-group like gamil/yahoo/outlook : \")\n",
    "    \n",
    "    \n",
    "    smtp_server=f\"smtp.{mail_group}.com\"\n",
    "    print(smtp_server)\n",
    "    sender_mail_id=input('Enter your email-id : ')\n",
    "    password_mail_id=input(\"enter you mail's Password : \")\n",
    "    reciver_mail_id=input('Enter reciever email-id : ')\n",
    "    message=input('enter you message : ')\n",
    "    \n",
    "    \n",
    "    context=ssl.create_default_context()\n",
    "    with smtplib.SMTP_SSL(smtp_server,port,context=context) as server:\n",
    "        server.login(sender_mail_id,password_mail_id)\n",
    "        server.sendmail(sender_mail_id,reciver_mail_id,message)"
   ]
  },
  {
   "cell_type": "code",
   "execution_count": 13,
   "id": "b9ca0a87-da92-466b-8b35-16357684392f",
   "metadata": {},
   "outputs": [
    {
     "name": "stdin",
     "output_type": "stream",
     "text": [
      "enter your mail-group like gamil/yahoo/outlook :  gmail\n"
     ]
    },
    {
     "name": "stdout",
     "output_type": "stream",
     "text": [
      "smtp.gmail.com\n"
     ]
    },
    {
     "name": "stdin",
     "output_type": "stream",
     "text": [
      "Enter your email-id :  viralsherathiya1008@gmail.com\n",
      "enter you mail's Password :  Lariv@321\n",
      "Enter reciever email-id :  patelhiten015@gmail.com\n",
      "enter you message :  Hello H r u\n"
     ]
    },
    {
     "ename": "NameError",
     "evalue": "name 'port' is not defined",
     "output_type": "error",
     "traceback": [
      "\u001b[0;31m---------------------------------------------------------------------------\u001b[0m",
      "\u001b[0;31mNameError\u001b[0m                                 Traceback (most recent call last)",
      "Cell \u001b[0;32mIn [13], line 1\u001b[0m\n\u001b[0;32m----> 1\u001b[0m \u001b[43msend_Mail\u001b[49m\u001b[43m(\u001b[49m\u001b[43m)\u001b[49m\n",
      "Cell \u001b[0;32mIn [12], line 16\u001b[0m, in \u001b[0;36msend_Mail\u001b[0;34m()\u001b[0m\n\u001b[1;32m     12\u001b[0m message\u001b[38;5;241m=\u001b[39m\u001b[38;5;28minput\u001b[39m(\u001b[38;5;124m'\u001b[39m\u001b[38;5;124menter you message : \u001b[39m\u001b[38;5;124m'\u001b[39m)\n\u001b[1;32m     15\u001b[0m context\u001b[38;5;241m=\u001b[39mssl\u001b[38;5;241m.\u001b[39mcreate_default_context()\n\u001b[0;32m---> 16\u001b[0m \u001b[38;5;28;01mwith\u001b[39;00m smtplib\u001b[38;5;241m.\u001b[39mSMTP_SSL(smtp_server,\u001b[43mport\u001b[49m,context\u001b[38;5;241m=\u001b[39mcontext) \u001b[38;5;28;01mas\u001b[39;00m server:\n\u001b[1;32m     17\u001b[0m     server\u001b[38;5;241m.\u001b[39mlogin(sender_mail_id,password_mail_id)\n\u001b[1;32m     18\u001b[0m     server\u001b[38;5;241m.\u001b[39msendmail(sender_mail_id,reciver_mail_id,message)\n",
      "\u001b[0;31mNameError\u001b[0m: name 'port' is not defined"
     ]
    }
   ],
   "source": [
    "send_Mail()"
   ]
  },
  {
   "cell_type": "code",
   "execution_count": 14,
   "id": "4697738b-a96a-493a-9bab-24296beb5246",
   "metadata": {},
   "outputs": [
    {
     "name": "stdout",
     "output_type": "stream",
     "text": [
      "From : Google <no-reply@accounts.google.com>\n",
      "\n",
      "Subject : Security alert\n",
      "\n",
      "From : query ineuron <query@ineuron.ai>\n",
      "\n",
      "Subject : Re: FSDS_bootcamp_assignment__Oct_16\n",
      "\n",
      "From : \"hirist.com\" <info@hirist.com>\n",
      "\n",
      "Subject : Top Matching Jobs from Leading IT/Tech Companies\n",
      "\n",
      "From : Naukri Alerts <naukrimyalerts@naukri.com>\n",
      "\n",
      "Subject : New job - Data Science -Ai-Ml Trainer | More jobs matching your Custom Job Alert - Data Scientist\n",
      "\n",
      "From : \"Facebook\" <groupupdates@facebookmail.com>\n",
      "\n",
      "Subject : Ghanashyam Gor posted in DREAM\n",
      "\n",
      "From : \"Facebook\" <groupupdates@facebookmail.com>\n",
      "\n",
      "Subject : Ghanashyam Gor posted in DREAM\n",
      "\n",
      "From : \"Facebook\" <groupupdates@facebookmail.com>\n",
      "\n",
      "Subject : =?UTF-8?B?R2hhbmFzaHlhbSBHb3Ig?=\n",
      " =?UTF-8?B?cG9zdGVkIGluIOCqnOCqryDgqpzgqq8=?=\n",
      " =?UTF-8?B?IOCql+CqsOCqteCrgCDgqpfgq4HgqpzgqrDgqr7gqqQ=?=\n",
      "\n",
      "From : \"ICICI Bank\" <services@custcomm.icicibank.com>\n",
      "\n",
      "Subject : Time to go virtual\n",
      "\n",
      "From : \"hirist.com\" <info@hirist.com>\n",
      "\n",
      "Subject : Don't miss interesting opportunities based on your profile\n",
      "\n",
      "From : \"Facebook\" <groupupdates@facebookmail.com>\n",
      "\n",
      "Subject : =?UTF-8?B?R2hhbmFzaHlhbSBHb3Ig?=\n",
      " =?UTF-8?B?cG9zdGVkIGluIOCqnOCqryDgqpzgqq8=?=\n",
      " =?UTF-8?B?IOCql+CqsOCqteCrgCDgqpfgq4HgqpzgqrDgqr7gqqQ=?=\n",
      "\n",
      "From : \"Talent.com\" <no-reply@talent.com>\n",
      "\n",
      "Subject : 39 Data Analyst Roles to Fill ASAP! Apply Today\n",
      "\n",
      "From : Discord <noreply@discord.com>\n",
      "\n",
      "Subject : Verify Discord Login from New Location\n",
      "\n",
      "From : Discord <noreply@discord.com>\n",
      "\n",
      "Subject : Discord Password Changed\n",
      "\n",
      "From : Discord <noreply@discord.com>\n",
      "\n",
      "Subject : Password Reset Request for Discord\n",
      "\n",
      "From : Mail Delivery Subsystem <mailer-daemon@googlemail.com>\n",
      "\n",
      "Subject : Delivery Status Notification (Failure)\n",
      "\n",
      "From : 365 Data Science <appsupport@365datascience.com>\n",
      "\n",
      "Subject : Your Daily Goal Reminder - Start making progress today.\n",
      "\n",
      "From : LinkedIn Job Alerts <jobalerts-noreply@linkedin.com>\n",
      "\n",
      "Subject : =?UTF-8?Q?2_new_jobs_for_=E2=80=9CMachine_Learning_Intern=E2=80=9D?=\n",
      "\n",
      "From : LinkedIn Job Alerts <jobalerts-noreply@linkedin.com>\n",
      "\n",
      "Subject : =?UTF-8?Q?26_new_jobs_for_=E2=80=9CData_Scientist=E2=80=9D?=\n",
      "\n",
      "From : LinkedIn Job Alerts <jobalerts-noreply@linkedin.com>\n",
      "\n",
      "Subject : =?UTF-8?Q?30+_new_jobs_for_=E2=80=9CData_Analyst=E2=80=9D?=\n",
      "\n"
     ]
    },
    {
     "ename": "NameError",
     "evalue": "name 'traceback' is not defined",
     "output_type": "error",
     "traceback": [
      "\u001b[0;31m---------------------------------------------------------------------------\u001b[0m",
      "\u001b[0;31mUnicodeDecodeError\u001b[0m                        Traceback (most recent call last)",
      "Cell \u001b[0;32mIn [14], line 29\u001b[0m, in \u001b[0;36mread_email_from_gmail\u001b[0;34m()\u001b[0m\n\u001b[1;32m     28\u001b[0m \u001b[38;5;28;01mif\u001b[39;00m \u001b[38;5;28misinstance\u001b[39m(arr, \u001b[38;5;28mtuple\u001b[39m):\n\u001b[0;32m---> 29\u001b[0m     msg \u001b[38;5;241m=\u001b[39m email\u001b[38;5;241m.\u001b[39mmessage_from_string(\u001b[38;5;28;43mstr\u001b[39;49m\u001b[43m(\u001b[49m\u001b[43marr\u001b[49m\u001b[43m[\u001b[49m\u001b[38;5;241;43m1\u001b[39;49m\u001b[43m]\u001b[49m\u001b[43m,\u001b[49m\u001b[38;5;124;43m'\u001b[39;49m\u001b[38;5;124;43mutf-8\u001b[39;49m\u001b[38;5;124;43m'\u001b[39;49m\u001b[43m)\u001b[49m)\n\u001b[1;32m     30\u001b[0m     email_subject \u001b[38;5;241m=\u001b[39m msg[\u001b[38;5;124m'\u001b[39m\u001b[38;5;124msubject\u001b[39m\u001b[38;5;124m'\u001b[39m]\n",
      "\u001b[0;31mUnicodeDecodeError\u001b[0m: 'utf-8' codec can't decode byte 0xff in position 5075: invalid start byte",
      "\nDuring handling of the above exception, another exception occurred:\n",
      "\u001b[0;31mNameError\u001b[0m                                 Traceback (most recent call last)",
      "Cell \u001b[0;32mIn [14], line 39\u001b[0m\n\u001b[1;32m     36\u001b[0m         traceback\u001b[38;5;241m.\u001b[39mprint_exc() \n\u001b[1;32m     37\u001b[0m         \u001b[38;5;28mprint\u001b[39m(\u001b[38;5;28mstr\u001b[39m(e))\n\u001b[0;32m---> 39\u001b[0m \u001b[43mread_email_from_gmail\u001b[49m\u001b[43m(\u001b[49m\u001b[43m)\u001b[49m\n",
      "Cell \u001b[0;32mIn [14], line 36\u001b[0m, in \u001b[0;36mread_email_from_gmail\u001b[0;34m()\u001b[0m\n\u001b[1;32m     33\u001b[0m                 \u001b[38;5;28mprint\u001b[39m(\u001b[38;5;124m'\u001b[39m\u001b[38;5;124mSubject : \u001b[39m\u001b[38;5;124m'\u001b[39m \u001b[38;5;241m+\u001b[39m email_subject \u001b[38;5;241m+\u001b[39m \u001b[38;5;124m'\u001b[39m\u001b[38;5;130;01m\\n\u001b[39;00m\u001b[38;5;124m'\u001b[39m)\n\u001b[1;32m     35\u001b[0m \u001b[38;5;28;01mexcept\u001b[39;00m \u001b[38;5;167;01mException\u001b[39;00m \u001b[38;5;28;01mas\u001b[39;00m e:\n\u001b[0;32m---> 36\u001b[0m     \u001b[43mtraceback\u001b[49m\u001b[38;5;241m.\u001b[39mprint_exc() \n\u001b[1;32m     37\u001b[0m     \u001b[38;5;28mprint\u001b[39m(\u001b[38;5;28mstr\u001b[39m(e))\n",
      "\u001b[0;31mNameError\u001b[0m: name 'traceback' is not defined"
     ]
    }
   ],
   "source": [
    "import smtplib\n",
    "import time\n",
    "import imaplib\n",
    "import email\n",
    "ORG_EMAIL = \"@gmail.com\" \n",
    "FROM_EMAIL = 'viralsherathiya1008@gmail.com'\n",
    "FROM_PWD = 'yprnvzrgybibggjk'\n",
    "SMTP_SERVER = \"imap.gmail.com\" \n",
    "SMTP_PORT = 993\n",
    "imaplib._MAXLINE = 400000000\n",
    "\n",
    "def read_email_from_gmail():\n",
    "    try:\n",
    "        mail = imaplib.IMAP4_SSL(SMTP_SERVER)\n",
    "        mail.login(FROM_EMAIL,FROM_PWD)\n",
    "        mail.select('inbox')\n",
    "\n",
    "        data = mail.search(None, 'ALL')\n",
    "        mail_ids = data[1]\n",
    "        id_list = mail_ids[0].split()   \n",
    "        first_email_id = int(id_list[0])\n",
    "        latest_email_id = int(id_list[-1])\n",
    "\n",
    "        for i in range(latest_email_id,first_email_id, -1):\n",
    "            data = mail.fetch(str(i), '(RFC822)' )\n",
    "            for response_part in data:\n",
    "                arr = response_part[0]\n",
    "                if isinstance(arr, tuple):\n",
    "                    msg = email.message_from_string(str(arr[1],'utf-8'))\n",
    "                    email_subject = msg['subject']\n",
    "                    email_from = msg['from']\n",
    "                    print('From : ' + email_from + '\\n')\n",
    "                    print('Subject : ' + email_subject + '\\n')\n",
    "\n",
    "    except Exception as e:\n",
    "        traceback.print_exc() \n",
    "        print(str(e))\n",
    "\n",
    "read_email_from_gmail()"
   ]
  },
  {
   "cell_type": "code",
   "execution_count": null,
   "id": "0cfe74a6-c0bf-4c78-88b7-27c437146bc3",
   "metadata": {},
   "outputs": [],
   "source": []
  },
  {
   "cell_type": "code",
   "execution_count": null,
   "id": "f22785ae-cf8d-4c50-9d32-fa3d8410e3ef",
   "metadata": {},
   "outputs": [],
   "source": []
  },
  {
   "cell_type": "code",
   "execution_count": 23,
   "id": "235bcd17-4ad5-4719-bf84-708a64753a06",
   "metadata": {},
   "outputs": [
    {
     "name": "stdin",
     "output_type": "stream",
     "text": [
      "Enter the Path of File :  /home/jovyan/work/Assignment_4.docx\n"
     ]
    },
    {
     "name": "stdout",
     "output_type": "stream",
     "text": [
      "/home/jovyan/work/Assignment_4.docx\n",
      "1. What exactly is []?\n",
      "\n",
      ">>>>>>>>>>>>>>>>>>>>>>>>>>>>>>>>>>>>>-.-.-.-.-.-.-.-.-.-.-.-.-.-.-.-.-.-.-.-.-.-.-.-.-.-.-.-.-<<<<<<<<<<<<<<<<<<<<<\n",
      "\n",
      "2. In a list of values stored in a variable called spam, how would you assign the value 'hello' as the third value? (Assume [2, 4, 6, 8, 10] are in spam.)\n",
      "\n",
      ">>>>>>>>>>>>>>>>>>>>>>>>>>>>>>>>>>>>>-.-.-.-.-.-.-.-.-.-.-.-.-.-.-.-.-.-.-.-.-.-.-.-.-.-.-.-.-<<<<<<<<<<<<<<<<<<<<<\n",
      "\n",
      "Let's pretend the spam includes the list ['a', 'b', 'c', 'd'] for the next three queries.\n",
      "\n",
      ">>>>>>>>>>>>>>>>>>>>>>>>>>>>>>>>>>>>>-.-.-.-.-.-.-.-.-.-.-.-.-.-.-.-.-.-.-.-.-.-.-.-.-.-.-.-.-<<<<<<<<<<<<<<<<<<<<<\n",
      "\n",
      "3. What is the value of spam[int(int('3' * 2) / 11)]?\n",
      "\n",
      ">>>>>>>>>>>>>>>>>>>>>>>>>>>>>>>>>>>>>-.-.-.-.-.-.-.-.-.-.-.-.-.-.-.-.-.-.-.-.-.-.-.-.-.-.-.-.-<<<<<<<<<<<<<<<<<<<<<\n",
      "\n",
      "4. What is the value of spam[-1]?\n",
      "\n",
      ">>>>>>>>>>>>>>>>>>>>>>>>>>>>>>>>>>>>>-.-.-.-.-.-.-.-.-.-.-.-.-.-.-.-.-.-.-.-.-.-.-.-.-.-.-.-.-<<<<<<<<<<<<<<<<<<<<<\n",
      "\n",
      "5. What is the value of spam[:2]?\n",
      "\n",
      ">>>>>>>>>>>>>>>>>>>>>>>>>>>>>>>>>>>>>-.-.-.-.-.-.-.-.-.-.-.-.-.-.-.-.-.-.-.-.-.-.-.-.-.-.-.-.-<<<<<<<<<<<<<<<<<<<<<\n",
      "\n",
      "Let's pretend bacon has the list [3.14, 'cat,' 11, 'cat,' True] for the next three questions.\n",
      "\n",
      ">>>>>>>>>>>>>>>>>>>>>>>>>>>>>>>>>>>>>-.-.-.-.-.-.-.-.-.-.-.-.-.-.-.-.-.-.-.-.-.-.-.-.-.-.-.-.-<<<<<<<<<<<<<<<<<<<<<\n",
      "\n",
      "6. What is the value of bacon.index('cat')?\n",
      "\n",
      ">>>>>>>>>>>>>>>>>>>>>>>>>>>>>>>>>>>>>-.-.-.-.-.-.-.-.-.-.-.-.-.-.-.-.-.-.-.-.-.-.-.-.-.-.-.-.-<<<<<<<<<<<<<<<<<<<<<\n",
      "\n",
      "7. How does bacon.append(99) change the look of the list value in bacon?\n",
      "\n",
      ">>>>>>>>>>>>>>>>>>>>>>>>>>>>>>>>>>>>>-.-.-.-.-.-.-.-.-.-.-.-.-.-.-.-.-.-.-.-.-.-.-.-.-.-.-.-.-<<<<<<<<<<<<<<<<<<<<<\n",
      "\n",
      "8. How does bacon.remove('cat') change the look of the list in bacon?\n",
      "\n",
      ">>>>>>>>>>>>>>>>>>>>>>>>>>>>>>>>>>>>>-.-.-.-.-.-.-.-.-.-.-.-.-.-.-.-.-.-.-.-.-.-.-.-.-.-.-.-.-<<<<<<<<<<<<<<<<<<<<<\n",
      "\n",
      "9. What are the list concatenation and list replication operators?\n",
      "\n",
      ">>>>>>>>>>>>>>>>>>>>>>>>>>>>>>>>>>>>>-.-.-.-.-.-.-.-.-.-.-.-.-.-.-.-.-.-.-.-.-.-.-.-.-.-.-.-.-<<<<<<<<<<<<<<<<<<<<<\n",
      "\n",
      "10. What is difference between the list methods append() and insert()?\n",
      "\n",
      ">>>>>>>>>>>>>>>>>>>>>>>>>>>>>>>>>>>>>-.-.-.-.-.-.-.-.-.-.-.-.-.-.-.-.-.-.-.-.-.-.-.-.-.-.-.-.-<<<<<<<<<<<<<<<<<<<<<\n",
      "\n",
      "11. What are the two methods for removing items from a list?\n",
      "\n",
      ">>>>>>>>>>>>>>>>>>>>>>>>>>>>>>>>>>>>>-.-.-.-.-.-.-.-.-.-.-.-.-.-.-.-.-.-.-.-.-.-.-.-.-.-.-.-.-<<<<<<<<<<<<<<<<<<<<<\n",
      "\n",
      "12. Describe how list values and string values are identical.\n",
      "\n",
      ">>>>>>>>>>>>>>>>>>>>>>>>>>>>>>>>>>>>>-.-.-.-.-.-.-.-.-.-.-.-.-.-.-.-.-.-.-.-.-.-.-.-.-.-.-.-.-<<<<<<<<<<<<<<<<<<<<<\n",
      "\n",
      "13. What's the difference between tuples and lists?\n",
      "\n",
      ">>>>>>>>>>>>>>>>>>>>>>>>>>>>>>>>>>>>>-.-.-.-.-.-.-.-.-.-.-.-.-.-.-.-.-.-.-.-.-.-.-.-.-.-.-.-.-<<<<<<<<<<<<<<<<<<<<<\n",
      "\n",
      "14. How do you type a tuple value that only contains the integer 42?\n",
      "\n",
      ">>>>>>>>>>>>>>>>>>>>>>>>>>>>>>>>>>>>>-.-.-.-.-.-.-.-.-.-.-.-.-.-.-.-.-.-.-.-.-.-.-.-.-.-.-.-.-<<<<<<<<<<<<<<<<<<<<<\n",
      "\n",
      "15. How do you get a list value's tuple form? How do you get a tuple value's list form?\n",
      "\n",
      ">>>>>>>>>>>>>>>>>>>>>>>>>>>>>>>>>>>>>-.-.-.-.-.-.-.-.-.-.-.-.-.-.-.-.-.-.-.-.-.-.-.-.-.-.-.-.-<<<<<<<<<<<<<<<<<<<<<\n",
      "\n",
      "16. Variables that \"contain\" list values are not necessarily lists themselves. Instead, what do they contain?\n",
      "\n",
      ">>>>>>>>>>>>>>>>>>>>>>>>>>>>>>>>>>>>>-.-.-.-.-.-.-.-.-.-.-.-.-.-.-.-.-.-.-.-.-.-.-.-.-.-.-.-.-<<<<<<<<<<<<<<<<<<<<<\n",
      "\n",
      "17. How do you distinguish between copy.copy() and copy.deepcopy()?\n",
      "\n",
      ">>>>>>>>>>>>>>>>>>>>>>>>>>>>>>>>>>>>>-.-.-.-.-.-.-.-.-.-.-.-.-.-.-.-.-.-.-.-.-.-.-.-.-.-.-.-.-<<<<<<<<<<<<<<<<<<<<<\n",
      "\n",
      "\n",
      "\n",
      ">>>>>>>>>>>>>>>>>>>>>>>>>>>>>>>>>>>>>-.-.-.-.-.-.-.-.-.-.-.-.-.-.-.-.-.-.-.-.-.-.-.-.-.-.-.-.-<<<<<<<<<<<<<<<<<<<<<\n",
      "\n"
     ]
    }
   ],
   "source": [
    "import docx\n",
    "\n",
    "def readword():\n",
    "    \n",
    "    path=input(\"Enter the Path of File : \")\n",
    "    print(path)\n",
    "                         \n",
    "    doc = docx.Document(path)\n",
    "    all_paras = doc.paragraphs\n",
    "    len(all_paras)\n",
    "    for para in all_paras:\n",
    "        print(para.text)\n",
    "        print(\"\\n>>>>>>>>>>>>>>>>>>>>>>>>>>>>>>>>>>>>>-.-.-.-.-.-.-.-.-.-.-.-.-.-.-.-.-.-.-.-.-.-.-.-.-.-.-.-.-<<<<<<<<<<<<<<<<<<<<<\\n\")\n",
    "readword()"
   ]
  },
  {
   "cell_type": "code",
   "execution_count": 20,
   "id": "5db28882-af93-4621-8ba1-acdda758eef5",
   "metadata": {},
   "outputs": [
    {
     "name": "stdout",
     "output_type": "stream",
     "text": [
      "1. What exactly is []?\n",
      "\n",
      "2. In a list of values stored in a variable called spam, how would you assign the value 'hello' as the third value? (Assume [2, 4, 6, 8, 10] are in spam.)\n",
      "\n",
      "Let's pretend the spam includes the list ['a', 'b', 'c', 'd'] for the next three queries.\n",
      "\n",
      "3. What is the value of spam[int(int('3' * 2) / 11)]?\n",
      "\n",
      "4. What is the value of spam[-1]?\n",
      "\n",
      "5. What is the value of spam[:2]?\n",
      "\n",
      "Let's pretend bacon has the list [3.14, 'cat,' 11, 'cat,' True] for the next three questions.\n",
      "\n",
      "6. What is the value of bacon.index('cat')?\n",
      "\n",
      "7. How does bacon.append(99) change the look of the list value in bacon?\n",
      "\n",
      "8. How does bacon.remove('cat') change the look of the list in bacon?\n",
      "\n",
      "9. What are the list concatenation and list replication operators?\n",
      "\n",
      "10. What is difference between the list methods append() and insert()?\n",
      "\n",
      "11. What are the two methods for removing items from a list?\n",
      "\n",
      "12. Describe how list values and string values are identical.\n",
      "\n",
      "13. What's the difference between tuples and lists?\n",
      "\n",
      "14. How do you type a tuple value that only contains the integer 42?\n",
      "\n",
      "15. How do you get a list value's tuple form? How do you get a tuple value's list form?\n",
      "\n",
      "16. Variables that \"contain\" list values are not necessarily lists themselves. Instead, what do they contain?\n",
      "\n",
      "17. How do you distinguish between copy.copy() and copy.deepcopy()?\n"
     ]
    }
   ],
   "source": [
    "import docx2txt\n",
    "# !pip install docx2txt\n",
    "\n",
    "a = docx2txt.process('/home/jovyan/work/Assignment_4.docx')\n",
    "print(a)"
   ]
  },
  {
   "cell_type": "code",
   "execution_count": 19,
   "id": "9a4225ba-fb02-43f8-9af6-493538f1ef9d",
   "metadata": {},
   "outputs": [
    {
     "data": {
      "text/plain": [
       "'/home/jovyan/work'"
      ]
     },
     "execution_count": 19,
     "metadata": {},
     "output_type": "execute_result"
    }
   ],
   "source": [
    "pwd"
   ]
  },
  {
   "cell_type": "code",
   "execution_count": 17,
   "id": "48451480-2626-4088-b3c1-6bff2baac1da",
   "metadata": {},
   "outputs": [
    {
     "name": "stdout",
     "output_type": "stream",
     "text": [
      "Collecting docx2txt\n",
      "  Downloading docx2txt-0.8.tar.gz (2.8 kB)\n",
      "  Preparing metadata (setup.py) ... \u001b[?25ldone\n",
      "\u001b[?25hBuilding wheels for collected packages: docx2txt\n",
      "  Building wheel for docx2txt (setup.py) ... \u001b[?25ldone\n",
      "\u001b[?25h  Created wheel for docx2txt: filename=docx2txt-0.8-py3-none-any.whl size=3960 sha256=14ec402427a1df489705ca1ba76e118c9e048e570a0a30c90c315752801b3699\n",
      "  Stored in directory: /home/jovyan/.cache/pip/wheels/3c/78/a3/ef70996aa66e38229494dbd84cd747e2e0668f1940bf4a7de8\n",
      "Successfully built docx2txt\n",
      "Installing collected packages: docx2txt\n",
      "Successfully installed docx2txt-0.8\n"
     ]
    }
   ],
   "source": [
    "!pip install docx2txt"
   ]
  },
  {
   "cell_type": "code",
   "execution_count": null,
   "id": "f78c1bdf-c910-4f41-a4ba-f0afb9c711cd",
   "metadata": {},
   "outputs": [],
   "source": []
  }
 ],
 "metadata": {
  "kernelspec": {
   "display_name": "Python 3 (ipykernel)",
   "language": "python",
   "name": "python3"
  },
  "language_info": {
   "codemirror_mode": {
    "name": "ipython",
    "version": 3
   },
   "file_extension": ".py",
   "mimetype": "text/x-python",
   "name": "python",
   "nbconvert_exporter": "python",
   "pygments_lexer": "ipython3",
   "version": "3.10.6"
  }
 },
 "nbformat": 4,
 "nbformat_minor": 5
}
