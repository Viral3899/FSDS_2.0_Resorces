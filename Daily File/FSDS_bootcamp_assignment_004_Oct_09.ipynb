{
 "cells": [
  {
   "cell_type": "markdown",
   "metadata": {
    "id": "dkGbTD94s6CD"
   },
   "source": [
    "# ASSIGNMENTS \n",
    "## Send it before 0000 hrs IST or 12 AM Wednesday\n",
    "\n",
    "## NOTE: Evaluation will be done before next class.\n",
    "\n",
    "## HOW TO SUBMIT: -\n",
    "Download this notebook, Solve it and upload in the google form given in the mail."
   ]
  },
  {
   "cell_type": "markdown",
   "metadata": {},
   "source": [
    "<center><h2>Answers</h2></center>"
   ]
  },
  {
   "cell_type": "markdown",
   "metadata": {
    "id": "n3FuI-mutNl6"
   },
   "source": [
    "## control flow and conditional statements"
   ]
  },
  {
   "cell_type": "code",
   "execution_count": 16,
   "metadata": {
    "id": "NCW2epdyuJ-a"
   },
   "outputs": [
    {
     "name": "stdout",
     "output_type": "stream",
     "text": [
      "525\n"
     ]
    }
   ],
   "source": [
    "# Q1. Find the largest number from the given list, use for loop.\n",
    "\n",
    "numbers = [12, 75, 150, 180, 145,  50,525]\n",
    "# Sol 1\n",
    "# l=list()\n",
    "# for i in range(len(numbers)):\n",
    "    \n",
    "#     if i==0:\n",
    "#         l.append(numbers[i])\n",
    "#         continue\n",
    "#     else:\n",
    "#         if numbers[i]>numbers[i-1]:\n",
    "#             l[0]=(numbers[i])\n",
    "# print(l[0])  \n",
    "\n",
    "\n",
    "# Sol 2\n",
    "\n",
    "num = numbers[0]\n",
    "for number in numbers:\n",
    "    if number>num:\n",
    "        num = number\n",
    "\n",
    "print (num) "
   ]
  },
  {
   "cell_type": "code",
   "execution_count": 18,
   "metadata": {
    "id": "Qsg0i1fTwEQj"
   },
   "outputs": [
    {
     "name": "stdout",
     "output_type": "stream",
     "text": [
      "2\n",
      "4\n",
      "6\n",
      "8\n",
      "10\n",
      "12\n"
     ]
    }
   ],
   "source": [
    "# Q2. Print all the even number between (1, 12).\n",
    "\n",
    "for i in range(1,13):\n",
    "    if i%2!=0:\n",
    "        continue\n",
    "    print(i)"
   ]
  },
  {
   "cell_type": "code",
   "execution_count": 21,
   "metadata": {
    "id": "WG2QcDDhwi4a"
   },
   "outputs": [
    {
     "name": "stdout",
     "output_type": "stream",
     "text": [
      "Enter the Num till which you want to sum : 10\n",
      "55\n"
     ]
    }
   ],
   "source": [
    "# Q3. Calculate the sum of all numbers from 1 to a given number\n",
    "\n",
    "num=int(input(\"Enter the Num till which you want to sum : \"))\n",
    "\n",
    "sumnum=0\n",
    "for i in range(1,num+1):\n",
    "    sumnum=sumnum+i\n",
    "print(sumnum)"
   ]
  },
  {
   "cell_type": "markdown",
   "metadata": {
    "id": "mc7lLUm5f4Cq"
   },
   "source": [
    "Q4. Write a program to display only those numbers from a list that satisfy the following conditions\n",
    "\n",
    "- The number must be divisible by five\n",
    "\n",
    "- If the number is greater than 150, then skip it and move to the next number\n",
    "\n",
    "- If the number is greater than 500, then stop the loop"
   ]
  },
  {
   "cell_type": "code",
   "execution_count": 27,
   "metadata": {
    "id": "P3Ct2ocKf6Hy"
   },
   "outputs": [
    {
     "name": "stdout",
     "output_type": "stream",
     "text": [
      "75\n",
      "150\n",
      "145\n"
     ]
    }
   ],
   "source": [
    "# Given:\n",
    "\n",
    "numbers = [12, 75, 150, 180, 145, 525, 50]\n",
    "\n",
    "#Sol 1.\n",
    "\n",
    "for i in numbers:\n",
    "    if i>500:\n",
    "        break\n",
    "    if i>150:\n",
    "        continue\n",
    "    if i%5==0:\n",
    "        print(i)\n",
    "        \n",
    "#Sol 2.      \n",
    "# for i in numbers:\n",
    "\n",
    "#     if i % 5 ==0:\n",
    "#         if i > 500:\n",
    "#             break\n",
    "#         if i>150:\n",
    "#             continue\n",
    "#         print(i)"
   ]
  },
  {
   "cell_type": "code",
   "execution_count": 31,
   "metadata": {
    "id": "rrxWvy7nMnAs"
   },
   "outputs": [
    {
     "name": "stdout",
     "output_type": "stream",
     "text": [
      "50<--->40<--->30<--->20<--->10<--->"
     ]
    }
   ],
   "source": [
    "# Q5. Print the given list in reverse order.\n",
    "\n",
    "list1 = [10, 20, 30, 40, 50]\n",
    "for i in list1[::-1]:\n",
    "    print(i,end='<--->')\n"
   ]
  },
  {
   "cell_type": "code",
   "execution_count": null,
   "metadata": {
    "id": "z-GDgPn3Nr0y"
   },
   "outputs": [],
   "source": []
  }
 ],
 "metadata": {
  "colab": {
   "provenance": []
  },
  "kernelspec": {
   "display_name": "Python 3 (ipykernel)",
   "language": "python",
   "name": "python3"
  },
  "language_info": {
   "codemirror_mode": {
    "name": "ipython",
    "version": 3
   },
   "file_extension": ".py",
   "mimetype": "text/x-python",
   "name": "python",
   "nbconvert_exporter": "python",
   "pygments_lexer": "ipython3",
   "version": "3.9.12"
  }
 },
 "nbformat": 4,
 "nbformat_minor": 1
}
