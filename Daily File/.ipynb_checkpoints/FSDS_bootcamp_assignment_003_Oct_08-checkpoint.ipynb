{
 "cells": [
  {
   "cell_type": "markdown",
   "metadata": {
    "id": "cyOfbWCdOjEr"
   },
   "source": [
    "# ASSIGNMENTS - Compulsory\n",
    "## Send it before 0000 hrs IST or 12 AM Wednesday\n",
    "\n",
    "## NOTE: Evaluation will be done before next class.\n",
    "\n",
    "## HOW TO SUBMIT: -\n",
    "Download this notebook, Solve it and upload in the google form given in the mail."
   ]
  },
  {
   "cell_type": "markdown",
   "metadata": {
    "id": "GT4IytkJMNa-"
   },
   "source": [
    "## Python String Manipulation\n",
    "\n",
    "1. Count the number of times `iNeuron` appears in the string.\n",
    "```python\n",
    "text = \"Welcome to iNeuron, You are a part of FSDS Bootcamp 2 in iNeuron. I hope you are enjoying the course by iNeuron\"\n",
    "```\n",
    "2. Check if position `5` to `11` ends with the phrase `iNeuron.` in the string \n",
    "```python\n",
    "txt = \"Hello, welcome to FSDS 2.0 at iNeuron.\"\n",
    "```\n",
    "3. Write a program that takes your full name as input and displays the abbreviations of the first and middle names except the last name which is displayed as it is. For example, if your name is Sunny Bhaveen Chandra, then the output should be S.B.Chandra.\n",
    "\n",
    "4. Join all items in a list into a string, using a hash(`#`) character as separator:\n",
    "```python\n",
    "LIST = [\"My\", \"name\", \"is\", \"Rishav\", \"Dash\"]\n",
    "```\n",
    "5. Write example for the following string manipulation function,\n",
    "\n",
    "  ```\n",
    "  - isdecimal()\n",
    "  - islower()\n",
    "  - isupper()\n",
    "  - isalpha()\n",
    "  - isnumeric()\n",
    "\n",
    "  ```\n",
    "6. Indian PAN card format follows the following formats - \n",
    "    - `AYEPC7894X`\n",
    "    - `ABCDE9999Y`\n",
    "  Take user input for PAN_CARD and validate as per the above example.\n"
   ]
  },
  {
   "cell_type": "markdown",
   "metadata": {
    "id": "KwVni9gipNi-"
   },
   "source": [
    "<center><h2>Answer</h2></center>"
   ]
  },
  {
   "cell_type": "code",
   "execution_count": 1,
   "metadata": {},
   "outputs": [
    {
     "data": {
      "text/plain": [
       "3"
      ]
     },
     "execution_count": 1,
     "metadata": {},
     "output_type": "execute_result"
    }
   ],
   "source": [
    "# 1. Count the number of times iNeuron appears in the string.\n",
    "\n",
    "text = \"Welcome to iNeuron, You are a part of FSDS Bootcamp 2 in iNeuron. I hope you are enjoying the course by iNeuron\"\n",
    "\n",
    "text.count('iNeuron')\n"
   ]
  },
  {
   "cell_type": "code",
   "execution_count": 2,
   "metadata": {},
   "outputs": [
    {
     "data": {
      "text/plain": [
       "False"
      ]
     },
     "execution_count": 2,
     "metadata": {},
     "output_type": "execute_result"
    }
   ],
   "source": [
    "# 2.Check if position 5 to 11 ends with the phrase iNeuron. in the string\n",
    "\n",
    "txt = \"Hello, welcome to FSDS 2.0 at iNeuron.\"\n",
    "\n",
    "txt[5:11]=='iNeuron'"
   ]
  },
  {
   "cell_type": "code",
   "execution_count": 9,
   "metadata": {},
   "outputs": [
    {
     "name": "stdout",
     "output_type": "stream",
     "text": [
      "Enter Full Name First middel Last as sequance : \n",
      "  @media print {\n",
      "    .ms-editor-squiggles-container {\n",
      "      display:none !important;\n",
      "    }\n",
      "  }\n",
      "  .ms-editor-squiggles-container {\n",
      "    all: initial;\n",
      "  }virl chn sherathiya\n",
      "YOu Enterd Your Name As virl chn sherathiya\n",
      "abbreviations of your Name : v. c. sherathiya\n",
      "\n"
     ]
    }
   ],
   "source": [
    "# 3. Write a program that takes your full name as input and displays the abbreviations of the first and middle names \n",
    "#    except the last name which is displayed as it is. For example, if your name is \n",
    "#    Sunny Bhaveen Chandra, then the output should be S.B.Chandra.\n",
    "\n",
    "name=input(\"Enter Full Name First middel Last as sequance : \")\n",
    "\n",
    "l=name.split()\n",
    "print(f\"\"\"YOu Enterd Your Name As {name}\n",
    "abbreviations of your Name : {l[0][0]}. {l[1][0]}. {l[2]}\n",
    "\"\"\")"
   ]
  },
  {
   "cell_type": "code",
   "execution_count": 10,
   "metadata": {},
   "outputs": [
    {
     "data": {
      "text/plain": [
       "'My#name#is#Rishav#Dash'"
      ]
     },
     "execution_count": 10,
     "metadata": {},
     "output_type": "execute_result"
    }
   ],
   "source": [
    "# 4. Join all items in a list into a string, using a hash(#) character as separator:\n",
    "\n",
    "LIST = [\"My\", \"name\", \"is\", \"Rishav\", \"Dash\"]\n",
    "\n",
    "\"#\".join(LIST)"
   ]
  },
  {
   "cell_type": "code",
   "execution_count": 15,
   "metadata": {},
   "outputs": [
    {
     "name": "stdout",
     "output_type": "stream",
     "text": [
      "False\n",
      "True\n",
      "--------------\n",
      "True\n",
      "False\n",
      "--------------\n",
      "True\n",
      "False\n",
      "--------------\n",
      "True\n",
      "False\n",
      "--------------\n",
      "True\n",
      "False\n",
      "--------------\n"
     ]
    }
   ],
   "source": [
    "# 5. Write example for the following string manipulation function,\n",
    "\n",
    "#isdecimal()\n",
    "a=\"2.5\"\n",
    "b=\"2\"\n",
    "print(a.isdecimal())\n",
    "print(b.isdecimal())\n",
    "print(\"--------------\")\n",
    "\n",
    "#islower()\n",
    "a=\"lower\"\n",
    "b=\"LowEr\"\n",
    "print(a.islower())\n",
    "print(b.islower())\n",
    "print(\"--------------\")\n",
    "\n",
    "#isupper()\n",
    "\n",
    "a=\"LOWER\"\n",
    "b=\"LowEr\"\n",
    "print(a.isupper())\n",
    "print(b.isupper())\n",
    "print(\"--------------\")\n",
    "\n",
    "#isalpha()\n",
    "a=\"lower\"\n",
    "b=\"LowEr123\"\n",
    "print(a.isalpha())\n",
    "print(b.isalpha())\n",
    "print(\"--------------\")\n",
    "\n",
    "#isnumeric()\n",
    "a=\"123\"\n",
    "b=\"LowEr123\"\n",
    "print(a.isnumeric())\n",
    "print(b.isnumeric())\n",
    "print(\"--------------\")\n"
   ]
  },
  {
   "cell_type": "code",
   "execution_count": 26,
   "metadata": {},
   "outputs": [
    {
     "name": "stdout",
     "output_type": "stream",
     "text": [
      "Enter Your PAN Number We will Verify That Your Pan Number is in Correct Formate Or Not: ABCDE9999Y\n",
      "Your Entered Pan Number is in Correct Formate\n"
     ]
    }
   ],
   "source": [
    "# 6. Indian PAN card format follows the following formats -\n",
    "\n",
    "# AYEPC7894X\n",
    "# ABCDE9999Y \n",
    "# Take user input for PAN_CARD and validate as per the above example.\n",
    "\n",
    "PAN=input(\"Enter Your PAN Number We will Verify That Your Pan Number is in Correct Formate Or Not: \")\n",
    "PAN=PAN.upper()\n",
    "if PAN[0:5].isalpha() and PAN[5:9].isnumeric() and PAN[9].isalpha():\n",
    "    print(\"Your Entered Pan Number is in Correct Formate\")\n",
    "else:\n",
    "    print(\"Your Entered Formate is Wrong Please Check it\")\n",
    "    if PAN[0:5].isalpha()==False:\n",
    "        print(f'You Enterd Any thing Wrong in First 5 Character')\n",
    "    elif PAN[5:9].isnumeric()==False:\n",
    "        print(f'You Enterd Any thing Wrong in between Character 6 and 9')\n",
    "    else:\n",
    "        print(f'You Enterd Last Character Wrong')"
   ]
  },
  {
   "cell_type": "code",
   "execution_count": null,
   "metadata": {},
   "outputs": [],
   "source": []
  }
 ],
 "metadata": {
  "colab": {
   "provenance": []
  },
  "kernelspec": {
   "display_name": "Python 3 (ipykernel)",
   "language": "python",
   "name": "python3"
  },
  "language_info": {
   "codemirror_mode": {
    "name": "ipython",
    "version": 3
   },
   "file_extension": ".py",
   "mimetype": "text/x-python",
   "name": "python",
   "nbconvert_exporter": "python",
   "pygments_lexer": "ipython3",
   "version": "3.9.12"
  }
 },
 "nbformat": 4,
 "nbformat_minor": 1
}
