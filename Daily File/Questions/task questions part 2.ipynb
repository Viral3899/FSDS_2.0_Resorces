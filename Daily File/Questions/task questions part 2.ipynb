{
 "cells": [
  {
   "cell_type": "markdown",
   "id": "0f801537-9c3a-4140-8a2f-33876721b93d",
   "metadata": {},
   "source": [
    "### Task 1"
   ]
  },
  {
   "cell_type": "raw",
   "id": "d048c7da-1b25-4d94-943f-e1ea1da061fd",
   "metadata": {},
   "source": [
    "s = \"this is My First Python programming class and i am learNING python string and its function\"\n",
    "1 . Try to extract data from index one to index 300 with a jump of 3 \n",
    "2. Try to reverse a string without using reverse function \n",
    "3. Try to split a string after conversion of entire string in uppercase \n",
    "4. try to convert the whole string into lower case \n",
    "5 . Try to capitalize the whole string \n",
    "6 . Write a diference between isalnum() and isalpha()\n",
    "7. Try to give an example of expand tab\n",
    "8 . Give an example of strip , lstrip and rstrip \n",
    "9.  Replace a string charecter by another charector by taking your own example \n",
    "\"sudhanshu\"\n",
    "10 . Try  to give a defination of string center function with and exmple \n",
    "11 . Write your own definition of compiler and interpretor without copy paste form internet in your own language\n",
    "12 . Python is a interpreted of compiled language give a clear ans with your understanding \n",
    "13 . Try to write a usecase of python with your understanding ."
   ]
  },
  {
   "cell_type": "code",
   "execution_count": 4,
   "id": "141a31c6-d53b-4f4b-841f-e4a385aaf9ac",
   "metadata": {},
   "outputs": [
    {
     "data": {
      "text/plain": [
       "'h   r tnrrmglsnimeNGyosi dtfco'"
      ]
     },
     "execution_count": 4,
     "metadata": {},
     "output_type": "execute_result"
    }
   ],
   "source": [
    "s = \"this is My First Python programming class and i am learNING python string and its function\"\n",
    "s[1:301:3]"
   ]
  },
  {
   "cell_type": "code",
   "execution_count": 5,
   "id": "b2cc99b6-7c95-4eae-97a8-66cad33cc0d7",
   "metadata": {},
   "outputs": [
    {
     "data": {
      "text/plain": [
       "'noitcnuf sti dna gnirts nohtyp GNINrael ma i dna ssalc gnimmargorp nohtyP tsriF yM si siht'"
      ]
     },
     "execution_count": 5,
     "metadata": {},
     "output_type": "execute_result"
    }
   ],
   "source": [
    "s[::-1]"
   ]
  },
  {
   "cell_type": "code",
   "execution_count": 6,
   "id": "ed49d28d-36a9-46cf-a4d1-0d5afa8a3002",
   "metadata": {},
   "outputs": [
    {
     "data": {
      "text/plain": [
       "['THIS',\n",
       " 'IS',\n",
       " 'MY',\n",
       " 'FIRST',\n",
       " 'PYTHON',\n",
       " 'PROGRAMMING',\n",
       " 'CLASS',\n",
       " 'AND',\n",
       " 'I',\n",
       " 'AM',\n",
       " 'LEARNING',\n",
       " 'PYTHON',\n",
       " 'STRING',\n",
       " 'AND',\n",
       " 'ITS',\n",
       " 'FUNCTION']"
      ]
     },
     "execution_count": 6,
     "metadata": {},
     "output_type": "execute_result"
    }
   ],
   "source": [
    "s.upper().split()"
   ]
  },
  {
   "cell_type": "code",
   "execution_count": 7,
   "id": "f16b94e2-4b9c-4b0a-8cf4-ea7594b189a4",
   "metadata": {},
   "outputs": [
    {
     "data": {
      "text/plain": [
       "'this is my first python programming class and i am learning python string and its function'"
      ]
     },
     "execution_count": 7,
     "metadata": {},
     "output_type": "execute_result"
    }
   ],
   "source": [
    "s.lower()"
   ]
  },
  {
   "cell_type": "code",
   "execution_count": 8,
   "id": "c4e0cc75-6023-45d8-83f2-4f62c6fc5623",
   "metadata": {},
   "outputs": [
    {
     "data": {
      "text/plain": [
       "'This is my first python programming class and i am learning python string and its function'"
      ]
     },
     "execution_count": 8,
     "metadata": {},
     "output_type": "execute_result"
    }
   ],
   "source": [
    "s.capitalize()"
   ]
  },
  {
   "cell_type": "code",
   "execution_count": 9,
   "id": "e8a7d64b-012f-400d-9e14-5587052e51dd",
   "metadata": {},
   "outputs": [
    {
     "name": "stdout",
     "output_type": "stream",
     "text": [
      "True\n",
      "------------\n",
      "False\n"
     ]
    }
   ],
   "source": [
    "\n",
    "print(\"viral123\".isalnum())\n",
    "print('------------')\n",
    "print(\"viral123\".isalpha())"
   ]
  },
  {
   "cell_type": "code",
   "execution_count": 10,
   "id": "a20fecc6-ca03-49d9-ac5c-604ffe7c0af1",
   "metadata": {},
   "outputs": [
    {
     "name": "stdout",
     "output_type": "stream",
     "text": [
      "viral\tSherathiya\n",
      "Ahmedabad\n"
     ]
    }
   ],
   "source": [
    "a=\"viral\\tSherathiya\\nAhmedabad\"\n",
    "print(a)"
   ]
  },
  {
   "cell_type": "code",
   "execution_count": 11,
   "id": "9bf521f5-cfaf-4a37-b5a4-c4369fdd9a5c",
   "metadata": {},
   "outputs": [
    {
     "data": {
      "text/plain": [
       "'viral   Sherathiya\\nAhmedabad'"
      ]
     },
     "execution_count": 11,
     "metadata": {},
     "output_type": "execute_result"
    }
   ],
   "source": [
    "a.expandtabs()"
   ]
  },
  {
   "cell_type": "code",
   "execution_count": 12,
   "id": "933932bf-f314-41ed-bd1c-f3cb72e96c01",
   "metadata": {},
   "outputs": [
    {
     "data": {
      "text/plain": [
       "'viral'"
      ]
     },
     "execution_count": 12,
     "metadata": {},
     "output_type": "execute_result"
    }
   ],
   "source": [
    "a=\"                           viral          \"\n",
    "a.strip()"
   ]
  },
  {
   "cell_type": "code",
   "execution_count": 13,
   "id": "e549e870-d10e-4161-9be1-4ba8d8232a86",
   "metadata": {},
   "outputs": [
    {
     "data": {
      "text/plain": [
       "'viral          '"
      ]
     },
     "execution_count": 13,
     "metadata": {},
     "output_type": "execute_result"
    }
   ],
   "source": [
    "a=\"                           viral          \"\n",
    "a.lstrip()"
   ]
  },
  {
   "cell_type": "code",
   "execution_count": 14,
   "id": "cf972013-c44d-4c25-a4e6-36d247cbffd0",
   "metadata": {},
   "outputs": [
    {
     "data": {
      "text/plain": [
       "'                           viral'"
      ]
     },
     "execution_count": 14,
     "metadata": {},
     "output_type": "execute_result"
    }
   ],
   "source": [
    "a=\"                           viral          \"\n",
    "a.rstrip()"
   ]
  },
  {
   "cell_type": "code",
   "execution_count": 15,
   "id": "d9f3dd29-1cd9-447b-a5fe-ea73b81c05e4",
   "metadata": {},
   "outputs": [
    {
     "data": {
      "text/plain": [
       "'Viral Patel'"
      ]
     },
     "execution_count": 15,
     "metadata": {},
     "output_type": "execute_result"
    }
   ],
   "source": [
    "a='Viral Sherathiya'\n",
    "a.replace('Sherathiya','Patel')"
   ]
  },
  {
   "cell_type": "code",
   "execution_count": 16,
   "id": "89e1d3a3-f597-4b75-9449-6eaae16aebbe",
   "metadata": {},
   "outputs": [
    {
     "data": {
      "text/plain": [
       "'*******viral********'"
      ]
     },
     "execution_count": 17,
     "metadata": {},
     "output_type": "execute_result"
    }
   ],
   "source": [
    "a='viral'\n",
    "a.center(10,'*')"
   ]
  },
  {
   "cell_type": "code",
   "execution_count": null,
   "id": "1f77d99c-1787-4bd0-905b-8fc80a76aec8",
   "metadata": {},
   "outputs": [],
   "source": []
  },
  {
   "cell_type": "code",
   "execution_count": null,
   "id": "9aa06674-6b6e-4a63-8fe6-0fa9f3b9789a",
   "metadata": {},
   "outputs": [],
   "source": []
  },
  {
   "cell_type": "markdown",
   "id": "0448febc-794e-41bb-8641-51174653bb1f",
   "metadata": {},
   "source": [
    "### Task 2"
   ]
  },
  {
   "cell_type": "raw",
   "id": "0e251093-15b3-4cae-906b-e6cfcb8d2829",
   "metadata": {},
   "source": [
    "l = [3,4,5,6,7 , [23,456,67,8,78,78] , [345,56,87,8,98,9] , (234,6657,6) , {\"key1\" :\"sudh\" , 234:[23,45,656]}]\n",
    "1 . Try to reverse a list \n",
    "2. try to access 234 out of this list \n",
    "3 . try to access 456 \n",
    "4 . Try to extract only a list collection form list l \n",
    "5 . Try to extract \"sudh\"\n",
    "6 . Try to list all the key in dict element avaible in list \n",
    "7 . Try to extract all the value element form dict available in list"
   ]
  },
  {
   "cell_type": "code",
   "execution_count": 19,
   "id": "d5448017-a250-40f5-9a26-1dee0c485c3b",
   "metadata": {},
   "outputs": [
    {
     "data": {
      "text/plain": [
       "[{'key1': 'sudh', 234: [23, 45, 656]},\n",
       " (234, 6657, 6),\n",
       " [345, 56, 87, 8, 98, 9],\n",
       " [23, 456, 67, 8, 78, 78],\n",
       " 7,\n",
       " 6,\n",
       " 5,\n",
       " 4,\n",
       " 3]"
      ]
     },
     "execution_count": 19,
     "metadata": {},
     "output_type": "execute_result"
    }
   ],
   "source": [
    "l[::-1]"
   ]
  },
  {
   "cell_type": "code",
   "execution_count": 18,
   "id": "be4a077f-e826-4c38-8140-d247ac484122",
   "metadata": {},
   "outputs": [
    {
     "data": {
      "text/plain": [
       "234"
      ]
     },
     "execution_count": 18,
     "metadata": {},
     "output_type": "execute_result"
    }
   ],
   "source": [
    "l = [3,4,5,6,7 , [23,456,67,8,78,78] , [345,56,87,8,98,9] , (234,6657,6) , {\"key1\" :\"sudh\" , 234:[23,45,656]}]\n",
    "l[7][0]"
   ]
  },
  {
   "cell_type": "code",
   "execution_count": 21,
   "id": "b36a556b-f86e-409b-bac4-49c197aaee1e",
   "metadata": {},
   "outputs": [
    {
     "data": {
      "text/plain": [
       "456"
      ]
     },
     "execution_count": 21,
     "metadata": {},
     "output_type": "execute_result"
    }
   ],
   "source": [
    "l[5][1]"
   ]
  },
  {
   "cell_type": "code",
   "execution_count": 39,
   "id": "87dfc0dc-134a-4a5c-b8ef-7d85a93c0178",
   "metadata": {},
   "outputs": [
    {
     "data": {
      "text/plain": [
       "[[23, 456, 67, 8, 78, 78], [345, 56, 87, 8, 98, 9]]"
      ]
     },
     "execution_count": 39,
     "metadata": {},
     "output_type": "execute_result"
    }
   ],
   "source": [
    "[i for i in l if type(i)==list]"
   ]
  },
  {
   "cell_type": "code",
   "execution_count": 24,
   "id": "06177036-4921-44eb-9b45-e1bea185dba0",
   "metadata": {},
   "outputs": [
    {
     "data": {
      "text/plain": [
       "'sudh'"
      ]
     },
     "execution_count": 24,
     "metadata": {},
     "output_type": "execute_result"
    }
   ],
   "source": [
    "l[8]['key1']"
   ]
  },
  {
   "cell_type": "code",
   "execution_count": 51,
   "id": "ea0998e2-276a-4b6f-a5ff-f8b055c74bb1",
   "metadata": {},
   "outputs": [
    {
     "data": {
      "text/plain": [
       "['key1', 234]"
      ]
     },
     "execution_count": 51,
     "metadata": {},
     "output_type": "execute_result"
    }
   ],
   "source": [
    "a=[list(i.keys()) for i in l if type(i)==dict]\n",
    "list(*a)"
   ]
  },
  {
   "cell_type": "code",
   "execution_count": 52,
   "id": "b7e1977d-22f6-4cf2-9bb3-bb15588a4937",
   "metadata": {},
   "outputs": [
    {
     "data": {
      "text/plain": [
       "['sudh', [23, 45, 656]]"
      ]
     },
     "execution_count": 52,
     "metadata": {},
     "output_type": "execute_result"
    }
   ],
   "source": [
    "a=[list(i.values()) for i in l if type(i)==dict]\n",
    "list(*a)"
   ]
  },
  {
   "cell_type": "markdown",
   "id": "5f1834df-e1e8-4d8b-a531-7503d6075652",
   "metadata": {},
   "source": [
    "### Task 3"
   ]
  },
  {
   "cell_type": "raw",
   "id": "df924ef0-ac76-4f10-8020-8fb81e338c0f",
   "metadata": {},
   "source": [
    "q1 :\n",
    "ineruon \n",
    "ineruon ineruon \n",
    "ineruon ineruon ineruon\n",
    "ineruon ineruon ineruon ineruon\n",
    "\n",
    "q2 - \n",
    "\n",
    "          ineruon\n",
    "    ineruon      ineruon\n",
    "ineruon\t\tineruon \tineruon\n",
    "\tineruon\t\t ineruon\n",
    "\t\t  ineruon\n",
    "\n",
    "l = [[1,2,3,4] , (2,3,4,5,6) , (3,4,5,6,7) , set([23,4,5,45,4,4,5,45,45,4,5]) , {'k1' :\"sudh\" , \"k2\" : \"ineuron\",\"k3\":\n",
    "            \"kumar\" , 3:6 , 7:8} , [\"ineuron\" , \"data science \"]]\n",
    "\n",
    "q3 : Try to extract all the list entity \n",
    "q4 : Try to extract all the dict enteties\n",
    "q5 : Try to extract all the tuples entities\n",
    "q6 : Try to extract all the numerical data it may b a part of dict key and values \n",
    "q7 : Try to give summation of all the numeric data \n",
    "q8 : Try to filter out all the odd values out all numeric data which is a part of a list \n",
    "q9 : Try to extract \"ineruon\" out of this data\n",
    "q10 : Try to find out a number of occurances of all the data \n",
    "q11 : Try to find out number of keys in dict element\n",
    "q12 : Try to filter out all the string data \n",
    "q13 : Try to Find  out alphanum in data\n",
    "q14 : Try to find out multiplication of all numeric value in the individual collection inside dataset"
   ]
  },
  {
   "cell_type": "code",
   "execution_count": 4,
   "id": "033f119e-822e-4d01-83c8-dd582ba75a15",
   "metadata": {},
   "outputs": [
    {
     "name": "stdout",
     "output_type": "stream",
     "text": [
      "\n",
      "inueron \n",
      "inueron inueron \n",
      "inueron inueron inueron \n",
      "inueron inueron inueron inueron \n"
     ]
    }
   ],
   "source": [
    "for i in range (5):\n",
    "    print('inueron '*i)"
   ]
  },
  {
   "cell_type": "code",
   "execution_count": 9,
   "id": "2e832327-df5d-48f4-b1e0-5f4faff61ec4",
   "metadata": {},
   "outputs": [
    {
     "name": "stdout",
     "output_type": "stream",
     "text": [
      "                                        \n",
      "                ineuron                 \n",
      "            ineuron ineuron             \n",
      "        ineuron ineuron ineuron         \n",
      "            ineuron ineuron             \n",
      "                ineuron                 \n"
     ]
    }
   ],
   "source": [
    "for i in range(6):\n",
    "    if i <= 3:\n",
    "        n = i\n",
    "    else:\n",
    "        n = 6 - i\n",
    "    print((\"ineuron \"*n).center(40,' '))"
   ]
  },
  {
   "cell_type": "markdown",
   "id": "fa7064f1-a7fd-4cfc-bb69-3cb67deb86b8",
   "metadata": {},
   "source": [
    "### Task 4"
   ]
  },
  {
   "cell_type": "raw",
   "id": "19a98172-eac2-49d6-9584-4dd6f8090d95",
   "metadata": {},
   "source": [
    "q1 : Try to print this by using while loop \n",
    "* \n",
    "* * \n",
    "* * * \n",
    "* * * * \n",
    "* * * * * \n",
    "* * * * * * \n",
    "* * * * * * * \n",
    "* * * * * * * * \n",
    "* * * * * * * * * \n",
    "\n",
    "q2 : try to print below by using while loop : \n",
    "        \n",
    "A\n",
    "B H \n",
    "C I N\n",
    "D J o S\n",
    "E K p T W\n",
    "F L Q U X z\n",
    "G M R V Y \n",
    "\n",
    "q3 : Try to print all the number divisible by 3 in between a range of 40 - 400\n",
    "    \n",
    "q4 : Try to filter out all the vowels form below text by using while loop : \n",
    " \"\"\"Python is a high-level, interpreted, general-purpose programming language. Its design philosophy emphasizes code readability with the use of significant indentation.[32]\n",
    "\n",
    "Python is dynamically-typed and garbage-collected. It supports multiple programming paradigms, including structured (particularly procedural), object-oriented and functional programming. It is often described as a \"batteries included\" language due to its comprehensive standard library.[33][34]\n",
    "\n",
    "Guido van Rossum began working on Python in the late 1980s as a successor to the ABC programming language and first released it in 1991 as Python 0.9.0.[35] Python 2.0 was released in 2000 and introduced new features such as list comprehensions, cycle-detecting garbage collection, reference counting, and Unicode support. Python 3.0, released in 2008, was a major revision that is not completely backward-compatible with earlier versions. Python 2 was discontinued with version 2.7.18 in 2020.[36]\n",
    "\n",
    "Python consistently ranks as one of the most popular programming languagesc\"\"\" \n",
    "\n",
    "\n",
    "q5 : Try to generate all the even number between 1- 1000\n",
    "\n",
    "q6 : Define a function for all the above problem statememnt  . \n",
    "    \n",
    "q7 : write a code to get a time of your system \n",
    "\n",
    "q8 : Write a code to fetch date form your system \n",
    "\n",
    "q9 : Write a code to send a mail to your friend \n",
    "\n",
    "q10 : write a code to trigger alarm for you at scheduled time \n",
    "\n",
    "q11 : write a code to check ip address of your system \n",
    "\n",
    "q12 : Write a code to check a perticular installation in your system\n",
    "\n",
    "q13 : Write a code to convert any text in to voice \n",
    "\n",
    "q14 : you have to write a fun which will take string and return a len of \n",
    "it without using a inbuilt fun len\n",
    "\n",
    "q15 :write a fun which will be able to print an index of all premitive element which you will pass \n",
    "\n",
    "q16 : Write a fun which will take input as a dict and give me out as a list of all the values \n",
    "even in case of 2 level nesting it should work . \n",
    "\n",
    "q17 : write a function whihc will take multiple list as a input and give me concatnation of all the element as \n",
    "and output\n",
    "\n",
    "q18 : Write a function which will whould return list of all the file name from a directory . \n",
    "\n",
    "q19 : write a function whihc will be able to read a image file and show it to you .\n",
    "    \n",
    "q20 : write a function by which you will be able to append two PDF files . \n",
    "    \n",
    "q21 : write a function which can help you to filter only word file from a directory . \n",
    "    \n",
    "q22 : write a function which can read video file and play for you . \n",
    "    \n",
    "q23 : write a function which will be able to shutdonw your system . \n",
    "\n",
    "q24 : Write a function which will whould return list of all the file name from a directory . \n",
    "\n",
    "q25 : write a function whihc will be able to access your mail . "
   ]
  }
 ],
 "metadata": {
  "kernelspec": {
   "display_name": "Python 3 (ipykernel)",
   "language": "python",
   "name": "python3"
  },
  "language_info": {
   "codemirror_mode": {
    "name": "ipython",
    "version": 3
   },
   "file_extension": ".py",
   "mimetype": "text/x-python",
   "name": "python",
   "nbconvert_exporter": "python",
   "pygments_lexer": "ipython3",
   "version": "3.10.6"
  }
 },
 "nbformat": 4,
 "nbformat_minor": 5
}
