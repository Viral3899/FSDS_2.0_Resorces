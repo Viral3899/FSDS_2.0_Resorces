{
 "cells": [
  {
   "cell_type": "raw",
   "id": "d24eaea1",
   "metadata": {},
   "source": [
    "1. Find out all the types of error that we have encountered in our lecture and why? Also include the examples.\n",
    "\n",
    "Ans.\n",
    "1. SyntaxError\n",
    "Error Encounterd because Something in Code Missing or Wrong\n",
    "e.g. : if a < 3\n",
    "SyntaxError: invalid syntax.\n",
    "\n",
    "\n",
    "2.NameError\t\n",
    "Error Encounted if Variable Name is Not Defined\n",
    "e.g. : age\n",
    "NameError: name 'age' is not defined\n",
    "\n",
    "\n",
    "3. TypeError\n",
    "Error Encounterd When Function's necessary Data type not Given in Code\n",
    "e.g. : '2'+2\n",
    "TypeError: must be str, not int\n",
    "\n",
    "\n",
    "4. ValueError\n",
    "Error Encounterd Because Given Value Done Not Process Futher\n",
    "e.g. : int('xyz')\n",
    "ValueError: invalid literal for int() with base 10: 'xyz'"
   ]
  },
  {
   "cell_type": "code",
   "execution_count": 2,
   "id": "10c177b4",
   "metadata": {},
   "outputs": [
    {
     "name": "stdout",
     "output_type": "stream",
     "text": [
      "Entre The Value For A :56\n",
      "Entre The Value For B :20\n",
      "\n",
      "Sum of A & B is 76.\n",
      "Multiplication of A & B is 1120.\n",
      "Division of A & B is 2.8.\n",
      "Square of A is 58.\n",
      "Square of B is 22.\n",
      "\n"
     ]
    }
   ],
   "source": [
    "#2. Take input A and B and print their sum, mul, div, square of the nos.\n",
    "A=int(input(\"Entre The Value For A :\"))\n",
    "B=int(input(\"Entre The Value For B :\"))\n",
    "print(f\"\"\"\n",
    "Sum of A & B is {A+B}.\n",
    "Multiplication of A & B is {A*B}.\n",
    "Division of A & B is {A/B}.\n",
    "Square of A is {A^2}.\n",
    "Square of B is {B^2}.\n",
    "\"\"\")"
   ]
  },
  {
   "cell_type": "code",
   "execution_count": 19,
   "id": "7dbe4a45",
   "metadata": {},
   "outputs": [
    {
     "ename": "TypeError",
     "evalue": "'int' object is not callable",
     "output_type": "error",
     "traceback": [
      "\u001b[1;31m---------------------------------------------------------------------------\u001b[0m",
      "\u001b[1;31mTypeError\u001b[0m                                 Traceback (most recent call last)",
      "\u001b[1;32m~\\AppData\\Local\\Temp\\ipykernel_8004\\1464282758.py\u001b[0m in \u001b[0;36m<cell line: 2>\u001b[1;34m()\u001b[0m\n\u001b[0;32m      1\u001b[0m \u001b[1;31m# 3. How many reserve keywords are there in python and why we should not use them as a variable name.\u001b[0m\u001b[1;33m\u001b[0m\u001b[1;33m\u001b[0m\u001b[0m\n\u001b[1;32m----> 2\u001b[1;33m \u001b[0mprint\u001b[0m\u001b[1;33m(\u001b[0m\u001b[1;34m'This Are Some of Keyword Used in Python\\n'\u001b[0m\u001b[1;33m)\u001b[0m\u001b[1;33m\u001b[0m\u001b[1;33m\u001b[0m\u001b[0m\n\u001b[0m\u001b[0;32m      3\u001b[0m \u001b[1;32mimport\u001b[0m \u001b[0mkeyword\u001b[0m\u001b[1;33m\u001b[0m\u001b[1;33m\u001b[0m\u001b[0m\n\u001b[0;32m      4\u001b[0m \u001b[0ml\u001b[0m\u001b[1;33m=\u001b[0m\u001b[0mkeyword\u001b[0m\u001b[1;33m.\u001b[0m\u001b[0mkwlist\u001b[0m\u001b[1;33m\u001b[0m\u001b[1;33m\u001b[0m\u001b[0m\n\u001b[0;32m      5\u001b[0m \u001b[0mprint\u001b[0m\u001b[1;33m(\u001b[0m\u001b[0ml\u001b[0m\u001b[1;33m)\u001b[0m\u001b[1;33m\u001b[0m\u001b[1;33m\u001b[0m\u001b[0m\n",
      "\u001b[1;31mTypeError\u001b[0m: 'int' object is not callable"
     ]
    }
   ],
   "source": [
    "# 3. How many reserve keywords are there in python and why we should not use them as a variable name.\n",
    "print('This Are Some of Keyword Used in Python\\n')\n",
    "import keyword\n",
    "l=keyword.kwlist\n",
    "print(l)\n",
    "# We can Not Use Keyword As Variable name Beacause if We \n",
    "# Use it as Keyword It Should Lost Its Inbuilt Fuctonality given By Python .\n",
    "#e.g.\n",
    "print=1\n",
    "print(1)#--------> it Will Not Work\n"
   ]
  },
  {
   "cell_type": "code",
   "execution_count": 20,
   "id": "32dc1e53",
   "metadata": {},
   "outputs": [],
   "source": [
    "del print #------->for Deleting Variable"
   ]
  },
  {
   "cell_type": "code",
   "execution_count": 23,
   "id": "3aa5f588",
   "metadata": {},
   "outputs": [
    {
     "name": "stdout",
     "output_type": "stream",
     "text": [
      "Entre Your First Name : Vioelm\n",
      "Entre Your Last Name : \n",
      "gojvdl\n",
      "You Created Email id With Your Input is : \n",
      "\n",
      "            gojvdl.Vioelm@gmail.com\n"
     ]
    }
   ],
   "source": [
    "# 4. Create email ids with the user inputs. in the following format \n",
    "# e.g. lastname.firstname@gmail.com\n",
    "\n",
    "first_name=input(\"Entre Your First Name : \")\n",
    "last_name=input(\"Entre Your Last Name : \\n\")\n",
    "\n",
    "print(f\"\"\"You Created Email id With Your Input is : \\n\n",
    "            {last_name}.{first_name}@gmail.com\"\"\")"
   ]
  },
  {
   "cell_type": "code",
   "execution_count": 32,
   "id": "e934e0b6",
   "metadata": {},
   "outputs": [
    {
     "name": "stdout",
     "output_type": "stream",
     "text": [
      "Hi I'm Sunny\n",
      "My address is 22\\3\n",
      "I earn 20$ daily.\n"
     ]
    }
   ],
   "source": [
    "#5. Try to print the following lines -\n",
    "\n",
    "print(\"Hi I'm Sunny\")\n",
    "print(\"My address is 22\\\\3\")\n",
    "print(\"I earn 20$ daily.\")"
   ]
  },
  {
   "cell_type": "code",
   "execution_count": 57,
   "id": "54d29728",
   "metadata": {},
   "outputs": [
    {
     "name": "stdout",
     "output_type": "stream",
     "text": [
      "Enter Your First And Last Name Space Seperated : \n",
      "sgf wef\n",
      "Entre birth Date Day-Month-Year '-' Seperated\n",
      "10-10-1000\n",
      "Enter Your Address Like City - Tahsil - District - Colony - Area - State - Pin-Code Etc : sg\n",
      "Do you Have Email or Not Please Type Yes/No: YES\n",
      "YES\n",
      "Enter You Email id : Vial.Shi@cvbj.com\n"
     ]
    }
   ],
   "source": [
    "#6. Take user input (name, address, date of birth etc) to fill a form for your college and print their email IDs\n",
    "import datetime\n",
    "First_name, Last_name=input(\"Enter Your First And Last Name Space Seperated : \\n\").split(\" \")\n",
    "date_str=input(\"Entre birth Date Day-Month-Year '-' Seperated\\n\")\n",
    "Birth_Date=datetime.datetime.strptime(date_str,'%d-%m-%Y')\n",
    "Adress=input(\"Enter Your Address Like City - Tahsil - District - Colony - Area - State - Pin-Code Etc : \")\n",
    "\n",
    "email_Check=input(\"Do you Have Email or Not Please Type Yes/No: \")\n",
    "print(email_Check)\n",
    "if email_Check.lower()==\"no\":\n",
    "    print(\"We Created Email id for You : \")\n",
    "    email=First_name+\".\"+Last_name+\"@gmail.com\"\n",
    "    print(f\"Your Email-id is : {email}\")\n",
    "elif email_Check.lower()=='yes':\n",
    "    email=input(\"Enter You Email id : \")"
   ]
  },
  {
   "cell_type": "code",
   "execution_count": 65,
   "id": "9855571a",
   "metadata": {},
   "outputs": [
    {
     "name": "stdout",
     "output_type": "stream",
     "text": [
      "<class 'str'>\n",
      "22\n",
      "<class 'int'>\n",
      "------------\n",
      "<class 'str'>\n",
      "(22+0j)\n",
      "<class 'complex'>\n"
     ]
    }
   ],
   "source": [
    "# 7. Convert the following \n",
    "\n",
    "#\"22.4\" into integer\n",
    "# \"22\" into complex no.\n",
    "\n",
    "a=\"22.4\"\n",
    "print(type(a))\n",
    "a=int(float(a))\n",
    "print(a)\n",
    "print(type(a))\n",
    "\n",
    "print(\"------------\")\n",
    "\n",
    "i=\"22\"\n",
    "print(type(i))\n",
    "i=complex(int(i))\n",
    "print(i)\n",
    "print(type(i))"
   ]
  },
  {
   "cell_type": "code",
   "execution_count": null,
   "id": "8cc97c98",
   "metadata": {},
   "outputs": [],
   "source": []
  }
 ],
 "metadata": {
  "kernelspec": {
   "display_name": "Python 3 (ipykernel)",
   "language": "python",
   "name": "python3"
  },
  "language_info": {
   "codemirror_mode": {
    "name": "ipython",
    "version": 3
   },
   "file_extension": ".py",
   "mimetype": "text/x-python",
   "name": "python",
   "nbconvert_exporter": "python",
   "pygments_lexer": "ipython3",
   "version": "3.9.12"
  }
 },
 "nbformat": 4,
 "nbformat_minor": 5
}
