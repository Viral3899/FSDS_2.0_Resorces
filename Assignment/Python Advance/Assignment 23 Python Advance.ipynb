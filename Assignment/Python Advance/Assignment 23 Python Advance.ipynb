{
 "cells": [
  {
   "cell_type": "markdown",
   "metadata": {},
   "source": [
    "Q1. If you have any, what are your choices for increasing the comparison between different figures on the same graph?\n",
    "\n",
    "\n",
    "    There are several options for increasing the comparison between different figures on the same graph. Some of them are:\n",
    "\n",
    "    Using different colors: By using different colors for different figures, we can easily distinguish between them.\n",
    "\n",
    "    Using different types of lines: Different types of lines (e.g. solid, dotted, dashed) can be used to distinguish between different figures.\n",
    "\n",
    "    Using markers: Markers (e.g. dots, squares, triangles) can be added to the lines to make them more visible.\n",
    "\n",
    "    Using labels: Labels can be added to the figures to make it easier to identify them.\n",
    "\n",
    "    Using a legend: A legend can be added to the graph to provide more information about the figures."
   ]
  },
  {
   "cell_type": "markdown",
   "metadata": {},
   "source": [
    "Q2. Can you explain the benefit of compound interest over a higher rate of interest that does not compound after reading this chapter?\n",
    "\n",
    "    Compound interest is the interest that is earned on both the principal amount and the interest that has been previously earned. The benefit of compound interest over a higher rate of interest that does not compound is that it allows for exponential growth of the investment. This means that the interest earned in each period is added to the principal, and then the interest is calculated on the new, higher amount. Over time, this can lead to sig"
   ]
  },
  {
   "cell_type": "markdown",
   "metadata": {},
   "source": [
    "Q3. What is a histogram, exactly? Name a numpy method for creating such a graph.\n",
    "\n",
    "    A histogram is a graphical representation of the distribution of a dataset. It consists of a set of rectangles that represent the frequency or proportion of data in a given range or bin. The x-axis represents the range of values being measured, and the y-axis represents the frequency or proportion of data in each range/bin.\n",
    "\n",
    "    In numpy, the method for creating a histogram is numpy.histogram(). It takes a dataset and a number of bins as input and returns an array of the counts of data points in each bin, as well as an array of the bin edges."
   ]
  },
  {
   "cell_type": "markdown",
   "metadata": {},
   "source": [
    "Q4. If necessary, how do you change the aspect ratios between the X and Y axes?\n",
    "\n",
    "    The aspect ratio between the X and Y axes can be changed by setting the aspect parameter of the matplotlib.pyplot.axes() function. The aspect parameter takes a string or a number as input, and it specifies the aspect ratio of the plot. If the input is a number, it specifies the ratio of the height to the width of the plot. If the input is a string, it can be one of the following values: 'equal' (equal aspect ratio), 'auto' (automatic aspect ratio), or 'normal' (normal aspect ratio"
   ]
  },
  {
   "cell_type": "markdown",
   "metadata": {},
   "source": [
    "Q5. Compare and contrast the three types of array multiplication between two numpy arrays: dot product, outer product, and regular multiplication of two numpy arrays.\n",
    "\n",
    "    The three types of array multiplication between two numpy arrays are:\n",
    "\n",
    "    Regular multiplication: This is the element-wise multiplication of two numpy arrays. It is performed using the * operator. The resulting array has the same shape as the input arrays.\n",
    "\n",
    "    Dot product: This is a matrix multiplication operation between two numpy arrays. It is performed using the dot() method. The resulting array has a shape that is the product of the shapes of the input arrays.\n",
    "\n",
    "    Outer product: This is a multiplication operation that results in a new array with shape (M,N), where M is the length of the first input array and N is the length of the second input array. It is performed using the outer() method.\n",
    "\n",
    "    The main difference between these three types of multiplication is the resulting shape of the output array."
   ]
  },
  {
   "cell_type": "markdown",
   "metadata": {},
   "source": [
    "Q6. Before you buy a home, which numpy function will you use to measure your monthly mortgage payment?\n",
    "\n",
    "    To measure the monthly mortgage payment before buying a home, we can use the numpy function numpy.pmt(rate, nper, pv, fv=0, when='end'). This function calculates the fixed monthly payment required to pay off a loan with a fixed interest rate over a fixed period of time.\n",
    "\n",
    "    The parameters are:\n",
    "\n",
    "    rate: the interest rate per period\n",
    "    nper: the total number of periods (usually months)\n",
    "    pv: the present value or principal of the loan\n",
    "    fv: the future value or the balance remaining at the end of the loan (default is 0)\n",
    "    when: specifies whether payments are made at the beginning or end of each period (default is 'end')\n",
    "    The function returns the fixed monthly payment required to pay off the loan."
   ]
  },
  {
   "cell_type": "markdown",
   "metadata": {},
   "source": [
    "Q7. Can string data be stored in numpy arrays? If so, list at least one restriction that applies to this data.\n",
    "\n",
    "    Yes, string data can be stored in numpy arrays using the dtype='str' or dtype='S' parameter when creating the array. However, there are some restrictions that apply to this data:\n",
    "\n",
    "    The strings must be of fixed length, which is specified when the array is created.\n",
    "    \n",
    "    The maximum length of the strings is determined by the size of the array and the amount of memory available. If a longer string is assigned to an element of the array, it will be truncated."
   ]
  }
 ],
 "metadata": {
  "kernelspec": {
   "display_name": "Python 3.8.10 64-bit",
   "language": "python",
   "name": "python3"
  },
  "language_info": {
   "codemirror_mode": {
    "name": "ipython",
    "version": 3
   },
   "file_extension": ".py",
   "mimetype": "text/x-python",
   "name": "python",
   "nbconvert_exporter": "python",
   "pygments_lexer": "ipython3",
   "version": "3.8.10"
  },
  "orig_nbformat": 4,
  "vscode": {
   "interpreter": {
    "hash": "e7370f93d1d0cde622a1f8e1c04877d8463912d04d973331ad4851f04de6915a"
   }
  }
 },
 "nbformat": 4,
 "nbformat_minor": 2
}
