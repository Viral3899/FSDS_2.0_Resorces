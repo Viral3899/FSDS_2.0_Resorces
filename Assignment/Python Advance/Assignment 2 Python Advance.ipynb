{
 "cells": [
  {
   "cell_type": "markdown",
   "metadata": {},
   "source": [
    "Q1. What is the relationship between classes and modules?\n",
    "\n",
    "In Python, a module is a file containing Python code, while a class is a code construct used to define a type of object. Classes can be defined within a module, or they can be imported from another module.\n",
    "\n",
    "Modules can contain one or more classes, as well as functions, variables, and other code constructs. When a module is imported, its classes and other constructs can be used in other parts of the program.\n",
    "\n",
    "In summary, a module can contain one or more classes, and classes can be defined within a module or imported from another module."
   ]
  },
  {
   "cell_type": "markdown",
   "metadata": {},
   "source": [
    "Q2. How do you make instances and classes?\n",
    "\n",
    "To create a class in Python, you use the \"class\" keyword followed by the name of the class. Inside the class definition, you can define attributes and methods that define the behavior of the class."
   ]
  },
  {
   "cell_type": "code",
   "execution_count": 3,
   "metadata": {},
   "outputs": [
    {
     "name": "stdout",
     "output_type": "stream",
     "text": [
      "Hello, world!\n"
     ]
    }
   ],
   "source": [
    "class MyClass:\n",
    "    def __init__(self, value):\n",
    "        self.my_attribute = value\n",
    "\n",
    "    def my_method(self):\n",
    "        print(\"Hello, world!\")\n",
    "\n",
    "my_instance = MyClass(\"some value\")\n",
    "\n",
    "my_instance.my_method()"
   ]
  },
  {
   "cell_type": "markdown",
   "metadata": {},
   "source": [
    "Q3. Where and how should class attributes be created?\n",
    "\n",
    "Class attributes are attributes that are shared by all instances of a class. They can be created within the class definition and are accessed using the class name rather than an instance of the class."
   ]
  },
  {
   "cell_type": "code",
   "execution_count": 4,
   "metadata": {},
   "outputs": [],
   "source": [
    "class MyClass:\n",
    "    class_attribute = \"This is a class attribute\"\n",
    "\n",
    "    def __init__(self, value):\n",
    "        self.instance_attribute = value\n"
   ]
  },
  {
   "cell_type": "markdown",
   "metadata": {},
   "source": [
    "Q4. Where and how are instance attributes created?\n",
    "\n",
    "Instance attributes are attributes that are unique to each instance of a class. They are created and initialized within the class constructor using the \"self\" parameter."
   ]
  },
  {
   "cell_type": "code",
   "execution_count": 5,
   "metadata": {},
   "outputs": [],
   "source": [
    "class MyClass:\n",
    "    def __init__(self, value):\n",
    "        self.instance_attribute = value\n"
   ]
  },
  {
   "cell_type": "markdown",
   "metadata": {},
   "source": [
    "Q5. What does the term \"self\" in a Python class mean?\n",
    "\n",
    "In Python, \"self\" is a conventionally used parameter name that refers to the instance of the class that a method is being called on. When a method is called on an instance of a class, the instance itself is automatically passed as the first argument to the method, which is conventionally named \"self\".\n",
    "\n",
    "Using \"self\" as the first parameter is a convention that makes the code more readable and easier to understand. By convention, \"self\" is used to refer to the instance itself, but it could technically be named anything."
   ]
  },
  {
   "cell_type": "markdown",
   "metadata": {},
   "source": [
    "Q6. How does a Python class handle operator overloading?\n",
    "\n",
    "In Python, operator overloading is achieved by defining special methods with double underscores (e.g. \"add\", \"sub\", \"eq\") that correspond to specific operators. These methods allow instances of a class to behave like built-in types when they are used with operators.\n",
    "\n",
    "For example, if you define the \"add\" method in your class, you can use the \"+\" operator to add instances of your class together."
   ]
  },
  {
   "cell_type": "code",
   "execution_count": 6,
   "metadata": {},
   "outputs": [
    {
     "name": "stdout",
     "output_type": "stream",
     "text": [
      "3\n"
     ]
    }
   ],
   "source": [
    "class MyClass:\n",
    "    def __init__(self, value):\n",
    "        self.value = value\n",
    "\n",
    "    def __add__(self, other):\n",
    "        return MyClass(self.value + other.value)\n",
    "\n",
    "a = MyClass(1)\n",
    "b = MyClass(2)\n",
    "c = a + b \n",
    "print(c.value) \n"
   ]
  },
  {
   "cell_type": "markdown",
   "metadata": {},
   "source": [
    "Q7. When do you consider allowing operator overloading of your classes?\n",
    "\n",
    "Operator overloading can be useful in situations where it makes sense to use a particular operator with instances of a class. For example, if you're working with numerical data, it might make sense to define \"add\" and \"sub\" methods so that you can add and subtract instances of your class using the \"+\" and \"-\" operators.\n",
    "\n",
    "However, operator overloading can also make code harder to read and understand if it's not used appropriately. It's generally best to use operator overloading sparingly and only when it makes the code more readable and intuitive."
   ]
  },
  {
   "cell_type": "markdown",
   "metadata": {},
   "source": [
    "Q8. What is the most popular form of operator overloading?\n",
    "\n",
    "The most popular form of operator overloading in Python is probably the \"add\" method, which allows instances of a class to be added together using the \"+\" operator. Other commonly used special methods include \"sub\" for subtraction, \"eq\" for equality testing, and \"str\" for string representation."
   ]
  },
  {
   "cell_type": "markdown",
   "metadata": {},
   "source": [
    "Q9. What are the two most important concepts to grasp in order to comprehend Python OOP code?\n",
    "\n",
    "The two most important concepts to grasp in order to comprehend Python OOP code are classes and objects.\n",
    "\n",
    "A class is a blueprint for creating objects. It defines the properties and methods that objects of that class will have.\n",
    "\n",
    "An object is an instance of a class. It has its own set of values for the properties defined by the class, and it can call the methods defined by the class."
   ]
  }
 ],
 "metadata": {
  "kernelspec": {
   "display_name": "Python 3.8.10 64-bit",
   "language": "python",
   "name": "python3"
  },
  "language_info": {
   "codemirror_mode": {
    "name": "ipython",
    "version": 3
   },
   "file_extension": ".py",
   "mimetype": "text/x-python",
   "name": "python",
   "nbconvert_exporter": "python",
   "pygments_lexer": "ipython3",
   "version": "3.8.10"
  },
  "orig_nbformat": 4,
  "vscode": {
   "interpreter": {
    "hash": "e7370f93d1d0cde622a1f8e1c04877d8463912d04d973331ad4851f04de6915a"
   }
  }
 },
 "nbformat": 4,
 "nbformat_minor": 2
}
