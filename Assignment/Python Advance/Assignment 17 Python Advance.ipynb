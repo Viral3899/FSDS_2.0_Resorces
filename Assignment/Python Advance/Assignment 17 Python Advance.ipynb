{
 "cells": [
  {
   "cell_type": "markdown",
   "metadata": {},
   "source": [
    "Q1. Explain the difference between greedy and non-greedy syntax with visual terms in as few words as possible. What is the bare minimum effort required to transform a greedy pattern into a non-greedy one? What characters or characters can you introduce or change?\n",
    "\n",
    "    Greedy and non-greedy syntax determines the behavior of regular expression pattern matching. A greedy pattern matches the longest possible string, while a non-greedy pattern matches the shortest possible string. To transform a greedy pattern into a non-greedy pattern, add a \"?\" after the quantifier. For example, changing \".\" to \".?\" makes it non-greedy."
   ]
  },
  {
   "cell_type": "markdown",
   "metadata": {},
   "source": [
    "Q2. When exactly does greedy versus non-greedy make a difference?  What if you're looking for a non-greedy match but the only one available is greedy?\n",
    "\n",
    "     Greedy versus non-greedy syntax makes a difference when a pattern matches multiple occurrences of the same substring. If the pattern is greedy, it matches the longest possible string that satisfies the pattern. If it is non-greedy, it matches the shortest possible string. If you're looking for a non-greedy match but the only one available is greedy, you can modify the pattern to be non-greedy by adding a \"?\" after the quantifier."
   ]
  },
  {
   "cell_type": "markdown",
   "metadata": {},
   "source": [
    "Q3. In a simple match of a string, which looks only for one match and does not do any replacement, is the use of a nontagged group likely to make any practical difference?\n",
    "\n",
    "    In a simple match of a string, the use of a non-tagged group is not likely to make any practical difference since it does not capture any substrings for later use."
   ]
  },
  {
   "cell_type": "markdown",
   "metadata": {},
   "source": [
    "Q4. Describe a scenario in which using a nontagged category would have a significant impact on the program's outcomes.\n",
    "\n",
    "    One scenario in which using a non-tagged category would have a significant impact on the program's outcomes is when you want to match a group of characters but not capture it. For example, if you want to match a URL but only capture the domain name, you can use a non-capturing group to exclude the protocol and path."
   ]
  },
  {
   "cell_type": "markdown",
   "metadata": {},
   "source": [
    "Q5. Unlike a normal regex pattern, a look-ahead condition does not consume the characters it examines. Describe a situation in which this could make a difference in the results of your programme.\n",
    "\n",
    "     A look-ahead condition does not consume the characters it examines, which can make a difference in the results of a program when you want to find a match for a pattern that is followed by another pattern but you don't want to include the second pattern in the match."
   ]
  },
  {
   "cell_type": "markdown",
   "metadata": {},
   "source": [
    "Q6. In standard expressions, what is the difference between positive look-ahead and negative look-ahead?\n",
    "\n",
    "    In standard expressions, positive look-ahead and negative look-ahead are used to specify a pattern that must (positive) or must not (negative) be present after the pattern being matched"
   ]
  },
  {
   "cell_type": "markdown",
   "metadata": {},
   "source": [
    "Q7. What is the benefit of referring to groups by name rather than by number in a standard expression?\n",
    "\n",
    "    Referring to groups by name instead of by number in a standard expression makes the pattern more readable and less prone to errors if the order of the groups changes"
   ]
  },
  {
   "cell_type": "markdown",
   "metadata": {},
   "source": [
    "Q8. Can you identify repeated items within a target string using named groups, as in \"The cow jumped over the moon\"?\n",
    "\n",
    "    Yes, you can identify repeated items within a target string using named groups by using the syntax \"(?P<name>pattern)\" to create a named group, where \"name\" is the name of the group and \"pattern\" is the regular expression pattern."
   ]
  },
  {
   "cell_type": "markdown",
   "metadata": {},
   "source": [
    "Q9. When parsing a string, what is at least one thing that the Scanner interface does for you that the re.findall feature does not?\n",
    "\n",
    "    When parsing a string, the Scanner interface automatically skips over delimiters and whitespace, making it easier to parse structured text. The re.findall feature does not provide this functionality."
   ]
  },
  {
   "cell_type": "markdown",
   "metadata": {},
   "source": [
    "Q10. Does a scanner object have to be named scanner?\n",
    "\n",
    "    No, a scanner object does not have to be named scanner, but it is a common convention to use that name."
   ]
  }
 ],
 "metadata": {
  "kernelspec": {
   "display_name": "Python 3.8.10 64-bit",
   "language": "python",
   "name": "python3"
  },
  "language_info": {
   "codemirror_mode": {
    "name": "ipython",
    "version": 3
   },
   "file_extension": ".py",
   "mimetype": "text/x-python",
   "name": "python",
   "nbconvert_exporter": "python",
   "pygments_lexer": "ipython3",
   "version": "3.8.10"
  },
  "orig_nbformat": 4,
  "vscode": {
   "interpreter": {
    "hash": "e7370f93d1d0cde622a1f8e1c04877d8463912d04d973331ad4851f04de6915a"
   }
  }
 },
 "nbformat": 4,
 "nbformat_minor": 2
}
