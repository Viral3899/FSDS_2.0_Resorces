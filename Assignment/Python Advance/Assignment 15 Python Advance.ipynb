{
 "cells": [
  {
   "cell_type": "markdown",
   "metadata": {},
   "source": [
    "Q.1 What are the new features added in Python 3.8 version?\n",
    "\n",
    "    Python 3.8, released in October 2019, introduced several new features and optimizations, including:\n",
    "    Assignment expressions (also known as the \"walrus operator\") using the syntax :=.\n",
    "    Positional-only parameters in functions, marked with /.\n",
    "    f-strings now support the = syntax for variable assignment.\n",
    "    The breakpoint() function is introduced for interactive debugging.\n",
    "    New syntax for specifying C-style variable annotations.\n",
    "    A new typing module for improved support of type hints.\n",
    "    Performance improvements in the interpreter, including faster function calls and more efficient memory management."
   ]
  },
  {
   "cell_type": "markdown",
   "metadata": {},
   "source": [
    "Q.2 What is monkey patching in Python?\n",
    "\n",
    "    Monkey patching is the practice of modifying or extending the behavior of a software component at runtime, without altering its source code. In Python, this can be done by redefining attributes or methods of an object at runtime, effectively replacing or augmenting its original behavior. While monkey patching can be a useful technique for debugging or extending existing code, it can also lead to unexpected behavior and make code harder to reason about, so it should be used with caution."
   ]
  },
  {
   "cell_type": "markdown",
   "metadata": {},
   "source": [
    "Q.3 What is the difference between a shallow copy and deep copy?\n",
    "\n",
    "    In Python, a shallow copy of an object creates a new object that points to the same memory location as the original, but with a new reference. This means that changes made to the original object will be reflected in the shallow copy, and vice versa. In contrast, a deep copy creates a completely new object with its own memory location, and recursively copies all of the objects contained within the original object. This means that changes made to the original object will not affect the deep copy, and vice versa."
   ]
  },
  {
   "cell_type": "markdown",
   "metadata": {},
   "source": [
    "Q.4 What is the maximum possible length of an identifier?\n",
    "\n",
    "    In Python, the maximum length of an identifier is implementation-dependent, but it is generally recommended to keep identifiers to 79 characters or fewer for readability. Additionally, identifiers must follow certain naming conventions, such as starting with a letter or underscore, and containing only letters, numbers, and underscores."
   ]
  },
  {
   "cell_type": "markdown",
   "metadata": {},
   "source": [
    "Q.5 What is generator comprehension?\n",
    "\n",
    "    Generator comprehension is a concise syntax for creating generators in Python, similar to list comprehension for creating lists. It uses the same syntax as list comprehension, but with parentheses instead of square brackets. For example, the following generator comprehension creates a generator that yields the squares of the numbers from 1 to 10:"
   ]
  },
  {
   "cell_type": "code",
   "execution_count": 1,
   "metadata": {},
   "outputs": [],
   "source": [
    "squares = (x**2 for x in range(1, 11))\n"
   ]
  },
  {
   "cell_type": "markdown",
   "metadata": {},
   "source": [
    "    Generator comprehension is often more memory-efficient than creating a list comprehension, as it only generates one item at a time as needed, rather than creating the entire list in memory at once."
   ]
  },
  {
   "cell_type": "code",
   "execution_count": null,
   "metadata": {},
   "outputs": [],
   "source": []
  }
 ],
 "metadata": {
  "kernelspec": {
   "display_name": "Python 3.8.10 64-bit",
   "language": "python",
   "name": "python3"
  },
  "language_info": {
   "codemirror_mode": {
    "name": "ipython",
    "version": 3
   },
   "file_extension": ".py",
   "mimetype": "text/x-python",
   "name": "python",
   "nbconvert_exporter": "python",
   "pygments_lexer": "ipython3",
   "version": "3.8.10"
  },
  "orig_nbformat": 4,
  "vscode": {
   "interpreter": {
    "hash": "e7370f93d1d0cde622a1f8e1c04877d8463912d04d973331ad4851f04de6915a"
   }
  }
 },
 "nbformat": 4,
 "nbformat_minor": 2
}
