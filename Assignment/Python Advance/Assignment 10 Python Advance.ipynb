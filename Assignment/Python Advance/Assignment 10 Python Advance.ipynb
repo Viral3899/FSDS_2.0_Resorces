{
 "cells": [
  {
   "cell_type": "markdown",
   "metadata": {},
   "source": [
    "Q1. What is the difference between __getattr__ and __getattribute__?\n",
    "\n",
    "    The main difference between getattr and getattribute \n",
    "    s that getattr is called only when an attribute is \n",
    "    not found through the normal lookup process, whereas \n",
    "    getattribute is called for every attribute access. \n",
    "    This means that getattribute can intercept all \n",
    "    attribute accesses, while getattr only handles a\n",
    "    ttribute accesses for attributes that do not exist."
   ]
  },
  {
   "cell_type": "markdown",
   "metadata": {},
   "source": [
    "Q2. What is the difference between properties and descriptors?\n",
    "\n",
    "    Properties and descriptors are both used to customize attribute access in Python, but they differ in how they are implemented. Properties are created by defining methods with the @property decorator and can be used to customize attribute access for a specific instance variable. Descriptors, on the other hand, are objects that define the methods get, set, and/or delete, and can be used to customize attribute access for multiple attributes of a class."
   ]
  },
  {
   "cell_type": "markdown",
   "metadata": {},
   "source": [
    "Q3. What are the key differences in functionality between getattr and getattribute, as well as properties and descriptors?\n",
    "\n",
    "    The key differences in functionality between getattr and getattribute are that getattr is called only when an attribute is not found through the normal lookup process, while getattribute is called for every attribute access. This means that getattribute can intercept all attribute accesses, while getattr only handles attribute accesses for attributes that do not exist.\n",
    "\n",
    "\n",
    "    The key differences in functionality between properties and descriptors are that properties are defined on a per-instance basis and can only customize the behavior of a single attribute, while descriptors are defined at the class level and can be used to customize the behavior of multiple attributes. Additionally, properties can only be used to customize attribute access for the owning class, while descriptors can be used to customize attribute access for any class that uses them."
   ]
  },
  {
   "cell_type": "markdown",
   "metadata": {},
   "source": []
  }
 ],
 "metadata": {
  "kernelspec": {
   "display_name": "Python 3.8.10 64-bit",
   "language": "python",
   "name": "python3"
  },
  "language_info": {
   "codemirror_mode": {
    "name": "ipython",
    "version": 3
   },
   "file_extension": ".py",
   "mimetype": "text/x-python",
   "name": "python",
   "nbconvert_exporter": "python",
   "pygments_lexer": "ipython3",
   "version": "3.8.10"
  },
  "orig_nbformat": 4,
  "vscode": {
   "interpreter": {
    "hash": "e7370f93d1d0cde622a1f8e1c04877d8463912d04d973331ad4851f04de6915a"
   }
  }
 },
 "nbformat": 4,
 "nbformat_minor": 2
}
