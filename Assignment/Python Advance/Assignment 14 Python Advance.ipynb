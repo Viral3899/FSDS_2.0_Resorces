{
 "cells": [
  {
   "cell_type": "markdown",
   "metadata": {},
   "source": [
    "Q1. Is an assignment operator like += only for show? Is it possible that it would lead to faster results at the runtime?\n",
    "\n",
    "    No, the assignment operator like += is not only for show; it can lead to faster results at runtime. The += operator is a shorthand for the expression a = a + b. When this operator is used, Python creates a new object with the updated value and assigns it back to the variable. This operation can be faster than creating a new variable and assigning it to the result of the expression."
   ]
  },
  {
   "cell_type": "markdown",
   "metadata": {},
   "source": [
    "Q2. What is the smallest number of statements you'd have to write in most programming languages to replace the Python expression a, b = a + b, a?\n",
    "\n",
    "    In most programming languages, you would need three statements to replace the Python expression a, b = a + b, a:"
   ]
  },
  {
   "cell_type": "code",
   "execution_count": 3,
   "metadata": {},
   "outputs": [
    {
     "data": {
      "text/plain": [
       "15"
      ]
     },
     "execution_count": 3,
     "metadata": {},
     "output_type": "execute_result"
    }
   ],
   "source": [
    "a=15\n",
    "b=20\n",
    "temp = a + b\n",
    "a = b\n",
    "b = temp - a\n",
    "b"
   ]
  },
  {
   "cell_type": "markdown",
   "metadata": {},
   "source": [
    "Q3. In Python, what is the most effective way to set a list of 100 integers to 0?\n",
    "\n",
    "    The most effective way to set a list of 100 integers to 0 in Python is to use list comprehension:"
   ]
  },
  {
   "cell_type": "code",
   "execution_count": 4,
   "metadata": {},
   "outputs": [],
   "source": [
    "my_list = [0] * 100\n"
   ]
  },
  {
   "cell_type": "markdown",
   "metadata": {},
   "source": [
    "Q4. What is the most effective way to initialise a list of 99 integers that repeats the sequence 1, 2, 3? S If necessary, show step-by-step instructions on how to accomplish this.\n",
    "\n",
    "\n",
    "    The most effective way to initialize a list of 99 integers that repeats the sequence 1, 2, 3 in Python is to use the cycle() function from the itertools module and then use list comprehension:"
   ]
  },
  {
   "cell_type": "code",
   "execution_count": 5,
   "metadata": {},
   "outputs": [],
   "source": [
    "from itertools import cycle\n",
    "\n",
    "my_list = [x for _, x in zip(range(99), cycle([1, 2, 3]))]\n"
   ]
  },
  {
   "cell_type": "markdown",
   "metadata": {},
   "source": [
    "Q5. If you're using IDLE to run a Python application, explain how to print a multidimensional list as efficiently?\n",
    "\n",
    "    To print a multidimensional list in IDLE, you can use a nested loop:"
   ]
  },
  {
   "cell_type": "code",
   "execution_count": 6,
   "metadata": {},
   "outputs": [
    {
     "name": "stdout",
     "output_type": "stream",
     "text": [
      "1 2 \n",
      "3 4 \n",
      "5 6 \n"
     ]
    }
   ],
   "source": [
    "my_list = [[1, 2], [3, 4], [5, 6]]\n",
    "for row in my_list:\n",
    "    for column in row:\n",
    "        print(column, end=\" \")\n",
    "    print()\n"
   ]
  },
  {
   "cell_type": "markdown",
   "metadata": {},
   "source": [
    "Q6. Is it possible to use list comprehension with a string? If so, how can you go about doing it?\n",
    "\n",
    "    Yes, it is possible to use list comprehension with a string in Python. You can use the list() function to convert the string into a list of characters and then use list comprehension:"
   ]
  },
  {
   "cell_type": "code",
   "execution_count": 7,
   "metadata": {},
   "outputs": [
    {
     "name": "stdout",
     "output_type": "stream",
     "text": [
      "['h', 'e', 'l', 'l', 'o']\n"
     ]
    }
   ],
   "source": [
    "my_string = \"hello\"\n",
    "my_list = [char for char in my_string]\n",
    "print(my_list)   \n"
   ]
  },
  {
   "cell_type": "markdown",
   "metadata": {},
   "source": [
    "Q7. From the command line, how do you get support with a user-written Python programme? Is this possible from inside IDLE?\n",
    "\n",
    "    From the command line, you can use the Python interpreter's built-in help() function to get support with a user-written Python program. You can call help() with the name of the module, function, or class you want to get help for.\n",
    "\n",
    "    In IDLE, you can access the help() function from the menu bar by clicking on \"Python Shell\" and then \"Documentation\"."
   ]
  },
  {
   "cell_type": "code",
   "execution_count": null,
   "metadata": {},
   "outputs": [],
   "source": []
  },
  {
   "cell_type": "markdown",
   "metadata": {},
   "source": [
    "Q8. Functions are said to be “first-class objects” in Python but not in most other languages, such as C++ or Java. What can you do in Python with a function (callable object) that you can't do in C or C++?\n",
    "\n",
    "    In Python, functions are considered \"first-class objects,\" meaning they can be passed around like any other object. This allows for more flexibility in programming, as functions can be assigned to variables, passed as arguments to other functions, and returned as values from functions. In languages like C or C++, functions are not treated as first-class objects and cannot be passed around in the same way."
   ]
  },
  {
   "cell_type": "markdown",
   "metadata": {},
   "source": [
    "Q9. How do you distinguish between a wrapper, a wrapped feature, and a decorator?\n",
    "\n",
    "     A wrapper is a function that takes another function as an argument and adds additional functionality to it without altering the original function's code. The wrapped feature is the original function being passed to the wrapper function. A decorator is a function that takes another function as an argument and returns a new function that adds additional functionality to the original function. Decorators are a specific type of wrapper function that use the @ symbol to indicate that they are decorating another function."
   ]
  },
  {
   "cell_type": "markdown",
   "metadata": {},
   "source": [
    "Q10. If a function is a generator function, what does it return?\n",
    "\n",
    "    A generator function returns a generator object, which is an iterator that generates a sequence of values on the fly, as opposed to creating a complete list of values all at once. When a generator function is called, it does not execute the code immediately, but rather returns a generator object. The generator object can then be used to iterate over the values generated by the function."
   ]
  },
  {
   "cell_type": "markdown",
   "metadata": {},
   "source": [
    "Q11. What is the one improvement that must be made to a function in order for it to become a generator function in the Python language?\n",
    "\n",
    "    The improvement required for a function to become a generator function is the addition of the yield keyword. When the yield keyword is used in a function, it turns the function into a generator function, which allows the function to generate a sequence of values on the fly. The yield keyword pauses the execution of the function and returns a value to the caller, while also preserving the function's state so that it can continue executing from where it left off when the next value is requested."
   ]
  },
  {
   "cell_type": "markdown",
   "metadata": {},
   "source": [
    "Q12. Identify at least one benefit of generators.\n",
    "\n",
    "    One benefit of generators is that they are memory-efficient, as they do not create a complete list of values all at once. Instead, they generate values on the fly, as needed. This can be especially useful when working with large datasets or when dealing with values that are generated dynamically. Generators also allow for more efficient processing of data, as they can be used to generate only the necessary values, rather than generating a complete list and then filtering or manipulating it. Finally, generators can improve code readability, as they allow for more concise and elegant code, especially when used in conjunction with other Python features such as list comprehensions and functional programming constructs."
   ]
  },
  {
   "cell_type": "markdown",
   "metadata": {},
   "source": []
  }
 ],
 "metadata": {
  "kernelspec": {
   "display_name": "Python 3.8.10 64-bit",
   "language": "python",
   "name": "python3"
  },
  "language_info": {
   "codemirror_mode": {
    "name": "ipython",
    "version": 3
   },
   "file_extension": ".py",
   "mimetype": "text/x-python",
   "name": "python",
   "nbconvert_exporter": "python",
   "pygments_lexer": "ipython3",
   "version": "3.8.10"
  },
  "orig_nbformat": 4,
  "vscode": {
   "interpreter": {
    "hash": "e7370f93d1d0cde622a1f8e1c04877d8463912d04d973331ad4851f04de6915a"
   }
  }
 },
 "nbformat": 4,
 "nbformat_minor": 2
}
