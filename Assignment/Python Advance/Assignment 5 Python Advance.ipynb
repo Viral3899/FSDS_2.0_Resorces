{
 "cells": [
  {
   "cell_type": "markdown",
   "metadata": {},
   "source": [
    "Q1. What is the meaning of multiple inheritance?\n",
    "\n",
    "    Multiple inheritance is a feature in object-oriented programming where a subclass can inherit from multiple parent classes. This allows the subclass to inherit attributes and methods from multiple sources, potentially leading to code reuse and increased flexibility. However, it can also lead to complications and conflicts if there are naming collisions or if the parent classes have conflicting behaviors."
   ]
  },
  {
   "cell_type": "markdown",
   "metadata": {},
   "source": [
    "Q2. What is the concept of delegation?\n",
    "\n",
    "    Delegation is a programming technique where an object forwards a method call to another object, known as its delegate, rather than implementing the method itself. This allows the delegate object to perform the behavior associated with the method, while the original object can maintain a higher-level view of the behavior it needs to support."
   ]
  },
  {
   "cell_type": "markdown",
   "metadata": {},
   "source": [
    "Q3. What is the concept of composition?\n",
    "\n",
    "    Composition is a programming technique where a class is built by combining other classes, rather than by inheriting from them. This allows for greater flexibility and modularity, as the behavior of the class can be modified by changing the objects it contains. Composition is often used as an alternative to multiple inheritance."
   ]
  },
  {
   "cell_type": "markdown",
   "metadata": {},
   "source": [
    "Q4. What are bound methods and how do we use them?\n",
    "\n",
    "    Bound methods are methods of an instance of a class that are bound to that instance. This means that when the method is called, the instance is automatically passed as the first argument (usually named \"self\"). Bound methods can be used to access or modify instance attributes, or to perform other operations specific to the instance."
   ]
  },
  {
   "cell_type": "markdown",
   "metadata": {},
   "source": [
    "Q5. What is the purpose of pseudoprivate attributes?\n",
    "\n",
    "    Pseudoprivate attributes are attributes in Python classes that are prefixed with double underscores, such as \"__attribute\". These attributes are intended to be private to the class, meaning that they should not be accessed or modified from outside the class. However, they are not truly private, as they can still be accessed from outside the class by using a special name mangling syntax. The purpose of pseudoprivate attributes is to prevent accidental modification or access of class internals, and to signal that the attribute is intended to be used only within the class."
   ]
  },
  {
   "cell_type": "markdown",
   "metadata": {},
   "source": []
  }
 ],
 "metadata": {
  "kernelspec": {
   "display_name": "Python 3.8.10 64-bit",
   "language": "python",
   "name": "python3"
  },
  "language_info": {
   "codemirror_mode": {
    "name": "ipython",
    "version": 3
   },
   "file_extension": ".py",
   "mimetype": "text/x-python",
   "name": "python",
   "nbconvert_exporter": "python",
   "pygments_lexer": "ipython3",
   "version": "3.8.10"
  },
  "orig_nbformat": 4,
  "vscode": {
   "interpreter": {
    "hash": "e7370f93d1d0cde622a1f8e1c04877d8463912d04d973331ad4851f04de6915a"
   }
  }
 },
 "nbformat": 4,
 "nbformat_minor": 2
}
