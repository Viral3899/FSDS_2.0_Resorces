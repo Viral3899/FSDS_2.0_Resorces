{
 "cells": [
  {
   "cell_type": "markdown",
   "metadata": {},
   "source": [
    "Q.1 What is the concept of an abstract superclass?\n",
    "\n",
    "An abstract superclass is a class that is designed to be inherited from, but is not meant to be instantiated directly. It is an abstract concept that provides a common interface or set of methods that are shared by its subclasses. The purpose of an abstract superclass is to define a contract that its subclasses must adhere to, while allowing each subclass to implement its own specific behavior.\n",
    "\n",
    "In Python, abstract superclasses can be created using the abc module and the ABCMeta metaclass. By defining abstract methods in the superclass, you can ensure that all subclasses provide their own implementation of those methods."
   ]
  },
  {
   "cell_type": "markdown",
   "metadata": {},
   "source": [
    "Q.2 What happens when a class statement's top level contains a basic assignment statement?\n",
    "\n",
    "When a class statement's top level contains a basic assignment statement, a class attribute is created with the assigned value. This attribute will be shared by all instances of the class, unless a specific instance overrides it with its own value."
   ]
  },
  {
   "cell_type": "code",
   "execution_count": 1,
   "metadata": {},
   "outputs": [
    {
     "name": "stdout",
     "output_type": "stream",
     "text": [
      "42\n",
      "42\n",
      "123\n",
      "42\n"
     ]
    }
   ],
   "source": [
    "class MyClass:\n",
    "    class_attribute = 42\n",
    "\n",
    "obj1 = MyClass()\n",
    "obj2 = MyClass()\n",
    "\n",
    "print(obj1.class_attribute) \n",
    "print(obj2.class_attribute) \n",
    "\n",
    "obj1.class_attribute = 123\n",
    "print(obj1.class_attribute) \n",
    "print(obj2.class_attribute) \n"
   ]
  },
  {
   "cell_type": "markdown",
   "metadata": {},
   "source": [
    "Q.3 Why does a class need to manually call a superclass's init method?\n",
    "\n",
    "A class needs to manually call a superclass's init method in order to properly initialize the superclass's attributes and behavior. When a subclass overrides a superclass's init method without calling the superclass's init method explicitly, the superclass's initialization logic will be skipped, which can lead to unexpected behavior or errors.\n",
    "\n",
    "By calling the superclass's init method from within the subclass's init method, you ensure that the superclass's initialization logic is executed before the subclass's initialization logic, and that any necessary setup is performed."
   ]
  },
  {
   "cell_type": "markdown",
   "metadata": {},
   "source": [
    "Q.4 How can you augment, instead of completely replacing, an inherited method?\n",
    "\n",
    "To augment, or extend, an inherited method without completely replacing it, you can call the superclass's version of the method within the subclass's version of the method. This is often referred to as method overriding with inheritance."
   ]
  },
  {
   "cell_type": "code",
   "execution_count": 3,
   "metadata": {},
   "outputs": [
    {
     "name": "stdout",
     "output_type": "stream",
     "text": [
      "Hello, world!\n",
      "My name is Viral.\n"
     ]
    }
   ],
   "source": [
    "class Parent:\n",
    "    def greet(self):\n",
    "        print(\"Hello, world!\")\n",
    "\n",
    "class Child(Parent):\n",
    "    def greet(self):\n",
    "        super().greet() \n",
    "        print(\"My name is Viral.\")\n",
    "\n",
    "obj = Child()\n",
    "obj.greet() \n"
   ]
  },
  {
   "cell_type": "markdown",
   "metadata": {},
   "source": [
    "Q.5 How is the local scope of a class different from that of a function?\n",
    "\n",
    "In Python, a class is a separate namespace that contains its own scope. This scope is different from the local scope of a function because it includes not only the class methods and attributes, but also any nested classes and their methods and attributes.\n",
    "\n",
    "When a method or attribute is accessed from within a class, Python first looks for it in the class's own namespace. If it's not found there, it looks in the namespace of any superclass that the class inherits from. If it's still not found, it continues up the inheritance chain until it reaches the top-level object class.\n",
    "\n",
    "On the other hand, the local scope of a function is created when the function is called and destroyed when the function returns. The variables and objects created within the function are only accessible within that function's scope, unless they are explicitly returned or stored elsewhere."
   ]
  },
  {
   "cell_type": "markdown",
   "metadata": {},
   "source": []
  }
 ],
 "metadata": {
  "kernelspec": {
   "display_name": "Python 3.8.10 64-bit",
   "language": "python",
   "name": "python3"
  },
  "language_info": {
   "codemirror_mode": {
    "name": "ipython",
    "version": 3
   },
   "file_extension": ".py",
   "mimetype": "text/x-python",
   "name": "python",
   "nbconvert_exporter": "python",
   "pygments_lexer": "ipython3",
   "version": "3.8.10"
  },
  "orig_nbformat": 4,
  "vscode": {
   "interpreter": {
    "hash": "e7370f93d1d0cde622a1f8e1c04877d8463912d04d973331ad4851f04de6915a"
   }
  }
 },
 "nbformat": 4,
 "nbformat_minor": 2
}
