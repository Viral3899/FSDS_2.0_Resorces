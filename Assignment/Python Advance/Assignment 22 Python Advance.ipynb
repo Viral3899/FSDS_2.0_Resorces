{
 "cells": [
  {
   "cell_type": "markdown",
   "metadata": {},
   "source": [
    "Q1. What are the benefits of the built-in array package, if any?\n",
    "\n",
    "    The built-in array package in Python provides a way to store and manipulate homogeneous data efficiently. It allows us to create arrays with elements of a single data type, which makes it more memory efficient than other data structures like lists. Arrays can be used to perform vectorized operations, which can lead to faster computations, especially for numerical computations."
   ]
  },
  {
   "cell_type": "markdown",
   "metadata": {},
   "source": [
    "Q2. What are some of the array package's limitations?\n",
    "\n",
    "    The built-in array package has some limitations compared to other data structures like lists and numpy arrays. Some of these limitations include:\n",
    "\n",
    "    Arrays are fixed in size, which means that they cannot be resized once they are created. This can be inconvenient when we need to add or remove elements from an array.\n",
    "\n",
    "\n",
    "    Arrays can only contain elements of a single data type. This can be a limitation when we need to store elements of different types in the same data structure.\n",
    "\n",
    "    The built-in array package does not have many built-in methods for manipulating arrays. We need to write our own functions or use external libraries to perform many common array operations."
   ]
  },
  {
   "cell_type": "markdown",
   "metadata": {},
   "source": [
    "Q3. Describe the main differences between the array and numpy packages.\n",
    "\n",
    "    The main differences between the array and numpy packages are:\n",
    "\n",
    "    The array package is a built-in Python module that provides a way to store and manipulate homogeneous data efficiently. Numpy, on the other hand, is an external package that builds on top of the array package and provides more advanced array manipulation capabilities, including support for multidimensional arrays, broadcasting, and linear algebra operations.\n",
    "\n",
    "    The array package is limited to one-dimensional arrays of a single data type, whereas numpy arrays can have multiple dimensions and can contain elements of different data types.\n",
    "\n",
    "    Numpy provides a large number of built-in functions and methods for manipulating arrays, such as sorting, filtering, and statistical operations. The array package provides fewer built-in methods and requires more manual coding for array manipulation."
   ]
  },
  {
   "cell_type": "markdown",
   "metadata": {},
   "source": [
    "Q4. Explain the distinctions between the empty, ones, and zeros functions.\n",
    "\n",
    "    In numpy, the empty, ones, and zeros functions are used to create arrays with specific dimensions and initial values. The distinctions between these functions are:\n",
    "\n",
    "    numpy.empty(shape, dtype=float, order='C'): This function creates an array with the specified shape (dimensions) and data type, but does not initialize the array with any specific values. The array elements can contain arbitrary values that depend on the state of the memory at the time the array is created.\n",
    "\n",
    "    numpy.ones(shape, dtype=None, order='C'): This function creates an array with the specified shape and data type, and initializes all the elements to 1.\n",
    "    \n",
    "    numpy.zeros(shape, dtype=float, order='C'): This function creates an array with the specified shape and data type, and initializes all the elements to 0."
   ]
  },
  {
   "cell_type": "markdown",
   "metadata": {},
   "source": [
    "Q5. In the fromfunction function, which is used to construct new arrays, what is the role of the callable argument?\n",
    "\n",
    "    In numpy, the fromfunction function is used to construct new arrays by applying a function to each element of the array. The role of the callable argument is to define the function that is applied to each element. The callable function should take one or more indices (corresponding to the element's position in the array) as input and return the value to be stored in that element."
   ]
  },
  {
   "cell_type": "markdown",
   "metadata": {},
   "source": [
    "Q6. What happens when a numpy array is combined with a single-value operand (a scalar, such as an int or a floating-point value) through addition, as in the expression A + n?\n",
    "\n",
    "    When a numpy array is combined with a single-value operand through addition, as in the expression A + n, the scalar value is added to each element in the array, resulting in a new array with the same shape as the original."
   ]
  },
  {
   "cell_type": "markdown",
   "metadata": {},
   "source": [
    "Q7. Can array-to-scalar operations use combined operation-assign operators (such as += or *=)? What is the outcome?\n",
    "\n",
    "    Yes, array-to-scalar operations can use combined operation-assign operators like += or *=. The outcome is that the operation is applied to each element in the array, with the scalar value being used in the operation."
   ]
  },
  {
   "cell_type": "markdown",
   "metadata": {},
   "source": [
    "Q8. Does a numpy array contain fixed-length strings? What happens if you allocate a longer string to one of these arrays?\n",
    "\n",
    "    Yes, a numpy array can contain fixed-length strings. If you attempt to allocate a longer string to one of these arrays, the extra characters will be truncated to fit the fixed length of the array."
   ]
  },
  {
   "cell_type": "markdown",
   "metadata": {},
   "source": [
    "Q9. What happens when you combine two numpy arrays using an operation like addition (+) or multiplication (*)? What are the conditions for combining two numpy arrays?\n",
    "\n",
    "    When two numpy arrays are combined using an operation like addition or multiplication, the operation is applied element-wise, resulting in a new array with the same shape as the originals. The conditions for combining two numpy arrays are that they must have the same shape or be broadcastable to the same shape."
   ]
  },
  {
   "cell_type": "markdown",
   "metadata": {},
   "source": [
    "Q10. What is the best way to use a Boolean array to mask another array?\n",
    "\n",
    "     The best way to use a Boolean array to mask another array is to use Boolean indexing. You can create a Boolean array with the same shape as the original array, where each element is True or False depending on whether or not it satisfies a particular condition. You can then use this Boolean array to select the elements of the original array that satisfy the condition."
   ]
  },
  {
   "cell_type": "markdown",
   "metadata": {},
   "source": [
    "Q11. What are three different ways to get the standard deviation of a wide collection of data using both standard Python and its packages? Sort the three of them by how quickly they execute.\n",
    "\n",
    "    Three different ways to get the standard deviation of a wide collection of data using both standard Python and its packages are:\n",
    "\n",
    "        Using the statistics module's stdev() function, which takes a list of values as input and returns the standard deviation.\n",
    "        Using the numpy package's std() function, which takes an array of values as input and returns the standard deviation.\n",
    "        Using the pandas package's std() function, which takes a DataFrame or Series object as input and returns the standard deviation.\n",
    "        \n",
    "    In terms of execution speed, numpy's std() function is typically the fastest, followed by the statistics module's stdev() function, and then pandas' std() function."
   ]
  },
  {
   "cell_type": "markdown",
   "metadata": {},
   "source": [
    "Q12. What is the dimensionality of a Boolean mask-generated array?\n",
    "\n",
    "    The dimensionality of a Boolean mask-generated array is the same as the dimensionality of the original array. The Boolean mask is used to select certain elements of the original array, creating a new array with the same dimensions as the original but with only some of the elements present."
   ]
  },
  {
   "cell_type": "markdown",
   "metadata": {},
   "source": []
  }
 ],
 "metadata": {
  "kernelspec": {
   "display_name": "Python 3.8.10 64-bit",
   "language": "python",
   "name": "python3"
  },
  "language_info": {
   "codemirror_mode": {
    "name": "ipython",
    "version": 3
   },
   "file_extension": ".py",
   "mimetype": "text/x-python",
   "name": "python",
   "nbconvert_exporter": "python",
   "pygments_lexer": "ipython3",
   "version": "3.8.10"
  },
  "orig_nbformat": 4,
  "vscode": {
   "interpreter": {
    "hash": "e7370f93d1d0cde622a1f8e1c04877d8463912d04d973331ad4851f04de6915a"
   }
  }
 },
 "nbformat": 4,
 "nbformat_minor": 2
}
