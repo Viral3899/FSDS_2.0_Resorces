{
 "cells": [
  {
   "cell_type": "markdown",
   "metadata": {},
   "source": [
    "Q1. What is the distinction between a numpy array and a pandas data frame? Is there a way to convert between the two if there is?\n",
    "\n",
    "\n",
    "    A numpy array is a homogeneous array, meaning it contains elements of the same data type, whereas a pandas data frame can have columns with different data types. A pandas data frame is a 2D table, similar to a spreadsheet or a SQL table, and can have row and column labels, while a numpy array doesn't have these labels. Another significant difference is that pandas data frames have many built-in functions for data manipulation, such as grouping, merging, and pivoting, that are not available in numpy.\n",
    "\n",
    "    Yes, it is possible to convert a pandas data frame to a numpy array using the values attribute, and a numpy array to a pandas data frame using the DataFrame() constructor. For example, to convert a pandas data frame df to a numpy array, we can use df.values. To convert a numpy array arr to a pandas data frame with column names cols, we can use pd.DataFrame(arr, columns=cols)."
   ]
  },
  {
   "cell_type": "markdown",
   "metadata": {},
   "source": [
    "Q2. What can go wrong when an user enters in a stock-ticker symbol, and how do you handle it?\n",
    "\n",
    "    When a user enters a stock-ticker symbol, several things can go wrong, such as entering an invalid symbol, entering a symbol for a company that doesn't exist, or entering a symbol for a company that is not publicly traded. To handle these errors, we can use error handling techniques such as try-except blocks to catch and handle exceptions that may occur. Additionally, we can use data validation techniques to ensure that the user input is in the correct format and meets the necessary criteria."
   ]
  },
  {
   "cell_type": "markdown",
   "metadata": {},
   "source": [
    "Q3. Identify some of the plotting techniques that are used to produce a stock-market chart.\n",
    "\n",
    "    Some of the plotting techniques that are used to produce a stock-market chart include:\n",
    "\n",
    "    Line plots: These plots show the trend in stock prices over time and are useful for identifying patterns and trends.\n",
    "\n",
    "    Candlestick charts: These charts show the opening, closing, high, and low prices of a stock on a given day, providing a visual representation of the price movement.\n",
    "\n",
    "    Bar charts: These charts show the price range of a stock over a given period, with the high and low prices represented as vertical lines and the opening and closing prices represented as horizontal bars.\n",
    "    \n",
    "    Volume charts: These charts show the volume of stocks traded over a given period, which can provide insight into market sentiment and liquidity."
   ]
  },
  {
   "cell_type": "markdown",
   "metadata": {},
   "source": [
    "Q4. Why is it essential to print a legend on a stock market chart?\n",
    "\n",
    "    A legend on a stock market chart is essential because it provides information about the various lines and symbols used in the chart, such as the meaning of different colors, line styles, and markers. Without a legend, the viewer may not be able to interpret the chart correctly, leading to confusion and misinterpretation of the data."
   ]
  },
  {
   "cell_type": "markdown",
   "metadata": {},
   "source": [
    "Q5. What is the best way to limit the length of a pandas data frame to less than a year?\n",
    "\n",
    "    One way to limit the length of a pandas data frame to less than a year is to filter the data frame using the loc method to select rows that fall within a specific date range. For example, to select data for a specific year, we can use df.loc['start_date':'end_date'], where start_date and end_date are the dates that define the time period we want to select."
   ]
  },
  {
   "cell_type": "markdown",
   "metadata": {},
   "source": [
    "Q6. What is the definition of a 180-day moving average?\n",
    "\n",
    "    A 180-day moving average is a technical analysis indicator that calculates the average price of a security over the previous 180 trading days. It is used to identify the long-term trend of a security and is popular among traders and investors as a tool for making buy or sell decisions."
   ]
  },
  {
   "cell_type": "markdown",
   "metadata": {},
   "source": [
    "Q7. Did the chapter's final example use \"indirect\" importing? If so, how exactly do you do it?\n",
    "\n",
    "    Yes, the chapter's final example uses \"indirect\" importing. Indirect importing means that instead of importing a module directly into your code using the import statement, you can import a specific function or attribute from the module using the from keyword. For example, in the final example of the chapter, the line from yahoo_fin import stock_info as si imports the stock_info module from the yahoo_fin package and renames it as si. This allows us to use the functions and attributes of the stock_info module directly in our code without needing to prefix them with the module name."
   ]
  }
 ],
 "metadata": {
  "kernelspec": {
   "display_name": "Python 3.8.10 64-bit",
   "language": "python",
   "name": "python3"
  },
  "language_info": {
   "codemirror_mode": {
    "name": "ipython",
    "version": 3
   },
   "file_extension": ".py",
   "mimetype": "text/x-python",
   "name": "python",
   "nbconvert_exporter": "python",
   "pygments_lexer": "ipython3",
   "version": "3.8.10"
  },
  "orig_nbformat": 4,
  "vscode": {
   "interpreter": {
    "hash": "e7370f93d1d0cde622a1f8e1c04877d8463912d04d973331ad4851f04de6915a"
   }
  }
 },
 "nbformat": 4,
 "nbformat_minor": 2
}
