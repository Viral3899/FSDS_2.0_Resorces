{
 "cells": [
  {
   "cell_type": "markdown",
   "metadata": {},
   "source": [
    "Q.1 Compare and contrast the float and Decimal classes' benefits and drawbacks.?\n",
    "\n",
    "    The float and Decimal classes are both used to represent decimal numbers, but they differ in their precision and performance. Floats are faster and use less memory than Decimals but have limited precision and can introduce rounding errors. Decimals have higher precision and accuracy, making them better suited for financial calculations where accuracy is critical. The Decimal class allows for exact decimal representation of numbers, while the float class uses a binary representation, which can cause rounding errors. However, using the Decimal class can be slower and use more memory than using the float class."
   ]
  },
  {
   "cell_type": "markdown",
   "metadata": {},
   "source": [
    "Q.2. Decimal('1.200') and Decimal('1.2') are two objects to consider. In what sense are these the same object? Are these just two ways of representing the exact same value, or do they correspond to different internal states?\n",
    "\n",
    "    These are two different objects that correspond to different internal states. Although they represent the same value, the internal states of the two objects are different. Decimal('1.200') has a higher precision than Decimal('1.2'), with the former having three decimal places and the latter having only one."
   ]
  },
  {
   "cell_type": "markdown",
   "metadata": {},
   "source": [
    "Q.3 What happens if the equality of Decimal('1.200') and Decimal('1.2') is checked?\n",
    "\n",
    "    The equality check will return False because the two objects correspond to different internal states, even though they represent the same value."
   ]
  },
  {
   "cell_type": "markdown",
   "metadata": {},
   "source": [
    "Q.4 Why is it preferable to start a Decimal object with a string rather than a floating-point value?\n",
    "\n",
    "    It is preferable to start a Decimal object with a string rather than a floating-point value because floating-point values can introduce rounding errors. When a floating-point value is converted to a Decimal, the conversion can result in a value that is not exact due to the limitations of floating-point arithmetic. Starting with a string representation of the decimal value ensures that the value is converted exactly."
   ]
  },
  {
   "cell_type": "markdown",
   "metadata": {},
   "source": [
    "Q.5 In an arithmetic phrase, how simple is it to combine Decimal objects with integers?\n",
    "\n",
    "    It is simple to combine Decimal objects with integers in an arithmetic phrase. The Decimal class is designed to work seamlessly with integers, and arithmetic between Decimal and integer objects is straightforward."
   ]
  },
  {
   "cell_type": "markdown",
   "metadata": {},
   "source": [
    "Q.6 Can Decimal objects and floating-point values be combined easily?\n",
    "\n",
    "    Decimal objects and floating-point values can be combined, but it requires care to avoid rounding errors. When a Decimal object is combined with a floating-point value, the floating-point value is first converted to a Decimal, which can introduce rounding errors."
   ]
  },
  {
   "cell_type": "markdown",
   "metadata": {},
   "source": [
    "Q.7 Using the Fraction class but not the Decimal class, give an example of a quantity that can be expressed with absolute precision.\n",
    "\n",
    "    The Fraction class can represent any rational number with absolute precision. For example, the fraction 2/3 can be expressed exactly as a Fraction object."
   ]
  },
  {
   "cell_type": "markdown",
   "metadata": {},
   "source": [
    "Q.8 Describe a quantity that can be accurately expressed by the Decimal or Fraction classes but not by a floating-point value.\n",
    "\n",
    "    Decimal and Fraction classes can accurately express quantities that require exact decimal representation, such as monetary values or measurements. These quantities cannot be accurately represented by floating-point values, which have limited precision and can introduce rounding errors."
   ]
  },
  {
   "cell_type": "markdown",
   "metadata": {},
   "source": [
    "Q.9 Consider the following two fraction objects: Fraction(1, 2) and Fraction(1, 2). (5, 10). Is the internal state of these two objects the same? Why do you think that is?\n",
    "\n",
    "    The internal state of the two Fraction objects is the same, despite the difference in the numerator and denominator values. Both fractions represent the same value of 1/2. When the fractions are created, they are automatically reduced to their lowest terms, so the internal state is the same.    "
   ]
  },
  {
   "cell_type": "markdown",
   "metadata": {},
   "source": [
    "Q.10 How do the Fraction class and the integer type (int) relate to each other? Containment or inheritance?\n",
    "\n",
    "    The Fraction class and the integer type (int) are not related through inheritance or containment. However, the Fraction class can take integer arguments and perform arithmetic operations with them, just as it can with other Fraction objects. This allows for easy integration of integers with fractions in mathematical expressions."
   ]
  },
  {
   "cell_type": "markdown",
   "metadata": {},
   "source": []
  }
 ],
 "metadata": {
  "kernelspec": {
   "display_name": "Python 3.8.10 64-bit",
   "language": "python",
   "name": "python3"
  },
  "language_info": {
   "codemirror_mode": {
    "name": "ipython",
    "version": 3
   },
   "file_extension": ".py",
   "mimetype": "text/x-python",
   "name": "python",
   "nbconvert_exporter": "python",
   "pygments_lexer": "ipython3",
   "version": "3.8.10"
  },
  "orig_nbformat": 4,
  "vscode": {
   "interpreter": {
    "hash": "e7370f93d1d0cde622a1f8e1c04877d8463912d04d973331ad4851f04de6915a"
   }
  }
 },
 "nbformat": 4,
 "nbformat_minor": 2
}
