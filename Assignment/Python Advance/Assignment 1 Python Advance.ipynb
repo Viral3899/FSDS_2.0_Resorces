{
 "cells": [
  {
   "cell_type": "markdown",
   "metadata": {},
   "source": [
    "Q1. What is the purpose of Python's OOP?\n",
    "\n",
    "Python's Object-Oriented Programming (OOP) allows programmers to create modular, reusable, and maintainable code by organizing data and functionality into objects. OOP provides a way to structure code so that it is easy to modify, extend, and test. By encapsulating related data and behavior into objects, OOP helps programmers to write more efficient and structured code.\n",
    "\n"
   ]
  },
  {
   "cell_type": "markdown",
   "metadata": {},
   "source": [
    "Q2. Where does an inheritance search look for an attribute?\n",
    "\n",
    "When an attribute is accessed in a Python class instance, the interpreter first searches for the attribute in the instance itself. If it is not found in the instance, the interpreter then looks in the class definition. If the attribute is still not found, the search continues up the inheritance chain to the base classes until the attribute is found or until the top of the inheritance chain is reached.\n",
    "\n"
   ]
  },
  {
   "cell_type": "markdown",
   "metadata": {},
   "source": [
    "Q3. How do you distinguish between a class object and an instance object?\n",
    "\n",
    "A class object is an object that defines the attributes and methods that are common to all instances of that class. It is created by using the \"class\" keyword in Python. An instance object, on the other hand, is an object that is created from a class using the class constructor. Each instance object is unique and has its own set of attributes and methods.\n",
    "\n",
    "In other words, a class object is like a blueprint for creating instance objects, while an instance object is a specific instance of that class with its own unique characteristics.\n",
    "\n"
   ]
  },
  {
   "cell_type": "markdown",
   "metadata": {},
   "source": [
    "Q4. What makes the first argument in a class’s method function special?\n",
    "\n",
    "The first argument in a class method function is conventionally named \"self\" and refers to the instance of the class that the method is being called on. This argument is automatically passed to the method by Python when the method is called on an instance of the class.\n",
    "\n",
    "By convention, the first parameter in a method is called \"self\" in Python, although it can technically be named anything. Using \"self\" as the first parameter is a convention that makes the code more readable and easier to understand.\n",
    "\n"
   ]
  },
  {
   "cell_type": "markdown",
   "metadata": {},
   "source": [
    "Q5. What is the purpose of the init method?\n",
    "\n",
    "The \"init\" method is a special method in Python classes that is called when an instance of the class is created. It is used to initialize the attributes of the object with default or user-defined values.\n",
    "\n",
    "The \"init\" method is also known as the constructor method because it is used to construct the object. It takes in the instance itself as the first argument (usually called \"self\") and any other arguments needed to initialize the object's attributes."
   ]
  },
  {
   "cell_type": "markdown",
   "metadata": {},
   "source": [
    "Q6. What is the process for creating a class instance?\n",
    "\n",
    "To create a class instance in Python, you first need to define a class using the \"class\" keyword. Once the class is defined, you can create an instance of the class by calling the class constructor. The class constructor is defined using the \"init\" method and is responsible for initializing the object's attributes."
   ]
  },
  {
   "cell_type": "code",
   "execution_count": 1,
   "metadata": {},
   "outputs": [],
   "source": [
    "class MyClass:\n",
    "    def __init__(self, value):\n",
    "        self.my_attribute = value\n",
    "\n",
    "my_instance = MyClass(\"Hello, world!\")\n"
   ]
  },
  {
   "cell_type": "markdown",
   "metadata": {},
   "source": [
    "Q7. What is the process for creating a class?\n",
    "\n",
    "To create a class in Python, you use the \"class\" keyword followed by the name of the class. Inside the class definition, you can define attributes and methods that define the behavior of the class."
   ]
  },
  {
   "cell_type": "code",
   "execution_count": 2,
   "metadata": {},
   "outputs": [
    {
     "name": "stdout",
     "output_type": "stream",
     "text": [
      "Hello, world!\n"
     ]
    }
   ],
   "source": [
    "class MyClass:\n",
    "    def __init__(self, value):\n",
    "        self.my_attribute = value\n",
    "\n",
    "    def my_method(self):\n",
    "        print(\"Hello, world!\")\n",
    "\n",
    "my_instance = MyClass(\"some value\")\n",
    "\n",
    "my_instance.my_method()\n"
   ]
  }
 ],
 "metadata": {
  "kernelspec": {
   "display_name": "Python 3.8.10 64-bit",
   "language": "python",
   "name": "python3"
  },
  "language_info": {
   "codemirror_mode": {
    "name": "ipython",
    "version": 3
   },
   "file_extension": ".py",
   "mimetype": "text/x-python",
   "name": "python",
   "nbconvert_exporter": "python",
   "pygments_lexer": "ipython3",
   "version": "3.8.10"
  },
  "orig_nbformat": 4,
  "vscode": {
   "interpreter": {
    "hash": "e7370f93d1d0cde622a1f8e1c04877d8463912d04d973331ad4851f04de6915a"
   }
  }
 },
 "nbformat": 4,
 "nbformat_minor": 2
}
