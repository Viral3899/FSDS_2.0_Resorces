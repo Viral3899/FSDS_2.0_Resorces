{
 "cells": [
  {
   "cell_type": "markdown",
   "metadata": {},
   "source": [
    "Q1. What are the two latest user-defined exception constraints in Python 3.X?\n",
    "\n",
    "    The two latest user-defined exception constraints in Python 3.x are:\n",
    "\n",
    "    The exception's cause and context attributes can be used to define the exception's causality.\n",
    "    The traceback attribute can be used to specify a traceback for an exception that has been created without one."
   ]
  },
  {
   "cell_type": "markdown",
   "metadata": {},
   "source": [
    "Q2. How are class-based exceptions that have been raised matched to handlers?\n",
    "\n",
    "    Class-based exceptions that have been raised are matched to handlers using the inheritance hierarchy. When an exception is raised, Python searches for a matching except block by checking each except clause in the order in which they appear. If an exception class is listed in an except clause, it matches the exception if the raised exception is an instance of that class or a subclass of it."
   ]
  },
  {
   "cell_type": "markdown",
   "metadata": {},
   "source": [
    "Q3. Describe two methods for attaching context information to exception artefacts.\n",
    "\n",
    "    Two methods for attaching context information to exception artefacts are:\n",
    "\n",
    "    The exception's context attribute can be used to provide a reference to the exception that caused the current exception to be raised.\n",
    "    The exception's traceback attribute can be used to specify a traceback for an exception that has been created without one."
   ]
  },
  {
   "cell_type": "markdown",
   "metadata": {},
   "source": [
    "Q4. Describe two methods for specifying the text of an exception object's error message.\n",
    "\n",
    "    `raise ValueError(\"Invalid input value\")`\n",
    "    \n",
    "    `class MyException(Exception):\n",
    "    def __str__(self):\n",
    "        return \"Custom error message\"`"
   ]
  },
  {
   "cell_type": "markdown",
   "metadata": {},
   "source": [
    "Q5. Why do you no longer use string-based exceptions?\n",
    "\n",
    "    String-based exceptions are no longer used because they are not as flexible or informative as class-based exceptions. With class-based exceptions, you can attach additional information to an exception object, such as context and causality, and you can define specialized exception classes for specific error conditions. This makes it easier to debug and handle exceptions in your code. String-based exceptions also make it harder to catch specific types of exceptions and to provide informative error messages to users."
   ]
  },
  {
   "cell_type": "markdown",
   "metadata": {},
   "source": []
  }
 ],
 "metadata": {
  "kernelspec": {
   "display_name": "Python 3.8.10 64-bit",
   "language": "python",
   "name": "python3"
  },
  "language_info": {
   "codemirror_mode": {
    "name": "ipython",
    "version": 3
   },
   "file_extension": ".py",
   "mimetype": "text/x-python",
   "name": "python",
   "nbconvert_exporter": "python",
   "pygments_lexer": "ipython3",
   "version": "3.8.10"
  },
  "orig_nbformat": 4,
  "vscode": {
   "interpreter": {
    "hash": "e7370f93d1d0cde622a1f8e1c04877d8463912d04d973331ad4851f04de6915a"
   }
  }
 },
 "nbformat": 4,
 "nbformat_minor": 2
}
