{
 "cells": [
  {
   "cell_type": "markdown",
   "metadata": {},
   "source": [
    "Q1. Describe three applications for exception processing.\n",
    "\n",
    "    Exception processing is a technique used in programming to handle errors or unexpected events that may occur during program execution. Here are three applications for exception processing:\n",
    "\n",
    "    Error handling: Exceptions can be used to catch and handle errors that might otherwise cause a program to crash or behave unexpectedly. By handling exceptions properly, a program can recover from errors and continue to execute.\n",
    "\n",
    "    Input validation: Exceptions can be used to validate input and catch errors that might be caused by invalid data. For example, if a program expects a numeric input, an exception can be raised if the input is not a valid number.\n",
    "    \n",
    "    Resource management: Exceptions can be used to manage resources such as files, network connections, or database connections. By catching exceptions, a program can ensure that resources are properly released and that the program exits cleanly."
   ]
  },
  {
   "cell_type": "markdown",
   "metadata": {},
   "source": [
    "Q2. What happens if you don't do something extra to treat an exception?\n",
    "\n",
    "    If you don't handle an exception in your script, it will propagate up the call stack until it is either caught and handled by another part of the program, or it causes the program to terminate with an error message.\n",
    "    "
   ]
  },
  {
   "cell_type": "markdown",
   "metadata": {},
   "source": [
    "Q3. What are your options for recovering from an exception in your script?\n",
    "\n",
    "     When an exception occurs in your script, you have several options for recovering from it:\n",
    "\n",
    "     Handle the exception: You can catch and handle the exception using a try-except block. This allows you to take specific actions to recover from the error and continue execution.\n",
    "     Reraise the exception: If you can't handle the exception locally, you can reraise it using the \"raise\" keyword. This will propagate the exception up the call stack to be handled by another part of the program.\n",
    "     Exit the program: If the exception is severe enough that you can't recover from it, you may need to exit the program using the \"sys.exit()\" function or a similar method."
   ]
  },
  {
   "cell_type": "markdown",
   "metadata": {},
   "source": [
    "Q4. Describe two methods for triggering exceptions in your script.\n",
    "\n",
    "    There are several ways to trigger exceptions in your script:\n",
    "\n",
    "    Raise an exception explicitly using the \"raise\" keyword. You can raise a built-in exception, or you can define your own custom exceptions.\n",
    "    \n",
    "    Call a function or method that raises an exception. For example, if you try to open a file that doesn't exist, the \"open()\" function will raise a \"FileNotFoundError\" exception."
   ]
  },
  {
   "cell_type": "markdown",
   "metadata": {},
   "source": [
    "Q5. Identify two methods for specifying actions to be executed at termination time, regardless of whether or not an exception exists.\n",
    "\n",
    "    Here are two methods for specifying actions to be executed at termination time:\n",
    "\n",
    "    Use a try-finally block to ensure that a specific block of code is executed, regardless of whether or not an exception is raised. This can be useful for releasing resources or cleaning up after an operation.\n",
    "\n",
    "    Use the \"atexit\" module to register functions to be executed when the program exits. These functions will be called regardless of whether or not an exception was raised."
   ]
  }
 ],
 "metadata": {
  "kernelspec": {
   "display_name": "Python 3.8.10 64-bit",
   "language": "python",
   "name": "python3"
  },
  "language_info": {
   "codemirror_mode": {
    "name": "ipython",
    "version": 3
   },
   "file_extension": ".py",
   "mimetype": "text/x-python",
   "name": "python",
   "nbconvert_exporter": "python",
   "pygments_lexer": "ipython3",
   "version": "3.8.10"
  },
  "orig_nbformat": 4,
  "vscode": {
   "interpreter": {
    "hash": "e7370f93d1d0cde622a1f8e1c04877d8463912d04d973331ad4851f04de6915a"
   }
  }
 },
 "nbformat": 4,
 "nbformat_minor": 2
}
