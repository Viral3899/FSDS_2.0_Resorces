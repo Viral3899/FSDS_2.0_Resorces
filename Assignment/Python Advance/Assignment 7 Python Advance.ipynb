{
 "cells": [
  {
   "cell_type": "markdown",
   "metadata": {},
   "source": [
    "Q1. What is the purpose of the try statement?\n",
    "\n",
    "    A try statement in Python is used for exception handling. It allows you to define a block of code to be tested for errors while it is being executed. The purpose of the try statement is to catch exceptions that may occur within this block of code and handle them appropriately, preventing your program from crashing."
   ]
  },
  {
   "cell_type": "markdown",
   "metadata": {},
   "source": [
    "Q2. What are the two most popular try statement variations?\n",
    "\n",
    "    The two most popular variations of the try statement are:\n",
    "\n",
    "    try/except: This variation allows you to catch and handle exceptions that may occur in the try block. If an exception occurs, the code in the except block is executed.\n",
    "\n",
    "    try/finally: This variation ensures that a block of code in the finally block is always executed, regardless of whether an exception occurred in the try block or not."
   ]
  },
  {
   "cell_type": "markdown",
   "metadata": {},
   "source": [
    "Q3. What is the purpose of the raise statement?\n",
    "\n",
    "    The raise statement is used to explicitly raise an exception in Python. It allows you to generate an exception that can be caught and handled by an except block. The purpose of the raise statement is to signal to the program that an error or exceptional condition has occurred, and to provide information about that error."
   ]
  },
  {
   "cell_type": "markdown",
   "metadata": {},
   "source": [
    "Q4. What does the assert statement do, and what other statement is it like?\n",
    "\n",
    "    The assert statement is used to test for conditions that must be true in order for the program to continue executing. It takes a condition as its argument, and if the condition is false, it raises an AssertionError with an optional error message. The assert statement is similar to the if statement, but it is used specifically for debugging and testing purposes."
   ]
  },
  {
   "cell_type": "markdown",
   "metadata": {},
   "source": [
    "Q5. What is the purpose of the with/as argument, and what other statement is it like?\n",
    "\n",
    "    The with/as statement is used to manage resources that need to be cleaned up after they have been used. It ensures that a block of code is executed with a particular resource, and that the resource is automatically cleaned up when the block of code is exited, regardless of whether an exception was raised. It is similar to the try/finally statement, but it is more concise and easier to read."
   ]
  },
  {
   "cell_type": "markdown",
   "metadata": {},
   "source": []
  }
 ],
 "metadata": {
  "kernelspec": {
   "display_name": "Python 3.8.10 64-bit",
   "language": "python",
   "name": "python3"
  },
  "language_info": {
   "codemirror_mode": {
    "name": "ipython",
    "version": 3
   },
   "file_extension": ".py",
   "mimetype": "text/x-python",
   "name": "python",
   "nbconvert_exporter": "python",
   "pygments_lexer": "ipython3",
   "version": "3.8.10"
  },
  "orig_nbformat": 4,
  "vscode": {
   "interpreter": {
    "hash": "e7370f93d1d0cde622a1f8e1c04877d8463912d04d973331ad4851f04de6915a"
   }
  }
 },
 "nbformat": 4,
 "nbformat_minor": 2
}
