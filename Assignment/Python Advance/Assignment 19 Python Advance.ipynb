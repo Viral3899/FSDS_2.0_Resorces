{
 "cells": [
  {
   "cell_type": "markdown",
   "metadata": {},
   "source": [
    "Q1. Define the relationship between a class and its instances. Is it a one-to-one or a one-to-many partnership, for example?\n",
    "\n",
    "    In object-oriented programming, a class is a blueprint or template that defines the properties and behaviors of objects, while an instance is a specific object created from that class. The relationship between a class and its instances is a one-to-many partnership, as many instances can be created from a single class."
   ]
  },
  {
   "cell_type": "markdown",
   "metadata": {},
   "source": [
    "Q2. What kind of data is held only in an instance?\n",
    "\n",
    "    Instance variables hold data that is unique to each instance of a class."
   ]
  },
  {
   "cell_type": "markdown",
   "metadata": {},
   "source": [
    "Q3. What kind of knowledge is stored in a class?\n",
    "\n",
    "    Class variables hold data that is shared across all instances of a class. They store knowledge that is common to all instances of the class.\n",
    "\n"
   ]
  },
  {
   "cell_type": "markdown",
   "metadata": {},
   "source": [
    "Q4. What exactly is a method, and how is it different from a regular function?\n",
    "\n",
    "    A method is a function that is defined within a class and operates on an instance of that class. Methods are different from regular functions because they are bound to an instance of a class and can access the instance's data."
   ]
  },
  {
   "cell_type": "markdown",
   "metadata": {},
   "source": [
    "Q5. Is inheritance supported in Python, and if so, what is the syntax?\n",
    "\n",
    "     Yes, inheritance is supported in Python,"
   ]
  },
  {
   "cell_type": "code",
   "execution_count": 1,
   "metadata": {},
   "outputs": [],
   "source": [
    "class BaseClass:\n",
    "    pass\n",
    "\n",
    "class Subclass(BaseClass):\n",
    "    pass\n",
    "    # subclass methods and variables\n"
   ]
  },
  {
   "cell_type": "markdown",
   "metadata": {},
   "source": [
    "Q6. How much encapsulation (making instance or class variables private) does Python support?\n",
    "\n",
    "    Python supports a moderate level of encapsulation. Instance variables can be made private by prefixing their names with two underscores (e.g. __private_variable), but this is more of a convention than a strict rule."
   ]
  },
  {
   "cell_type": "markdown",
   "metadata": {},
   "source": [
    "Q7. How do you distinguish between a class variable and an instance variable?\n",
    "\n",
    "    A class variable is shared across all instances of a class, while an instance variable is unique to each instance of a class.\n",
    "\n"
   ]
  },
  {
   "cell_type": "markdown",
   "metadata": {},
   "source": [
    "Q8. When, if ever, can self be included in a class's method definitions?\n",
    "\n",
    "    self is included in a class's method definitions to represent the instance that the method is operating on."
   ]
  },
  {
   "cell_type": "markdown",
   "metadata": {},
   "source": [
    "Q9. What is the difference between the _ _add_ _ and the _ _radd_ _ methods?\n",
    "\n",
    "    The __add__ method is used to implement the + operator, while the __radd__ method is used to implement addition when the left operand does not support addition with the right operand."
   ]
  },
  {
   "cell_type": "markdown",
   "metadata": {},
   "source": [
    "Q10. When is it necessary to use a reflection method? When do you not need it, even though you support the operation in question?\n",
    "\n",
    "    Reflection methods are used to inspect and modify the properties of an object at runtime. They are necessary when you need to dynamically inspect or modify an object's properties. They are not needed when the object's properties are known in advance."
   ]
  },
  {
   "cell_type": "markdown",
   "metadata": {},
   "source": [
    "Q11. What is the _ _iadd_ _ method called?\n",
    "\n",
    "    The __iadd__ method is called when the += operator is used on an object."
   ]
  },
  {
   "cell_type": "markdown",
   "metadata": {},
   "source": [
    "Q12. Is the _ _init_ _ method inherited by subclasses? What do you do if you need to customize its behavior within a subclass?\n",
    "\n",
    "    Yes, the __init__ method is inherited by subclasses. If you need to customize its behavior within a subclass, you can override it by defining a new __init__ method in the subclass. To invoke the superclass's __init__ method from within the subclass's __init__ method, you can use the super() function."
   ]
  }
 ],
 "metadata": {
  "kernelspec": {
   "display_name": "Python 3.8.10 64-bit",
   "language": "python",
   "name": "python3"
  },
  "language_info": {
   "codemirror_mode": {
    "name": "ipython",
    "version": 3
   },
   "file_extension": ".py",
   "mimetype": "text/x-python",
   "name": "python",
   "nbconvert_exporter": "python",
   "pygments_lexer": "ipython3",
   "version": "3.8.10"
  },
  "orig_nbformat": 4,
  "vscode": {
   "interpreter": {
    "hash": "e7370f93d1d0cde622a1f8e1c04877d8463912d04d973331ad4851f04de6915a"
   }
  }
 },
 "nbformat": 4,
 "nbformat_minor": 2
}
