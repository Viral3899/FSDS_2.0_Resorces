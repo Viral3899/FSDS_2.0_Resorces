{
 "cells": [
  {
   "cell_type": "markdown",
   "id": "29d03067",
   "metadata": {},
   "source": [
    "1. How do you distinguish between shutil.copy() and shutil.copytree()?\n",
    "\n",
    "Ans. `shutil.copy()` is used to copy a `single` file from one location to another. On the other hand,\n",
    "`shutil.copytree()` is used to copy an entire `directory tree` (i.e., a folder and its contents, including any subdirectories) from one location to another."
   ]
  },
  {
   "cell_type": "markdown",
   "id": "5552b2e2",
   "metadata": {},
   "source": [
    "2. What function is used to rename files?\n",
    "\n",
    "Ans. The `os.rename()` function is used to rename files. It takes two arguments: the current name of the file and the new name you want to give it."
   ]
  },
  {
   "cell_type": "markdown",
   "id": "f29f186e",
   "metadata": {},
   "source": [
    "3. What is the difference between the delete functions in the send2trash and shutil modules?\n",
    "\n",
    "Ans. The `send2trash` module moves files to the operating system's trash or recycle bin, whereas the `shutil` module permanently deletes files from the file system"
   ]
  },
  {
   "cell_type": "markdown",
   "id": "f11597b4",
   "metadata": {},
   "source": [
    "4. ZipFile objects have a close() method just like File objects’ close() method. What ZipFile method is equivalent to File objects’ open() method?\n",
    "\n",
    "Ans. The ZipFile method that is equivalent to File objects’ open() method is ZipFile() which is used to create a new ZipFile object. It takes the path to the ZIP file and the mode to open the file in (e.g., 'r' for reading, 'w' for writing, 'a' for appending)."
   ]
  },
  {
   "cell_type": "markdown",
   "id": "f2de94e4",
   "metadata": {},
   "source": [
    "5. Create a programme that searches a folder tree for files with a certain file extension (such as .pdf or .jpg). Copy these files from whatever location they are in to a new folder.\n",
    "\n",
    "Ans. Here's an example program that searches for all .txt files in a folder and its subfolders, and copies them to a new folder called text_files in the current directory:\n",
    "\n",
    "```python\n",
    "import os\n",
    "import shutil\n",
    "\n",
    "# Create a new directory to store the text files\n",
    "if not os.path.exists('text_files'):\n",
    "    os.mkdir('text_files')\n",
    "\n",
    "# Traverse the folder tree and copy all .txt files to the text_files folder\n",
    "for foldername, subfolders, filenames in os.walk('.'):\n",
    "    for filename in filenames:\n",
    "        if filename.endswith('.txt'):\n",
    "            filepath = os.path.join(foldername, filename)\n",
    "            shutil.copy(filepath, 'text_files')\n",
    "```"
   ]
  },
  {
   "cell_type": "code",
   "execution_count": null,
   "id": "1d18cce7",
   "metadata": {},
   "outputs": [],
   "source": []
  }
 ],
 "metadata": {
  "kernelspec": {
   "display_name": "Python 3 (ipykernel)",
   "language": "python",
   "name": "python3"
  },
  "language_info": {
   "codemirror_mode": {
    "name": "ipython",
    "version": 3
   },
   "file_extension": ".py",
   "mimetype": "text/x-python",
   "name": "python",
   "nbconvert_exporter": "python",
   "pygments_lexer": "ipython3",
   "version": "3.11.1"
  }
 },
 "nbformat": 4,
 "nbformat_minor": 5
}
