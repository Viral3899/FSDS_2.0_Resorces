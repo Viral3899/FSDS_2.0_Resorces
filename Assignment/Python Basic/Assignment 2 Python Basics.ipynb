{
 "cells": [
  {
   "cell_type": "raw",
   "id": "5ad5281e",
   "metadata": {},
   "source": [
    "1.What are the two values of the Boolean data type? How do you write them?\n",
    "\n",
    "Ans.\n",
    "\n",
    "    Two Value of boolean Data Type is \"True(1)\" and \"False(0)\"\n",
    "    \n",
    "    We Can Write it As \"True or 1\" and \"False or 0\""
   ]
  },
  {
   "cell_type": "raw",
   "id": "458bf129",
   "metadata": {},
   "source": [
    "2. What are the three different types of Boolean operators?\n",
    "\n",
    "Ans.\n",
    "\n",
    "Different boolean Operators are AND/OR/NOT"
   ]
  },
  {
   "cell_type": "raw",
   "id": "745b14a2",
   "metadata": {},
   "source": [
    "3. Make a list of each Boolean operator's truth tables (i.e. every possible combination of Boolean values for the operator and what it evaluate ).\n",
    "\n",
    "Ans.\n",
    "->->->->->->->->->->->->->->->->->->->->->->->->->->->->->->->->->->->->->->->\n",
    "                == Truth Table\n",
    "                x\t==\ty\t                Returns\n",
    "                True\t==\tTrue   ---> \tTrue\n",
    "                True\t==\tFalse  ---> \tFalse\n",
    "                False\t==\tTrue   ---> \tFalse\n",
    "                False\t==\tFalse  ---> \tTrue\n",
    "-------------------------------------------------------------------------------------------------------------------\n",
    "                AND Truth Table\n",
    "                x\tand\ty\t             Returns\n",
    "                True\tand\t True\t---> True\n",
    "                True\tand  False\t---> False\n",
    "                False\tand\t True\t---> False\n",
    "                False\tand\t False\t---> False\n",
    "-------------------------------------------------------------------------------------------------------------------\n",
    "                OR Truth Table\n",
    "                x\tor\ty\t            Returns\n",
    "                True\tor\tTrue  ---> \tTrue\n",
    "                True\tor\tFalse ---> \tTrue\n",
    "                False\tor\tTrue  --->\tTrue\n",
    "                False\tor\tFalse --->\tFalse\n",
    "\n",
    "-------------------------------------------------------------------------------------------------------------------\n",
    "                NOT Truth Table\n",
    "                not  \tx\t        Returns\n",
    "                not  \tTrue  --->\tFalse\n",
    "                not \tFalse --->\tTrue"
   ]
  },
  {
   "cell_type": "raw",
   "id": "791b374a",
   "metadata": {},
   "source": [
    "4. What are the values of the following expressions?\n",
    "\n",
    "Ans.\n",
    "\n",
    "not (5 > 4)--------------------------------->False\n",
    "(5 > 4) or (3 == 5)------------------------->True\n",
    "not ((5 > 4) or (3 == 5))------------------->False\n",
    "(True and True) and (True == False)--------->False\n",
    "(not False) or (not True)------------------->True\n"
   ]
  },
  {
   "cell_type": "raw",
   "id": "11a0b9f0",
   "metadata": {},
   "source": [
    "5. What are the six comparison operators?\n",
    "\n",
    "Ans."
   ]
  },
  {
   "cell_type": "markdown",
   "id": "2d2a874c",
   "metadata": {},
   "source": [
    "<table class=\"ws-table-all notranslate\">\n",
    "<tbody><tr>\n",
    "<th>Operator</th>\n",
    "<th >Name</th>\n",
    "<th >Example</th>\n",
    "</tr>\n",
    "<tr>\n",
    "<td>==</td>\n",
    "<td>Equal</td>\n",
    "<td>x == y</td>\n",
    "</tr>\n",
    "<tr>\n",
    "<td>!=</td>\n",
    "<td>Not equal</td>\n",
    "<td>x != y</td>\n",
    "</tr>\n",
    "<tr>\n",
    "<td>&gt;</td>\n",
    "<td>Greater than</td>\n",
    "<td>x &gt; y</td>\n",
    "</tr>\n",
    "<tr>\n",
    "<td>&lt;</td>\n",
    "<td>Less than</td>\n",
    "<td>x &lt; y</td>\n",
    "</tr>\n",
    "  <tr>\n",
    "<td>&gt;=</td>\n",
    "<td>Greater than or equal to</td>\n",
    "<td>x &gt;= y</td>\n",
    "  </tr>\n",
    "<tr>\n",
    "<td>&lt;=</td>\n",
    "<td>Less than or equal to</td>\n",
    "<td>x &lt;= y</td>\n",
    "</tr>\n",
    "</tbody></table>"
   ]
  },
  {
   "cell_type": "raw",
   "id": "855b2753",
   "metadata": {},
   "source": [
    "6. How do you tell the difference between the equal to and assignment operators?Describe a condition and when you would use one.\n",
    "\n",
    "Ans.\n",
    "\n",
    "Equal to is \"==\"\n",
    "and  Asignment \"=\" are Written Like This in Python\n",
    "\n",
    "Equal to used For Comapare Two Variable Are Same or Not if  They Are Same Return Value True Other Wise False\n",
    "and Assignment Operator Assign Variable Particular Value\n",
    "\n",
    "e.g.\n",
    "If I Want To Assign Value To a ----> 10 and b----->15\n",
    "I will Write\n",
    "\n",
    "a=10\n",
    "b=15\n",
    "\n",
    "\n",
    "and if Want to Comare A and b if It is Same or Not\n",
    "\n",
    "a==b ----> It Will return False\n",
    "\n",
    "\n",
    "Because 10 And 15 are not Same\n"
   ]
  },
  {
   "cell_type": "raw",
   "id": "e0a000cd",
   "metadata": {},
   "source": [
    "7. Identify the three blocks in this code:\n",
    "spam = 0\n",
    "if spam == 10:\n",
    "    print('eggs')        # indent Added, First Block started\n",
    "    if spam > 5:         # block First continue\n",
    "        print('bacon')   # block First continue, indent Addded, Second B inside First block\n",
    "    else:                # block First continue, indent Removed, Second Block ended in line above\n",
    "        print('ham')     # block First continue, indent Added, Third block inside First block\n",
    "    print('spam')        # block First continue, indent Removed, Third block ended in line above\n",
    "print('spam')            # indent removed,First Block ended in line above\n"
   ]
  },
  {
   "cell_type": "raw",
   "id": "6b4755cc",
   "metadata": {},
   "source": [
    "8. Write code that prints Hello if 1 is stored in spam, prints Howdy if 2 is stored in spam, and prints Greetings! if anything else is stored in spam."
   ]
  },
  {
   "cell_type": "code",
   "execution_count": 14,
   "id": "ff709495",
   "metadata": {},
   "outputs": [
    {
     "name": "stdout",
     "output_type": "stream",
     "text": [
      "2\n",
      "Howdy\n"
     ]
    }
   ],
   "source": [
    "spam = int(input())\n",
    "if spam == 1:\n",
    "    print('Hello')\n",
    "    \n",
    "elif spam == 2:\n",
    "    print('Howdy')\n",
    "    \n",
    "else:\n",
    "    print('Greetings!')"
   ]
  },
  {
   "cell_type": "raw",
   "id": "4d668eee",
   "metadata": {},
   "source": [
    "9.If your programme is stuck in an endless loop, what keys you’ll press?\n",
    "\n",
    "Ans. \n",
    "\n",
    "\"ctrl + C\" if you are in Command Line"
   ]
  },
  {
   "cell_type": "raw",
   "id": "8d6f7300",
   "metadata": {},
   "source": [
    "10. How can you tell the difference between break and continue?\n",
    "\n",
    "Ans.\n",
    "\n",
    "Break and Continue Used for Breaking Loop itration at Particular Condition\n",
    "\n",
    "Break : It Break the Loop  if Condition is Satisfied and Go out of the loop Block\n",
    "\n",
    "Continue : It Breakes The Loop for Particular Iteration and Skip Running Block for if Condition is Satisfied and Continue Running Loop for next Iteration"
   ]
  },
  {
   "cell_type": "raw",
   "id": "86f0c4a5",
   "metadata": {},
   "source": [
    "11. In a for loop, what is the difference between range(10), range(0, 10), and range(0, 10, 1)?\n",
    "\n",
    "Ans.\n",
    "\n",
    "All are Same Nothing Different"
   ]
  },
  {
   "cell_type": "raw",
   "id": "fc90cd5f",
   "metadata": {},
   "source": [
    "12. Write a short program that prints the numbers 1 to 10 using a for loop. Then write an equivalent program that prints the numbers 1 to 10 using a while loop.\n",
    "\n",
    "Ans."
   ]
  },
  {
   "cell_type": "raw",
   "id": "e20e9a61",
   "metadata": {},
   "source": [
    "------>for Loop<-------\n",
    "for i in range(1,11):\n",
    "    print(i)\n",
    "\n",
    "----------------------------\n",
    "-------->while Loop<-----------\n",
    "i=1\n",
    "while i <=10:\n",
    "    print(i)\n",
    "    i+=1"
   ]
  },
  {
   "cell_type": "raw",
   "id": "28f5e05d",
   "metadata": {},
   "source": [
    "13. If you had a function named bacon() inside a module named spam, how would you call it after importing spam?\n",
    "\n",
    "Ans.\n",
    "\n",
    "import spam\n",
    "\n",
    "spam.bacon()    "
   ]
  }
 ],
 "metadata": {
  "kernelspec": {
   "display_name": "Python 3 (ipykernel)",
   "language": "python",
   "name": "python3"
  },
  "language_info": {
   "codemirror_mode": {
    "name": "ipython",
    "version": 3
   },
   "file_extension": ".py",
   "mimetype": "text/x-python",
   "name": "python",
   "nbconvert_exporter": "python",
   "pygments_lexer": "ipython3",
   "version": "3.9.12"
  },
  "vscode": {
   "interpreter": {
    "hash": "34af010af3e58aae9732ebbb27356125f95364d3df7c6b376dbc8e150281b160"
   }
  }
 },
 "nbformat": 4,
 "nbformat_minor": 5
}
