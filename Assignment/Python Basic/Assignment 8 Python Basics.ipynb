{
 "cells": [
  {
   "cell_type": "markdown",
   "id": "90aa5c32",
   "metadata": {},
   "source": [
    "1. Is the Python Standard Library included with PyInputPlus?\n",
    "\n",
    "Ans. Yes, the Python Standard Library is included with PyInputPlus."
   ]
  },
  {
   "cell_type": "markdown",
   "id": "9ccef54a",
   "metadata": {},
   "source": [
    "2. Why is PyInputPlus commonly imported with import pyinputplus as pypi?\n",
    "\n",
    "Ans. `pypi` is a short, easy-to-remember name"
   ]
  },
  {
   "cell_type": "markdown",
   "id": "e0c0666e",
   "metadata": {},
   "source": [
    "3. How do you distinguish between inputInt() and inputFloat()?\n",
    "\n",
    "Ans. `inputInt()` and `inputFloat()` are `PyInputPlus` functions for inputting integers and floating-point numbers respectively. `inputInt()` only\n",
    "accepts integer input and raises a `RetryLimitException` if the user enters a\n",
    "non-integer value. On the other hand, `inputFloat()` accepts both integer and\n",
    "floating-point input and raises a `RetryLimitException` if the user enters a\n",
    "non-numeric value."
   ]
  },
  {
   "cell_type": "markdown",
   "id": "571d807a",
   "metadata": {},
   "source": [
    "4. Using PyInputPlus, how do you ensure that the user enters a whole number between 0 and 99?\n",
    "\n",
    "Ans. inputInt() function with the `min` and `max` keyword arguments set to `0` and `99`"
   ]
  },
  {
   "cell_type": "markdown",
   "id": "1a8a8de7",
   "metadata": {},
   "source": [
    "5. What is transferred to the keyword arguments allowRegexes and blockRegexes?\n",
    "\n",
    "Ans. It will allow and block regex from inputing\n",
    "\n",
    "```number = pyip.inputStr(prompt='Enter a string containing only vowels: ', allowRegexes=['^[aeiou]*$'], blockRegexes=[r'[^aeiou]'])```"
   ]
  },
  {
   "cell_type": "markdown",
   "id": "f6eeba1f",
   "metadata": {},
   "source": [
    "6. If a blank input is entered three times, what does inputStr(limit=3) do?\n",
    "\n",
    "Ans. PyInputPlus raises a RetryLimitException with the message \"Blank values are not allowed.\" "
   ]
  },
  {
   "cell_type": "markdown",
   "id": "f976ee8c",
   "metadata": {},
   "source": [
    "7. If blank input is entered three times, what does inputStr(limit=3, default='hello') do?\n",
    "\n",
    "Ans. It will not raise exception it will replace with `hello`"
   ]
  },
  {
   "cell_type": "code",
   "execution_count": null,
   "id": "ef758cc5",
   "metadata": {},
   "outputs": [],
   "source": []
  }
 ],
 "metadata": {
  "kernelspec": {
   "display_name": "Python 3 (ipykernel)",
   "language": "python",
   "name": "python3"
  },
  "language_info": {
   "codemirror_mode": {
    "name": "ipython",
    "version": 3
   },
   "file_extension": ".py",
   "mimetype": "text/x-python",
   "name": "python",
   "nbconvert_exporter": "python",
   "pygments_lexer": "ipython3",
   "version": "3.11.1"
  }
 },
 "nbformat": 4,
 "nbformat_minor": 5
}
