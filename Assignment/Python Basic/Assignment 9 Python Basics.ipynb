{
 "cells": [
  {
   "cell_type": "markdown",
   "id": "77123efe",
   "metadata": {},
   "source": [
    "1. To what does a relative path refer?\n",
    "\n",
    "Ans. A relative path refers to a file or directory location relative to the current working directory. It does not start with the root folder or drive letter."
   ]
  },
  {
   "cell_type": "markdown",
   "id": "addd42ce",
   "metadata": {},
   "source": [
    "2. What does an absolute path start with your operating system?\n",
    "\n",
    "Ans. An absolute path starts with the root folder of the operating system, such as C:\\ on Windows or / on Unix-based systems."
   ]
  },
  {
   "cell_type": "markdown",
   "id": "507eb2cd",
   "metadata": {},
   "source": [
    "3. What do the functions os.getcwd() and os.chdir() do?\n",
    "\n",
    "Ans. os.getcwd() returns the current working directory, and os.chdir() changes the current working directory to the specified path."
   ]
  },
  {
   "cell_type": "markdown",
   "id": "0faad9da",
   "metadata": {},
   "source": [
    "4. What are the . and .. folders?\n",
    "\n",
    "Ans. . refers to the current directory, and .. refers to the parent directory."
   ]
  },
  {
   "cell_type": "markdown",
   "id": "126cb87a",
   "metadata": {},
   "source": [
    "5. In C:\\bacon\\eggs\\spam.txt, which part is the dir name, and which part is the base name?\n",
    "\n",
    "Ans. In C:\\bacon\\eggs\\spam.txt, C:\\bacon\\eggs is the directory name, and spam.txt is the base name."
   ]
  },
  {
   "cell_type": "markdown",
   "id": "1302b4b6",
   "metadata": {},
   "source": [
    "6. What are the three “mode” arguments that can be passed to the open() function?\n",
    "\n",
    "Ans. The three mode arguments that can be passed to the open() function are:\n",
    "\n",
    "'r' for read mode, which opens a file for reading (default mode if not specified).\n",
    "\n",
    "'w' for write mode, which truncates the file to zero length or creates a new file for writing.\n",
    "\n",
    "'a' for append mode, which appends to the end of the file if it exists or creates a new file for writing."
   ]
  },
  {
   "cell_type": "markdown",
   "id": "cce55744",
   "metadata": {},
   "source": [
    "7. What happens if an existing file is opened in write mode?\n",
    "\n",
    "Ans. If an existing file is opened in write mode, its contents will be truncated to zero length, and any new data written to the file will overwrite the existing data."
   ]
  },
  {
   "cell_type": "markdown",
   "id": "3041c1fd",
   "metadata": {},
   "source": [
    "8. How do you tell the difference between read() and readlines()?\n",
    "\n",
    "Ans. `read()` reads the entire contents of a file as a single string, while `readlines()` reads the contents of a file into a list of strings, with each string representing a line of the file."
   ]
  },
  {
   "cell_type": "markdown",
   "id": "2ea7fbf8",
   "metadata": {},
   "source": [
    "9. What data structure does a shelf value resemble?\n",
    "\n",
    "Ans. A shelf value in Python resembles a dictionary-like object that can store arbitrary key-value pairs in a file on disk. It is part of the Python shelve module."
   ]
  },
  {
   "cell_type": "code",
   "execution_count": null,
   "id": "65e5d6aa",
   "metadata": {},
   "outputs": [],
   "source": []
  }
 ],
 "metadata": {
  "kernelspec": {
   "display_name": "Python 3 (ipykernel)",
   "language": "python",
   "name": "python3"
  },
  "language_info": {
   "codemirror_mode": {
    "name": "ipython",
    "version": 3
   },
   "file_extension": ".py",
   "mimetype": "text/x-python",
   "name": "python",
   "nbconvert_exporter": "python",
   "pygments_lexer": "ipython3",
   "version": "3.11.1"
  }
 },
 "nbformat": 4,
 "nbformat_minor": 5
}
