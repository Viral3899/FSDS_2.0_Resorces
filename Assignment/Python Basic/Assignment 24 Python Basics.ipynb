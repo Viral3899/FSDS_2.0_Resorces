{
 "cells": [
  {
   "cell_type": "markdown",
   "id": "8cd5f7b1",
   "metadata": {},
   "source": [
    "1. What is the relationship between def statements and lambda expressions ?\n",
    "\n",
    "Ans.\n",
    "    \n",
    "    The main difference between def statements and lambda expressions is that def statements are used to create named functions, while lambda expressions are used to create anonymous functions. Def statements are more versatile and can include multiple statements and be called from other parts of the program, while lambda expressions are limited to a single expression and are often used inline as arguments to other functions.\n"
   ]
  },
  {
   "cell_type": "markdown",
   "id": "8cd5f7b1",
   "metadata": {},
   "source": [
    "2. What is the benefit of lambda?\n",
    "\n",
    "Ans. \n",
    "    \n",
    "    The benefit of lambda expressions is that they allow for the creation of small, one-line functions without the need for naming them. This can lead to more concise and readable code, especially when working with higher-order functions that take functions as arguments.\n",
    "\n"
   ]
  },
  {
   "cell_type": "markdown",
   "id": "8cd5f7b1",
   "metadata": {},
   "source": [
    "3. Compare and contrast map, filter, and reduce.\n",
    "\n",
    "Ans.\n",
    "\n",
    "    Map, filter, and reduce are three built-in higher-order functions in Python. Map applies a function to each element of a sequence and returns a new sequence with the results. Filter applies a function to each element of a sequence and returns a new sequence with only the elements that pass a given condition. Reduce applies a function to each element of a sequence and aggregates the results into a single value."
   ]
  },
  {
   "cell_type": "markdown",
   "id": "8cd5f7b1",
   "metadata": {},
   "source": [
    "4. What are function annotations, and how are they used?\n",
    "\n",
    "Ans.\n",
    "\n",
    "    Function annotations are a feature of Python that allows for the specification of types and other metadata for function arguments and return values. They are used to provide additional information to developers and tools that work with Python code, such as linters and type checkers. Function annotations are defined using a colon followed by the type or metadata information."
   ]
  },
  {
   "cell_type": "markdown",
   "id": "8cd5f7b1",
   "metadata": {},
   "source": [
    "5. What are recursive functions, and how are they used?\n",
    "\n",
    "Ans.\n",
    "    \n",
    "    Recursive functions are functions that call themselves, either directly or indirectly, in order to solve a problem by breaking it down into smaller instances of the same problem. Recursive functions are often used in programming to implement algorithms that involve iterating over a set of items or performing a series of transformations on a data structure.\n"
   ]
  },
  {
   "cell_type": "markdown",
   "id": "8cd5f7b1",
   "metadata": {},
   "source": [
    "6. What are some general design guidelines for coding functions?\n",
    "\n",
    "Ans.\n",
    "\n",
    "    Some general design guidelines for coding functions include keeping functions small and focused on a single task, using descriptive and concise names, avoiding side effects and global variables, and including clear and concise documentation and comments."
   ]
  },
  {
   "cell_type": "markdown",
   "id": "8cd5f7b1",
   "metadata": {},
   "source": [
    "7. Name three or more ways that functions can communicate results to a caller.\n",
    "\n",
    "Ans. \n",
    "\n",
    "    Functions can communicate results to a caller in several ways, including returning a value or a sequence of values, modifying the state of an object or data structure passed as an argument, raising exceptions to signal errors or unexpected conditions, and printing or logging information for debugging purposes."
   ]
  },
  {
   "cell_type": "markdown",
   "id": "0126b8bc",
   "metadata": {},
   "source": []
  }
 ],
 "metadata": {
  "kernelspec": {
   "display_name": "Python 3.8.10 64-bit",
   "language": "python",
   "name": "python3"
  },
  "language_info": {
   "codemirror_mode": {
    "name": "ipython",
    "version": 3
   },
   "file_extension": ".py",
   "mimetype": "text/x-python",
   "name": "python",
   "nbconvert_exporter": "python",
   "pygments_lexer": "ipython3",
   "version": "3.8.10"
  },
  "vscode": {
   "interpreter": {
    "hash": "e7370f93d1d0cde622a1f8e1c04877d8463912d04d973331ad4851f04de6915a"
   }
  }
 },
 "nbformat": 4,
 "nbformat_minor": 5
}
