{
 "cells": [
  {
   "cell_type": "markdown",
   "id": "18ca51e5",
   "metadata": {},
   "source": [
    "1. Add the current date to the text file today.txt as a string.\n",
    "\n",
    "Ans."
   ]
  },
  {
   "cell_type": "code",
   "execution_count": 1,
   "id": "b96e9d23",
   "metadata": {},
   "outputs": [],
   "source": [
    "import datetime\n",
    "\n",
    "with open(\"today.txt\", \"w\") as file:\n",
    "    file.write(str(datetime.date.today()))\n"
   ]
  },
  {
   "cell_type": "markdown",
   "id": "efd42b4b",
   "metadata": {},
   "source": [
    "2. Read the text file today.txt into the string today_string\n",
    "\n",
    "Ans."
   ]
  },
  {
   "cell_type": "code",
   "execution_count": 2,
   "id": "31eefbd0",
   "metadata": {},
   "outputs": [
    {
     "data": {
      "text/plain": [
       "'2023-02-23'"
      ]
     },
     "execution_count": 2,
     "metadata": {},
     "output_type": "execute_result"
    }
   ],
   "source": [
    "with open(\"today.txt\", \"r\") as file:\n",
    "    today_string = file.read()\n",
    "today_string"
   ]
  },
  {
   "cell_type": "markdown",
   "id": "37030ba2",
   "metadata": {},
   "source": [
    "3. Parse the date from today_string.\n",
    "\n",
    "Ans."
   ]
  },
  {
   "cell_type": "code",
   "execution_count": 3,
   "id": "7cc435ae",
   "metadata": {},
   "outputs": [
    {
     "data": {
      "text/plain": [
       "datetime.date(2023, 2, 23)"
      ]
     },
     "execution_count": 3,
     "metadata": {},
     "output_type": "execute_result"
    }
   ],
   "source": [
    "today = datetime.datetime.strptime(today_string, \"%Y-%m-%d\").date()\n",
    "today"
   ]
  },
  {
   "cell_type": "markdown",
   "id": "ad769fb7",
   "metadata": {},
   "source": [
    "4. List the files in your current directory\n",
    "\n",
    "Ans."
   ]
  },
  {
   "cell_type": "code",
   "execution_count": 4,
   "id": "bc041295",
   "metadata": {},
   "outputs": [
    {
     "name": "stdout",
     "output_type": "stream",
     "text": [
      ".idea\n",
      ".~lock.Assignment_18.docx#\n",
      "Plotly Proof of concept.pptx\n",
      "dash-labs-main\n",
      "dash-labs-main.zip\n",
      "requirements.txt\n",
      "Python\n",
      "Dash-by-Plotly-master.zip\n",
      "Air travel data (air travel dataset)_Migrated Data.csv\n",
      "Assignment_22.docx\n",
      "Untitled.ipynb\n",
      "Dash practice\n",
      "3P\n",
      "FIT.zip\n",
      "flask-video-series-master\n",
      "Assignment 21 Python Basics.ipynb\n",
      "Bankers-API\n",
      "today.txt\n",
      "Sample - Superstore.xlsx\n",
      "New Text Document.txt\n",
      "IMG\n",
      ".~lock.Tweeter Data OPL.csv#\n",
      "dash_sample_dashboard-master.zip\n",
      "dash_sample_dashboard-master\n",
      "Dash-by-Plotly-master\n",
      "Bankers-API.zip\n",
      "dash-multi-page-app-demos-main\n",
      "Mudra 3P Report.ipynb\n",
      ".ipynb_checkpoints\n",
      "MUDRA Data.csv\n",
      "Reports.py\n",
      "Assignment_21.docx\n",
      "dash-multi-page-app-demos-main.zip\n",
      ".~lock.Assignment_20.docx#\n",
      "FIT\n",
      "3P.zip\n",
      "1\n",
      ".~lock.Assignment_21.docx#\n",
      "jetbrains-toolbox-1.27.2.13801.tar.gz\n",
      "MSME 3P Report.pptx\n",
      "scrapper.zip\n"
     ]
    }
   ],
   "source": [
    "import os\n",
    "\n",
    "current_directory = os.getcwd()\n",
    "for file in os.listdir(current_directory):\n",
    "    print(file)\n"
   ]
  },
  {
   "cell_type": "markdown",
   "id": "00748c48",
   "metadata": {},
   "source": [
    "5. Create a list of all of the files in your parent directory (minimum five files should be available).\n",
    "\n",
    "Ans."
   ]
  },
  {
   "cell_type": "code",
   "execution_count": 5,
   "id": "4373fa6d",
   "metadata": {},
   "outputs": [
    {
     "name": "stdout",
     "output_type": "stream",
     "text": [
      "['.profile.bak', '.bash_history', '.bash_logout', '<html>.html', '.profile', '.sudo_as_admin_successful', '.python_history', '.mysql_history', '.bashrc']\n"
     ]
    }
   ],
   "source": [
    "import os\n",
    "current_directory = os.getcwd()\n",
    "parent_directory = os.path.abspath(os.path.join(current_directory, os.pardir))\n",
    "parent_files = [file for file in os.listdir(parent_directory) if os.path.isfile(os.path.join(parent_directory, file))]\n",
    "print(parent_files)"
   ]
  },
  {
   "cell_type": "markdown",
   "id": "28bd78be",
   "metadata": {},
   "source": [
    "6. Use multiprocessing to create three separate processes. Make each one wait a random number of seconds between one and five, print the current time, and then exit.\n",
    "\n",
    "Ans."
   ]
  },
  {
   "cell_type": "code",
   "execution_count": 6,
   "id": "3d3b2e2e",
   "metadata": {},
   "outputs": [
    {
     "name": "stdout",
     "output_type": "stream",
     "text": [
      "Current time: 14:48:59\n",
      "Current time: 14:48:59\n",
      "Current time: 14:49:01\n"
     ]
    }
   ],
   "source": [
    "import random\n",
    "import time\n",
    "import multiprocessing\n",
    "\n",
    "def print_current_time():\n",
    "    wait_time = random.randint(1, 5)\n",
    "    time.sleep(wait_time)\n",
    "    print(f\"Current time: {time.strftime('%H:%M:%S')}\")\n",
    "\n",
    "processes = [multiprocessing.Process(target=print_current_time) for _ in range(3)]\n",
    "for process in processes:\n",
    "    process.start()\n",
    "for process in processes:\n",
    "    process.join()\n",
    "\n"
   ]
  },
  {
   "cell_type": "markdown",
   "id": "93819d83",
   "metadata": {},
   "source": [
    "7. Create a date object of your day of birth.\n",
    "\n",
    "Ans."
   ]
  },
  {
   "cell_type": "code",
   "execution_count": 7,
   "id": "e9dcae24",
   "metadata": {},
   "outputs": [
    {
     "data": {
      "text/plain": [
       "datetime.date(1999, 8, 3)"
      ]
     },
     "execution_count": 7,
     "metadata": {},
     "output_type": "execute_result"
    }
   ],
   "source": [
    "birthday = datetime.date(1999, 8, 3) \n",
    "birthday"
   ]
  },
  {
   "cell_type": "markdown",
   "id": "e3d72ae9",
   "metadata": {},
   "source": [
    "8. What day of the week was your day of birth?\n",
    "\n",
    "Ans."
   ]
  },
  {
   "cell_type": "code",
   "execution_count": 8,
   "id": "aa68465c",
   "metadata": {},
   "outputs": [
    {
     "name": "stdout",
     "output_type": "stream",
     "text": [
      "Tuesday\n"
     ]
    }
   ],
   "source": [
    "day_of_week = birthday.strftime(\"%A\")\n",
    "print(day_of_week)\n"
   ]
  },
  {
   "cell_type": "markdown",
   "id": "3919ee4c",
   "metadata": {},
   "source": [
    "9. When will you be (or when were you) 10,000 days old?\n",
    "\n",
    "Ans."
   ]
  },
  {
   "cell_type": "code",
   "execution_count": 9,
   "id": "fe0fe046",
   "metadata": {},
   "outputs": [
    {
     "name": "stdout",
     "output_type": "stream",
     "text": [
      "2026-12-19\n"
     ]
    }
   ],
   "source": [
    "ten_thousand_days = datetime.timedelta(days=10000)\n",
    "ten_thousand_days_old = birthday + ten_thousand_days\n",
    "print(ten_thousand_days_old.strftime(\"%Y-%m-%d\"))\n"
   ]
  }
 ],
 "metadata": {
  "kernelspec": {
   "display_name": "Python 3 (ipykernel)",
   "language": "python",
   "name": "python3"
  },
  "language_info": {
   "codemirror_mode": {
    "name": "ipython",
    "version": 3
   },
   "file_extension": ".py",
   "mimetype": "text/x-python",
   "name": "python",
   "nbconvert_exporter": "python",
   "pygments_lexer": "ipython3",
   "version": "3.10.6"
  },
  "vscode": {
   "interpreter": {
    "hash": "e7370f93d1d0cde622a1f8e1c04877d8463912d04d973331ad4851f04de6915a"
   }
  }
 },
 "nbformat": 4,
 "nbformat_minor": 5
}
