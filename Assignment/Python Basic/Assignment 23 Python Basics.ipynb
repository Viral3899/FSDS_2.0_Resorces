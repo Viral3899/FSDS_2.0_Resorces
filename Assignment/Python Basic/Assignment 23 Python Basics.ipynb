{
 "cells": [
  {
   "cell_type": "markdown",
   "id": "71be2ab1",
   "metadata": {},
   "source": [
    "\n",
    "1. What is the result of the code, and why?\n",
    "```python \n",
    "def func(a, b=6, c=8):\n",
    "    print(a, b, c)\n",
    "func(1, 2)\n",
    "```\n",
    "\n",
    "Ans. \n",
    "\n",
    "    The result of the code will be: 1 2 8. Here, we have defined a function named func with three parameters - a, b (which has a default value of 6), and c (which has a default value of 8). When we call the function func with arguments 1 and 2, the value 1 is assigned to a and the value 2 is assigned to b. Since no value is given for the parameter c, it takes its default value of 8. Hence, the output is 1 2 8."
   ]
  },
  {
   "cell_type": "code",
   "execution_count": 1,
   "id": "63a5ac02",
   "metadata": {},
   "outputs": [
    {
     "name": "stdout",
     "output_type": "stream",
     "text": [
      "1 2 8\n"
     ]
    }
   ],
   "source": [
    "def func(a, b=6, c=8):\n",
    "    print(a, b, c)\n",
    "func(1, 2)"
   ]
  },
  {
   "cell_type": "markdown",
   "id": "c2d96014",
   "metadata": {},
   "source": [
    "2. What is the result of this code, and why?\n",
    "```python \n",
    "def func(a, b, c=5):\n",
    "    print(a, b, c)\n",
    "func(1, c=3, b=2)\n",
    "```\n",
    "Ans.\n",
    "\n",
    "    The result of the code will be: 1 2 3. Here, we have defined a function named func with three parameters - a, b, and c (which has a default value of 5). When we call the function func with arguments 1, c=3, and b=2, the value 1 is assigned to a, the value 2 is assigned to b, and the value 3 is assigned to c. Hence, the output is 1 2 3\n"
   ]
  },
  {
   "cell_type": "code",
   "execution_count": 2,
   "id": "8060e456",
   "metadata": {},
   "outputs": [
    {
     "name": "stdout",
     "output_type": "stream",
     "text": [
      "1 2 3\n"
     ]
    }
   ],
   "source": [
    "def func(a, b, c=5):\n",
    "    print(a, b, c)\n",
    "func(1, c=3, b=2)"
   ]
  },
  {
   "cell_type": "markdown",
   "id": "498cc790",
   "metadata": {},
   "source": [
    "3. How about this code: what is its result, and why?\n",
    "```python \n",
    "def func(a, *pargs):\n",
    "    print(a, pargs)\n",
    "func(1, 2, 3)\n",
    "```\n",
    "Ans. \n",
    "\n",
    "    The result of the code will be: 1 (2, 3). Here, we have defined a function named func with two parameters - a and *pargs (which means it can take any number of positional arguments after the first parameter). When we call the function func with arguments 1, 2, and 3, the value 1 is assigned to a and the values 2 and 3 are assigned to pargs. Hence, the output is 1 (2, 3)"
   ]
  },
  {
   "cell_type": "code",
   "execution_count": 3,
   "id": "fc0319f4",
   "metadata": {},
   "outputs": [
    {
     "name": "stdout",
     "output_type": "stream",
     "text": [
      "1 (2, 3)\n"
     ]
    }
   ],
   "source": [
    "def func(a, *pargs):\n",
    "    print(a, pargs)\n",
    "func(1, 2, 3)"
   ]
  },
  {
   "cell_type": "markdown",
   "id": "41e010fb",
   "metadata": {},
   "source": [
    "4. What does this code print, and why?\n",
    "```python \n",
    "def func(a, **kargs):\n",
    "    print(a, kargs)\n",
    "func(a=1, c=3, b=2)\n",
    "```\n",
    "Ans. \n",
    "    \n",
    "    The result of the code will be: 1 {'c': 3, 'b': 2}. Here, we have defined a function named func with one parameter - a and **kargs (which means it can take any number of keyword arguments). When we call the function func with arguments a=1, c=3, and b=2, the value 1 is assigned to a and the keyword arguments c=3 and b=2 are assigned to kargs. Hence, the output is 1 {'c': 3, 'b': 2}."
   ]
  },
  {
   "cell_type": "code",
   "execution_count": 4,
   "id": "91d5242d",
   "metadata": {},
   "outputs": [
    {
     "name": "stdout",
     "output_type": "stream",
     "text": [
      "1 {'c': 3, 'b': 2}\n"
     ]
    }
   ],
   "source": [
    "def func(a, **kargs):\n",
    "    print(a, kargs)\n",
    "func(a=1, c=3, b=2)"
   ]
  },
  {
   "cell_type": "markdown",
   "id": "8189b5bb",
   "metadata": {},
   "source": [
    "\n",
    "5. What gets printed by this, and explain?\n",
    "```python \n",
    "def func(a, b, c=8, d=5): \n",
    "    print(a, b, c, d)\n",
    "func(1, *(5, 6))\n",
    "```\n",
    "Ans. \n",
    "\n",
    "    The result of the code will be: 1 5 6 5. Here, we have defined a function named func with three parameters - a, b, c (which has a default value of 8), and d (which has a default value of 5). When we call the function func with arguments 1 and (5, 6), the value 1 is assigned to a and the tuple (5, 6) is unpacked and the value 5 is assigned to b and the value 6 is assigned to c. Since no value is given for the parameter d, it takes its default value of 5. Hence, the output is 1 5 6 5.\n"
   ]
  },
  {
   "cell_type": "code",
   "execution_count": 5,
   "id": "baa27561",
   "metadata": {},
   "outputs": [
    {
     "name": "stdout",
     "output_type": "stream",
     "text": [
      "1 5 6 5\n"
     ]
    }
   ],
   "source": [
    "def func(a, b, c=8, d=5): \n",
    "    print(a, b, c, d)\n",
    "func(1, *(5, 6))"
   ]
  },
  {
   "cell_type": "markdown",
   "id": "a50ea4f0",
   "metadata": {},
   "source": [
    "6. what is the result of this, and explain?\n",
    "```python \n",
    "def func(a, b, c): \n",
    "    a = 2; \n",
    "    b[0] = 'x'; \n",
    "    c['a'] = 'y'\n",
    "l=1; m=[1]; n={'a':0}\n",
    "func(l, m, n)\n",
    "l, m, n\n",
    "```\n",
    "Ans. \n",
    "    \n",
    "    The result of the code will be: 1 [x] {'a': 'y'}. Here, we have defined a function named func with three parameters - a, b, and c. When we call the function func with arguments l, m, and n, the value 1 is assigned to a, the list"
   ]
  },
  {
   "cell_type": "code",
   "execution_count": 6,
   "id": "9aa36df0",
   "metadata": {},
   "outputs": [
    {
     "data": {
      "text/plain": [
       "(1, ['x'], {'a': 'y'})"
      ]
     },
     "execution_count": 6,
     "metadata": {},
     "output_type": "execute_result"
    }
   ],
   "source": [
    "def func(a, b, c): \n",
    "    a = 2; \n",
    "    b[0] = 'x'; \n",
    "    c['a'] = 'y'\n",
    "l=1; m=[1]; n={'a':0}\n",
    "func(l, m, n)\n",
    "l, m, n"
   ]
  }
 ],
 "metadata": {
  "kernelspec": {
   "display_name": "Python 3.8.10 64-bit",
   "language": "python",
   "name": "python3"
  },
  "language_info": {
   "codemirror_mode": {
    "name": "ipython",
    "version": 3
   },
   "file_extension": ".py",
   "mimetype": "text/x-python",
   "name": "python",
   "nbconvert_exporter": "python",
   "pygments_lexer": "ipython3",
   "version": "3.8.10"
  },
  "vscode": {
   "interpreter": {
    "hash": "e7370f93d1d0cde622a1f8e1c04877d8463912d04d973331ad4851f04de6915a"
   }
  }
 },
 "nbformat": 4,
 "nbformat_minor": 5
}
