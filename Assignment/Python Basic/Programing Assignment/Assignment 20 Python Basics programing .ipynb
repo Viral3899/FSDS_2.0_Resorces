{
 "cells": [
  {
   "cell_type": "markdown",
   "metadata": {},
   "source": [
    "Question1\n",
    "\n",
    "    Create a function that takes a list of strings and integers, and filters out the list so that it returns a list of integers only.\n",
    "    Examples\n",
    "    filter_list([1, 2, 3, \"a\", \"b\", 4]) ➞ [1, 2, 3, 4]\n",
    "\n",
    "    filter_list([\"A\", 0, \"Edabit\", 1729, \"Python\", \"1729\"]) ➞ [0, 1729]\n",
    "\n",
    "    filter_list([\"Nothing\", \"here\"]) ➞ []"
   ]
  },
  {
   "cell_type": "code",
   "execution_count": 1,
   "metadata": {},
   "outputs": [
    {
     "name": "stdout",
     "output_type": "stream",
     "text": [
      "[1, 2, 3, 4]\n",
      "[0, 1729]\n",
      "[]\n"
     ]
    }
   ],
   "source": [
    "def filter_list(lst):\n",
    "    return [i for i in lst if type(i) == int]\n",
    "\n",
    "print(filter_list([1, 2, 3, \"a\", \"b\", 4])) \n",
    "print(filter_list([\"A\", 0, \"Edabit\", 1729, \"Python\", \"1729\"])) \n",
    "print(filter_list([\"Nothing\", \"here\"])) \n"
   ]
  },
  {
   "cell_type": "markdown",
   "metadata": {},
   "source": [
    "Question2\n",
    "\n",
    "    Given a list of numbers, create a function which returns the list but with each element's index in the list added to itself. This means you add 0 to the number at index 0, add 1 to the number at index 1, etc...\n",
    "    Examples\n",
    "    add_indexes([0, 0, 0, 0, 0]) ➞ [0, 1, 2, 3, 4]\n",
    "\n",
    "    add_indexes([1, 2, 3, 4, 5]) ➞ [1, 3, 5, 7, 9]\n",
    "\n",
    "    add_indexes([5, 4, 3, 2, 1]) ➞ [5, 5, 5, 5, 5]"
   ]
  },
  {
   "cell_type": "code",
   "execution_count": 2,
   "metadata": {},
   "outputs": [
    {
     "name": "stdout",
     "output_type": "stream",
     "text": [
      "[0, 1, 2, 3, 4]\n",
      "[1, 3, 5, 7, 9]\n",
      "[5, 5, 5, 5, 5]\n"
     ]
    }
   ],
   "source": [
    "def add_indexes(lst):\n",
    "    return [lst[i]+i for i in range(len(lst))]\n",
    "\n",
    "\n",
    "print(add_indexes([0, 0, 0, 0, 0])) \n",
    "print(add_indexes([1, 2, 3, 4, 5])) \n",
    "print(add_indexes([5, 4, 3, 2, 1])) \n"
   ]
  },
  {
   "cell_type": "markdown",
   "metadata": {},
   "source": [
    "Question3\n",
    "\n",
    "\n",
    "<img src='data:image/png;base64,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'>\n",
    "\n",
    "\n",
    "    Create a function that takes the height and radius of a cone as arguments and returns the volume of the cone rounded to the nearest hundredth. See the resources tab for the formula.\n",
    "    Examples\n",
    "    cone_volume(3, 2) ➞ 12.57\n",
    "\n",
    "    cone_volume(15, 6) ➞ 565.49\n",
    "\n",
    "    cone_volume(18, 0) ➞ 0"
   ]
  },
  {
   "cell_type": "code",
   "execution_count": 2,
   "metadata": {},
   "outputs": [
    {
     "name": "stdout",
     "output_type": "stream",
     "text": [
      "12.57\n",
      "565.49\n",
      "0.0\n"
     ]
    }
   ],
   "source": [
    "import math\n",
    "\n",
    "def cone_volume(h, r):\n",
    "    volume = (math.pi * r**2 * h) / 3\n",
    "    return round(volume, 2)\n",
    "\n",
    "print(cone_volume(3, 2)) \n",
    "print(cone_volume(15, 6)) \n",
    "print(cone_volume(18, 0)) \n"
   ]
  },
  {
   "cell_type": "markdown",
   "metadata": {},
   "source": [
    "Question4\n",
    "\n",
    "    This Triangular Number Sequence is generated from a pattern of dots that form a triangle. The first 5 numbers of the sequence, or dots, are: \n",
    "    1, 3, 6, 10, 15\n",
    "    This means that the first triangle has just one dot, the second one has three dots, the third one has 6 dots and so on.\n",
    "    Write a function that gives the number of dots with its corresponding triangle number of the sequence.\n",
    "    Examples\n",
    "    triangle(1) ➞ 1\n",
    "\n",
    "    triangle(6) ➞ 21\n",
    "\n",
    "    triangle(215) ➞ 23220"
   ]
  },
  {
   "cell_type": "code",
   "execution_count": 3,
   "metadata": {},
   "outputs": [
    {
     "name": "stdout",
     "output_type": "stream",
     "text": [
      "1\n",
      "21\n",
      "23220\n"
     ]
    }
   ],
   "source": [
    "def triangle(n):\n",
    "    return sum(range(1, n+1))\n",
    "\n",
    "print(triangle(1)) \n",
    "print(triangle(6)) \n",
    "print(triangle(215)) "
   ]
  },
  {
   "cell_type": "markdown",
   "metadata": {},
   "source": [
    "Question5\n",
    "\n",
    "    Create a function that takes a list of numbers between 1 and 10 (excluding one number) and returns the missing number.\n",
    "    Examples\n",
    "    missing_num([1, 2, 3, 4, 6, 7, 8, 9, 10]) ➞ 5\n",
    "\n",
    "    missing_num([7, 2, 3, 6, 5, 9, 1, 4, 8]) ➞ 10\n",
    "\n",
    "    missing_num([10, 5, 1, 2, 4, 6, 8, 3, 9]) ➞ 7"
   ]
  },
  {
   "cell_type": "code",
   "execution_count": 4,
   "metadata": {},
   "outputs": [
    {
     "name": "stdout",
     "output_type": "stream",
     "text": [
      "5\n",
      "10\n",
      "7\n"
     ]
    }
   ],
   "source": [
    "def missing_num(lst):\n",
    "    return sum(range(1,11)) - sum(lst)\n",
    "\n",
    "print(missing_num([1, 2, 3, 4, 6, 7, 8, 9, 10])) \n",
    "print(missing_num([7, 2, 3, 6, 5, 9, 1, 4, 8])) \n",
    "print(missing_num([10, 5, 1, 2, 4, 6, 8, 3, 9])) \n"
   ]
  },
  {
   "cell_type": "code",
   "execution_count": null,
   "metadata": {},
   "outputs": [],
   "source": []
  }
 ],
 "metadata": {
  "kernelspec": {
   "display_name": "Python 3.8.10 64-bit",
   "language": "python",
   "name": "python3"
  },
  "language_info": {
   "codemirror_mode": {
    "name": "ipython",
    "version": 3
   },
   "file_extension": ".py",
   "mimetype": "text/x-python",
   "name": "python",
   "nbconvert_exporter": "python",
   "pygments_lexer": "ipython3",
   "version": "3.8.10"
  },
  "orig_nbformat": 4,
  "vscode": {
   "interpreter": {
    "hash": "e7370f93d1d0cde622a1f8e1c04877d8463912d04d973331ad4851f04de6915a"
   }
  }
 },
 "nbformat": 4,
 "nbformat_minor": 2
}
