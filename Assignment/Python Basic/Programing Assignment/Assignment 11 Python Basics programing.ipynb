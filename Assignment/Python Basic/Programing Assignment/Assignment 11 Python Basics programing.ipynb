{
 "cells": [
  {
   "cell_type": "markdown",
   "metadata": {},
   "source": [
    "1.\tWrite a Python program to find words which are greater than given length k?\n",
    "\n",
    "Ans."
   ]
  },
  {
   "cell_type": "code",
   "execution_count": 1,
   "metadata": {},
   "outputs": [
    {
     "name": "stdout",
     "output_type": "stream",
     "text": [
      "['sample', 'string', 'testing', 'function.']\n"
     ]
    }
   ],
   "source": [
    "def find_long_words(string, k):\n",
    "   \n",
    "    words = string.split()\n",
    "    long_words = []\n",
    "    for word in words:\n",
    "        if len(word) > k:\n",
    "            long_words.append(word)\n",
    "    return long_words\n",
    "\n",
    "# example usage\n",
    "string = \"This is a sample string for testing the function.\"\n",
    "k = 4\n",
    "print(find_long_words(string, k)) "
   ]
  },
  {
   "cell_type": "markdown",
   "metadata": {},
   "source": [
    "2.\tWrite a Python program for removing i-th character from a string?\n",
    "\n",
    "Ans."
   ]
  },
  {
   "cell_type": "code",
   "execution_count": 2,
   "metadata": {},
   "outputs": [
    {
     "name": "stdout",
     "output_type": "stream",
     "text": [
      "exaple\n"
     ]
    }
   ],
   "source": [
    "def remove_char(string, i):\n",
    "   \n",
    "    new_string = string[:i] + string[i+1:]\n",
    "    return new_string\n",
    "\n",
    "# example usage\n",
    "string = \"example\"\n",
    "i = 3\n",
    "print(remove_char(string, i)) \n"
   ]
  },
  {
   "cell_type": "markdown",
   "metadata": {},
   "source": [
    "3.\tWrite a Python program to split and join a string?\n",
    "\n",
    "Ans."
   ]
  },
  {
   "cell_type": "code",
   "execution_count": 4,
   "metadata": {},
   "outputs": [
    {
     "name": "stdout",
     "output_type": "stream",
     "text": [
      "This-is-a-sample-string-for-testing-the-function.\n"
     ]
    }
   ],
   "source": [
    "def split_join_string(string):\n",
    "   \n",
    "    words = string.split()\n",
    "    new_string = '-'.join(words)\n",
    "    return new_string\n",
    "\n",
    "\n",
    "string = \"This is a sample string for testing the function.\"\n",
    "print(split_join_string(string)) \n"
   ]
  },
  {
   "cell_type": "markdown",
   "metadata": {},
   "source": [
    "4.\tWrite a Python to check if a given string is binary string or not?\n",
    "\n",
    "Ans."
   ]
  },
  {
   "cell_type": "code",
   "execution_count": 5,
   "metadata": {},
   "outputs": [
    {
     "name": "stdout",
     "output_type": "stream",
     "text": [
      "True\n",
      "False\n"
     ]
    }
   ],
   "source": [
    "def is_binary_string(string):\n",
    " \n",
    "    for char in string:\n",
    "        if char not in ['0', '1']:\n",
    "            return False\n",
    "    return True\n",
    "\n",
    "string1 = \"101011\"\n",
    "string2 = \"201010\"\n",
    "print(is_binary_string(string1)) \n",
    "print(is_binary_string(string2)) \n"
   ]
  },
  {
   "cell_type": "markdown",
   "metadata": {},
   "source": [
    "5.\tWrite a Python program to find uncommon words from two Strings?\n",
    "\n",
    "Ans."
   ]
  },
  {
   "cell_type": "code",
   "execution_count": 6,
   "metadata": {},
   "outputs": [
    {
     "name": "stdout",
     "output_type": "stream",
     "text": [
      "['a', 'another']\n"
     ]
    }
   ],
   "source": [
    "def find_uncommon_words(string1, string2):\n",
    " \n",
    "    words1 = set(string1.split())\n",
    "    words2 = set(string2.split())\n",
    "    uncommon_words = list(words1.symmetric_difference(words2))\n",
    "    return uncommon_words\n",
    "\n",
    "string1 = \"This is a sample string.\"\n",
    "string2 = \"This is another sample string.\"\n",
    "print(find_uncommon_words(string1, string2)) \n"
   ]
  },
  {
   "cell_type": "markdown",
   "metadata": {},
   "source": [
    "6.\tWrite a Python to find all duplicate characters in string?\n",
    "\n",
    "Ans."
   ]
  },
  {
   "cell_type": "code",
   "execution_count": 7,
   "metadata": {},
   "outputs": [
    {
     "name": "stdout",
     "output_type": "stream",
     "text": [
      "['e', 'o', 't', 'n', 'g', 'f', 'i', 'h', 's', 'a', ' ', 'r']\n"
     ]
    }
   ],
   "source": [
    "def find_duplicate_chars(string):\n",
    "   \n",
    "    chars = list(string)\n",
    "    duplicates = []\n",
    "    for char in set(chars):\n",
    "        if chars.count(char) > 1:\n",
    "            duplicates.append(char)\n",
    "    return duplicates\n",
    "\n",
    "# example usage\n",
    "string = \"This is a sample string for testing the function.\"\n",
    "print(find_duplicate_chars(string))\n"
   ]
  },
  {
   "cell_type": "markdown",
   "metadata": {},
   "source": [
    "7.\tWrite a Python Program to check if a string contains any special character?\n",
    "\n",
    "Ans."
   ]
  },
  {
   "cell_type": "code",
   "execution_count": 9,
   "metadata": {},
   "outputs": [
    {
     "name": "stdout",
     "output_type": "stream",
     "text": [
      "String contains special character\n"
     ]
    }
   ],
   "source": [
    "import re\n",
    "\n",
    "string = \"Hello World! 123\"\n",
    "\n",
    "# regular expression to match special characters\n",
    "regex = re.compile('[@_!#$%^&*()<>?/\\|}{~:]')\n",
    "\n",
    "if regex.search(string):\n",
    "    print(\"String contains special character\")\n",
    "else:\n",
    "    print(\"String does not contain any special character\")\n"
   ]
  },
  {
   "cell_type": "code",
   "execution_count": null,
   "metadata": {},
   "outputs": [],
   "source": []
  }
 ],
 "metadata": {
  "kernelspec": {
   "display_name": "Python 3.8.10 64-bit",
   "language": "python",
   "name": "python3"
  },
  "language_info": {
   "codemirror_mode": {
    "name": "ipython",
    "version": 3
   },
   "file_extension": ".py",
   "mimetype": "text/x-python",
   "name": "python",
   "nbconvert_exporter": "python",
   "pygments_lexer": "ipython3",
   "version": "3.8.10"
  },
  "orig_nbformat": 4,
  "vscode": {
   "interpreter": {
    "hash": "e7370f93d1d0cde622a1f8e1c04877d8463912d04d973331ad4851f04de6915a"
   }
  }
 },
 "nbformat": 4,
 "nbformat_minor": 2
}
