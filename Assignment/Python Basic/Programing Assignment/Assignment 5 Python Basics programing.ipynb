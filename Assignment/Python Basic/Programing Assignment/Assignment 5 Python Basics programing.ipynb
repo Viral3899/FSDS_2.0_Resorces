{
 "cells": [
  {
   "cell_type": "markdown",
   "metadata": {},
   "source": [
    "1. Write a Python Program to Find LCM?\n",
    "\n",
    "Ans."
   ]
  },
  {
   "cell_type": "code",
   "execution_count": 4,
   "metadata": {},
   "outputs": [
    {
     "name": "stdout",
     "output_type": "stream",
     "text": [
      "16\n",
      "32\n",
      "48\n",
      "48\n"
     ]
    }
   ],
   "source": [
    "def find_lcm(num1, num2):\n",
    "    max_num = max(num1, num2)\n",
    "    print(max_num)\n",
    "    lcm = max_num\n",
    "    while True:\n",
    "\n",
    "        if lcm % num1 == 0 and lcm % num2 == 0:\n",
    "            break\n",
    "        lcm += max_num\n",
    "        print(lcm)\n",
    "    return lcm\n",
    "\n",
    "print(find_lcm(12, 16)) # Output: 48\n"
   ]
  },
  {
   "cell_type": "markdown",
   "metadata": {},
   "source": [
    "2. Write a Python Program to Find HCF?\n",
    "\n",
    "Ans."
   ]
  },
  {
   "cell_type": "code",
   "execution_count": 3,
   "metadata": {},
   "outputs": [
    {
     "name": "stdout",
     "output_type": "stream",
     "text": [
      "4\n"
     ]
    }
   ],
   "source": [
    "def find_hcf(num1, num2):\n",
    "    while num2 != 0:\n",
    "        num1, num2 = num2, num1 % num2\n",
    "    return num1\n",
    "\n",
    "print(find_hcf(12, 16)) # Output: 4\n"
   ]
  },
  {
   "cell_type": "markdown",
   "metadata": {},
   "source": [
    "1. Write a Python Program to Find LCM?\n",
    "2. Write a Python Program to Find HCF?\n",
    "3. Write a Python Program to Convert Decimal to Binary, Octal and Hexadecimal?\n",
    "4. Write a Python Program To Find ASCII value of a character?\n",
    "5. Write a Python Program to Make a Simple Calculator with 4 basic mathematical operations?"
   ]
  },
  {
   "cell_type": "code",
   "execution_count": 5,
   "metadata": {},
   "outputs": [
    {
     "name": "stdout",
     "output_type": "stream",
     "text": [
      "Binary representation of 26 is 0b11010\n",
      "Octal representation of 26 is 0o32\n",
      "Hexadecimal representation of 26 is 0x1a\n"
     ]
    }
   ],
   "source": [
    "decimal_num = 26\n",
    "\n",
    "binary_num = bin(decimal_num)\n",
    "print(\"Binary representation of\", decimal_num, \"is\", binary_num)\n",
    "\n",
    "octal_num = oct(decimal_num)\n",
    "print(\"Octal representation of\", decimal_num, \"is\", octal_num)\n",
    "\n",
    "hexadecimal_num = hex(decimal_num)\n",
    "print(\"Hexadecimal representation of\", decimal_num, \"is\", hexadecimal_num)\n"
   ]
  },
  {
   "cell_type": "code",
   "execution_count": null,
   "metadata": {},
   "outputs": [],
   "source": []
  }
 ],
 "metadata": {
  "kernelspec": {
   "display_name": "Python 3.8.10 64-bit",
   "language": "python",
   "name": "python3"
  },
  "language_info": {
   "codemirror_mode": {
    "name": "ipython",
    "version": 3
   },
   "file_extension": ".py",
   "mimetype": "text/x-python",
   "name": "python",
   "nbconvert_exporter": "python",
   "pygments_lexer": "ipython3",
   "version": "3.8.10"
  },
  "orig_nbformat": 4,
  "vscode": {
   "interpreter": {
    "hash": "e7370f93d1d0cde622a1f8e1c04877d8463912d04d973331ad4851f04de6915a"
   }
  }
 },
 "nbformat": 4,
 "nbformat_minor": 2
}
