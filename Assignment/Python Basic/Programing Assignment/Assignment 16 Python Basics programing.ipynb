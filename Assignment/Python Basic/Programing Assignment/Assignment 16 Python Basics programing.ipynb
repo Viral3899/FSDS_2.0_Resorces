{
 "cells": [
  {
   "cell_type": "markdown",
   "metadata": {},
   "source": [
    "Question1. \n",
    "\n",
    "    Write a function that stutters a word as if someone is struggling to read it. The first two letters are repeated twice with an ellipsis ... and space after each, and then the word is pronounced with a question mark ?.\n",
    "    Examples\n",
    "    stutter(\"incredible\") ➞ \"in... in... incredible?\"\n",
    "\n",
    "    stutter(\"enthusiastic\") ➞ \"en... en... enthusiastic?\"\n",
    "\n",
    "    stutter(\"outstanding\") ➞ \"ou... ou... outstanding?\"\n",
    "\n",
    "    Hint :- Assume all input is in lower case and at least two characters long.\n"
   ]
  },
  {
   "cell_type": "code",
   "execution_count": 1,
   "metadata": {},
   "outputs": [
    {
     "name": "stdout",
     "output_type": "stream",
     "text": [
      "in... in... incredible?\n",
      "en... en... enthusiastic?\n",
      "ou... ou... outstanding?\n"
     ]
    }
   ],
   "source": [
    "def stutter(word):\n",
    "    stuttered_word = word[:2] + \"... \" + word[:2] + \"... \" + word + \"?\"\n",
    "    return stuttered_word\n",
    "\n",
    "print(stutter(\"incredible\")) \n",
    "print(stutter(\"enthusiastic\")) \n",
    "print(stutter(\"outstanding\"))"
   ]
  },
  {
   "cell_type": "markdown",
   "metadata": {},
   "source": [
    "Question 2.\n",
    "\n",
    "    Create a function that takes an angle in radians and returns the corresponding angle in degrees rounded to one decimal place.\n",
    "    Examples\n",
    "    radians_to_degrees(1) ➞ 57.3\n",
    "\n",
    "    radians_to_degrees(20) ➞ 1145.9\n",
    "\n",
    "    radians_to_degrees(50) ➞ 2864.8\n"
   ]
  },
  {
   "cell_type": "code",
   "execution_count": 3,
   "metadata": {},
   "outputs": [
    {
     "name": "stdout",
     "output_type": "stream",
     "text": [
      "57.3\n",
      "1145.9\n",
      "2864.8\n"
     ]
    }
   ],
   "source": [
    "import math\n",
    "\n",
    "def radians_to_degrees(radians):\n",
    "    degrees = radians * 180 / math.pi\n",
    "    return round(degrees, 1)\n",
    "\n",
    "print(radians_to_degrees(1)) \n",
    "print(radians_to_degrees(20)) \n",
    "print(radians_to_degrees(50)) "
   ]
  },
  {
   "cell_type": "markdown",
   "metadata": {},
   "source": [
    "Question 3. \n",
    "\n",
    "    In this challenge, establish if a given integer num is a Curzon number. If 1 plus 2 elevated to num is exactly divisible by 1 plus 2 multiplied by num, then num is a Curzon number.\n",
    "    Given a non-negative integer num, implement a function that returns True if num is a Curzon number, or False otherwise.\n",
    "    Examples\n",
    "\n",
    "    is_curzon(5) ➞ True\n",
    "    # 2 ** 5 + 1 = 33\n",
    "    # 2 * 5 + 1 = 11\n",
    "    # 33 is a multiple of 11\n",
    "\n",
    "    is_curzon(10) ➞ False\n",
    "    # 2 ** 10 + 1 = 1025\n",
    "    # 2 * 10 + 1 = 21\n",
    "    # 1025 is not a multiple of 21\n",
    "\n",
    "    is_curzon(14) ➞ True\n",
    "    # 2 ** 14 + 1 = 16385\n",
    "    # 2 * 14 + 1 = 29\n",
    "    # 16385 is a multiple of 29\n"
   ]
  },
  {
   "cell_type": "code",
   "execution_count": 5,
   "metadata": {},
   "outputs": [
    {
     "name": "stdout",
     "output_type": "stream",
     "text": [
      "True\n",
      "False\n",
      "True\n"
     ]
    }
   ],
   "source": [
    "def is_curzon(num):\n",
    "    numerator = 2 ** num + 1\n",
    "    denominator = 2 * num + 1\n",
    "    return numerator % denominator == 0\n",
    "\n",
    "print(is_curzon(5))\n",
    "print(is_curzon(10))\n",
    "print(is_curzon(14))\n"
   ]
  },
  {
   "cell_type": "markdown",
   "metadata": {},
   "source": [
    "Question 4.\n",
    "    \n",
    "    Given the side length x find the area of a hexagon.\n",
    "\n",
    "<img src='data:image/jpeg;base64,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'>\n",
    "\n",
    "    Examples\n",
    "    area_of_hexagon(1) ➞ 2.6\n",
    "\n",
    "    area_of_hexagon(2) ➞ 10.4\n",
    "\n",
    "    area_of_hexagon(3) ➞ 23.4\n"
   ]
  },
  {
   "cell_type": "code",
   "execution_count": 6,
   "metadata": {},
   "outputs": [
    {
     "name": "stdout",
     "output_type": "stream",
     "text": [
      "2.6\n",
      "10.4\n",
      "23.4\n"
     ]
    }
   ],
   "source": [
    "import math\n",
    "\n",
    "def area_of_hexagon(x):\n",
    "    area = 3 * math.sqrt(3) * x ** 2 / 2\n",
    "    return round(area, 1)\n",
    "\n",
    "print(area_of_hexagon(1)) \n",
    "print(area_of_hexagon(2)) \n",
    "print(area_of_hexagon(3)) \n"
   ]
  },
  {
   "cell_type": "markdown",
   "metadata": {},
   "source": [
    "Question 5.\n",
    "\n",
    "    Create a function that returns a base-2 (binary) representation of a base-10 (decimal) string number. To convert is simple: ((2) means base-2 and (10) means base-10) 010101001(2) = 1 + 8 + 32 + 128.\n",
    "    Going from right to left, the value of the most right bit is 1, now from that every bit to the left will be x2 the value, value of an 8 bit binary numbers are (256, 128, 64, 32, 16, 8, 4, 2, 1).\n",
    "    Examples\n",
    "    binary(1) ➞ \"1\"\n",
    "    # 1*1 = 1\n",
    "\n",
    "    binary(5) ➞ \"101\"\n",
    "    # 1*1 + 1*4 = 5\n",
    "\n",
    "    binary(10) ➞ \"1010\"\n",
    "    # 1*2 + 1*8 = 10\n"
   ]
  },
  {
   "cell_type": "code",
   "execution_count": 8,
   "metadata": {},
   "outputs": [
    {
     "name": "stdout",
     "output_type": "stream",
     "text": [
      "1\n",
      "101\n",
      "1010\n"
     ]
    }
   ],
   "source": [
    "def binary(decimal):\n",
    "    binary_digits = []\n",
    "    while decimal > 0:\n",
    "        binary_digits.append(decimal % 2)\n",
    "        decimal //= 2\n",
    "    binary_digits.reverse()\n",
    "    binary_string = \"\".join(str(digit) for digit in binary_digits)\n",
    "    return binary_string\n",
    "\n",
    "print(binary(1)) \n",
    "print(binary(5)) \n",
    "print(binary(10)) \n"
   ]
  },
  {
   "cell_type": "code",
   "execution_count": null,
   "metadata": {},
   "outputs": [],
   "source": []
  }
 ],
 "metadata": {
  "kernelspec": {
   "display_name": "Python 3.8.10 64-bit",
   "language": "python",
   "name": "python3"
  },
  "language_info": {
   "codemirror_mode": {
    "name": "ipython",
    "version": 3
   },
   "file_extension": ".py",
   "mimetype": "text/x-python",
   "name": "python",
   "nbconvert_exporter": "python",
   "pygments_lexer": "ipython3",
   "version": "3.8.10"
  },
  "orig_nbformat": 4,
  "vscode": {
   "interpreter": {
    "hash": "e7370f93d1d0cde622a1f8e1c04877d8463912d04d973331ad4851f04de6915a"
   }
  }
 },
 "nbformat": 4,
 "nbformat_minor": 2
}
