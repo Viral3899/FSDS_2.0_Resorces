{
 "cells": [
  {
   "cell_type": "markdown",
   "metadata": {},
   "source": [
    "1. Write a Python program to check if the given number is a Disarium Number?\n",
    "\n",
    "Ans.\n",
    "\n",
    "<b>A number is called Disarium if sum of its digits powered with their respective positions is equal to the number itself.</b>\n",
    "<img src='https://iq.opengenus.org/content/images/2021/01/untitled@1.25x--1-.png'>"
   ]
  },
  {
   "cell_type": "code",
   "execution_count": 1,
   "metadata": {},
   "outputs": [
    {
     "name": "stdout",
     "output_type": "stream",
     "text": [
      "56 is not a Disarium number\n"
     ]
    }
   ],
   "source": [
    "num = input(\"Enter a number: \")\n",
    "n = int(num)\n",
    "sum = 0\n",
    "for i in range(len(num)):\n",
    "    digit = int(num[i])\n",
    "    sum += digit**(i+1)\n",
    "if sum == n:\n",
    "    print(n, \"is a Disarium number\")\n",
    "else:\n",
    "    print(n, \"is not a Disarium number\")\n"
   ]
  },
  {
   "cell_type": "markdown",
   "metadata": {},
   "source": [
    "2. Write a Python program to print all disarium numbers between 1 to 100?\n",
    "\n",
    "Ans."
   ]
  },
  {
   "cell_type": "code",
   "execution_count": 2,
   "metadata": {},
   "outputs": [
    {
     "name": "stdout",
     "output_type": "stream",
     "text": [
      "1 is a Disarium number\n",
      "2 is a Disarium number\n",
      "3 is a Disarium number\n",
      "4 is a Disarium number\n",
      "5 is a Disarium number\n",
      "6 is a Disarium number\n",
      "7 is a Disarium number\n",
      "8 is a Disarium number\n",
      "9 is a Disarium number\n",
      "89 is a Disarium number\n"
     ]
    }
   ],
   "source": [
    "for i in range(1, 101):\n",
    "    num = str(i)\n",
    "    n = int(num)\n",
    "    sum = 0\n",
    "    for j in range(len(num)):\n",
    "        digit = int(num[j])\n",
    "        sum += digit**(j+1)\n",
    "    if sum == n:\n",
    "        print(n, \"is a Disarium number\")\n"
   ]
  },
  {
   "cell_type": "markdown",
   "metadata": {},
   "source": [
    "3. Write a Python program to check if the given number is Happy Number?\n",
    "\n",
    "Ans.\n",
    "\n",
    "    A Happy Number is a number defined by the following process: Starting with any positive integer, replace the number by the sum of the squares of its digits, and repeat the process until the number equals 1 (where it will stay), or it loops endlessly in a cycle which does not include 1."
   ]
  },
  {
   "cell_type": "code",
   "execution_count": 1,
   "metadata": {},
   "outputs": [
    {
     "name": "stdout",
     "output_type": "stream",
     "text": [
      "56 is not a Happy number\n"
     ]
    }
   ],
   "source": [
    "def is_happy_number(num):\n",
    "    # Keep track of visited numbers to detect a cycle\n",
    "    visited = set()\n",
    "    \n",
    "    while num != 1:\n",
    "        # If the number has been visited before, it is not a happy number\n",
    "        if num in visited:\n",
    "            return False\n",
    "        \n",
    "        # Add the number to the visited set\n",
    "        visited.add(num)\n",
    "        \n",
    "        # Square the digits of the number and sum them up\n",
    "        num = sum(int(digit)**2 for digit in str(num))\n",
    "    \n",
    "    # If the loop exits with num == 1, the number is a happy number\n",
    "    return True\n",
    "\n",
    "num = int(input(\"Enter a number: \"))\n",
    "if is_happy_number(num):\n",
    "    print(num, \"is a Happy number\")\n",
    "else:\n",
    "    print(num, \"is not a Happy number\")\n"
   ]
  },
  {
   "cell_type": "markdown",
   "metadata": {},
   "source": [
    "4. Write a Python program to print all happy numbers between 1 and 100?\n",
    "\n",
    "Ans.\n",
    "\n",
    "    A Happy Number is a number defined by the following process: Starting with any positive integer, replace the number by the sum of the squares of its digits, and repeat the process until the number equals 1 (where it will stay), or it loops endlessly in a cycle which does not include 1."
   ]
  },
  {
   "cell_type": "code",
   "execution_count": 2,
   "metadata": {},
   "outputs": [
    {
     "name": "stdout",
     "output_type": "stream",
     "text": [
      "1 7 10 13 19 23 28 31 32 44 49 68 70 79 82 86 91 94 97 100 "
     ]
    }
   ],
   "source": [
    "def is_happy_number(num):\n",
    "    # Keep track of visited numbers to detect a cycle\n",
    "    visited = set()\n",
    "    \n",
    "    while num != 1:\n",
    "        # If the number has been visited before, it is not a happy number\n",
    "        if num in visited:\n",
    "            return False\n",
    "        \n",
    "        # Add the number to the visited set\n",
    "        visited.add(num)\n",
    "        \n",
    "        # Square the digits of the number and sum them up\n",
    "        num = sum(int(digit)**2 for digit in str(num))\n",
    "    \n",
    "    # If the loop exits with num == 1, the number is a happy number\n",
    "    return True\n",
    "\n",
    "# Check all numbers between 1 and 100 for happiness\n",
    "for num in range(1, 101):\n",
    "    if is_happy_number(num):\n",
    "        print(num, end=' ')\n"
   ]
  },
  {
   "cell_type": "markdown",
   "metadata": {},
   "source": [
    "5. Write a Python program to determine whether the given number is a Harshad Number?\n",
    "\n",
    "Ans."
   ]
  },
  {
   "cell_type": "code",
   "execution_count": 3,
   "metadata": {},
   "outputs": [
    {
     "name": "stdout",
     "output_type": "stream",
     "text": [
      "56 is not a Harshad number\n"
     ]
    }
   ],
   "source": [
    "num = input(\"Enter a number: \")\n",
    "n = int(num)\n",
    "sum = sum(int(digit) for digit in num)\n",
    "if n % sum == 0:\n",
    "    print(n, \"is a Harshad number\")\n",
    "else:\n",
    "    print(n, \"is not a Harshad number\")\n"
   ]
  },
  {
   "cell_type": "markdown",
   "metadata": {},
   "source": [
    "6. Write a Python program to print all pronic numbers between 1 and 100?\n",
    "\n",
    "Ans."
   ]
  },
  {
   "cell_type": "code",
   "execution_count": 4,
   "metadata": {},
   "outputs": [
    {
     "name": "stdout",
     "output_type": "stream",
     "text": [
      "2 6 12 20 30 42 56 72 90 "
     ]
    }
   ],
   "source": [
    "for i in range(1, 101):\n",
    "    if i*(i+1) <= 100:\n",
    "        print(i*(i+1), end=\" \")\n"
   ]
  }
 ],
 "metadata": {
  "kernelspec": {
   "display_name": "Python 3.8.10 64-bit",
   "language": "python",
   "name": "python3"
  },
  "language_info": {
   "codemirror_mode": {
    "name": "ipython",
    "version": 3
   },
   "file_extension": ".py",
   "mimetype": "text/x-python",
   "name": "python",
   "nbconvert_exporter": "python",
   "pygments_lexer": "ipython3",
   "version": "3.8.10"
  },
  "orig_nbformat": 4,
  "vscode": {
   "interpreter": {
    "hash": "e7370f93d1d0cde622a1f8e1c04877d8463912d04d973331ad4851f04de6915a"
   }
  }
 },
 "nbformat": 4,
 "nbformat_minor": 2
}
