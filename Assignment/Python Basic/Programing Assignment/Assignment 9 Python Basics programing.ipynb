{
 "cells": [
  {
   "cell_type": "markdown",
   "metadata": {},
   "source": [
    "1. Write a Python program to check if the given number is a Disarium Number?\n",
    "\n",
    "Ans.\n",
    "\n",
    "<b>A number is called Disarium if sum of its digits powered with their respective positions is equal to the number itself.</b>\n",
    "<img src='https://iq.opengenus.org/content/images/2021/01/untitled@1.25x--1-.png'>"
   ]
  },
  {
   "cell_type": "code",
   "execution_count": 1,
   "metadata": {},
   "outputs": [
    {
     "name": "stdout",
     "output_type": "stream",
     "text": [
      "56 is not a Disarium number\n"
     ]
    }
   ],
   "source": [
    "num = input(\"Enter a number: \")\n",
    "n = int(num)\n",
    "sum = 0\n",
    "for i in range(len(num)):\n",
    "    digit = int(num[i])\n",
    "    sum += digit**(i+1)\n",
    "if sum == n:\n",
    "    print(n, \"is a Disarium number\")\n",
    "else:\n",
    "    print(n, \"is not a Disarium number\")\n"
   ]
  },
  {
   "cell_type": "markdown",
   "metadata": {},
   "source": [
    "2. Write a Python program to print all disarium numbers between 1 to 100?\n",
    "\n",
    "Ans."
   ]
  },
  {
   "cell_type": "code",
   "execution_count": 2,
   "metadata": {},
   "outputs": [
    {
     "name": "stdout",
     "output_type": "stream",
     "text": [
      "1 is a Disarium number\n",
      "2 is a Disarium number\n",
      "3 is a Disarium number\n",
      "4 is a Disarium number\n",
      "5 is a Disarium number\n",
      "6 is a Disarium number\n",
      "7 is a Disarium number\n",
      "8 is a Disarium number\n",
      "9 is a Disarium number\n",
      "89 is a Disarium number\n"
     ]
    }
   ],
   "source": [
    "for i in range(1, 101):\n",
    "    num = str(i)\n",
    "    n = int(num)\n",
    "    sum = 0\n",
    "    for j in range(len(num)):\n",
    "        digit = int(num[j])\n",
    "        sum += digit**(j+1)\n",
    "    if sum == n:\n",
    "        print(n, \"is a Disarium number\")\n"
   ]
  },
  {
   "cell_type": "markdown",
   "metadata": {},
   "source": [
    "3. Write a Python program to check if the given number is Happy Number?\n",
    "\n",
    "Ans.\n",
    "\n",
    "    A Happy Number is a number defined by the following process: Starting with any positive integer, replace the number by the sum of the squares of its digits, and repeat the process until the number equals 1 (where it will stay), or it loops endlessly in a cycle which does not include 1."
   ]
  },
  {
   "cell_type": "code",
   "execution_count": 9,
   "metadata": {},
   "outputs": [
    {
     "ename": "TypeError",
     "evalue": "'int' object is not callable",
     "output_type": "error",
     "traceback": [
      "\u001b[0;31m---------------------------------------------------------------------------\u001b[0m",
      "\u001b[0;31mTypeError\u001b[0m                                 Traceback (most recent call last)",
      "Cell \u001b[0;32mIn[9], line 20\u001b[0m\n\u001b[1;32m     17\u001b[0m     \u001b[38;5;28;01mreturn\u001b[39;00m \u001b[38;5;28;01mTrue\u001b[39;00m\n\u001b[1;32m     19\u001b[0m num \u001b[38;5;241m=\u001b[39m (\u001b[38;5;28minput\u001b[39m(\u001b[38;5;124m\"\u001b[39m\u001b[38;5;124mEnter a number: \u001b[39m\u001b[38;5;124m\"\u001b[39m))\n\u001b[0;32m---> 20\u001b[0m \u001b[38;5;28;01mif\u001b[39;00m \u001b[43mis_happy_number\u001b[49m\u001b[43m(\u001b[49m\u001b[43mnum\u001b[49m\u001b[43m)\u001b[49m:\n\u001b[1;32m     21\u001b[0m     \u001b[38;5;28mprint\u001b[39m(num, \u001b[38;5;124m\"\u001b[39m\u001b[38;5;124mis a Happy number\u001b[39m\u001b[38;5;124m\"\u001b[39m)\n\u001b[1;32m     22\u001b[0m \u001b[38;5;28;01melse\u001b[39;00m:\n",
      "Cell \u001b[0;32mIn[9], line 14\u001b[0m, in \u001b[0;36mis_happy_number\u001b[0;34m(num)\u001b[0m\n\u001b[1;32m     11\u001b[0m     visited\u001b[38;5;241m.\u001b[39madd(num)\n\u001b[1;32m     13\u001b[0m     \u001b[38;5;66;03m# Square the digits of the number and sum them up\u001b[39;00m\n\u001b[0;32m---> 14\u001b[0m     num \u001b[38;5;241m=\u001b[39m \u001b[38;5;28;43msum\u001b[39;49m\u001b[43m(\u001b[49m\u001b[43m(\u001b[49m\u001b[43mdigit\u001b[49m\u001b[43m)\u001b[49m\u001b[38;5;241;43m*\u001b[39;49m\u001b[38;5;241;43m*\u001b[39;49m\u001b[38;5;241;43m2\u001b[39;49m\u001b[43m \u001b[49m\u001b[38;5;28;43;01mfor\u001b[39;49;00m\u001b[43m \u001b[49m\u001b[43mdigit\u001b[49m\u001b[43m \u001b[49m\u001b[38;5;129;43;01min\u001b[39;49;00m\u001b[43m \u001b[49m\u001b[38;5;28;43mstr\u001b[39;49m\u001b[43m(\u001b[49m\u001b[43mnum\u001b[49m\u001b[43m)\u001b[49m\u001b[43m)\u001b[49m\n\u001b[1;32m     16\u001b[0m \u001b[38;5;66;03m# If the loop exits with num == 1, the number is a happy number\u001b[39;00m\n\u001b[1;32m     17\u001b[0m \u001b[38;5;28;01mreturn\u001b[39;00m \u001b[38;5;28;01mTrue\u001b[39;00m\n",
      "\u001b[0;31mTypeError\u001b[0m: 'int' object is not callable"
     ]
    }
   ],
   "source": [
    "def is_happy_number(num):\n",
    "    # Keep track of visited numbers to detect a cycle\n",
    "    visited = set()\n",
    "    \n",
    "    while num != 1:\n",
    "        # If the number has been visited before, it is not a happy number\n",
    "        if num in visited:\n",
    "            return False\n",
    "        \n",
    "        # Add the number to the visited set\n",
    "        visited.add(num)\n",
    "        \n",
    "        # Square the digits of the number and sum them up\n",
    "        num = sum((digit)**2 for digit in str(num))\n",
    "    \n",
    "    # If the loop exits with num == 1, the number is a happy number\n",
    "    return True\n",
    "\n",
    "num = (input(\"Enter a number: \"))\n",
    "if is_happy_number(num):\n",
    "    print(num, \"is a Happy number\")\n",
    "else:\n",
    "    print(num, \"is not a Happy number\")"
   ]
  },
  {
   "cell_type": "code",
   "execution_count": null,
   "metadata": {},
   "outputs": [],
   "source": []
  },
  {
   "cell_type": "markdown",
   "metadata": {},
   "source": [
    "4. Write a Python program to print all happy numbers between 1 and 100?\n",
    "\n",
    "Ans.\n",
    "\n",
    "    A Happy Number is a number defined by the following process: Starting with any positive integer, replace the number by the sum of the squares of its digits, and repeat the process until the number equals 1 (where it will stay), or it loops endlessly in a cycle which does not include 1."
   ]
  },
  {
   "cell_type": "code",
   "execution_count": null,
   "metadata": {},
   "outputs": [],
   "source": []
  },
  {
   "cell_type": "markdown",
   "metadata": {},
   "source": [
    "5. Write a Python program to determine whether the given number is a Harshad Number?\n",
    "\n",
    "Ans."
   ]
  },
  {
   "cell_type": "markdown",
   "metadata": {},
   "source": [
    "6. Write a Python program to print all pronic numbers between 1 and 100?\n",
    "\n",
    "Ans."
   ]
  },
  {
   "cell_type": "markdown",
   "metadata": {},
   "source": []
  }
 ],
 "metadata": {
  "kernelspec": {
   "display_name": "Python 3.8.10 64-bit",
   "language": "python",
   "name": "python3"
  },
  "language_info": {
   "codemirror_mode": {
    "name": "ipython",
    "version": 3
   },
   "file_extension": ".py",
   "mimetype": "text/x-python",
   "name": "python",
   "nbconvert_exporter": "python",
   "pygments_lexer": "ipython3",
   "version": "3.8.10"
  },
  "orig_nbformat": 4,
  "vscode": {
   "interpreter": {
    "hash": "e7370f93d1d0cde622a1f8e1c04877d8463912d04d973331ad4851f04de6915a"
   }
  }
 },
 "nbformat": 4,
 "nbformat_minor": 2
}
