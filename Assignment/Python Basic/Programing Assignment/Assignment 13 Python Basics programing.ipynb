{
 "cells": [
  {
   "cell_type": "markdown",
   "metadata": {},
   "source": [
    "Question 1:\n",
    "\n",
    "    Write a program that calculates and prints the value according to the given formula:\n",
    "\n",
    "    Q = Square root of [(2 * C * D)/H]\n",
    "\n",
    "    Following are the fixed values of C and H:\n",
    "\n",
    "    C is 50. H is 30.\n",
    "\n",
    "    D is the variable whose values should be input to your program in a comma-separated sequence.\n",
    "\n",
    "    Example\n",
    "\n",
    "    Let us assume the following comma separated input sequence is given to the program:\n",
    "\n",
    "    100,150,180\n",
    "\n",
    "    The output of the program should be:\n",
    "\n",
    "    18,22,24\n"
   ]
  },
  {
   "cell_type": "code",
   "execution_count": 1,
   "metadata": {},
   "outputs": [
    {
     "name": "stdout",
     "output_type": "stream",
     "text": [
      "18,22,24\n"
     ]
    }
   ],
   "source": [
    "import math\n",
    "\n",
    "C = 50\n",
    "H = 30\n",
    "\n",
    "D = input(\"Enter comma-separated sequence of values for D: \")\n",
    "\n",
    "D_list = D.split(\",\")\n",
    "\n",
    "Q_list = []\n",
    "for d in D_list:\n",
    "    Q = math.sqrt((2*C*int(d))/H)\n",
    "    Q = round(Q)\n",
    "    Q_list.append(Q)\n",
    "\n",
    "print(\",\".join(map(str, Q_list)))\n"
   ]
  },
  {
   "cell_type": "markdown",
   "metadata": {},
   "source": [
    "Question 2:\n",
    "\n",
    "    Write a program which takes 2 digits, X,Y as input and generates a 2-dimensional array. The element value in the i-th row and j-th column of the array should be i*j.\n",
    "\n",
    "    Note: i=0,1.., X-1; j=0,1,¡¬Y-1.\n",
    "\n",
    "    Example\n",
    "\n",
    "    Suppose the following inputs are given to the program:\n",
    "\n",
    "    3,5\n",
    "\n",
    "    Then, the output of the program should be:\n",
    "\n",
    "    [[0, 0, 0, 0, 0], [0, 1, 2, 3, 4], [0, 2, 4, 6, 8]] \n"
   ]
  },
  {
   "cell_type": "code",
   "execution_count": 8,
   "metadata": {},
   "outputs": [
    {
     "name": "stdout",
     "output_type": "stream",
     "text": [
      "[[0 0 0 0 0 0]\n",
      " [0 1 2 3 4 5]]\n"
     ]
    }
   ],
   "source": [
    "import numpy as np\n",
    "\n",
    "x, y = map(int, input(\"Enter two digits separated by comma: \").split(','))\n",
    "\n",
    "arr = np.zeros((x, y), dtype=int)\n",
    "\n",
    "for i in range(x):\n",
    "    for j in range(y):\n",
    "        arr[i][j] = i*j\n",
    "\n",
    "print(arr)\n"
   ]
  },
  {
   "cell_type": "markdown",
   "metadata": {},
   "source": [
    "Question 3:\n",
    "\n",
    "    Write a program that accepts a comma separated sequence of words as input and prints the words in a comma-separated sequence after sorting them alphabetically.\n",
    "\n",
    "    Suppose the following input is supplied to the program:\n",
    "\n",
    "    without,hello,bag,world\n",
    "\n",
    "    Then, the output should be:\n",
    "\n",
    "    bag,hello,without,world\n"
   ]
  },
  {
   "cell_type": "code",
   "execution_count": 10,
   "metadata": {},
   "outputs": [
    {
     "name": "stdout",
     "output_type": "stream",
     "text": [
      "deol,laxi,virsl\n"
     ]
    }
   ],
   "source": [
    "words = input(\"Enter comma-separated sequence of words: \")\n",
    "\n",
    "sorted_words = \",\".join(sorted(words.split(\",\")))\n",
    "\n",
    "# Print the result\n",
    "print(sorted_words)\n"
   ]
  },
  {
   "cell_type": "markdown",
   "metadata": {},
   "source": [
    "Question 4:\n",
    "\n",
    "    Write a program that accepts a sequence of whitespace separated words as input and prints the words after removing all duplicate words and sorting them alphanumerically.\n",
    "\n",
    "    Suppose the following input is supplied to the program:\n",
    "\n",
    "    hello world and practice makes perfect and hello world again\n",
    "\n",
    "    Then, the output should be:\n",
    "\n",
    "    again and hello makes perfect practice world\n"
   ]
  },
  {
   "cell_type": "code",
   "execution_count": 11,
   "metadata": {},
   "outputs": [
    {
     "name": "stdout",
     "output_type": "stream",
     "text": [
      "again and hello makes perfect practice world\n"
     ]
    }
   ],
   "source": [
    "words = input(\"Enter whitespace-separated sequence of words: \")\n",
    "\n",
    "sorted_words = \" \".join(sorted(set(words.split())))\n",
    "\n",
    "print(sorted_words)\n"
   ]
  },
  {
   "cell_type": "markdown",
   "metadata": {},
   "source": [
    "Question 5:\n",
    "\n",
    "    Write a program that accepts a sentence and calculate the number of letters and digits.\n",
    "\n",
    "    Suppose the following input is supplied to the program:\n",
    "\n",
    "    hello world! 123\n",
    "\n",
    "    Then, the output should be:\n",
    "\n",
    "    LETTERS 10\n",
    "\n",
    "    DIGITS 3\n"
   ]
  },
  {
   "cell_type": "code",
   "execution_count": 13,
   "metadata": {},
   "outputs": [
    {
     "name": "stdout",
     "output_type": "stream",
     "text": [
      "LETTERS 46\n",
      "DIGITS 0\n"
     ]
    }
   ],
   "source": [
    "sentence = input(\"Enter a sentence: \")\n",
    "letters = 0\n",
    "digits = 0\n",
    "\n",
    "for char in sentence:\n",
    "    if char.isalpha():\n",
    "        letters += 1\n",
    "    elif char.isdigit():\n",
    "        digits += 1\n",
    "\n",
    "print(\"LETTERS\", letters)\n",
    "print(\"DIGITS\", digits)\n"
   ]
  },
  {
   "cell_type": "markdown",
   "metadata": {},
   "source": [
    "Question 6:\n",
    "\n",
    "    A website requires the users to input username and password to register. Write a program to check the validity of password input by users.\n",
    "\n",
    "    Following are the criteria for checking the password:\n",
    "\n",
    "    1. At least 1 letter between [a-z]\n",
    "\n",
    "    2. At least 1 number between [0-9]\n",
    "\n",
    "    1. At least 1 letter between [A-Z]\n",
    "\n",
    "    3. At least 1 character from [$#@]\n",
    "\n",
    "    4. Minimum length of transaction password: 6\n",
    "\n",
    "    5. Maximum length of transaction password: 12\n",
    "\n",
    "    Your program should accept a sequence of comma separated passwords and will check them according to the above criteria. Passwords that match the criteria are to be printed, each separated by a comma.\n",
    "\n",
    "    Example\n",
    "\n",
    "    If the following passwords are given as input to the program:\n",
    "\n",
    "    ABd1234@1,a F1#,2w3E*,2We3345\n",
    "\n",
    "    Then, the output of the program should be:\n",
    "\n",
    "    ABd1234@1\n"
   ]
  },
  {
   "cell_type": "code",
   "execution_count": 16,
   "metadata": {},
   "outputs": [
    {
     "name": "stdout",
     "output_type": "stream",
     "text": [
      "ABd1234@1\n"
     ]
    }
   ],
   "source": [
    "import re\n",
    "\n",
    "def check_password(password):\n",
    "    if len(password) < 6 or len(password) > 12:\n",
    "        return False\n",
    "    \n",
    "    if not re.search(\"[a-z]\", password):\n",
    "        return False\n",
    "    \n",
    "    if not re.search(\"[A-Z]\", password):\n",
    "        return False\n",
    "    \n",
    "    if not re.search(\"[0-9]\", password):\n",
    "        return False\n",
    "    \n",
    "    if not re.search(\"[$#@]\", password):\n",
    "        return False\n",
    "    \n",
    "    return True\n",
    "\n",
    "passwords = input(\"Enter passwords separated by commas: \")\n",
    "\n",
    "password_list = passwords.split(\",\")\n",
    "\n",
    "valid_passwords = []\n",
    "\n",
    "for password in password_list:\n",
    "    if check_password(password):\n",
    "        valid_passwords.append(password)\n",
    "\n",
    "valid_passwords_string = \",\".join(valid_passwords)\n",
    "\n",
    "print(valid_passwords_string)"
   ]
  }
 ],
 "metadata": {
  "kernelspec": {
   "display_name": "Python 3.8.10 64-bit",
   "language": "python",
   "name": "python3"
  },
  "language_info": {
   "codemirror_mode": {
    "name": "ipython",
    "version": 3
   },
   "file_extension": ".py",
   "mimetype": "text/x-python",
   "name": "python",
   "nbconvert_exporter": "python",
   "pygments_lexer": "ipython3",
   "version": "3.8.10"
  },
  "orig_nbformat": 4,
  "vscode": {
   "interpreter": {
    "hash": "e7370f93d1d0cde622a1f8e1c04877d8463912d04d973331ad4851f04de6915a"
   }
  }
 },
 "nbformat": 4,
 "nbformat_minor": 2
}
