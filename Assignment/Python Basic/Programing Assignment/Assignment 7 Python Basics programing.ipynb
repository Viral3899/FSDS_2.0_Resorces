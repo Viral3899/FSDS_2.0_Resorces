{
 "cells": [
  {
   "cell_type": "markdown",
   "metadata": {},
   "source": [
    "1. Write a Python Program to find sum of array?\n",
    "\n",
    "Ans."
   ]
  },
  {
   "cell_type": "code",
   "execution_count": 4,
   "metadata": {},
   "outputs": [
    {
     "name": "stdout",
     "output_type": "stream",
     "text": [
      "Sum of array: 15\n"
     ]
    }
   ],
   "source": [
    "import numpy as np\n",
    "\n",
    "arr = np.array([1, 2, 3, 4, 5])\n",
    "sum_arr = np.sum(arr)\n",
    "print(\"Sum of array:\", sum_arr)\n"
   ]
  },
  {
   "cell_type": "code",
   "execution_count": 9,
   "metadata": {},
   "outputs": [
    {
     "name": "stdout",
     "output_type": "stream",
     "text": [
      "Sum of array: 15\n"
     ]
    }
   ],
   "source": [
    "def array_sum(arr):\n",
    "\n",
    "    sum = 0\n",
    "    for i in arr:\n",
    "        sum += i\n",
    "    return sum\n",
    "\n",
    "arr = [1, 2, 3, 4, 5]\n",
    "print(\"Sum of array:\", array_sum(arr))\n"
   ]
  },
  {
   "cell_type": "markdown",
   "metadata": {},
   "source": [
    "2. Write a Python Program to find largest element in an array?\n",
    "\n",
    "Ans."
   ]
  },
  {
   "cell_type": "code",
   "execution_count": 5,
   "metadata": {},
   "outputs": [
    {
     "name": "stdout",
     "output_type": "stream",
     "text": [
      "Largest element in the array: 10\n"
     ]
    }
   ],
   "source": [
    "import numpy as np\n",
    "\n",
    "arr = np.array([1, 6, 4, 8, 3, 10])\n",
    "max_arr = np.max(arr)\n",
    "print(\"Largest element in the array:\", max_arr)\n"
   ]
  },
  {
   "cell_type": "code",
   "execution_count": 10,
   "metadata": {},
   "outputs": [
    {
     "name": "stdout",
     "output_type": "stream",
     "text": [
      "Largest element in array: 50\n"
     ]
    }
   ],
   "source": [
    "def largest_element(arr):\n",
    "\n",
    "    max = arr[0]\n",
    "    for i in arr:\n",
    "        if i > max:\n",
    "            max = i\n",
    "    return max\n",
    "\n",
    "arr = [10, 20, 30, 40, 50]\n",
    "print(\"Largest element in array:\", largest_element(arr))\n"
   ]
  },
  {
   "cell_type": "markdown",
   "metadata": {},
   "source": [
    "3. Write a Python Program for array rotation?\n",
    "\n",
    "Ans."
   ]
  },
  {
   "cell_type": "code",
   "execution_count": 6,
   "metadata": {},
   "outputs": [
    {
     "name": "stdout",
     "output_type": "stream",
     "text": [
      "Array after rotation: [4 5 1 2 3]\n"
     ]
    }
   ],
   "source": [
    "import numpy as np\n",
    "\n",
    "arr = np.array([1, 2, 3, 4, 5])\n",
    "k = 2   # number of rotations\n",
    "rotated_arr = np.roll(arr, k)\n",
    "print(\"Array after rotation:\", rotated_arr)\n"
   ]
  },
  {
   "cell_type": "code",
   "execution_count": 11,
   "metadata": {},
   "outputs": [
    {
     "name": "stdout",
     "output_type": "stream",
     "text": [
      "Rotated array: [4, 5, 1, 2, 3]\n"
     ]
    }
   ],
   "source": [
    "def array_rotation(arr, k):\n",
    "    \n",
    "    n = len(arr)\n",
    "    k = k % n  # if k is greater than length of array, modulo operation will reduce it to k % n\n",
    "\n",
    "    # reversing first n-k elements of array\n",
    "    arr[:n-k] = arr[:n-k][::-1]\n",
    "\n",
    "    # reversing last k elements of array\n",
    "    arr[n-k:] = arr[n-k:][::-1]\n",
    "\n",
    "    # reversing whole array\n",
    "    arr[:] = arr[::-1]\n",
    "\n",
    "arr = [1, 2, 3, 4, 5]\n",
    "array_rotation(arr, 2)\n",
    "print(\"Rotated array:\", arr)\n"
   ]
  },
  {
   "cell_type": "markdown",
   "metadata": {},
   "source": [
    "4. Write a Python Program to Split the array and add the first part to the end?\n",
    "\n",
    "Ans."
   ]
  },
  {
   "cell_type": "code",
   "execution_count": 7,
   "metadata": {},
   "outputs": [
    {
     "name": "stdout",
     "output_type": "stream",
     "text": [
      "Array after splitting and concatenating: [3 4 5 1 2]\n"
     ]
    }
   ],
   "source": [
    "import numpy as np\n",
    "\n",
    "arr = np.array([1, 2, 3, 4, 5])\n",
    "k = 2   # index to split\n",
    "split_arr = np.split(arr, [k])\n",
    "concat_arr = np.concatenate((split_arr[1], split_arr[0]))\n",
    "print(\"Array after splitting and concatenating:\", concat_arr)\n"
   ]
  },
  {
   "cell_type": "code",
   "execution_count": 12,
   "metadata": {},
   "outputs": [
    {
     "name": "stdout",
     "output_type": "stream",
     "text": [
      "Split and added array: [3, 4, 5, 1, 2]\n"
     ]
    }
   ],
   "source": [
    "def split_and_add(arr, k):\n",
    "    \n",
    "    n = len(arr)\n",
    "    arr[:] = arr[k%n:] + arr[:k%n]\n",
    "\n",
    "arr = [1, 2, 3, 4, 5]\n",
    "split_and_add(arr, 2)\n",
    "print(\"Split and added array:\", arr)\n"
   ]
  },
  {
   "cell_type": "markdown",
   "metadata": {},
   "source": [
    "5. Write a Python Program to check if given array is Monotonic?\n",
    "\n",
    "Ans."
   ]
  },
  {
   "cell_type": "code",
   "execution_count": 8,
   "metadata": {},
   "outputs": [
    {
     "name": "stdout",
     "output_type": "stream",
     "text": [
      "Is arr1 monotonic: True\n",
      "Is arr2 monotonic: True\n",
      "Is arr3 monotonic: False\n"
     ]
    }
   ],
   "source": [
    "import numpy as np\n",
    "\n",
    "def is_monotonic(arr):\n",
    "    return (all(arr[i] <= arr[i+1] for i in range(len(arr)-1)) or \n",
    "            all(arr[i] >= arr[i+1] for i in range(len(arr)-1)))\n",
    "\n",
    "arr1 = np.array([1, 2, 3, 4, 5])    # monotonic increasing array\n",
    "arr2 = np.array([5, 4, 3, 2, 1])    # monotonic decreasing array\n",
    "arr3 = np.array([1, 2, 3, 2, 1])    # non-monotonic array\n",
    "print(\"Is arr1 monotonic:\", is_monotonic(arr1))\n",
    "print(\"Is arr2 monotonic:\", is_monotonic(arr2))\n",
    "print(\"Is arr3 monotonic:\", is_monotonic(arr3))\n"
   ]
  },
  {
   "cell_type": "code",
   "execution_count": 14,
   "metadata": {},
   "outputs": [
    {
     "name": "stdout",
     "output_type": "stream",
     "text": [
      "Is arr1 monotonic: True\n",
      "Is arr2 monotonic: True\n",
      "Is arr3 monotonic: False\n"
     ]
    }
   ],
   "source": [
    "def is_monotonic(arr):\n",
    "    \n",
    "    increasing = decreasing = True\n",
    "    n = len(arr)\n",
    "\n",
    "    for i in range(1, n):\n",
    "        if arr[i] > arr[i-1]:\n",
    "            decreasing = False\n",
    "        elif arr[i] < arr[i-1]:\n",
    "            increasing = False\n",
    "\n",
    "    return increasing or decreasing\n",
    "\n",
    "arr1 = np.array([1, 2, 3, 4, 5])    # monotonic increasing array\n",
    "arr2 = np.array([5, 4, 3, 2, 1])    # monotonic decreasing array\n",
    "arr3 = np.array([1, 2, 3, 2, 1])    # non-monotonic array\n",
    "print(\"Is arr1 monotonic:\", is_monotonic(arr1))\n",
    "print(\"Is arr2 monotonic:\", is_monotonic(arr2))\n",
    "print(\"Is arr3 monotonic:\", is_monotonic(arr3))"
   ]
  }
 ],
 "metadata": {
  "kernelspec": {
   "display_name": "Python 3.8.10 64-bit",
   "language": "python",
   "name": "python3"
  },
  "language_info": {
   "codemirror_mode": {
    "name": "ipython",
    "version": 3
   },
   "file_extension": ".py",
   "mimetype": "text/x-python",
   "name": "python",
   "nbconvert_exporter": "python",
   "pygments_lexer": "ipython3",
   "version": "3.8.10"
  },
  "orig_nbformat": 4,
  "vscode": {
   "interpreter": {
    "hash": "e7370f93d1d0cde622a1f8e1c04877d8463912d04d973331ad4851f04de6915a"
   }
  }
 },
 "nbformat": 4,
 "nbformat_minor": 2
}
