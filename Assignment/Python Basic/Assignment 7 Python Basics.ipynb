{
 "cells": [
  {
   "cell_type": "markdown",
   "id": "c0f83b6c",
   "metadata": {},
   "source": [
    "1. What is the name of the feature responsible for generating Regex objects?\n",
    "\n",
    "Ans.```re.compile()```"
   ]
  },
  {
   "cell_type": "markdown",
   "id": "aec9f6f5",
   "metadata": {},
   "source": [
    "2. Why do raw strings often appear in Regex objects?\n",
    "\n",
    "Ans. Because to Avoide the using escape Character '\\\\'"
   ]
  },
  {
   "cell_type": "markdown",
   "id": "72c04bfc",
   "metadata": {},
   "source": [
    "3. What is the return value of the search() method?\n",
    "\n",
    "Ans. It Gives Search result from given string and at Which Character it Starts\n"
   ]
  },
  {
   "cell_type": "markdown",
   "id": "d0c5c6da",
   "metadata": {},
   "source": [
    "4. From a Match item, how do you get the actual strings that match the pattern?\n",
    "\n",
    "Ans. First we Have to Search the match from given string and then we have to use ```.group()``` to find the matched string"
   ]
  },
  {
   "cell_type": "markdown",
   "id": "4daad7ee",
   "metadata": {},
   "source": [
    "5. In the regex which created from the r'(\\d\\d\\d)-(\\d\\d\\d-\\d\\d\\d\\d)', what does group zero cover? Group 2? Group 1?\n",
    "\n",
    "Ans. In this regex group 0 cover all the content and group 1 content data between the <b>first open/close paranthesis </b> and group 2 content data between the <b>second open/close paranthesis</b>"
   ]
  },
  {
   "cell_type": "markdown",
   "id": "5c4b127a",
   "metadata": {},
   "source": [
    "6. In standard expression syntax, parentheses and intervals have distinct meanings. How can you tell a regex that you want it to fit real parentheses and periods?\n",
    "\n",
    "Ans.in Regex we have to write the escape character first and then we can write the paranthesis like ```re.search(r'The value of \\(x\\) is \\d+\\.\\d+', string)```"
   ]
  },
  {
   "cell_type": "markdown",
   "id": "dd6cbb06",
   "metadata": {},
   "source": [
    "7. The findall() method returns a string list or a list of string tuples. What causes it to return one of the two options?\n",
    "\n",
    "Ans. it depends upone regex group if we are passing more then 1 group then it will return list of tuple of strings or elsse list of string"
   ]
  },
  {
   "cell_type": "markdown",
   "id": "d9fe2767",
   "metadata": {},
   "source": [
    "8. In standard expressions, what does the | character mean?\n",
    "\n",
    "Ans. It means Logical OR operator for standard expression"
   ]
  },
  {
   "cell_type": "markdown",
   "id": "4c7f4c91",
   "metadata": {},
   "source": [
    "9. In regular expressions, what does the character stand for?"
   ]
  },
  {
   "cell_type": "markdown",
   "id": "7a838802",
   "metadata": {},
   "source": [
    "10.In regular expressions, what is the difference between the + and * characters?\n",
    "\n",
    "Ans.```charachter+``` is used for matching at least 1\n",
    "\t\t\t\t\t\t\t\t\t\t\t\t```character```                                               \n",
    "\t```char*``` is used for matching at least 0 ```char```"
   ]
  },
  {
   "cell_type": "markdown",
   "id": "104a7304",
   "metadata": {},
   "source": [
    "11. What is the difference between {4} and {4,5} in regular expression?\n",
    "\n",
    "Ans. \n",
    "\t\n",
    "    >The expression `{4,5}` means that the preceding pattern should be repeated between `4` and `5` times.\n",
    "\t\n",
    "    > The expression `{4}` means that the preceding pattern should be repeated exactly `4` times"
   ]
  },
  {
   "cell_type": "markdown",
   "id": "3c8920f9",
   "metadata": {},
   "source": [
    "12. What do you mean by the \\d, \\w, and \\s shorthand character classes signify in regular expressions?\n",
    "\n",
    "Ans. \n",
    "\n",
    "\t>`d`: Matches any decimal digit character (0-9).\n",
    "    \n",
    "\t>`\\w`: Matches any word character, including letters, digits, and underscore. It is equivalent to `[a-zA-Z0-9_]`.\n",
    "\t\n",
    "    >`\\s`: Matches any whitespace character, including space, tab, newline, and other Unicode whitespace characters."
   ]
  },
  {
   "cell_type": "markdown",
   "id": "6e15ab01",
   "metadata": {},
   "source": [
    "13. What do means by \\D, \\W, and \\S shorthand character classes signify in regular expressions?\n",
    "\n",
    "Ans. it is Exactly opposite to above \n",
    "\n",
    "\t>`\\D`: Matches any character that is not a decimal digit. It is the inverse of the `\\d`shorthand character class.\n",
    "\t>`\\W`: Matches any non-word character. It is the inverse of the `\\w` shorthand character class.\n",
    "\t>`\\S`: Matches any non-whitespace character. It is the inverse of the `\\s` shorthand character class."
   ]
  },
  {
   "cell_type": "markdown",
   "id": "eaa5427e",
   "metadata": {},
   "source": [
    "14. What is the difference between .*? and .*?\n",
    "\n",
    "Ans.\n",
    "--> .* is give all the possible character between a and last possible b for this `text = \"abracadabra\"`\n",
    "\n",
    "--> .*? is give first possible value and if other possible then gives other"
   ]
  },
  {
   "cell_type": "markdown",
   "id": "e20be976",
   "metadata": {},
   "source": [
    "15. What is the syntax for matching both numbers and lowercase letters with a character class?\n",
    "\n",
    "Ans. `r'[a-z0-9]'`"
   ]
  },
  {
   "cell_type": "markdown",
   "id": "7e6c64e2",
   "metadata": {},
   "source": [
    "16. What is the procedure for making a normal expression in regax case insensitive?\n",
    "\n",
    "Ans. `re.compile(r\"lazy\", re.IGNORECASE)`\n",
    "\n",
    "--> `re.IGNORECASE`"
   ]
  },
  {
   "cell_type": "markdown",
   "id": "1be4d94c",
   "metadata": {},
   "source": [
    "17. What does the . character normally match? What does it match if re.DOTALL is passed as 2nd argument in re.compile()?\n",
    "\n",
    "Ans. `.` matches all the character except newline `\\n`\n",
    "\n",
    "        `re.DOTALL` matches new line also"
   ]
  },
  {
   "cell_type": "markdown",
   "id": "f06e7819",
   "metadata": {},
   "source": [
    "18. If numReg = re.compile(r'\\d+'), what will numRegex.sub('X', '11 drummers, 10 pipers, five rings, 4 hen') return?\n",
    "\n",
    "Ans. 'X drummers, X pipers, five rings, X hen'\n",
    "\n",
    "Because sub replace the character given in regex here it qill replace number that given in string with X"
   ]
  },
  {
   "cell_type": "markdown",
   "id": "ceec7f54",
   "metadata": {},
   "source": [
    "19. What does passing re.VERBOSE as the 2nd argument to re.compile() allow to do?\n",
    "\n",
    "Ans. `re.VERBOSE` used to Igonring WhiteSpace as character in regex"
   ]
  },
  {
   "cell_type": "markdown",
   "id": "b743077f",
   "metadata": {},
   "source": [
    "20. How would you write a regex that match a number with comma for every three digits? It must match the given following:\n",
    "```\n",
    "'42'\n",
    "'1,234'\n",
    "'6,368,745'\n",
    "but not the following:\n",
    "'12,34,567' (which has only two digits between the commas)\n",
    "'1234' (which lacks commas)\n",
    "```"
   ]
  },
  {
   "cell_type": "code",
   "execution_count": 3,
   "id": "191d4281",
   "metadata": {},
   "outputs": [
    {
     "name": "stdout",
     "output_type": "stream",
     "text": [
      "<re.Match object; span=(0, 2), match='42'>\n",
      "<re.Match object; span=(0, 5), match='1,234'>\n",
      "<re.Match object; span=(0, 9), match='6,368,745'>\n",
      "None\n",
      "None\n"
     ]
    }
   ],
   "source": [
    "import re\n",
    "\n",
    "regex = re.compile(r'^[0-9]{1,3}(,[0-9]{3})*$')\n",
    "\n",
    "print(regex.match('42'))         # Matches\n",
    "print(regex.match('1,234'))      # Matches\n",
    "print(regex.match('6,368,745'))  # Matches\n",
    "print(regex.match('12,34,567'))  # Does not match\n",
    "print(regex.match('1234'))       # Does not match"
   ]
  },
  {
   "cell_type": "markdown",
   "id": "294faae1",
   "metadata": {},
   "source": [
    "21. How would you write a regex that matches the full name of someone whose last name is Watanabe? You can assume that the first name that comes before it will always be one word that begins with a capital letter. The regex must match the following:\n",
    "```\n",
    "'Haruto Watanabe'\n",
    "'Alice Watanabe'\n",
    "'RoboCop Watanabe'\n",
    "but not the following:\n",
    "'haruto Watanabe' (where the first name is not capitalized)\n",
    "'Mr. Watanabe' (where the preceding word has a nonletter character)\n",
    "'Watanabe' (which has no first name)\n",
    "'Haruto watanabe' (where Watanabe is not capitalized)\n",
    "```"
   ]
  },
  {
   "cell_type": "code",
   "execution_count": 4,
   "id": "27e3cfb8",
   "metadata": {},
   "outputs": [
    {
     "name": "stdout",
     "output_type": "stream",
     "text": [
      "<re.Match object; span=(0, 15), match='Haruto Watanabe'>\n",
      "<re.Match object; span=(0, 14), match='Alice Watanabe'>\n",
      "<re.Match object; span=(0, 16), match='RoboCop Watanabe'>\n",
      "None\n",
      "None\n",
      "None\n",
      "None\n"
     ]
    }
   ],
   "source": [
    "import re\n",
    "\n",
    "regex = re.compile(r'^[A-Z][a-zA-Z]*\\sWatanabe$')\n",
    "\n",
    "print(regex.match('Haruto Watanabe'))   # Matches\n",
    "print(regex.match('Alice Watanabe'))    # Matches\n",
    "print(regex.match('RoboCop Watanabe'))  # Matches\n",
    "print(regex.match('haruto Watanabe'))   # Does not match\n",
    "print(regex.match('Mr. Watanabe'))      # Does not match\n",
    "print(regex.match('Watanabe'))          # Does not match\n",
    "print(regex.match('Haruto watanabe'))   # Does not match\n"
   ]
  },
  {
   "cell_type": "markdown",
   "id": "a9cd06b2",
   "metadata": {},
   "source": [
    "22. How would you write a regex that matches a sentence where the first word is either Alice, Bob, or Carol; the second word is either eats, pets, or throws; the third word is apples, cats, or baseballs; and the sentence ends with a period? This regex should be case-insensitive. It must match the following:\n",
    "```\n",
    "'Alice eats apples.'\n",
    "'Bob pets cats.'\n",
    "'Carol throws baseballs.'\n",
    "'Alice throws Apples.'\n",
    "'BOB EATS CATS.'\n",
    "but not the following:\n",
    "'RoboCop eats apples.'\n",
    "'ALICE THROWS FOOTBALLS.'\n",
    "'Carol eats 7 cats.'\n",
    "```"
   ]
  },
  {
   "cell_type": "code",
   "execution_count": 8,
   "id": "a624adbd",
   "metadata": {},
   "outputs": [
    {
     "name": "stdout",
     "output_type": "stream",
     "text": [
      "<re.Match object; span=(0, 18), match='Alice eats apples.'>\n",
      "None\n"
     ]
    }
   ],
   "source": [
    "import re\n",
    "\n",
    "regex = re.compile(r'^(Alice|Bob|Carol)\\s+(eats|pets|throws)\\s+(apples|cats|baseballs)\\.$', re.IGNORECASE)\n",
    "print(regex.match(\"Alice eats apples.\"))\n",
    "print(regex.match(\"Carol eats 7 cats.\"))\n"
   ]
  },
  {
   "cell_type": "code",
   "execution_count": null,
   "id": "8c5bf476",
   "metadata": {},
   "outputs": [],
   "source": []
  }
 ],
 "metadata": {
  "kernelspec": {
   "display_name": "Python 3.8.10 64-bit",
   "language": "python",
   "name": "python3"
  },
  "language_info": {
   "codemirror_mode": {
    "name": "ipython",
    "version": 3
   },
   "file_extension": ".py",
   "mimetype": "text/x-python",
   "name": "python",
   "nbconvert_exporter": "python",
   "pygments_lexer": "ipython3",
   "version": "3.8.10"
  },
  "vscode": {
   "interpreter": {
    "hash": "e7370f93d1d0cde622a1f8e1c04877d8463912d04d973331ad4851f04de6915a"
   }
  }
 },
 "nbformat": 4,
 "nbformat_minor": 5
}
