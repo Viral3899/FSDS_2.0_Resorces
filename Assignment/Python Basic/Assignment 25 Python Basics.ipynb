{
 "cells": [
  {
   "cell_type": "markdown",
   "id": "43618d20",
   "metadata": {},
   "source": [
    "1) . What is the difference between enclosing a list comprehension in square brackets and parentheses?\n",
    "\n",
    "Ans.\n",
    "\n",
    "    The difference between enclosing a list comprehension in square brackets and parentheses is that square brackets create a list, while parentheses create a generator object. A list comprehension generates a list containing the results of evaluating an expression or function for each item in an iterable, while a generator comprehension generates a generator object that produces the values on-the-fly as they are requested."
   ]
  },
  {
   "cell_type": "markdown",
   "id": "43618d20",
   "metadata": {},
   "source": [
    "2) What is the relationship between generators and iterators?\n",
    "\n",
    "Ans. \n",
    "\n",
    "    A generator is a special type of iterator that generates values on-the-fly as they are requested, rather than storing them all in memory at once. All generators are iterators, but not all iterators are generators. An iterator is an object that can be iterated upon, meaning that you can loop through its items. It provides a way to access the elements of a container (e.g., a list or a tuple) without exposing its internal structure."
   ]
  },
  {
   "cell_type": "markdown",
   "id": "43618d20",
   "metadata": {},
   "source": [
    "3) What are the signs that a function is a generator function?\n",
    "\n",
    "Ans.\n",
    "\n",
    "    A function is a generator function if it contains the yield keyword in its body. A generator function is used to create generator objects, which can be iterated over using a for loop or by calling the next() function. Generator functions can also use the return keyword to end the generation of values."
   ]
  },
  {
   "cell_type": "markdown",
   "id": "43618d20",
   "metadata": {},
   "source": [
    "4) What is the purpose of a yield statement?\n",
    "\n",
    "Ans. \n",
    "\n",
    "    The purpose of a yield statement in a generator function is to yield a value to the caller, and to suspend the execution of the function, so that it can be resumed later from where it left off. When a generator function is called, it returns a generator object, which can then be used to iterate over the values produced by the generator function."
   ]
  },
  {
   "cell_type": "markdown",
   "id": "43618d20",
   "metadata": {},
   "source": [
    "5) What is the relationship between map calls and list comprehensions? Make a comparison and contrast between the two.\n",
    "\n",
    "Ans.\n",
    "\n",
    "    The main difference between map calls and list comprehensions is that map applies a function to each item in an iterable and returns a new iterable containing the results, while a list comprehension evaluates an expression or function for each item in an iterable and returns a new list containing the results. Map is useful when you want to apply a function to every item in an iterable and get back an iterable of the results, while a list comprehension is useful when you want to transform an iterable into another iterable, possibly using conditions or nested loops. Map can also be used with multiple iterables, while list comprehensions can only operate on a single iterable. Additionally, list comprehensions are generally faster than map for simple operations."
   ]
  }
 ],
 "metadata": {
  "kernelspec": {
   "display_name": "Python 3.8.10 64-bit",
   "language": "python",
   "name": "python3"
  },
  "language_info": {
   "codemirror_mode": {
    "name": "ipython",
    "version": 3
   },
   "file_extension": ".py",
   "mimetype": "text/x-python",
   "name": "python",
   "nbconvert_exporter": "python",
   "pygments_lexer": "ipython3",
   "version": "3.8.10"
  },
  "vscode": {
   "interpreter": {
    "hash": "e7370f93d1d0cde622a1f8e1c04877d8463912d04d973331ad4851f04de6915a"
   }
  }
 },
 "nbformat": 4,
 "nbformat_minor": 5
}
