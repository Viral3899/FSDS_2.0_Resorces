{
 "cells": [
  {
   "cell_type": "markdown",
   "id": "c427d402",
   "metadata": {},
   "source": [
    "1. Create an assert statement that throws an AssertionError if the variable spam is a negative integer.\n",
    "\n",
    "Ans. `assert spam >= 0`, \"spam should be a non-negative integer\""
   ]
  },
  {
   "cell_type": "markdown",
   "id": "a26f9468",
   "metadata": {},
   "source": [
    "2. Write an assert statement that triggers an AssertionError if the variables eggs and bacon contain strings that are the same as each other, even if their cases are different (that is, 'hello' and 'hello' are considered the same, and 'goodbye' and 'GOODbye' are also considered the same)\n",
    "\n",
    "Ans. `assert eggs.lower() != bacon.lower()`"
   ]
  },
  {
   "cell_type": "markdown",
   "id": "5f803e65",
   "metadata": {},
   "source": [
    "3. Create an assert statement that throws an AssertionError every time.\n",
    "\n",
    "Ans. `assert False`"
   ]
  },
  {
   "cell_type": "markdown",
   "id": "3f1e087d",
   "metadata": {},
   "source": [
    "4. What are the two lines that must be present in your software in order to call logging.debug()?\n",
    "\n",
    "Ans. `import logging`<br>\n",
    "\t  `logging.basicConfig(level=logging.DEBUG)`"
   ]
  },
  {
   "cell_type": "markdown",
   "id": "fa925187",
   "metadata": {},
   "source": [
    "5. What are the two lines that your program must have in order to have logging.debug() send a logging message to a file named programLog.txt?\n",
    "\n",
    "Ans. `import logging`<br>\n",
    "\t  `logging.basicConfig(filename='programLog.txt', level=logging.DEBUG)`"
   ]
  },
  {
   "cell_type": "markdown",
   "id": "3044f6a2",
   "metadata": {},
   "source": [
    "6. What are the five levels of logging?\n",
    "\n",
    "Ans.  DEBUG, INFO, WARNING, ERROR, and CRITICAL"
   ]
  },
  {
   "cell_type": "markdown",
   "id": "52843b13",
   "metadata": {},
   "source": [
    "7. What line of code would you add to your software to disable all logging messages?\n",
    "\n",
    "Ans. `logging.disable(logging.CRITICAL)`"
   ]
  },
  {
   "cell_type": "markdown",
   "id": "e31dba75",
   "metadata": {},
   "source": [
    "8.Why is using logging messages better than using print() to display the same message?\n",
    "\n",
    "Ans. we can store a error logs or all the procedure going in file but with print we can not store and if we want to stop log in console or file we can stop with only 1 line but in case of print we have to remove all the state ment"
   ]
  },
  {
   "cell_type": "markdown",
   "id": "8c3a4900",
   "metadata": {},
   "source": [
    "9. What are the differences between the Step Over, Step In, and Step Out buttons in the debugger?\n",
    "\n",
    "Ans. The Step Over button moves the debugger to the next line of code in the current function, without stepping into any functions called on that line. The Step In button moves the debugger to the first line of code in the function called on the current line. The Step Out button continues execution until the current function returns."
   ]
  },
  {
   "cell_type": "markdown",
   "id": "01338a14",
   "metadata": {},
   "source": [
    "10.After you click Continue, when will the debugger stop ?\n",
    "\n",
    "Ans. The debugger will stop again when it reaches another breakpoint, encounters an unhandled exception, or reaches the end of the program."
   ]
  },
  {
   "cell_type": "markdown",
   "id": "25092af0",
   "metadata": {},
   "source": [
    "11. What is the concept of a breakpoint?\n",
    "\n",
    "Ans. A breakpoint is a point in the code where the debugger will pause execution, allowing the developer to inspect variables and step through the code one line at a time."
   ]
  },
  {
   "cell_type": "code",
   "execution_count": null,
   "id": "7f8d6d01",
   "metadata": {},
   "outputs": [],
   "source": []
  }
 ],
 "metadata": {
  "kernelspec": {
   "display_name": "Python 3 (ipykernel)",
   "language": "python",
   "name": "python3"
  },
  "language_info": {
   "codemirror_mode": {
    "name": "ipython",
    "version": 3
   },
   "file_extension": ".py",
   "mimetype": "text/x-python",
   "name": "python",
   "nbconvert_exporter": "python",
   "pygments_lexer": "ipython3",
   "version": "3.11.1"
  }
 },
 "nbformat": 4,
 "nbformat_minor": 5
}
