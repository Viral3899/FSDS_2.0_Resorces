{
 "cells": [
  {
   "cell_type": "markdown",
   "id": "8d2104c2",
   "metadata": {},
   "source": [
    "1. What advantages do Excel spreadsheets have over CSV spreadsheets?\n",
    "\n",
    "Ans. \n",
    "\n",
    "\n",
    "    -> Excel spreadsheets can contain multiple sheets, while CSV files only contain one table.\n",
    "    -> Excel supports more advanced formatting options like fonts, colors, and cell merging, while CSV is just plain text.\n",
    "    -> Excel has built-in support for formulas, functions, and data validation, while CSV does not.\n",
    "    -> Excel can be used for complex data analysis and visualization, while CSV is limited to basic data storage and manipulation."
   ]
  },
  {
   "cell_type": "markdown",
   "id": "34d84b34",
   "metadata": {},
   "source": [
    "2. What do you pass to csv.reader() and csv.writer() to create reader and writer objects?\n",
    "\n",
    "Ans. To create a reader object, you pass a File object containing the CSV data to csv.reader(). To create a writer object, you pass a File object and specify the delimiter character to csv.writer().\n",
    "\n",
    "```python\n",
    "import csv\n",
    "\n",
    "\n",
    "with open('mydata.csv', 'r') as f:\n",
    "    reader = csv.reader(f)\n",
    "\n",
    "    \n",
    "with open('mydata.csv', 'w', newline='') as f:\n",
    "    writer = csv.writer(f, delimiter=',')\n",
    "\n",
    "\n",
    "```"
   ]
  },
  {
   "cell_type": "markdown",
   "id": "6eff9a72",
   "metadata": {},
   "source": [
    "3. What modes do File objects for reader and writer objects need to be opened in?\n",
    "\n",
    "Ans.For a reader object, the File object needs to be opened in 'r' (read) mode. For a writer object, the File object needs to be opened in 'w' (write) mode."
   ]
  },
  {
   "cell_type": "markdown",
   "id": "7c973a9a",
   "metadata": {},
   "source": [
    "4. What method takes a list argument and writes it to a CSV file?\n",
    "\n",
    "Ans. The writerow() method of a writer object takes a list argument and writes it as a row to the CSV file."
   ]
  },
  {
   "cell_type": "markdown",
   "id": "45b69211",
   "metadata": {},
   "source": [
    "5. What do the keyword arguments delimiter and line terminator do?\n",
    "\n",
    "Ans. The delimiter keyword argument specifies the character used to separate values in the CSV file. The line terminator keyword argument specifies the character used to terminate rows in the CSV file.\n",
    "\n",
    "```python\n",
    " writer = csv.writer(f, delimiter=',', lineterminator='\\n')\n",
    "```"
   ]
  },
  {
   "cell_type": "markdown",
   "id": "416974b9",
   "metadata": {},
   "source": [
    "6. What function takes a string of JSON data and returns a Python data structure?\n",
    "\n",
    "Ans. The json.loads() function takes a string of JSON data and returns a Python data structure."
   ]
  },
  {
   "cell_type": "markdown",
   "id": "222b0ef1",
   "metadata": {},
   "source": [
    "7. What function takes a Python data structure and returns a string of JSON data?\n",
    "\n",
    "Ans. ` json.dumps()`"
   ]
  }
 ],
 "metadata": {
  "kernelspec": {
   "display_name": "Python 3 (ipykernel)",
   "language": "python",
   "name": "python3"
  },
  "language_info": {
   "codemirror_mode": {
    "name": "ipython",
    "version": 3
   },
   "file_extension": ".py",
   "mimetype": "text/x-python",
   "name": "python",
   "nbconvert_exporter": "python",
   "pygments_lexer": "ipython3",
   "version": "3.11.1"
  }
 },
 "nbformat": 4,
 "nbformat_minor": 5
}
