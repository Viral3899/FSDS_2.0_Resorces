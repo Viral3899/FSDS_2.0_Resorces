{
 "cells": [
  {
   "cell_type": "markdown",
   "id": "cb5e1466",
   "metadata": {},
   "source": [
    "1. What is the result of the code, and explain?\n",
    "\n",
    "```python\n",
    "\n",
    "X = 'iNeuron'\n",
    "def func():\n",
    "    print(X)\n",
    "\n",
    "func()\n",
    "```\n",
    "Ans.\n",
    "\n",
    "    The result of the code is 'iNeuron'. The function func() prints the value of the variable X, which is defined outside the function and has the value 'iNeuron'. When the function is called, it simply prints the value of X."
   ]
  },
  {
   "cell_type": "code",
   "execution_count": 2,
   "id": "3d1e53b5",
   "metadata": {},
   "outputs": [
    {
     "name": "stdout",
     "output_type": "stream",
     "text": [
      "iNeuron\n"
     ]
    }
   ],
   "source": [
    "X = 'iNeuron'\n",
    "def func():\n",
    "    print(X)\n",
    "\n",
    "func()"
   ]
  },
  {
   "cell_type": "markdown",
   "id": "cb5e1466",
   "metadata": {},
   "source": [
    "2. What is the result of the code, and explain?\n",
    "\n",
    "```python\n",
    "\n",
    "X = 'iNeuron'\n",
    "def func():\n",
    "    X = 'NI!'\n",
    "\n",
    "func()\n",
    "print(X)\n",
    "\n",
    "```\n",
    "Ans. \n",
    "\n",
    "    The result of the code is 'iNeuron'. The function func() defines a local variable X with the value 'NI!', but this variable is not used or returned by the function. When the function is called, it does not change the value of the global variable X, which remains 'iNeuron'. The print statement outside the function simply prints the value of the global variable X."
   ]
  },
  {
   "cell_type": "code",
   "execution_count": 3,
   "id": "d89c6a56",
   "metadata": {},
   "outputs": [
    {
     "name": "stdout",
     "output_type": "stream",
     "text": [
      "iNeuron\n"
     ]
    }
   ],
   "source": [
    "X = 'iNeuron'\n",
    "def func():\n",
    "    X = 'NI!'\n",
    "\n",
    "func()\n",
    "print(X)"
   ]
  },
  {
   "cell_type": "markdown",
   "id": "cb5e1466",
   "metadata": {},
   "source": [
    "3. What does this code print, and why?\n",
    "\n",
    "```python\n",
    "X = 'iNeuron'\n",
    "def func():\n",
    "    X = 'NI'\n",
    "    print(X)\n",
    "\n",
    "\n",
    "func()\n",
    "print(X)\n",
    "```\n",
    "Ans. \n",
    "\n",
    "    The code prints 'NI'. The function func() defines a local variable X with the value 'NI', which is then printed using the print statement inside the function. The print statement outside the function prints the value of the global variable X, which remains 'iNeuron' and is not affected by the function.\n"
   ]
  },
  {
   "cell_type": "code",
   "execution_count": 4,
   "id": "54ad4112",
   "metadata": {},
   "outputs": [
    {
     "name": "stdout",
     "output_type": "stream",
     "text": [
      "NI\n",
      "iNeuron\n"
     ]
    }
   ],
   "source": [
    "X = 'iNeuron'\n",
    "def func():\n",
    "    X = 'NI'\n",
    "    print(X)\n",
    "\n",
    "\n",
    "func()\n",
    "print(X)"
   ]
  },
  {
   "cell_type": "markdown",
   "id": "cb5e1466",
   "metadata": {},
   "source": [
    "4. What output does this code produce? Why?\n",
    "\n",
    "```python\n",
    "X = 'iNeuron'\n",
    "def func():\n",
    "    global X\n",
    "    X = 'NI'\n",
    "\n",
    "\n",
    "func()\n",
    "print(X)\n",
    "```\n",
    "Ans. \n",
    "    \n",
    "    The output of the code is 'NI'. The function func() declares the global variable X using the 'global' keyword, and then assigns a new value 'NI' to it. When the function is called, it changes the value of the global variable X, which is then printed using the print statement outside the function."
   ]
  },
  {
   "cell_type": "code",
   "execution_count": 5,
   "id": "ab5459e3",
   "metadata": {},
   "outputs": [
    {
     "name": "stdout",
     "output_type": "stream",
     "text": [
      "NI\n"
     ]
    }
   ],
   "source": [
    "X = 'iNeuron'\n",
    "def func():\n",
    "    global X\n",
    "    X = 'NI'\n",
    "\n",
    "\n",
    "func()\n",
    "print(X)"
   ]
  },
  {
   "cell_type": "markdown",
   "id": "cb5e1466",
   "metadata": {},
   "source": [
    "5. What about this code—what’s the output, and why?\n",
    "\n",
    "```python\n",
    "X = 'iNeuron'\n",
    "def func():\n",
    "    X = 'NI'\n",
    "\n",
    "def nested():\n",
    "    print(X)\n",
    "    nested()\n",
    "func()\n",
    "print(X)\n",
    "```\n",
    "Ans. \n",
    "\n",
    "    The code prints 'NI' and then iNeuron. The function func() defines a local variable X with the value 'NI', and then defines a nested function nested() that prints the value of X. When the function func() is called, it executes the nested function, which prints the value of the local variable X defined in the outer function. Finally, the print statement outside the function simply prints the value of the global variable X, which remains unchanged."
   ]
  },
  {
   "cell_type": "code",
   "execution_count": 9,
   "id": "8e908f20",
   "metadata": {},
   "outputs": [
    {
     "name": "stdout",
     "output_type": "stream",
     "text": [
      "NI\n",
      "iNeuron\n"
     ]
    }
   ],
   "source": [
    "X = 'iNeuron'\n",
    "def func():\n",
    "    X = 'NI'\n",
    "    def nested():\n",
    "        print(X)\n",
    "    nested()\n",
    "func()\n",
    "print(X)"
   ]
  },
  {
   "cell_type": "markdown",
   "id": "cb5e1466",
   "metadata": {},
   "source": [
    "6. How about this code: what is its output in Python 3, and explain?\n",
    "\n",
    "```python\n",
    "def func():\n",
    "    X = 'NI'\n",
    "    def nested():\n",
    "        nonlocal X\n",
    "        X = 'Spam'\n",
    "    nested()\n",
    "    print(X)\n",
    "func()\n",
    "```\n",
    "Ans. \n",
    "\n",
    "    The code produces the output 'Spam'. The function func() defines a local variable X with the value 'NI', and then defines a nested function nested() that changes the value of the nonlocal variable X to 'Spam'. When the function func() is called, it executes the nested function, which changes the value of the nonlocal variable X, and then prints it using the print statement inside the function. Finally, the print statement outside the function prints the value of the global variable X, which is not affected by the function."
   ]
  },
  {
   "cell_type": "code",
   "execution_count": 10,
   "id": "3585cf3a",
   "metadata": {},
   "outputs": [
    {
     "name": "stdout",
     "output_type": "stream",
     "text": [
      "Spam\n"
     ]
    }
   ],
   "source": [
    "def func():\n",
    "    X = 'NI'\n",
    "    def nested():\n",
    "        nonlocal X\n",
    "        X = 'Spam'\n",
    "    nested()\n",
    "    print(X)\n",
    "func()"
   ]
  },
  {
   "cell_type": "code",
   "execution_count": null,
   "id": "e8c645c3",
   "metadata": {},
   "outputs": [],
   "source": []
  }
 ],
 "metadata": {
  "kernelspec": {
   "display_name": "Python 3.8.10 64-bit",
   "language": "python",
   "name": "python3"
  },
  "language_info": {
   "codemirror_mode": {
    "name": "ipython",
    "version": 3
   },
   "file_extension": ".py",
   "mimetype": "text/x-python",
   "name": "python",
   "nbconvert_exporter": "python",
   "pygments_lexer": "ipython3",
   "version": "3.8.10"
  },
  "vscode": {
   "interpreter": {
    "hash": "e7370f93d1d0cde622a1f8e1c04877d8463912d04d973331ad4851f04de6915a"
   }
  }
 },
 "nbformat": 4,
 "nbformat_minor": 5
}
