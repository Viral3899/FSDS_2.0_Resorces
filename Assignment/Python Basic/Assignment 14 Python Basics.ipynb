{
 "cells": [
  {
   "cell_type": "markdown",
   "id": "881f0621",
   "metadata": {},
   "source": [
    "1. What does RGBA stand for?\n",
    "\n",
    "Ans. RGBA stands for Red, Green, Blue, and Alpha. The alpha channel determines the transparency of the color."
   ]
  },
  {
   "cell_type": "markdown",
   "id": "d808145b",
   "metadata": {},
   "source": [
    "2. From the Pillow module, how do you get the RGBA value of any images?\n",
    "\n",
    "Ans. To get the RGBA value of any image using the Pillow module, you can use the `getpixel()` method. For example: `image.getpixel((x,y))` will return the RGBA value of the pixel at position (x,y) in the image."
   ]
  },
  {
   "cell_type": "markdown",
   "id": "e5144325",
   "metadata": {},
   "source": [
    "3. What is a box tuple, and how does it work?\n",
    "\n",
    "Ans. A box tuple is a tuple containing four integer values that represent a rectangular region in an image. The values represent the left, upper, right, and lower pixel coordinates of the region, respectively. For example, (`left, upper, right, lower)`."
   ]
  },
  {
   "cell_type": "markdown",
   "id": "c020d6ad",
   "metadata": {},
   "source": [
    "4. Use your image and load in notebook then, How can you find out the width and height of an\n",
    "Image object?\n",
    "\n",
    "Ans. To find out the width and height of an Image object, you can use the size attribute. For example: `image.size` will return a tuple of `(width, height)`."
   ]
  },
  {
   "cell_type": "markdown",
   "id": "8d52fd38",
   "metadata": {},
   "source": [
    "5. What method would you call to get Image object for a 100×100 image, excluding the lower-left\n",
    "quarter of it?\n",
    "\n",
    "Ans. To get an Image object for a 100x100 image, excluding the lower-left quarter of it, you can use the `crop()` method. For example: `image.crop((0, 50, 50, 100))` will return an Image object of the top half of the image."
   ]
  },
  {
   "cell_type": "markdown",
   "id": "b86a08a7",
   "metadata": {},
   "source": [
    "6. After making changes to an Image object, how could you save it as an image file?\n",
    "\n",
    "Ans. `image.save('filename.jpg')`"
   ]
  },
  {
   "cell_type": "markdown",
   "id": "1df3a3a5",
   "metadata": {},
   "source": [
    "7. What module contains Pillow’s shape-drawing code?\n",
    "\n",
    "Ans. \n",
    "```python\n",
    "          from PIL import Image, ImageDraw\n",
    "\n",
    "          ImageDraw.Draw()\n",
    "```"
   ]
  },
  {
   "cell_type": "markdown",
   "id": "0423e36a",
   "metadata": {},
   "source": [
    "8. Image objects do not have drawing methods. What kind of object does? How do you get this kind of object?\n",
    "\n",
    "Ans. `draw = ImageDraw.Draw(image)`\n",
    "\n",
    "ImageDraw objects have drawing methods, such as `line()`, `rectangle()`,"
   ]
  },
  {
   "cell_type": "markdown",
   "id": "165c4012",
   "metadata": {},
   "source": []
  }
 ],
 "metadata": {
  "kernelspec": {
   "display_name": "Python 3.8.10 64-bit",
   "language": "python",
   "name": "python3"
  },
  "language_info": {
   "codemirror_mode": {
    "name": "ipython",
    "version": 3
   },
   "file_extension": ".py",
   "mimetype": "text/x-python",
   "name": "python",
   "nbconvert_exporter": "python",
   "pygments_lexer": "ipython3",
   "version": "3.8.10"
  },
  "vscode": {
   "interpreter": {
    "hash": "e7370f93d1d0cde622a1f8e1c04877d8463912d04d973331ad4851f04de6915a"
   }
  }
 },
 "nbformat": 4,
 "nbformat_minor": 5
}
