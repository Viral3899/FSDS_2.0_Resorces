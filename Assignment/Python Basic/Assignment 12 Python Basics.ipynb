{
 "cells": [
  {
   "cell_type": "markdown",
   "id": "07c61bdb",
   "metadata": {},
   "source": [
    "1. In what modes should the PdfFileReader() and PdfFileWriter() File objects will be opened?\n",
    "\n",
    "Ans.\n",
    "\t\n",
    "    PdfFileReader() -> 'rb' (read binary) \n",
    "\n",
    "\tPdfFileWriter() -> 'wb' (write binary)"
   ]
  },
  {
   "cell_type": "markdown",
   "id": "8b3828d6",
   "metadata": {},
   "source": [
    "2. From a PdfFileReader object, how do you get a Page object for page 5?\n",
    "\n",
    "Ans. `page5 = pdf_reader.getPage(4)`"
   ]
  },
  {
   "cell_type": "markdown",
   "id": "13f3daeb",
   "metadata": {},
   "source": [
    "3. What PdfFileReader variable stores the number of pages in the PDF document?\n",
    "\n",
    "Ans. `numPages`"
   ]
  },
  {
   "cell_type": "markdown",
   "id": "4d328377",
   "metadata": {},
   "source": [
    "4. If a PdfFileReader object’s PDF is encrypted with the password swordfish, what must you do before you can obtain Page objects from it?\n",
    "\n",
    "Ans. `pdf_reader.decrypt('swordfish')`"
   ]
  },
  {
   "cell_type": "markdown",
   "id": "7665bf5d",
   "metadata": {},
   "source": [
    "5. What methods do you use to rotate a page?\n",
    "\n",
    "Ans. `page.rotateClockwise(90)` \n",
    "`page.rotateCounterClockwise(90)`"
   ]
  },
  {
   "cell_type": "markdown",
   "id": "e6ba2ac1",
   "metadata": {},
   "source": [
    "6. What is the difference between a Run object and a Paragraph object?\n",
    "\n",
    "Ans. A Run object represents a contiguous run of text with the same character formatting, while a Paragraph object represents a single paragraph, which may contain multiple runs of text with different formatting."
   ]
  },
  {
   "cell_type": "markdown",
   "id": "3bb9fc51",
   "metadata": {},
   "source": [
    "7. How do you obtain a list of Paragraph objects for a Document object that’s stored in a variable named doc?\n",
    "\n",
    "Ans. To obtain a list of Paragraph objects for a Document object stored in a variable named `doc`, you can use the `paragraphs` attribute of the object: `paragraphs = doc.paragraphs`"
   ]
  },
  {
   "cell_type": "markdown",
   "id": "6b71b8fc",
   "metadata": {},
   "source": [
    "8. What type of object has bold, underline, italic, strike, and outline variables?\n",
    "\n",
    "Ans. A Run object has the bold, underline, italic, strike, and outline variables, which represent whether the corresponding text formatting is applied to the run."
   ]
  },
  {
   "cell_type": "markdown",
   "id": "603f3eb0",
   "metadata": {},
   "source": [
    "9. What is the difference between False, True, and None for the bold variable?\n",
    "\n",
    "Ans. \n",
    "\t \n",
    "     True  -> (bold formatting is applied)\n",
    "\t False -> (bold formatting is not applied)\n",
    "     None  -> (the value is inherited from the style hierarchy)."
   ]
  },
  {
   "cell_type": "markdown",
   "id": "5ff2f6e9",
   "metadata": {},
   "source": [
    "10. How do you create a Document object for a new Word document?\n",
    "\n",
    "Ans. `doc = docx.Document()`"
   ]
  },
  {
   "cell_type": "markdown",
   "id": "9b3d4054",
   "metadata": {},
   "source": [
    "11. How do you add a paragraph with the text 'Hello, there!' to a Document object stored in a variable named doc?\n",
    "\n",
    "Ans. `doc.add_paragraph('Hello, there!')`"
   ]
  },
  {
   "cell_type": "markdown",
   "id": "a785c35f",
   "metadata": {},
   "source": [
    "12. What integers represent the levels of headings available in Word documents?\n",
    "\n",
    "Ans. The integers that represent the levels of headings available in Word documents are 0 (for the Title style), 1 (for the Heading 1 style), 2 (for the Heading 2 style), 3 (for the Heading 3 style), and so on, up to 8 (for the Heading 8 style)."
   ]
  },
  {
   "cell_type": "code",
   "execution_count": null,
   "id": "2f3cd42f",
   "metadata": {},
   "outputs": [],
   "source": []
  },
  {
   "cell_type": "code",
   "execution_count": null,
   "id": "a5da392e",
   "metadata": {},
   "outputs": [],
   "source": []
  },
  {
   "cell_type": "code",
   "execution_count": null,
   "id": "e3a22479",
   "metadata": {},
   "outputs": [],
   "source": []
  },
  {
   "cell_type": "code",
   "execution_count": null,
   "id": "e5a30f3f",
   "metadata": {},
   "outputs": [],
   "source": []
  },
  {
   "cell_type": "code",
   "execution_count": null,
   "id": "a118a96e",
   "metadata": {},
   "outputs": [],
   "source": []
  }
 ],
 "metadata": {
  "kernelspec": {
   "display_name": "Python 3 (ipykernel)",
   "language": "python",
   "name": "python3"
  },
  "language_info": {
   "codemirror_mode": {
    "name": "ipython",
    "version": 3
   },
   "file_extension": ".py",
   "mimetype": "text/x-python",
   "name": "python",
   "nbconvert_exporter": "python",
   "pygments_lexer": "ipython3",
   "version": "3.11.1"
  }
 },
 "nbformat": 4,
 "nbformat_minor": 5
}
